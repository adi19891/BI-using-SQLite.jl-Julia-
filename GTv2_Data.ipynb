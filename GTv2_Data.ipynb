{
  "nbformat": 4,
  "nbformat_minor": 0,
  "metadata": {
    "colab": {
      "name": "GTv2 Data.ipynb",
      "provenance": [],
      "collapsed_sections": [],
      "authorship_tag": "ABX9TyOJ0LkP5TkVp9kx5iv1mI6S",
      "include_colab_link": true
    },
    "kernelspec": {
      "name": "python3",
      "display_name": "Python 3"
    }
  },
  "cells": [
    {
      "cell_type": "markdown",
      "metadata": {
        "id": "view-in-github",
        "colab_type": "text"
      },
      "source": [
        "<a href=\"https://colab.research.google.com/github/adi19891/BI-using-SQLite.jl-Julia-/blob/master/GTv2_Data.ipynb\" target=\"_parent\"><img src=\"https://colab.research.google.com/assets/colab-badge.svg\" alt=\"Open In Colab\"/></a>"
      ]
    },
    {
      "cell_type": "code",
      "metadata": {
        "id": "iMd_PqVCtDjb"
      },
      "source": [
        "!pip install pandas\n",
        "!pip install pytrends\n",
        "!pip install openpyxl"
      ],
      "execution_count": null,
      "outputs": []
    },
    {
      "cell_type": "code",
      "metadata": {
        "id": "rddbU5O6tE7I"
      },
      "source": [
        "import pandas as pd                        \n",
        "from pytrends.request import TrendReq\n",
        "import pandas as pd\n",
        "import time\n",
        "import datetime\n",
        "from datetime import datetime, date, time\n",
        "pytrend = TrendReq()"
      ],
      "execution_count": 2,
      "outputs": []
    },
    {
      "cell_type": "markdown",
      "metadata": {
        "id": "EBj9MdiSZw1R"
      },
      "source": [
        "####Shopping"
      ]
    },
    {
      "cell_type": "code",
      "metadata": {
        "id": "TbSsPG8bS7Wc"
      },
      "source": [
        "pytrend.build_payload(kw_list=[\"ebay\",\"Amazon\",\"canadian tire\", \"costco\",\"Wayfair\"], \n",
        "                      timeframe = '2019-12-01 2020-10-19',\n",
        "                      geo=\"CA-ON\")\n",
        "\n",
        "result = pytrend.interest_over_time() \n",
        "\n",
        "pytrend.build_payload(kw_list=[\"dollarama\",\"Home Depot\",\"walmart\", \"aliexpress\",\"Home Hardware\"], \n",
        "                      timeframe = '2019-12-01 2020-10-19',\n",
        "                      geo=\"CA-ON\")\n",
        "\n",
        "result1 = pytrend.interest_over_time() \n",
        "result2 = result1.drop(columns=[\"isPartial\"])\n",
        "ON_Shop = pd.concat([result,result2], join='inner', axis=1)\n",
        "\n",
        "ON_Shop1 = ON_Shop.drop(columns=\"isPartial\", axis=1)\n",
        "ON_Shop1 = ON_Shop1.assign(Province = \"ON\")\n",
        "ON_Shop1.reset_index(level=0, inplace=True)\n",
        "ON_Shop1 = pd.melt(ON_Shop1, id_vars=[\"date\",\"Province\"])"
      ],
      "execution_count": 3,
      "outputs": []
    },
    {
      "cell_type": "code",
      "metadata": {
        "id": "qiqci33HdkqV"
      },
      "source": [
        "pytrend.build_payload(kw_list=[\"ebay\",\"Amazon\",\"canadian tire\", \"costco\",\"Wayfair\"], \n",
        "                      timeframe = '2019-12-01 2020-10-19',\n",
        "                      geo=\"CA-QC\")\n",
        "\n",
        "result = pytrend.interest_over_time() \n",
        "\n",
        "pytrend.build_payload(kw_list=[\"dollarama\",\"Home Depot\",\"walmart\", \"aliexpress\",\"Home Hardware\"], \n",
        "                      timeframe = '2019-12-01 2020-10-19',\n",
        "                      geo=\"CA-QC\")\n",
        "\n",
        "result1 = pytrend.interest_over_time() \n",
        "result2 = result1.drop(columns=[\"isPartial\"])\n",
        "QC_Shop = pd.concat([result,result2], join='inner', axis=1)\n",
        "\n",
        "QC_Shop1 = QC_Shop.drop(columns=\"isPartial\", axis=1)\n",
        "QC_Shop1 = QC_Shop1.assign(Province = \"QC\")\n",
        "QC_Shop1.reset_index(level=0, inplace=True)\n",
        "QC_Shop1 = pd.melt(QC_Shop1, id_vars=[\"date\",\"Province\"])"
      ],
      "execution_count": 4,
      "outputs": []
    },
    {
      "cell_type": "code",
      "metadata": {
        "id": "oqS7DCpad8r9"
      },
      "source": [
        "pytrend.build_payload(kw_list=[\"ebay\",\"Amazon\",\"canadian tire\", \"costco\",\"Wayfair\"], \n",
        "                      timeframe = '2019-12-01 2020-10-19',\n",
        "                      geo=\"CA-BC\")\n",
        "\n",
        "result = pytrend.interest_over_time() \n",
        "\n",
        "pytrend.build_payload(kw_list=[\"dollarama\",\"Home Depot\",\"walmart\", \"aliexpress\",\"Home Hardware\"], \n",
        "                      timeframe = '2019-12-01 2020-10-19',\n",
        "                      geo=\"CA-BC\")\n",
        "\n",
        "result1 = pytrend.interest_over_time() \n",
        "result2 = result1.drop(columns=[\"isPartial\"])\n",
        "BC_Shop = pd.concat([result,result2], join='inner', axis=1)\n",
        "\n",
        "BC_Shop1 = BC_Shop.drop(columns=\"isPartial\", axis=1)\n",
        "BC_Shop1 = BC_Shop1.assign(Province = \"BC\")\n",
        "BC_Shop1.reset_index(level=0, inplace=True)\n",
        "BC_Shop1 = pd.melt(BC_Shop1, id_vars=[\"date\",\"Province\"])"
      ],
      "execution_count": 5,
      "outputs": []
    },
    {
      "cell_type": "code",
      "metadata": {
        "id": "U5JTmH01emiE"
      },
      "source": [
        "pytrend.build_payload(kw_list=[\"ebay\",\"Amazon\",\"canadian tire\", \"costco\",\"Wayfair\"], \n",
        "                      timeframe = '2019-12-01 2020-10-19',\n",
        "                      geo=\"CA-AB\")\n",
        "\n",
        "result = pytrend.interest_over_time() \n",
        "\n",
        "pytrend.build_payload(kw_list=[\"dollarama\",\"Home Depot\",\"walmart\", \"aliexpress\",\"Home Hardware\"], \n",
        "                      timeframe = '2019-12-01 2020-10-19',\n",
        "                      geo=\"CA-AB\")\n",
        "\n",
        "result1 = pytrend.interest_over_time() \n",
        "result2 = result1.drop(columns=[\"isPartial\"])\n",
        "AB_Shop = pd.concat([result,result2], join='inner', axis=1)\n",
        "\n",
        "AB_Shop1 = AB_Shop.drop(columns=\"isPartial\", axis=1)\n",
        "AB_Shop1 = AB_Shop1.assign(Province = \"AB\")\n",
        "AB_Shop1.reset_index(level=0, inplace=True)\n",
        "AB_Shop1 = pd.melt(AB_Shop1, id_vars=[\"date\",\"Province\"])"
      ],
      "execution_count": 6,
      "outputs": []
    },
    {
      "cell_type": "code",
      "metadata": {
        "id": "pcazTSHKfL65"
      },
      "source": [
        "pytrend.build_payload(kw_list=[\"ebay\",\"Amazon\",\"canadian tire\", \"costco\",\"Wayfair\"], \n",
        "                      timeframe = '2019-12-01 2020-10-19',\n",
        "                      geo=\"CA\")\n",
        "\n",
        "result = pytrend.interest_over_time() \n",
        "\n",
        "pytrend.build_payload(kw_list=[\"dollarama\",\"Home Depot\",\"walmart\", \"aliexpress\",\"Home Hardware\"], \n",
        "                      timeframe = '2019-12-01 2020-10-19',\n",
        "                      geo=\"CA\")\n",
        "\n",
        "result1 = pytrend.interest_over_time() \n",
        "result2 = result1.drop(columns=[\"isPartial\"])\n",
        "CA_Shop = pd.concat([result,result2], join='inner', axis=1)\n",
        "\n",
        "CA_Shop1 = CA_Shop.drop(columns=\"isPartial\", axis=1)\n",
        "CA_Shop1 = CA_Shop1.assign(Province = \"CA\")\n",
        "CA_Shop1.reset_index(level=0, inplace=True)\n",
        "CA_Shop1 = pd.melt(CA_Shop1, id_vars=[\"date\",\"Province\"])"
      ],
      "execution_count": 7,
      "outputs": []
    },
    {
      "cell_type": "code",
      "metadata": {
        "id": "8l180BQYz5Lv"
      },
      "source": [
        "Shopping = pd.concat([ON_Shop1,QC_Shop1,BC_Shop1,AB_Shop1,CA_Shop1], sort=False)\n",
        "Shopping = Shopping.assign(Category = \"Shopping\")"
      ],
      "execution_count": 8,
      "outputs": []
    },
    {
      "cell_type": "markdown",
      "metadata": {
        "id": "TKIzK0vSaKJH"
      },
      "source": [
        "####Social"
      ]
    },
    {
      "cell_type": "code",
      "metadata": {
        "id": "64qj6MP3afPt"
      },
      "source": [
        "pytrend.build_payload(kw_list=['Facebook', 'Twitter', 'Pinterest', 'Reddit','Tumblr'],  \n",
        "                      timeframe = '2019-12-01 2020-10-19',\n",
        "                      geo=\"CA-ON\")\n",
        "\n",
        "result = pytrend.interest_over_time() \n",
        "\n",
        "pytrend.build_payload(kw_list=[\"Facebook\",\"Youtube\",\"Linkedin\", \"Instagram\",\"Medium\"], \n",
        "                      timeframe = '2019-12-01 2020-10-19',\n",
        "                      geo=\"CA-ON\")\n",
        "\n",
        "result1 = pytrend.interest_over_time() \n",
        "result2 = result1.drop(columns=[\"Facebook\",\"isPartial\"])\n",
        "ON_Social = pd.concat([result,result2], join='inner', axis=1)\n",
        "\n",
        "ON_Social1 = ON_Social.drop(columns=\"isPartial\", axis=1)\n",
        "ON_Social1 = ON_Social1.assign(Province = \"ON\")\n",
        "ON_Social1.reset_index(level=0, inplace=True)\n",
        "ON_Social1 = pd.melt(ON_Social1, id_vars=[\"date\",\"Province\"])"
      ],
      "execution_count": 9,
      "outputs": []
    },
    {
      "cell_type": "code",
      "metadata": {
        "id": "6NsdHP4B7woh"
      },
      "source": [
        "pytrend.build_payload(kw_list=['Facebook', 'Twitter', 'Pinterest', 'Reddit','Tumblr'],  \n",
        "                      timeframe = '2019-12-01 2020-10-19',\n",
        "                      geo=\"CA-QC\")\n",
        "\n",
        "result = pytrend.interest_over_time() \n",
        "\n",
        "pytrend.build_payload(kw_list=[\"Facebook\",\"Youtube\",\"Linkedin\", \"Instagram\",\"Medium\"], \n",
        "                      timeframe = '2019-12-01 2020-10-19',\n",
        "                      geo=\"CA-QC\")\n",
        "\n",
        "result1 = pytrend.interest_over_time() \n",
        "result2 = result1.drop(columns=[\"Facebook\",\"isPartial\"])\n",
        "QC_Social = pd.concat([result,result2], join='inner', axis=1)\n",
        "\n",
        "QC_Social1 = QC_Social.drop(columns=\"isPartial\", axis=1)\n",
        "QC_Social1 = QC_Social1.assign(Province = \"QC\")\n",
        "QC_Social1.reset_index(level=0, inplace=True)\n",
        "QC_Social1 = pd.melt(QC_Social1, id_vars=[\"date\",\"Province\"])"
      ],
      "execution_count": 10,
      "outputs": []
    },
    {
      "cell_type": "code",
      "metadata": {
        "id": "koKWAi9_GDSj"
      },
      "source": [
        "pytrend.build_payload(kw_list=['Facebook', 'Twitter', 'Pinterest', 'Reddit','Tumblr'],  \n",
        "                      timeframe = '2019-12-01 2020-10-19',\n",
        "                      geo=\"CA-BC\")\n",
        "\n",
        "result = pytrend.interest_over_time() \n",
        "\n",
        "pytrend.build_payload(kw_list=[\"Facebook\",\"Youtube\",\"Linkedin\", \"Instagram\",\"Medium\"], \n",
        "                      timeframe = '2019-12-01 2020-10-19',\n",
        "                      geo=\"CA-BC\")\n",
        "\n",
        "result1 = pytrend.interest_over_time() \n",
        "result2 = result1.drop(columns=[\"Facebook\",\"isPartial\"])\n",
        "BC_Social = pd.concat([result,result2], join='inner', axis=1)\n",
        "\n",
        "BC_Social1 = BC_Social.drop(columns=\"isPartial\", axis=1)\n",
        "BC_Social1 = BC_Social1.assign(Province = \"BC\")\n",
        "BC_Social1.reset_index(level=0, inplace=True)\n",
        "BC_Social1 = pd.melt(BC_Social1, id_vars=[\"date\",\"Province\"])"
      ],
      "execution_count": 11,
      "outputs": []
    },
    {
      "cell_type": "code",
      "metadata": {
        "id": "n24UTDl8G_UA"
      },
      "source": [
        "pytrend.build_payload(kw_list=['Facebook', 'Twitter', 'Pinterest', 'Reddit','Tumblr'],  \n",
        "                      timeframe = '2019-12-01 2020-10-19',\n",
        "                      geo=\"CA-AB\")\n",
        "\n",
        "result = pytrend.interest_over_time() \n",
        "\n",
        "pytrend.build_payload(kw_list=[\"Facebook\",\"Youtube\",\"Linkedin\", \"Instagram\",\"Medium\"], \n",
        "                      timeframe = '2019-12-01 2020-10-19',\n",
        "                      geo=\"CA-AB\")\n",
        "\n",
        "result1 = pytrend.interest_over_time() \n",
        "result2 = result1.drop(columns=[\"Facebook\", \"isPartial\"])\n",
        "AB_Social = pd.concat([result,result2], join='inner', axis=1)\n",
        "\n",
        "AB_Social1 = AB_Social.drop(columns=\"isPartial\", axis=1)\n",
        "AB_Social1 = AB_Social1.assign(Province = \"AB\")\n",
        "AB_Social1.reset_index(level=0, inplace=True)\n",
        "AB_Social1 = pd.melt(AB_Social1, id_vars=[\"date\",\"Province\"])"
      ],
      "execution_count": 12,
      "outputs": []
    },
    {
      "cell_type": "code",
      "metadata": {
        "id": "Was6wcJ6H_K1"
      },
      "source": [
        "pytrend.build_payload(kw_list=['Facebook', 'Twitter', 'Pinterest', 'Reddit','Tumblr'],  \n",
        "                      timeframe = '2019-12-01 2020-10-19',\n",
        "                      geo=\"CA\")\n",
        "\n",
        "result = pytrend.interest_over_time() \n",
        "\n",
        "pytrend.build_payload(kw_list=[\"Facebook\",\"Youtube\",\"Linkedin\", \"Instagram\",\"Medium\"], \n",
        "                      timeframe = '2019-12-01 2020-10-19',\n",
        "                      geo=\"CA\")\n",
        "\n",
        "result1 = pytrend.interest_over_time() \n",
        "result2 = result1.drop(columns=[\"Facebook\",\"isPartial\"])\n",
        "CA_Social = pd.concat([result,result2], join='inner', axis=1)\n",
        "\n",
        "CA_Social1 = CA_Social.drop(columns=\"isPartial\", axis=1)\n",
        "CA_Social1 = CA_Social1.assign(Province = \"CA\")\n",
        "CA_Social1.reset_index(level=0, inplace=True)\n",
        "CA_Social1 = pd.melt(CA_Social1, id_vars=[\"date\",\"Province\"])"
      ],
      "execution_count": 13,
      "outputs": []
    },
    {
      "cell_type": "code",
      "metadata": {
        "id": "OCN9VGmMIkPC"
      },
      "source": [
        "Social = pd.concat([ON_Social1,QC_Social1,BC_Social1,AB_Social1,CA_Social1], sort=False)\n",
        "Social = Social.assign(Category = \"Social\")"
      ],
      "execution_count": 14,
      "outputs": []
    },
    {
      "cell_type": "markdown",
      "metadata": {
        "id": "ytm0_VYOKK6G"
      },
      "source": [
        "####News"
      ]
    },
    {
      "cell_type": "code",
      "metadata": {
        "id": "x5WoMAfcKOib"
      },
      "source": [
        "pytrend.build_payload(kw_list=[\"Toronto Star\", \"CTV NEWS\", \"CBC\", \"Global News\", \"The Globe and Mail\"],\n",
        "                      timeframe = '2019-12-01 2020-10-19',\n",
        "                      geo=\"CA-ON\")\n",
        "\n",
        "result = pytrend.interest_over_time() \n",
        "\n",
        "pytrend.build_payload(kw_list=[\"CP24\",\"Bloomberg\",\"Huffington Post Canada\",\"National Post\",\"Toronto Sun\"], \n",
        "                      timeframe = '2019-12-01 2020-10-19',\n",
        "                      geo=\"CA-ON\")\n",
        "\n",
        "result1 = pytrend.interest_over_time() \n",
        "result2 = result1.drop(columns=[\"isPartial\"])\n",
        "ON_News = pd.concat([result,result2], join='inner', axis=1)\n",
        "\n",
        "ON_News1 = ON_News.drop(columns=\"isPartial\", axis=1)\n",
        "ON_News1 = ON_News1.assign(Province = \"ON\")\n",
        "ON_News1.reset_index(level=0, inplace=True)\n",
        "ON_News1 = pd.melt(ON_News1, id_vars=[\"date\",\"Province\"])"
      ],
      "execution_count": 15,
      "outputs": []
    },
    {
      "cell_type": "code",
      "metadata": {
        "id": "JdcXKuqCNYG2"
      },
      "source": [
        "pytrend.build_payload(kw_list=[\"Montreal Gazette\", \"CTV NEWS\", \"CBC\", \"Global News\", \"The Globe and Mail\"],\n",
        "                      timeframe = '2019-12-01 2020-10-19',\n",
        "                      geo=\"CA-QC\")\n",
        "\n",
        "result = pytrend.interest_over_time() \n",
        "\n",
        "pytrend.build_payload(kw_list=[\"Journal Montreal\",\"Bloomberg\",\"TVA Nouvelle\",\"RDI\",\"La Presse\"], \n",
        "                      timeframe = '2019-12-01 2020-10-19',\n",
        "                      geo=\"CA-QC\")\n",
        "\n",
        "result1 = pytrend.interest_over_time() \n",
        "result2 = result1.drop(columns=[\"isPartial\"])\n",
        "QC_News = pd.concat([result,result2], join='inner', axis=1)\n",
        "\n",
        "QC_News1 = QC_News.drop(columns=\"isPartial\", axis=1)\n",
        "QC_News1 = QC_News1.assign(Province = \"QC\")\n",
        "QC_News1.reset_index(level=0, inplace=True)\n",
        "QC_News1 = pd.melt(QC_News1, id_vars=[\"date\",\"Province\"])"
      ],
      "execution_count": 16,
      "outputs": []
    },
    {
      "cell_type": "code",
      "metadata": {
        "id": "iLEF7eyCN3kf"
      },
      "source": [
        "pytrend.build_payload(kw_list=[\"The Vancouver Sun\",\"CTV NEWS\", \"CBC\", \"Global News\",\"The Globe and Mail\"],\n",
        "                      timeframe = '2019-12-01 2020-10-19',\n",
        "                      geo=\"CA-BC\")\n",
        "\n",
        "result = pytrend.interest_over_time() \n",
        "\n",
        "pytrend.build_payload(kw_list=[\"CP24\",\"Bloomberg\",\"The Province\"], \n",
        "                      timeframe = '2019-12-01 2020-10-19',\n",
        "                      geo=\"CA-BC\")\n",
        "\n",
        "result1 = pytrend.interest_over_time() \n",
        "result2 = result1.drop(columns=[\"isPartial\"])\n",
        "BC_News = pd.concat([result,result2], join='inner', axis=1)\n",
        "\n",
        "BC_News1 = BC_News.drop(columns=\"isPartial\", axis=1)\n",
        "BC_News1 = BC_News1.assign(Province = \"BC\")\n",
        "BC_News1.reset_index(level=0, inplace=True)\n",
        "BC_News1 = pd.melt(BC_News1, id_vars=[\"date\",\"Province\"])"
      ],
      "execution_count": 17,
      "outputs": []
    },
    {
      "cell_type": "code",
      "metadata": {
        "id": "G6HoHGRoOnAR"
      },
      "source": [
        "pytrend.build_payload(kw_list=[\"Calgary Herald\",\"CTV NEWS\", \"CBC\", \"Global News\", \"The Globe and Mail\"],\n",
        "                      timeframe = '2019-12-01 2020-10-19',\n",
        "                      geo=\"CA-AB\")\n",
        "\n",
        "result = pytrend.interest_over_time() \n",
        "\n",
        "pytrend.build_payload(kw_list=[\"CP24\",\"Bloomberg\",\"Calgary Sun\",\"Edmonton Journal\"], \n",
        "                      timeframe = '2019-12-01 2020-10-19',\n",
        "                      geo=\"CA-AB\")\n",
        "\n",
        "result1 = pytrend.interest_over_time() \n",
        "result2 = result1.drop(columns=[\"isPartial\"])\n",
        "AB_News = pd.concat([result,result2], join='inner', axis=1)\n",
        "\n",
        "AB_News1 = AB_News.drop(columns=\"isPartial\", axis=1)\n",
        "AB_News1 = AB_News1.assign(Province = \"AB\")\n",
        "AB_News1.reset_index(level=0, inplace=True)\n",
        "AB_News1 = pd.melt(AB_News1, id_vars=[\"date\",\"Province\"])"
      ],
      "execution_count": 18,
      "outputs": []
    },
    {
      "cell_type": "code",
      "metadata": {
        "id": "FENfOZrp3uus"
      },
      "source": [
        "pytrend.build_payload(kw_list=[\"CTV NEWS\", \"CBC\", \"Global News\", \"The Globe and Mail\"],\n",
        "                      timeframe = '2019-12-01 2020-10-19',\n",
        "                      geo=\"CA\")\n",
        "\n",
        "result = pytrend.interest_over_time() \n",
        "\n",
        "pytrend.build_payload(kw_list=[\"CP24\",\"Bloomberg\",\"Huffington Post Canada\",\"National Post\",\"Financial Post\"], \n",
        "                      timeframe = '2019-12-01 2020-10-19',\n",
        "                      geo=\"CA\")\n",
        "\n",
        "result1 = pytrend.interest_over_time() \n",
        "result2 = result1.drop(columns=[\"isPartial\"])\n",
        "CA_News = pd.concat([result,result2], join='inner', axis=1)\n",
        "\n",
        "CA_News1 = CA_News.drop(columns=\"isPartial\", axis=1)\n",
        "CA_News1 = CA_News1.assign(Province = \"CA\")\n",
        "CA_News1.reset_index(level=0, inplace=True)\n",
        "CA_News1 = pd.melt(CA_News1, id_vars=[\"date\",\"Province\"])"
      ],
      "execution_count": 19,
      "outputs": []
    },
    {
      "cell_type": "code",
      "metadata": {
        "id": "AwWOg28w4DtU"
      },
      "source": [
        "News = pd.concat([ON_News1,QC_News1,BC_News1,AB_News1,CA_News1], sort=False)\n",
        "News = News.assign(Category = \"News\")"
      ],
      "execution_count": 20,
      "outputs": []
    },
    {
      "cell_type": "markdown",
      "metadata": {
        "id": "xice0MyN6BKZ"
      },
      "source": [
        "####Streaming Services"
      ]
    },
    {
      "cell_type": "code",
      "metadata": {
        "id": "xNE75y_G6BT4"
      },
      "source": [
        "pytrend.build_payload(kw_list=[\"Hulu\" , \"Netflix\", \"Amazon Prime\", \"Crave\", \"Disney+\"],\n",
        "                      timeframe = '2019-12-01 2020-10-19',\n",
        "                      geo=\"CA-ON\")\n",
        "\n",
        "result = pytrend.interest_over_time() \n",
        "\n",
        "pytrend.build_payload(kw_list=[\"YouTube TV\", \"Amazon Prime\",\"apple TV+\",\"Quibi\"], \n",
        "                      timeframe = '2019-12-01 2020-10-19',\n",
        "                      geo=\"CA-ON\")\n",
        "\n",
        "result1 = pytrend.interest_over_time() \n",
        "result2 = result1.drop(columns=[\"Amazon Prime\",\"isPartial\"])\n",
        "ON_Streaming = pd.concat([result,result2], join='inner', axis=1)\n",
        "\n",
        "ON_Streaming1 = ON_Streaming.drop(columns=\"isPartial\", axis=1)\n",
        "ON_Streaming1 = ON_Streaming1.assign(Province = \"ON\")\n",
        "ON_Streaming1.reset_index(level=0, inplace=True)\n",
        "ON_Streaming1 = pd.melt(ON_Streaming1, id_vars=[\"date\",\"Province\"])"
      ],
      "execution_count": 21,
      "outputs": []
    },
    {
      "cell_type": "code",
      "metadata": {
        "id": "WvJETbeG7g-T"
      },
      "source": [
        "pytrend.build_payload(kw_list=[\"Hulu\" , \"Netflix\", \"Amazon Prime\", \"Crave\", \"Disney+\"],\n",
        "                      timeframe = '2019-12-01 2020-10-19',\n",
        "                      geo=\"CA-QC\")\n",
        "\n",
        "result = pytrend.interest_over_time() \n",
        "\n",
        "pytrend.build_payload(kw_list=[\"YouTube TV\", \"Amazon Prime\",\"apple TV+\",\"Quibi\"],\n",
        "                      timeframe = '2019-12-01 2020-10-19',\n",
        "                      geo=\"CA-QC\")\n",
        "\n",
        "result1 = pytrend.interest_over_time() \n",
        "result2 = result1.drop(columns=[\"Amazon Prime\",\"isPartial\"])\n",
        "QC_Streaming = pd.concat([result,result2], join='inner', axis=1)\n",
        "\n",
        "QC_Streaming1 = QC_Streaming.drop(columns=\"isPartial\", axis=1)\n",
        "QC_Streaming1 = QC_Streaming1.assign(Province = \"QC\")\n",
        "QC_Streaming1.reset_index(level=0, inplace=True)\n",
        "QC_Streaming1 = pd.melt(QC_Streaming1, id_vars=[\"date\",\"Province\"])"
      ],
      "execution_count": 22,
      "outputs": []
    },
    {
      "cell_type": "code",
      "metadata": {
        "id": "-AQfVxEL8EwZ"
      },
      "source": [
        "pytrend.build_payload(kw_list=[\"Hulu\",\"Netflix\",\"Amazon Prime\",\"Crave\",\"Disney+\"],\n",
        "                      timeframe = '2019-12-01 2020-10-19',\n",
        "                      geo=\"CA-BC\")\n",
        "\n",
        "result = pytrend.interest_over_time() \n",
        "\n",
        "pytrend.build_payload(kw_list=[\"YouTube TV\", \"Amazon Prime\",\"apple TV+\",\"Quibi\"],\n",
        "                      timeframe = '2019-12-01 2020-10-19',\n",
        "                      geo=\"CA-BC\")\n",
        "\n",
        "result1 = pytrend.interest_over_time() \n",
        "result2 = result1.drop(columns=[\"Amazon Prime\",\"isPartial\"])\n",
        "BC_Streaming = pd.concat([result,result2], join='inner', axis=1)\n",
        "\n",
        "BC_Streaming1 = BC_Streaming.drop(columns=\"isPartial\", axis=1)\n",
        "BC_Streaming1 = BC_Streaming1.assign(Province = \"BC\")\n",
        "BC_Streaming1.reset_index(level=0, inplace=True)\n",
        "BC_Streaming1 = pd.melt(BC_Streaming1, id_vars=[\"date\",\"Province\"])"
      ],
      "execution_count": 23,
      "outputs": []
    },
    {
      "cell_type": "code",
      "metadata": {
        "id": "K350cmHG8YiO"
      },
      "source": [
        "pytrend.build_payload(kw_list=[\"Hulu\" ,\"Netflix\",\"Amazon Prime\",\"Crave\",\"Disney+\"],\n",
        "                      timeframe = '2019-12-01 2020-10-19',\n",
        "                      geo=\"CA-AB\")\n",
        "\n",
        "result = pytrend.interest_over_time() \n",
        "\n",
        "pytrend.build_payload(kw_list=[\"YouTube TV\",\"Amazon Prime\",\"apple TV+\",\"Quibi\"], \n",
        "                      timeframe = '2019-12-01 2020-10-19',\n",
        "                      geo=\"CA-AB\")\n",
        "\n",
        "result1 = pytrend.interest_over_time() \n",
        "result2 = result1.drop(columns=[\"Amazon Prime\",\"isPartial\"])\n",
        "AB_Streaming = pd.concat([result,result2], join='inner', axis=1)\n",
        "\n",
        "AB_Streaming1 = AB_Streaming.drop(columns=\"isPartial\", axis=1)\n",
        "AB_Streaming1 = AB_Streaming1.assign(Province = \"AB\")\n",
        "AB_Streaming1.reset_index(level=0, inplace=True)\n",
        "AB_Streaming1 = pd.melt(AB_Streaming1, id_vars=[\"date\",\"Province\"])"
      ],
      "execution_count": 24,
      "outputs": []
    },
    {
      "cell_type": "code",
      "metadata": {
        "id": "uEsAmndd8pFv"
      },
      "source": [
        "pytrend.build_payload(kw_list=[\"Hulu\",\"Netflix\",\"Amazon Prime\",\"Crave\",\"Disney+\"],\n",
        "                      timeframe = '2019-12-01 2020-10-19',\n",
        "                      geo=\"CA\")\n",
        "\n",
        "result = pytrend.interest_over_time() \n",
        "\n",
        "pytrend.build_payload(kw_list=[\"YouTube TV\",\"Amazon Prime\",\"apple TV+\",\"Quibi\"], \n",
        "                      timeframe = '2019-12-01 2020-10-19',\n",
        "                      geo=\"CA\")\n",
        "\n",
        "result1 = pytrend.interest_over_time() \n",
        "result2 = result1.drop(columns=[\"Amazon Prime\",\"isPartial\"])\n",
        "CA_Streaming = pd.concat([result,result2], join='inner', axis=1)\n",
        "\n",
        "CA_Streaming1 = CA_Streaming.drop(columns=\"isPartial\", axis=1)\n",
        "CA_Streaming1 = CA_Streaming1.assign(Province = \"CA\")\n",
        "CA_Streaming1.reset_index(level=0, inplace=True)\n",
        "CA_Streaming1 = pd.melt(CA_Streaming1, id_vars=[\"date\",\"Province\"])"
      ],
      "execution_count": 25,
      "outputs": []
    },
    {
      "cell_type": "code",
      "metadata": {
        "id": "oVIOJt_n9C_Z"
      },
      "source": [
        "Streaming = pd.concat([ON_Streaming1,QC_Streaming1,BC_Streaming1,AB_Streaming1,CA_Streaming1], sort=False)\n",
        "Streaming = Streaming.assign(Category = \"Streaming\")"
      ],
      "execution_count": 26,
      "outputs": []
    },
    {
      "cell_type": "markdown",
      "metadata": {
        "id": "3bDDd4w1-Pcd"
      },
      "source": [
        "####Food Delivery"
      ]
    },
    {
      "cell_type": "code",
      "metadata": {
        "id": "O66fDu8B-Ple"
      },
      "source": [
        "pytrend.build_payload(kw_list=[\"Uber Eats\",\"SkipTheDishes\",\"DoorDash\",\"Foodora\"],\n",
        "                      timeframe = '2019-12-01 2020-10-19',\n",
        "                      geo=\"CA-ON\")\n",
        "\n",
        "result = pytrend.interest_over_time() \n",
        "\n",
        "ON_Food1 = result.assign(Province = \"ON\")\n",
        "ON_Food1 = ON_Food1.drop(columns=\"isPartial\")\n",
        "ON_Food1.reset_index(level=0, inplace=True)\n",
        "ON_Food1 = pd.melt(ON_Food1, id_vars=[\"date\",\"Province\"])"
      ],
      "execution_count": 27,
      "outputs": []
    },
    {
      "cell_type": "code",
      "metadata": {
        "id": "imEl1gup_KV4"
      },
      "source": [
        "pytrend.build_payload(kw_list=[\"Uber Eats\", \"SkipTheDishes\", \"DoorDash\", \"Foodora\"],\n",
        "                      timeframe = '2019-12-01 2020-10-19',\n",
        "                      geo=\"CA-QC\")\n",
        "\n",
        "result = pytrend.interest_over_time() \n",
        "\n",
        "QC_Food1 = result.assign(Province = \"QC\")\n",
        "QC_Food1 = QC_Food1.drop(columns=\"isPartial\")\n",
        "QC_Food1.reset_index(level=0, inplace=True)\n",
        "QC_Food1 = pd.melt(QC_Food1, id_vars=[\"date\",\"Province\"])"
      ],
      "execution_count": 28,
      "outputs": []
    },
    {
      "cell_type": "code",
      "metadata": {
        "id": "xz25Su0m_43E"
      },
      "source": [
        "pytrend.build_payload(kw_list=[\"Uber Eats\", \"SkipTheDishes\", \"DoorDash\", \"Foodora\"],\n",
        "                      timeframe = '2019-12-01 2020-10-19',\n",
        "                      geo=\"CA-BC\")\n",
        "\n",
        "result = pytrend.interest_over_time() \n",
        "\n",
        "BC_Food1 = result.assign(Province = \"BC\")\n",
        "BC_Food1 = BC_Food1.drop(columns=\"isPartial\")\n",
        "BC_Food1.reset_index(level=0, inplace=True)\n",
        "BC_Food1 = pd.melt(BC_Food1, id_vars=[\"date\",\"Province\"])"
      ],
      "execution_count": 29,
      "outputs": []
    },
    {
      "cell_type": "code",
      "metadata": {
        "id": "ekFQ4C_RACKy"
      },
      "source": [
        "pytrend.build_payload(kw_list=[\"Uber Eats\", \"SkipTheDishes\", \"DoorDash\", \"Foodora\"],\n",
        "                      timeframe = '2019-12-01 2020-10-19',\n",
        "                      geo=\"CA-AB\")\n",
        "\n",
        "result = pytrend.interest_over_time() \n",
        "\n",
        "AB_Food1 = result.assign(Province = \"AB\")\n",
        "AB_Food1 = AB_Food1.drop(columns=\"isPartial\")\n",
        "AB_Food1.reset_index(level=0, inplace=True)\n",
        "AB_Food1 = pd.melt(AB_Food1, id_vars=[\"date\",\"Province\"])"
      ],
      "execution_count": 30,
      "outputs": []
    },
    {
      "cell_type": "code",
      "metadata": {
        "id": "TjxyBT7nARYT"
      },
      "source": [
        "pytrend.build_payload(kw_list=[\"Uber Eats\", \"SkipTheDishes\", \"DoorDash\", \"Foodora\"],\n",
        "                      timeframe = '2019-12-01 2020-10-19',\n",
        "                      geo=\"CA\")\n",
        "\n",
        "result = pytrend.interest_over_time() \n",
        "\n",
        "CA_Food1 = result.assign(Province = \"CA\")\n",
        "CA_Food1 = CA_Food1.drop(columns=\"isPartial\")\n",
        "CA_Food1.reset_index(level=0, inplace=True)\n",
        "CA_Food1 = pd.melt(CA_Food1, id_vars=[\"date\",\"Province\"])"
      ],
      "execution_count": 31,
      "outputs": []
    },
    {
      "cell_type": "code",
      "metadata": {
        "id": "B-z0paO8Aah3"
      },
      "source": [
        "Food = pd.concat([ON_Food1,QC_Food1,BC_Food1,AB_Food1,CA_Food1], sort=False)\n",
        "Food = Food.assign(Category = \"Food\")"
      ],
      "execution_count": 32,
      "outputs": []
    },
    {
      "cell_type": "markdown",
      "metadata": {
        "id": "4j6ahkqwBXq7"
      },
      "source": [
        "####Grocery"
      ]
    },
    {
      "cell_type": "code",
      "metadata": {
        "id": "Zqzm7iwYBb3m"
      },
      "source": [
        "pytrend.build_payload(kw_list=[\"whole foods\",\"Canadian Superstore\",\"Loblaws\",\"Sobeys\",\"Freshco\"],\n",
        "                      timeframe = '2019-12-01 2020-10-19',\n",
        "                      geo=\"CA-ON\")\n",
        "\n",
        "result = pytrend.interest_over_time() \n",
        "\n",
        "pytrend.build_payload(kw_list=[\"nofrills\",\"Metro Inc\",\"Online Grocery\",\"grocery delivery\", \"Instacart\"], \n",
        "                      timeframe = '2019-12-01 2020-10-19',\n",
        "                      geo=\"CA-ON\")\n",
        "\n",
        "result1 = pytrend.interest_over_time() \n",
        "result2 = result1.drop(columns=[\"isPartial\"])\n",
        "ON_Grocery = pd.concat([result,result2], join='inner', axis=1)\n",
        "\n",
        "ON_Grocery1 = ON_Grocery.drop(columns=\"isPartial\", axis=1)\n",
        "ON_Grocery1 = ON_Grocery1.assign(Province = \"ON\")\n",
        "ON_Grocery1.reset_index(level=0, inplace=True)\n",
        "ON_Grocery1 = pd.melt(ON_Grocery1, id_vars=[\"date\",\"Province\"])"
      ],
      "execution_count": 33,
      "outputs": []
    },
    {
      "cell_type": "code",
      "metadata": {
        "id": "28kmGIhQCL7J"
      },
      "source": [
        "pytrend.build_payload(kw_list=[\"Maxi\" ,\"Canadian Superstore\",\"Loblaws\",\"Sobeys\",\"Super C\"],\n",
        "                      timeframe = '2019-12-01 2020-10-19',\n",
        "                      geo=\"CA-QC\")\n",
        "\n",
        "result = pytrend.interest_over_time() \n",
        "\n",
        "pytrend.build_payload(kw_list=[\"nofrills\",\"Metro Inc\",\"Online Grocery\",\"grocery delivery\",\"IGA\"], \n",
        "                      timeframe = '2019-12-01 2020-10-19',\n",
        "                      geo=\"CA-QC\")\n",
        "\n",
        "result1 = pytrend.interest_over_time() \n",
        "result2 = result1.drop(columns=[\"isPartial\"])\n",
        "QC_Grocery = pd.concat([result,result2], join='inner', axis=1)\n",
        "\n",
        "QC_Grocery1 = QC_Grocery.drop(columns=\"isPartial\", axis=1)\n",
        "QC_Grocery1 = QC_Grocery1.assign(Province = \"QC\")\n",
        "QC_Grocery1.reset_index(level=0, inplace=True)\n",
        "QC_Grocery1 = pd.melt(QC_Grocery1, id_vars=[\"date\",\"Province\"])"
      ],
      "execution_count": 34,
      "outputs": []
    },
    {
      "cell_type": "code",
      "metadata": {
        "id": "dA3P0HN4Cqce"
      },
      "source": [
        "pytrend.build_payload(kw_list=[\"whole foods\",\"Canadian Superstore\",\"Loblaws\",\"Sobeys\",\"Freshco\"],\n",
        "                      timeframe = '2019-12-01 2020-10-19',\n",
        "                      geo=\"CA-AB\")\n",
        "\n",
        "result = pytrend.interest_over_time() \n",
        "\n",
        "pytrend.build_payload(kw_list=[\"nofrills\", \"Metro Inc\", \"Online Grocery\", \"grocery delivery\"], \n",
        "                      timeframe = '2019-12-01 2020-10-19',\n",
        "                      geo=\"CA-AB\")\n",
        "\n",
        "result1 = pytrend.interest_over_time() \n",
        "result2 = result1.drop(columns=[\"isPartial\"])\n",
        "AB_Grocery = pd.concat([result,result2], join='inner', axis=1)\n",
        "\n",
        "AB_Grocery1 = AB_Grocery.drop(columns=\"isPartial\", axis=1)\n",
        "AB_Grocery1 = AB_Grocery1.assign(Province = \"AB\")\n",
        "AB_Grocery1.reset_index(level=0, inplace=True)\n",
        "AB_Grocery1 = pd.melt(AB_Grocery1, id_vars=[\"date\",\"Province\"])"
      ],
      "execution_count": 35,
      "outputs": []
    },
    {
      "cell_type": "code",
      "metadata": {
        "id": "plhYla4xC27t"
      },
      "source": [
        "pytrend.build_payload(kw_list=[\"whole foods\",\"Canadian Superstore\",\"Loblaws\",\"Sobeys\",\"Freshco\"],\n",
        "                      timeframe = '2019-12-01 2020-10-19',\n",
        "                      geo=\"CA-BC\")\n",
        "\n",
        "result = pytrend.interest_over_time() \n",
        "\n",
        "pytrend.build_payload(kw_list=[\"nofrills\", \"Metro Inc\", \"Online Grocery\", \"grocery delivery\"], \n",
        "                      timeframe = '2019-12-01 2020-10-19',\n",
        "                      geo=\"CA-BC\")\n",
        "\n",
        "result1 = pytrend.interest_over_time() \n",
        "result2 = result1.drop(columns=[\"isPartial\"])\n",
        "BC_Grocery = pd.concat([result,result2], join='inner', axis=1)\n",
        "\n",
        "BC_Grocery1 = BC_Grocery.drop(columns=\"isPartial\", axis=1)\n",
        "BC_Grocery1 = BC_Grocery1.assign(Province = \"BC\")\n",
        "BC_Grocery1.reset_index(level=0, inplace=True)\n",
        "BC_Grocery1 = pd.melt(BC_Grocery1, id_vars=[\"date\",\"Province\"])"
      ],
      "execution_count": 36,
      "outputs": []
    },
    {
      "cell_type": "code",
      "metadata": {
        "id": "O0VN6gkqDItI"
      },
      "source": [
        "pytrend.build_payload(kw_list=[\"whole foods\",\"Canadian Superstore\",\"Loblaws\",\"Sobeys\",\"Freshco\"],\n",
        "                      timeframe = '2019-12-01 2020-10-19',\n",
        "                      geo=\"CA\")\n",
        "\n",
        "result = pytrend.interest_over_time() \n",
        "\n",
        "pytrend.build_payload(kw_list=[\"nofrills\", \"Metro Inc\", \"Online Grocery\", \"grocery delivery\"], \n",
        "                      timeframe = '2019-12-01 2020-10-19',\n",
        "                      geo=\"CA\")\n",
        "\n",
        "result1 = pytrend.interest_over_time() \n",
        "result2 = result1.drop(columns=[\"isPartial\"])\n",
        "CA_Grocery = pd.concat([result,result2], join='inner', axis=1)\n",
        "\n",
        "CA_Grocery1 = CA_Grocery.drop(columns=\"isPartial\", axis=1)\n",
        "CA_Grocery1 = CA_Grocery1.assign(Province = \"CA\")\n",
        "CA_Grocery1.reset_index(level=0, inplace=True)\n",
        "CA_Grocery1 = pd.melt(CA_Grocery1, id_vars=[\"date\",\"Province\"])"
      ],
      "execution_count": 37,
      "outputs": []
    },
    {
      "cell_type": "code",
      "metadata": {
        "id": "IT4WjbtdDfHA"
      },
      "source": [
        "Grocery = pd.concat([ON_Grocery1,QC_Grocery1,BC_Grocery1,AB_Grocery1,CA_Grocery1], sort=False)\n",
        "Grocery = Grocery.assign(Category = \"Grocery\")"
      ],
      "execution_count": 38,
      "outputs": []
    },
    {
      "cell_type": "markdown",
      "metadata": {
        "id": "LTQmeWCFEl0u"
      },
      "source": [
        "####Corona"
      ]
    },
    {
      "cell_type": "code",
      "metadata": {
        "id": "BIQwQ8tkEn0A"
      },
      "source": [
        "pytrend.build_payload(kw_list=[\"Coronavirus\"],\n",
        "                      timeframe = '2019-12-01 2020-10-19',\n",
        "                      geo=\"CA-ON\")\n",
        "\n",
        "result = pytrend.interest_over_time() \n",
        "\n",
        "ON_Corona = result.assign(Province = \"ON\")\n",
        "ON_Corona1 = ON_Corona.drop(columns=\"isPartial\")"
      ],
      "execution_count": 39,
      "outputs": []
    },
    {
      "cell_type": "code",
      "metadata": {
        "id": "yzNKnkReFDyI"
      },
      "source": [
        "pytrend.build_payload(kw_list=[\"Coronavirus\"],\n",
        "                      timeframe = '2019-12-01 2020-10-19',\n",
        "                      geo=\"CA-BC\")\n",
        "\n",
        "result = pytrend.interest_over_time() \n",
        "\n",
        "BC_Corona = result.assign(Province = \"BC\")\n",
        "BC_Corona1 = BC_Corona.drop(columns=\"isPartial\")"
      ],
      "execution_count": 40,
      "outputs": []
    },
    {
      "cell_type": "code",
      "metadata": {
        "id": "2gqMmmmwFSYH"
      },
      "source": [
        "pytrend.build_payload(kw_list=[\"Coronavirus\"],\n",
        "                      timeframe = '2019-12-01 2020-10-19',\n",
        "                      geo=\"CA-QC\")\n",
        "\n",
        "result = pytrend.interest_over_time() \n",
        "\n",
        "QC_Corona = result.assign(Province = \"QC\")\n",
        "QC_Corona1 = QC_Corona.drop(columns=\"isPartial\")"
      ],
      "execution_count": 41,
      "outputs": []
    },
    {
      "cell_type": "code",
      "metadata": {
        "id": "dMLeVS3oGJxU"
      },
      "source": [
        "pytrend.build_payload(kw_list=[\"Coronavirus\"],\n",
        "                      timeframe = '2019-12-01 2020-10-19',\n",
        "                      geo=\"CA-AB\")\n",
        "\n",
        "result = pytrend.interest_over_time() \n",
        "\n",
        "AB_Corona = result.assign(Province = \"AB\")\n",
        "AB_Corona1 = AB_Corona.drop(columns=\"isPartial\")"
      ],
      "execution_count": 42,
      "outputs": []
    },
    {
      "cell_type": "code",
      "metadata": {
        "id": "n2s5fJsUGevu"
      },
      "source": [
        "pytrend.build_payload(kw_list=[\"Coronavirus\"],\n",
        "                      timeframe = '2019-12-01 2020-10-19',\n",
        "                      geo=\"CA\")\n",
        "\n",
        "result = pytrend.interest_over_time() \n",
        "\n",
        "CA_Corona = result.assign(Province = \"CA\")\n",
        "CA_Corona1 = CA_Corona.drop(columns=\"isPartial\")"
      ],
      "execution_count": 43,
      "outputs": []
    },
    {
      "cell_type": "code",
      "metadata": {
        "id": "kPZpYdnkG1jA"
      },
      "source": [
        "Corona = pd.concat([ON_Corona1,QC_Corona1,BC_Corona1,AB_Corona1,CA_Corona1], sort=False)\n",
        "Corona = Corona.assign(Category = \"Coronavirus\")\n",
        "Corona.reset_index(level=0, inplace=True)\n",
        "Corona = pd.melt(Corona, id_vars=[\"date\",\"Province\",\"Category\"])"
      ],
      "execution_count": 44,
      "outputs": []
    },
    {
      "cell_type": "markdown",
      "metadata": {
        "id": "XhJ_SbneO_T-"
      },
      "source": [
        "####Meal Kit"
      ]
    },
    {
      "cell_type": "code",
      "metadata": {
        "id": "TvmtH1ZIO_do"
      },
      "source": [
        "pytrend.build_payload(kw_list=[\"Goodfood\", \"Hello Fresh\", \"Chef Plate\", \"Cook it\"],\n",
        "                      timeframe = '2019-12-01 2020-10-19',\n",
        "                      geo=\"CA-ON\")\n",
        "\n",
        "result = pytrend.interest_over_time() \n",
        "\n",
        "ON_Meal = result.assign(Province = \"ON\")\n",
        "ON_Meal1 = ON_Meal.drop(columns=\"isPartial\")\n",
        "ON_Meal1.reset_index(level=0, inplace=True)\n",
        "ON_Meal1 = pd.melt(ON_Meal1, id_vars=[\"date\",\"Province\"])"
      ],
      "execution_count": 45,
      "outputs": []
    },
    {
      "cell_type": "code",
      "metadata": {
        "id": "3sR26QIAQiks"
      },
      "source": [
        "pytrend.build_payload(kw_list=[\"Goodfood\", \"Hello Fresh\", \"Chef Plate\", \"Cook it\"],\n",
        "                      timeframe = '2019-12-01 2020-10-19',\n",
        "                      geo=\"CA-BC\")\n",
        "\n",
        "result = pytrend.interest_over_time() \n",
        "\n",
        "BC_Meal = result.assign(Province = \"BC\")\n",
        "BC_Meal1 = BC_Meal.drop(columns=\"isPartial\")\n",
        "BC_Meal1.reset_index(level=0, inplace=True)\n",
        "BC_Meal1 = pd.melt(BC_Meal1, id_vars=[\"date\",\"Province\"])"
      ],
      "execution_count": 46,
      "outputs": []
    },
    {
      "cell_type": "code",
      "metadata": {
        "id": "CfAcF1vpQvhX"
      },
      "source": [
        "pytrend.build_payload(kw_list=[ \"Goodfood\", \"Hello Fresh\", \"Chef Plate\", \"Cook it\"],\n",
        "                      timeframe = '2019-12-01 2020-10-19',\n",
        "                      geo=\"CA-QC\")\n",
        "\n",
        "result = pytrend.interest_over_time() \n",
        "\n",
        "QC_Meal = result.assign(Province = \"QC\")\n",
        "QC_Meal1 = QC_Meal.drop(columns=\"isPartial\")\n",
        "QC_Meal1.reset_index(level=0, inplace=True)\n",
        "QC_Meal1 = pd.melt(QC_Meal1, id_vars=[\"date\",\"Province\"])"
      ],
      "execution_count": 47,
      "outputs": []
    },
    {
      "cell_type": "code",
      "metadata": {
        "id": "-yiC7K_2Q1-9"
      },
      "source": [
        "pytrend.build_payload(kw_list=[\"Goodfood\", \"Hello Fresh\", \"Chef Plate\", \"Cook it\"],\n",
        "                      timeframe = '2019-12-01 2020-10-19',\n",
        "                      geo=\"CA-AB\")\n",
        "\n",
        "result = pytrend.interest_over_time() \n",
        "\n",
        "AB_Meal = result.assign(Province = \"AB\")\n",
        "AB_Meal1 = AB_Meal.drop(columns=\"isPartial\")\n",
        "AB_Meal1.reset_index(level=0, inplace=True)\n",
        "AB_Meal1 = pd.melt(AB_Meal1, id_vars=[\"date\",\"Province\"])"
      ],
      "execution_count": 48,
      "outputs": []
    },
    {
      "cell_type": "code",
      "metadata": {
        "id": "t5bspER_Q7uh"
      },
      "source": [
        "pytrend.build_payload(kw_list=[\"Goodfood\", \"Hello Fresh\", \"Chef Plate\", \"Cook it\"],\n",
        "                      timeframe = '2019-12-01 2020-10-19',\n",
        "                      geo=\"CA\")\n",
        "\n",
        "result = pytrend.interest_over_time() \n",
        "\n",
        "CA_Meal = result.assign(Province = \"CA\")\n",
        "CA_Meal1 = CA_Meal.drop(columns=\"isPartial\")\n",
        "CA_Meal1.reset_index(level=0, inplace=True)\n",
        "CA_Meal1 = pd.melt(CA_Meal1, id_vars=[\"date\",\"Province\"])"
      ],
      "execution_count": 49,
      "outputs": []
    },
    {
      "cell_type": "code",
      "metadata": {
        "id": "nYUkQG8XS1Ix"
      },
      "source": [
        "Meal = pd.concat([ON_Meal1,QC_Meal1,BC_Meal1,AB_Meal1,CA_Meal1], sort=False)\n",
        "Meal = Meal.assign(Category = \"Meal\")"
      ],
      "execution_count": 50,
      "outputs": []
    },
    {
      "cell_type": "markdown",
      "metadata": {
        "id": "eVrlUn4ETmNp"
      },
      "source": [
        "####Finance"
      ]
    },
    {
      "cell_type": "code",
      "metadata": {
        "id": "YZ-2QQndTh0n"
      },
      "source": [
        "pytrend.build_payload(kw_list=[\"Mortgage rate\",\"Auto Insurance\",\"Life Insurance\",\"Travel Insurance\",\"employment insurance\"],\n",
        "                      timeframe = '2019-12-01 2020-10-19',\n",
        "                      geo=\"CA-ON\")\n",
        "\n",
        "result = pytrend.interest_over_time() \n",
        "\n",
        "pytrend.build_payload(kw_list=[\"Credit Card\",\"CERB\",\"Personnal loan\",\"workers compensation\",\"layoff compensation\"], \n",
        "                      timeframe = '2019-12-01 2020-10-19',\n",
        "                      geo=\"CA-ON\")\n",
        "\n",
        "result1 = pytrend.interest_over_time() \n",
        "result2 = result1.drop(columns=[\"isPartial\"])\n",
        "ON_Finance = pd.concat([result,result2], join='inner', axis=1)\n",
        "\n",
        "ON_Finance1 = ON_Finance.drop(columns=\"isPartial\", axis=1)\n",
        "ON_Finance1 = ON_Finance1.assign(Province = \"ON\")\n",
        "ON_Finance1.reset_index(level=0, inplace=True)\n",
        "ON_Finance1 = pd.melt(ON_Finance1, id_vars=[\"date\",\"Province\"])"
      ],
      "execution_count": 51,
      "outputs": []
    },
    {
      "cell_type": "code",
      "metadata": {
        "id": "7Frn7R6JWp0A"
      },
      "source": [
        "pytrend.build_payload(kw_list=[\"taux Hypothecaire\",\"Assurance Auto\",\"Assurance Maison\",\"Assurance Voyage\",\"Carte credit\"],\n",
        "                      timeframe = '2019-12-01 2020-10-19',\n",
        "                      geo=\"CA-QC\")\n",
        "\n",
        "result = pytrend.interest_over_time() \n",
        "\n",
        "pytrend.build_payload(kw_list=[\"Pret personnel\",\"CERB\",\"l'assurance-emploi\",\"l'indemnisation des travailleurs\"], \n",
        "                      timeframe = '2019-12-01 2020-10-19',\n",
        "                      geo=\"CA-QC\")\n",
        "\n",
        "result1 = pytrend.interest_over_time() \n",
        "result2 = result1.drop(columns=[\"isPartial\"])\n",
        "QC_Finance = pd.concat([result,result2], join='inner', axis=1)\n",
        "\n",
        "QC_Finance1 = QC_Finance.drop(columns=\"isPartial\", axis=1)\n",
        "QC_Finance1 = QC_Finance1.assign(Province = \"QC\")\n",
        "QC_Finance1.reset_index(level=0, inplace=True)\n",
        "QC_Finance1 = pd.melt(QC_Finance1, id_vars=[\"date\",\"Province\"])"
      ],
      "execution_count": 52,
      "outputs": []
    },
    {
      "cell_type": "code",
      "metadata": {
        "id": "wn249I7jW7Aj"
      },
      "source": [
        "pytrend.build_payload(kw_list=[\"Mortgage rate\",\"Auto Insurance\",\"Life Insurance\",\"Travel Insurance\",\"employment insurance\"],\n",
        "                      timeframe = '2019-12-01 2020-10-19',\n",
        "                      geo=\"CA-BC\")\n",
        "\n",
        "result = pytrend.interest_over_time() \n",
        "\n",
        "pytrend.build_payload(kw_list=[\"Credit Card\",\"CERB\",\"Personnal loan\",\"workers compensation\",\"layoff compensation\"], \n",
        "                      timeframe = '2019-12-01 2020-10-19',\n",
        "                      geo=\"CA-BC\")\n",
        "\n",
        "result1 = pytrend.interest_over_time() \n",
        "result2 = result1.drop(columns=[\"isPartial\"])\n",
        "BC_Finance = pd.concat([result,result2], join='inner', axis=1)\n",
        "\n",
        "BC_Finance1 = BC_Finance.drop(columns=\"isPartial\", axis=1)\n",
        "BC_Finance1 = BC_Finance1.assign(Province = \"BC\")\n",
        "BC_Finance1.reset_index(level=0, inplace=True)\n",
        "BC_Finance1 = pd.melt(BC_Finance1, id_vars=[\"date\",\"Province\"])"
      ],
      "execution_count": 53,
      "outputs": []
    },
    {
      "cell_type": "code",
      "metadata": {
        "id": "ZKOenBMYXEA7"
      },
      "source": [
        "pytrend.build_payload(kw_list=[\"Mortgage rate\",\"Auto Insurance\",\"Life Insurance\",\"Travel Insurance\",\"employment insurance\"],\n",
        "                      timeframe = '2019-12-01 2020-10-19',\n",
        "                      geo=\"CA-AB\")\n",
        "\n",
        "result = pytrend.interest_over_time() \n",
        "\n",
        "pytrend.build_payload(kw_list=[\"Credit Card\",\"CERB\",\"Personnal loan\",\"workers compensation\",\"layoff compensation\"],\n",
        "                      timeframe = '2019-12-01 2020-10-19',\n",
        "                      geo=\"CA-AB\")\n",
        "\n",
        "result1 = pytrend.interest_over_time() \n",
        "result2 = result1.drop(columns=[\"isPartial\"])\n",
        "AB_Finance = pd.concat([result,result2], join='inner', axis=1)\n",
        "\n",
        "AB_Finance1 = AB_Finance.drop(columns=\"isPartial\", axis=1)\n",
        "AB_Finance1 = AB_Finance1.assign(Province = \"AB\")\n",
        "AB_Finance1.reset_index(level=0, inplace=True)\n",
        "AB_Finance1 = pd.melt(AB_Finance1, id_vars=[\"date\",\"Province\"])"
      ],
      "execution_count": 54,
      "outputs": []
    },
    {
      "cell_type": "code",
      "metadata": {
        "id": "_bsOYdpqZ-rR"
      },
      "source": [
        "pytrend.build_payload(kw_list=[\"Mortgage rate\",\"Auto Insurance\",\"Life Insurance\",\"Travel Insurance\",\"employment insurance\"],\n",
        "                      timeframe = '2019-12-01 2020-10-19',\n",
        "                      geo=\"CA\")\n",
        "\n",
        "result = pytrend.interest_over_time() \n",
        "\n",
        "pytrend.build_payload(kw_list=[\"Credit Card\",\"CERB\",\"Personnal loan\",\"workers compensation\",\"layoff compensation\"], \n",
        "                      timeframe = '2019-12-01 2020-10-19',\n",
        "                      geo=\"CA\")\n",
        "\n",
        "result1 = pytrend.interest_over_time() \n",
        "result2 = result1.drop(columns=[\"isPartial\"])\n",
        "CA_Finance = pd.concat([result,result2], join='inner', axis=1)\n",
        "\n",
        "CA_Finance1 = CA_Finance.drop(columns=\"isPartial\", axis=1)\n",
        "CA_Finance1 = CA_Finance1.assign(Province = \"CA\")\n",
        "CA_Finance1.reset_index(level=0, inplace=True)\n",
        "CA_Finance1 = pd.melt(CA_Finance1, id_vars=[\"date\",\"Province\"])"
      ],
      "execution_count": 55,
      "outputs": []
    },
    {
      "cell_type": "code",
      "metadata": {
        "id": "ZWcRWBf1aXBC"
      },
      "source": [
        "Finance = pd.concat([ON_Finance1,QC_Finance1,BC_Finance1,AB_Finance1,CA_Finance1], sort=False)\n",
        "Finance = Finance.assign(Category = \"Finance\")"
      ],
      "execution_count": 56,
      "outputs": []
    },
    {
      "cell_type": "markdown",
      "metadata": {
        "id": "Vze-nXt9axZl"
      },
      "source": [
        "####Entertainment"
      ]
    },
    {
      "cell_type": "code",
      "metadata": {
        "id": "NfmuKRT_bERV"
      },
      "source": [
        "pytrend.build_payload(kw_list=[\"board games online\",\"Nintendo Switch\",\"Xbox\",\"Playstation\",\"Kobo\"],\n",
        "                      timeframe = '2019-12-01 2020-10-19',\n",
        "                      geo=\"CA-ON\")\n",
        "\n",
        "result = pytrend.interest_over_time() \n",
        "\n",
        "pytrend.build_payload(kw_list=[\"Podcast\",\"ipad\",\"pc games\"], \n",
        "                      timeframe = '2019-12-01 2020-10-19',\n",
        "                      geo=\"CA-ON\")\n",
        "\n",
        "result1 = pytrend.interest_over_time() \n",
        "result2 = result1.drop(columns=[\"isPartial\"])\n",
        "ON_Entertainment = pd.concat([result,result2], join='inner', axis=1)\n",
        "\n",
        "ON_Entertainment1 = ON_Entertainment.drop(columns=\"isPartial\", axis=1)\n",
        "ON_Entertainment1 = ON_Entertainment1.assign(Province = \"ON\")\n",
        "ON_Entertainment1.reset_index(level=0, inplace=True)\n",
        "ON_Entertainment1 = pd.melt(ON_Entertainment1, id_vars=[\"date\",\"Province\"])"
      ],
      "execution_count": 57,
      "outputs": []
    },
    {
      "cell_type": "code",
      "metadata": {
        "id": "acamLkB0bERd"
      },
      "source": [
        "pytrend.build_payload(kw_list=[\"board games online\",\"Nintendo Switch\",\"Xbox\",\"Playstation\",\"Kobo\"],\n",
        "                      timeframe = '2019-12-01 2020-10-19',\n",
        "                      geo=\"CA-QC\")\n",
        "\n",
        "result = pytrend.interest_over_time() \n",
        "\n",
        "pytrend.build_payload(kw_list=[\"Podcast\",\"ipad\",\"pc games\"], \n",
        "                      timeframe = '2019-12-01 2020-10-19',\n",
        "                      geo=\"CA-QC\")\n",
        "\n",
        "result1 = pytrend.interest_over_time() \n",
        "result2 = result1.drop(columns=[\"isPartial\"])\n",
        "QC_Entertainment = pd.concat([result,result2], join='inner', axis=1)\n",
        "\n",
        "QC_Entertainment1 = QC_Entertainment.drop(columns=\"isPartial\", axis=1)\n",
        "QC_Entertainment1 = QC_Entertainment1.assign(Province = \"QC\")\n",
        "QC_Entertainment1.reset_index(level=0, inplace=True)\n",
        "QC_Entertainment1 = pd.melt(QC_Entertainment1, id_vars=[\"date\",\"Province\"])"
      ],
      "execution_count": 58,
      "outputs": []
    },
    {
      "cell_type": "code",
      "metadata": {
        "id": "2QRk92W7bERi"
      },
      "source": [
        "pytrend.build_payload(kw_list=[\"board games online\",\"Nintendo Switch\",\"Xbox\",\"Playstation\",\"Kobo\"],\n",
        "                      timeframe = '2019-12-01 2020-10-19',\n",
        "                      geo=\"CA-BC\")\n",
        "\n",
        "result = pytrend.interest_over_time() \n",
        "\n",
        "pytrend.build_payload(kw_list=[\"Podcast\",\"ipad\",\"pc games\"], \n",
        "                      timeframe = '2019-12-01 2020-10-19',\n",
        "                      geo=\"CA-BC\")\n",
        "\n",
        "result1 = pytrend.interest_over_time() \n",
        "result2 = result1.drop(columns=[\"isPartial\"])\n",
        "BC_Entertainment = pd.concat([result,result2], join='inner', axis=1)\n",
        "\n",
        "BC_Entertainment1 = BC_Entertainment.drop(columns=\"isPartial\", axis=1)\n",
        "BC_Entertainment1 = BC_Entertainment1.assign(Province = \"BC\")\n",
        "BC_Entertainment1.reset_index(level=0, inplace=True)\n",
        "BC_Entertainment1 = pd.melt(BC_Entertainment1, id_vars=[\"date\",\"Province\"])"
      ],
      "execution_count": 59,
      "outputs": []
    },
    {
      "cell_type": "code",
      "metadata": {
        "id": "EcBY0KXqbERl"
      },
      "source": [
        "pytrend.build_payload(kw_list=[\"board games online\" , \"Nintendo Switch\", \"Xbox\", \"Playstation\", \"Kobo\"],\n",
        "                      timeframe = '2019-12-01 2020-10-19',\n",
        "                      geo=\"CA-AB\")\n",
        "\n",
        "result = pytrend.interest_over_time() \n",
        "\n",
        "pytrend.build_payload(kw_list=[\"Podcast\",\"ipad\",\"pc games\"], \n",
        "                      timeframe = '2019-12-01 2020-10-19',\n",
        "                      geo=\"CA-AB\")\n",
        "\n",
        "result1 = pytrend.interest_over_time() \n",
        "result2 = result1.drop(columns=[\"isPartial\"])\n",
        "AB_Entertainment = pd.concat([result,result2], join='inner', axis=1)\n",
        "\n",
        "AB_Entertainment1 = AB_Entertainment.drop(columns=\"isPartial\", axis=1)\n",
        "AB_Entertainment1 = AB_Entertainment1.assign(Province = \"AB\")\n",
        "AB_Entertainment1.reset_index(level=0, inplace=True)\n",
        "AB_Entertainment1 = pd.melt(AB_Entertainment1, id_vars=[\"date\",\"Province\"])"
      ],
      "execution_count": 60,
      "outputs": []
    },
    {
      "cell_type": "code",
      "metadata": {
        "id": "6tFgr-Z_bERp"
      },
      "source": [
        "pytrend.build_payload(kw_list=[\"board games online\" , \"Nintendo Switch\", \"Xbox\", \"Playstation\", \"Kobo\"],\n",
        "                      timeframe = '2019-12-01 2020-10-19',\n",
        "                      geo=\"CA\")\n",
        "\n",
        "result = pytrend.interest_over_time() \n",
        "\n",
        "pytrend.build_payload(kw_list=[\"Podcast\",\"ipad\",\"pc games\"], \n",
        "                      timeframe = '2019-12-01 2020-10-19',\n",
        "                      geo=\"CA\")\n",
        "\n",
        "result1 = pytrend.interest_over_time() \n",
        "result2 = result1.drop(columns=[\"isPartial\"])\n",
        "CA_Entertainment = pd.concat([result,result2], join='inner', axis=1)\n",
        "\n",
        "CA_Entertainment1 = CA_Entertainment.drop(columns=\"isPartial\", axis=1)\n",
        "CA_Entertainment1 = CA_Entertainment1.assign(Province = \"CA\")\n",
        "CA_Entertainment1.reset_index(level=0, inplace=True)\n",
        "CA_Entertainment1 = pd.melt(CA_Entertainment1, id_vars=[\"date\",\"Province\"])"
      ],
      "execution_count": 61,
      "outputs": []
    },
    {
      "cell_type": "code",
      "metadata": {
        "id": "-Bzcj4WpbERu"
      },
      "source": [
        "Entertainment = pd.concat([ON_Entertainment1,QC_Entertainment1,BC_Entertainment1,AB_Entertainment1,CA_Entertainment1], sort=False)\n",
        "Entertainment = Entertainment.assign(Category = \"Entertainment\")"
      ],
      "execution_count": 62,
      "outputs": []
    },
    {
      "cell_type": "markdown",
      "metadata": {
        "id": "QhuLW784kWvW"
      },
      "source": [
        "#### Real Estate"
      ]
    },
    {
      "cell_type": "code",
      "metadata": {
        "id": "7aBCtCG_kW4t"
      },
      "source": [
        "pytrend.build_payload(kw_list=[\"mls\",\"house for sale\",\"appartment to rent\",\"condo for sale\",\" RE/MAX\"],\n",
        "                      timeframe = '2019-12-01 2020-10-19',\n",
        "                      geo=\"CA-ON\")\n",
        "\n",
        "result = pytrend.interest_over_time() \n",
        "\n",
        "pytrend.build_payload(kw_list=[\"Royal Lepage\",\"Century 21\",\"realtor.ca\"], \n",
        "                      timeframe = '2019-12-01 2020-10-19',\n",
        "                      geo=\"CA-ON\")\n",
        "\n",
        "result1 = pytrend.interest_over_time() \n",
        "result2 = result1.drop(columns=[\"isPartial\"])\n",
        "ON_Realest = pd.concat([result,result2], join='inner', axis=1)\n",
        "\n",
        "ON_Realest1 = ON_Realest.drop(columns=\"isPartial\", axis=1)\n",
        "ON_Realest1 = ON_Realest1.assign(Province = \"ON\")\n",
        "ON_Realest1.reset_index(level=0, inplace=True)\n",
        "ON_Realest1 = pd.melt(ON_Realest1, id_vars=[\"date\",\"Province\"])"
      ],
      "execution_count": 63,
      "outputs": []
    },
    {
      "cell_type": "code",
      "metadata": {
        "id": "K6J5eAqwmyA5"
      },
      "source": [
        "pytrend.build_payload(kw_list=[\"mls\",\"Maison vendre\",\"Appartement louer\",\"Centris\",\" RE/MAX\"],\n",
        "                      timeframe = '2019-12-01 2020-10-19',\n",
        "                      geo=\"CA-QC\")\n",
        "\n",
        "result = pytrend.interest_over_time() \n",
        "\n",
        "pytrend.build_payload(kw_list=[\"Royal Lepage\",\"Century 21\",\"realtor.ca\",\"Du Proprio\",\"Condo vendre\"], \n",
        "                      timeframe = '2019-12-01 2020-10-19',\n",
        "                      geo=\"CA-QC\")\n",
        "\n",
        "result1 = pytrend.interest_over_time() \n",
        "result2 = result1.drop(columns=[\"isPartial\"])\n",
        "QC_Realest = pd.concat([result,result2], join='inner', axis=1)\n",
        "\n",
        "QC_Realest1 = QC_Realest.drop(columns=\"isPartial\", axis=1)\n",
        "QC_Realest1 = QC_Realest1.assign(Province = \"QC\")\n",
        "QC_Realest1.reset_index(level=0, inplace=True)\n",
        "QC_Realest1 = pd.melt(QC_Realest1, id_vars=[\"date\",\"Province\"])"
      ],
      "execution_count": 64,
      "outputs": []
    },
    {
      "cell_type": "code",
      "metadata": {
        "id": "5WmLqw_UeJMv"
      },
      "source": [
        "pytrend.build_payload(kw_list=[\"mls\",\"house for sale\",\"appartment to rent\",\"condo for sale\",\" RE/MAX\"],\n",
        "                      timeframe = '2019-12-01 2020-10-19',\n",
        "                      geo=\"CA-BC\")\n",
        "\n",
        "result = pytrend.interest_over_time() \n",
        "\n",
        "pytrend.build_payload(kw_list=[\"Royal Lepage\",\"Century 21\",\"realtor.ca\"],\n",
        "                      timeframe = '2019-12-01 2020-10-19',\n",
        "                      geo=\"CA-BC\")\n",
        "\n",
        "result1 = pytrend.interest_over_time() \n",
        "result2 = result1.drop(columns=[\"isPartial\"])\n",
        "BC_Realest = pd.concat([result,result2], join='inner', axis=1)\n",
        "\n",
        "BC_Realest1 = BC_Realest.drop(columns=\"isPartial\", axis=1)\n",
        "BC_Realest1 = BC_Realest1.assign(Province = \"BC\")\n",
        "BC_Realest1.reset_index(level=0, inplace=True)\n",
        "BC_Realest1 = pd.melt(BC_Realest1, id_vars=[\"date\",\"Province\"])"
      ],
      "execution_count": 65,
      "outputs": []
    },
    {
      "cell_type": "code",
      "metadata": {
        "id": "plO46OTNeUac"
      },
      "source": [
        "pytrend.build_payload(kw_list=[\"mls\",\"house for sale\",\"appartment to rent\",\"condo for sale\",\" RE/MAX\"],\n",
        "                      timeframe = '2019-12-01 2020-10-19',\n",
        "                      geo=\"CA-AB\")\n",
        "\n",
        "result = pytrend.interest_over_time() \n",
        "\n",
        "pytrend.build_payload(kw_list=[\"Royal Lepage\",\"Century 21\",\"realtor.ca\"],\n",
        "                      timeframe = '2019-12-01 2020-10-19',\n",
        "                      geo=\"CA-AB\")\n",
        "\n",
        "result1 = pytrend.interest_over_time() \n",
        "result2 = result1.drop(columns=[\"isPartial\"])\n",
        "AB_Realest = pd.concat([result,result2], join='inner', axis=1)\n",
        "\n",
        "AB_Realest1 = AB_Realest.drop(columns=\"isPartial\", axis=1)\n",
        "AB_Realest1 = AB_Realest1.assign(Province = \"AB\")\n",
        "AB_Realest1.reset_index(level=0, inplace=True)\n",
        "AB_Realest1 = pd.melt(AB_Realest1, id_vars=[\"date\",\"Province\"])"
      ],
      "execution_count": 66,
      "outputs": []
    },
    {
      "cell_type": "code",
      "metadata": {
        "id": "41AjIVZKehbU"
      },
      "source": [
        "pytrend.build_payload(kw_list=[\"mls\",\"house for sale\",\"appartment to rent\",\"condo for sale\",\" RE/MAX\"],\n",
        "                      timeframe = '2019-12-01 2020-10-19',\n",
        "                      geo=\"CA\")\n",
        "\n",
        "result = pytrend.interest_over_time() \n",
        "\n",
        "pytrend.build_payload(kw_list=[\"Royal Lepage\",\"Century 21\",\"realtor.ca\"],\n",
        "                      timeframe = '2019-12-01 2020-10-19',\n",
        "                      geo=\"CA\")\n",
        "\n",
        "result1 = pytrend.interest_over_time() \n",
        "result2 = result1.drop(columns=[\"isPartial\"])\n",
        "CA_Realest = pd.concat([result,result2], join='inner', axis=1)\n",
        "\n",
        "CA_Realest1 = CA_Realest.drop(columns=\"isPartial\", axis=1)\n",
        "CA_Realest1 = CA_Realest1.assign(Province = \"CA\")\n",
        "CA_Realest1.reset_index(level=0, inplace=True)\n",
        "CA_Realest1 = pd.melt(CA_Realest1, id_vars=[\"date\",\"Province\"])"
      ],
      "execution_count": 67,
      "outputs": []
    },
    {
      "cell_type": "code",
      "metadata": {
        "id": "Te9N7wIMfEbM"
      },
      "source": [
        "Realest = pd.concat([ON_Realest1,QC_Realest1,BC_Realest1,AB_Realest1,CA_Realest1], sort=False)\n",
        "Realest = Realest.assign(Category = \"Realest\")"
      ],
      "execution_count": 68,
      "outputs": []
    },
    {
      "cell_type": "markdown",
      "metadata": {
        "id": "18b35W5efk8R"
      },
      "source": [
        "####Video"
      ]
    },
    {
      "cell_type": "code",
      "metadata": {
        "id": "SxiSxHoYflFb"
      },
      "source": [
        "pytrend.build_payload(kw_list=[\"Zoho Meeting\", \"zoom\",\"webex\",\"microsoft teams\",\"slack\"],\n",
        "                      timeframe = '2019-12-01 2020-10-19',\n",
        "                      geo=\"CA-ON\")\n",
        "\n",
        "result = pytrend.interest_over_time() \n",
        "\n",
        "pytrend.build_payload(kw_list=[\"skype\",\"google duo\"], \n",
        "                      timeframe = '2019-12-01 2020-10-19',\n",
        "                      geo=\"CA-ON\")\n",
        "\n",
        "result1 = pytrend.interest_over_time() \n",
        "result2 = result1.drop(columns=[\"isPartial\"])\n",
        "ON_Video = pd.concat([result,result2], join='inner', axis=1)\n",
        "\n",
        "ON_Video1 = ON_Video.drop(columns=\"isPartial\", axis=1)\n",
        "ON_Video1 = ON_Video1.assign(Province = \"ON\")\n",
        "ON_Video1.reset_index(level=0, inplace=True)\n",
        "ON_Video1 = pd.melt(ON_Video1, id_vars=[\"date\",\"Province\"])"
      ],
      "execution_count": 69,
      "outputs": []
    },
    {
      "cell_type": "code",
      "metadata": {
        "id": "pE6WC7kEg3EH"
      },
      "source": [
        "pytrend.build_payload(kw_list=[\"Zoho Meeting\",\"zoom\",\"webex\",\"microsoft teams\",\"slack\"],\n",
        "                      timeframe = '2019-12-01 2020-10-19',\n",
        "                      geo=\"CA-QC\")\n",
        "\n",
        "result = pytrend.interest_over_time() \n",
        "\n",
        "pytrend.build_payload(kw_list=[\"skype\",\"google duo\"], \n",
        "                      timeframe = '2019-12-01 2020-10-19',\n",
        "                      geo=\"CA-QC\")\n",
        "\n",
        "result1 = pytrend.interest_over_time() \n",
        "result2 = result1.drop(columns=[\"isPartial\"])\n",
        "QC_Video = pd.concat([result,result2], join='inner', axis=1)\n",
        "\n",
        "QC_Video1 = QC_Video.drop(columns=\"isPartial\", axis=1)\n",
        "QC_Video1 = QC_Video1.assign(Province = \"QC\")\n",
        "QC_Video1.reset_index(level=0, inplace=True)\n",
        "QC_Video1 = pd.melt(QC_Video1, id_vars=[\"date\",\"Province\"])"
      ],
      "execution_count": 70,
      "outputs": []
    },
    {
      "cell_type": "code",
      "metadata": {
        "id": "JZiekTkDhCMm"
      },
      "source": [
        "pytrend.build_payload(kw_list=[\"Zoho Meeting\",\"zoom\",\"webex\",\"microsoft teams\",\"slack\"],\n",
        "                      timeframe = '2019-12-01 2020-10-19',\n",
        "                      geo=\"CA-BC\")\n",
        "\n",
        "result = pytrend.interest_over_time() \n",
        "\n",
        "pytrend.build_payload(kw_list=[\"skype\",\"google duo\"], \n",
        "                      timeframe = '2019-12-01 2020-10-19',\n",
        "                      geo=\"CA-BC\")\n",
        "\n",
        "result1 = pytrend.interest_over_time() \n",
        "result2 = result1.drop(columns=[\"isPartial\"])\n",
        "BC_Video = pd.concat([result,result2], join='inner', axis=1)\n",
        "\n",
        "BC_Video1 = BC_Video.drop(columns=\"isPartial\", axis=1)\n",
        "BC_Video1 = BC_Video1.assign(Province = \"BC\")\n",
        "BC_Video1.reset_index(level=0, inplace=True)\n",
        "BC_Video1 = pd.melt(BC_Video1, id_vars=[\"date\",\"Province\"])"
      ],
      "execution_count": 71,
      "outputs": []
    },
    {
      "cell_type": "code",
      "metadata": {
        "id": "QGgSw6ZmhQc5"
      },
      "source": [
        "pytrend.build_payload(kw_list=[\"Zoho Meeting\",\"zoom\",\"webex\",\"microsoft teams\",\"slack\"],\n",
        "                      timeframe = '2019-12-01 2020-10-19',\n",
        "                      geo=\"CA-AB\")\n",
        "\n",
        "result = pytrend.interest_over_time() \n",
        "\n",
        "pytrend.build_payload(kw_list=[\"skype\",\"google duo\"], \n",
        "                      timeframe = '2019-12-01 2020-10-19',\n",
        "                      geo=\"CA-AB\")\n",
        "\n",
        "result1 = pytrend.interest_over_time() \n",
        "result2 = result1.drop(columns=[\"isPartial\"])\n",
        "AB_Video = pd.concat([result,result2], join='inner', axis=1)\n",
        "\n",
        "AB_Video1 = AB_Video.drop(columns=\"isPartial\", axis=1)\n",
        "AB_Video1 = AB_Video1.assign(Province = \"AB\")\n",
        "AB_Video1.reset_index(level=0, inplace=True)\n",
        "AB_Video1 = pd.melt(AB_Video1, id_vars=[\"date\",\"Province\"])"
      ],
      "execution_count": 72,
      "outputs": []
    },
    {
      "cell_type": "code",
      "metadata": {
        "id": "FRkQ-imFhgao"
      },
      "source": [
        "pytrend.build_payload(kw_list=[\"Zoho Meeting\",\"zoom\",\"webex\",\"microsoft teams\",\"slack\"],\n",
        "                      timeframe = '2019-12-01 2020-10-19',\n",
        "                      geo=\"CA\")\n",
        "\n",
        "result = pytrend.interest_over_time() \n",
        "\n",
        "pytrend.build_payload(kw_list=[\"skype\",\"google duo\"], \n",
        "                      timeframe = '2019-12-01 2020-10-19',\n",
        "                      geo=\"CA\")\n",
        "\n",
        "result1 = pytrend.interest_over_time() \n",
        "result2 = result1.drop(columns=[\"isPartial\"])\n",
        "CA_Video = pd.concat([result,result2], join='inner', axis=1)\n",
        "\n",
        "CA_Video1 = CA_Video.drop(columns=\"isPartial\", axis=1)\n",
        "CA_Video1 = CA_Video1.assign(Province = \"CA\")\n",
        "CA_Video1.reset_index(level=0, inplace=True)\n",
        "CA_Video1 = pd.melt(CA_Video1, id_vars=[\"date\",\"Province\"])"
      ],
      "execution_count": 73,
      "outputs": []
    },
    {
      "cell_type": "code",
      "metadata": {
        "id": "wrWt2aCqhqWD"
      },
      "source": [
        "Video = pd.concat([ON_Video1,QC_Video1,BC_Video1,AB_Video1,CA_Video1], sort=False)\n",
        "Video = Video.assign(Category = \"Video\")"
      ],
      "execution_count": 74,
      "outputs": []
    },
    {
      "cell_type": "markdown",
      "metadata": {
        "id": "xukGHPnJC0jg"
      },
      "source": [
        "####Auto"
      ]
    },
    {
      "cell_type": "code",
      "metadata": {
        "id": "lUab3wFMC0uh"
      },
      "source": [
        "pytrend.build_payload(kw_list=[\"Auto trader\",\"Honda\",\"Toyota\",\"Hyundai\",\"Mazda\"],\n",
        "                      timeframe = '2019-12-01 2020-10-19',\n",
        "                      geo=\"CA-ON\")\n",
        "\n",
        "result = pytrend.interest_over_time() \n",
        "\n",
        "pytrend.build_payload(kw_list=[\"Kia\",\"Nissan\",\"Audi\",\"BMW\",\"Kijiji Autos\"], \n",
        "                      timeframe = '2019-12-01 2020-10-19',\n",
        "                      geo=\"CA-ON\")\n",
        "\n",
        "result1 = pytrend.interest_over_time() \n",
        "result2 = result1.drop(columns=[\"isPartial\"])\n",
        "\n",
        "pytrend.build_payload(kw_list=[\"Acura\",\"Lexus\",\"used cars\",\"mercedes\"], \n",
        "                      timeframe = '2019-12-01 2020-10-19',\n",
        "                      geo=\"CA-ON\")\n",
        "\n",
        "result3 = pytrend.interest_over_time() \n",
        "result4 = result3.drop(columns=[\"isPartial\"])\n",
        "\n",
        "ON_Auto = pd.concat([result,result2,result4], join='inner', axis=1)\n",
        "\n",
        "ON_Auto1 = ON_Auto.drop(columns=\"isPartial\", axis=1)\n",
        "ON_Auto1 = ON_Auto1.assign(Province = \"ON\")\n",
        "ON_Auto1.reset_index(level=0, inplace=True)\n",
        "ON_Auto1 = pd.melt(ON_Auto1, id_vars=[\"date\",\"Province\"])"
      ],
      "execution_count": 75,
      "outputs": []
    },
    {
      "cell_type": "code",
      "metadata": {
        "id": "qANISRFWIAwi"
      },
      "source": [
        "pytrend.build_payload(kw_list=[\"Auto trader\" ,\"Honda\",\"Toyota\",\"Hyundai\",\"Mazda\"],\n",
        "                      timeframe = '2019-12-01 2020-10-19',\n",
        "                      geo=\"CA-QC\")\n",
        "\n",
        "result = pytrend.interest_over_time() \n",
        "\n",
        "pytrend.build_payload(kw_list=[\"Kia\",\"Nissan\",\"Audi\",\"BMW\",\"Kijiji Autos\"], \n",
        "                      timeframe = '2019-12-01 2020-10-19',\n",
        "                      geo=\"CA-QC\")\n",
        "\n",
        "result1 = pytrend.interest_over_time() \n",
        "result2 = result1.drop(columns=[\"isPartial\"])\n",
        "\n",
        "pytrend.build_payload(kw_list=[\"Acura\",\"Lexus\",\"voiture usagées\",\"mercedes\"], \n",
        "                      timeframe = '2019-12-01 2020-10-19',\n",
        "                      geo=\"CA-QC\")\n",
        "\n",
        "result3 = pytrend.interest_over_time() \n",
        "result4 = result3.drop(columns=[\"isPartial\"])\n",
        "\n",
        "QC_Auto = pd.concat([result,result2,result4], join='inner', axis=1)\n",
        "\n",
        "QC_Auto1 = QC_Auto.drop(columns=\"isPartial\", axis=1)\n",
        "QC_Auto1 = QC_Auto1.assign(Province = \"QC\")\n",
        "QC_Auto1.reset_index(level=0, inplace=True)\n",
        "QC_Auto1 = pd.melt(QC_Auto1, id_vars=[\"date\",\"Province\"])"
      ],
      "execution_count": 76,
      "outputs": []
    },
    {
      "cell_type": "code",
      "metadata": {
        "id": "iEGd0LBBIYVa"
      },
      "source": [
        "pytrend.build_payload(kw_list=[\"Auto trader\" ,\"Honda\",\"Toyota\",\"Hyundai\",\"Mazda\"],\n",
        "                      timeframe = '2019-12-01 2020-10-19',\n",
        "                      geo=\"CA-BC\")\n",
        "\n",
        "result = pytrend.interest_over_time() \n",
        "\n",
        "pytrend.build_payload(kw_list=[\"Kia\",\"Nissan\",\"Audi\",\"BMW\",\"Kijiji Autos\"], \n",
        "                      timeframe = '2019-12-01 2020-10-19',\n",
        "                      geo=\"CA-BC\")\n",
        "\n",
        "result1 = pytrend.interest_over_time() \n",
        "result2 = result1.drop(columns=[\"isPartial\"])\n",
        "\n",
        "pytrend.build_payload(kw_list=[\"Acura\",\"Lexus\",\"used cars\",\"mercedes\", \"Volkswagen\"], \n",
        "                      timeframe = '2019-12-01 2020-10-19',\n",
        "                      geo=\"CA-BC\")\n",
        "\n",
        "result3 = pytrend.interest_over_time() \n",
        "result4 = result3.drop(columns=[\"isPartial\"])\n",
        "\n",
        "BC_Auto = pd.concat([result,result2,result4], join='inner', axis=1)\n",
        "\n",
        "BC_Auto1 = BC_Auto.drop(columns=\"isPartial\", axis=1)\n",
        "BC_Auto1 = BC_Auto1.assign(Province = \"BC\")\n",
        "BC_Auto1.reset_index(level=0, inplace=True)\n",
        "BC_Auto1 = pd.melt(BC_Auto1, id_vars=[\"date\",\"Province\"])"
      ],
      "execution_count": 77,
      "outputs": []
    },
    {
      "cell_type": "code",
      "metadata": {
        "id": "kPO2bxg3IvJw"
      },
      "source": [
        "pytrend.build_payload(kw_list=[\"Auto trader\" ,\"Honda\",\"Toyota\",\"Hyundai\",\"Mazda\"],\n",
        "                      timeframe = '2019-12-01 2020-10-19',\n",
        "                      geo=\"CA-AB\")\n",
        "\n",
        "result = pytrend.interest_over_time() \n",
        "\n",
        "pytrend.build_payload(kw_list=[\"Kia\",\"Nissan\",\"Audi\",\"BMW\",\"Kijiji Autos\"], \n",
        "                      timeframe = '2019-12-01 2020-10-19',\n",
        "                      geo=\"CA-AB\")\n",
        "\n",
        "result1 = pytrend.interest_over_time() \n",
        "result2 = result1.drop(columns=[\"isPartial\"])\n",
        "\n",
        "pytrend.build_payload(kw_list=[\"Acura\",\"Lexus\",\"used cars\",\"mercedes\"], \n",
        "                      timeframe = '2019-12-01 2020-10-19',\n",
        "                      geo=\"CA-AB\")\n",
        "\n",
        "result3 = pytrend.interest_over_time() \n",
        "result4 = result3.drop(columns=[\"isPartial\"])\n",
        "\n",
        "AB_Auto = pd.concat([result,result2,result4], join='inner', axis=1)\n",
        "\n",
        "AB_Auto1 = AB_Auto.drop(columns=\"isPartial\", axis=1)\n",
        "AB_Auto1 = AB_Auto1.assign(Province = \"AB\")\n",
        "AB_Auto1.reset_index(level=0, inplace=True)\n",
        "AB_Auto1 = pd.melt(AB_Auto1, id_vars=[\"date\",\"Province\"])"
      ],
      "execution_count": 78,
      "outputs": []
    },
    {
      "cell_type": "code",
      "metadata": {
        "id": "ieheoav5JHnR"
      },
      "source": [
        "pytrend.build_payload(kw_list=[\"Auto trader\" ,\"Honda\",\"Toyota\",\"Hyundai\",\"Mazda\"],\n",
        "                      timeframe = '2019-12-01 2020-10-19',\n",
        "                      geo=\"CA\")\n",
        "\n",
        "result = pytrend.interest_over_time() \n",
        "\n",
        "pytrend.build_payload(kw_list=[\"Kia\",\"Nissan\",\"Audi\",\"BMW\",\"Kijiji Autos\"], \n",
        "                      timeframe = '2019-12-01 2020-10-19',\n",
        "                      geo=\"CA\")\n",
        "\n",
        "result1 = pytrend.interest_over_time() \n",
        "result2 = result1.drop(columns=[\"isPartial\"])\n",
        "\n",
        "pytrend.build_payload(kw_list=[\"Acura\",\"Lexus\",\"used cars\",\"mercedes\"], \n",
        "                      timeframe = '2019-12-01 2020-10-19',\n",
        "                      geo=\"CA\")\n",
        "\n",
        "result3 = pytrend.interest_over_time() \n",
        "result4 = result3.drop(columns=[\"isPartial\"])\n",
        "\n",
        "CA_Auto = pd.concat([result,result2,result4], join='inner', axis=1)\n",
        "\n",
        "CA_Auto1 = CA_Auto.drop(columns=\"isPartial\", axis=1)\n",
        "CA_Auto1 = CA_Auto1.assign(Province = \"CA\")\n",
        "CA_Auto1.reset_index(level=0, inplace=True)\n",
        "CA_Auto1 = pd.melt(CA_Auto1, id_vars=[\"date\",\"Province\"])"
      ],
      "execution_count": 79,
      "outputs": []
    },
    {
      "cell_type": "code",
      "metadata": {
        "id": "tdIg4YmqJcrF"
      },
      "source": [
        "Auto = pd.concat([ON_Auto1,QC_Auto1,BC_Auto1,AB_Auto1,CA_Auto1], sort=False)\n",
        "Auto = Auto.assign(Category = \"Auto\")"
      ],
      "execution_count": 80,
      "outputs": []
    },
    {
      "cell_type": "markdown",
      "metadata": {
        "id": "sgtlALq2yOrT"
      },
      "source": [
        "####Pharmacy"
      ]
    },
    {
      "cell_type": "code",
      "metadata": {
        "id": "6iRTUuLyyOUe"
      },
      "source": [
        "pytrend.build_payload(kw_list=[\"shoppers drug mart\",\"rexall\",\"lcbo\",\"ida\", \"dispensary\"],\n",
        "                      timeframe = '2019-12-01 2020-10-19',\n",
        "                      geo=\"CA-ON\")\n",
        "\n",
        "result = pytrend.interest_over_time() \n",
        "\n",
        "ON_Phar = result.assign(Province = \"ON\")\n",
        "ON_Phar1 = ON_Phar.drop(columns=\"isPartial\")\n",
        "ON_Phar1.reset_index(level=0, inplace=True)\n",
        "ON_Phar1 = pd.melt(ON_Phar1, id_vars=[\"date\",\"Province\"])"
      ],
      "execution_count": 81,
      "outputs": []
    },
    {
      "cell_type": "code",
      "metadata": {
        "id": "FfjE0p0u2S-v"
      },
      "source": [
        "pytrend.build_payload(kw_list=[\"Jean Coutu\",\"SAQ\",\"Brunet\",\"Familiprix\", \"dispensary\"],\n",
        "                      timeframe = '2019-12-01 2020-10-19',\n",
        "                      geo=\"CA-QC\")\n",
        "\n",
        "result = pytrend.interest_over_time() \n",
        "\n",
        "QC_Phar = result.assign(Province = \"QC\")\n",
        "QC_Phar1 = QC_Phar.drop(columns=\"isPartial\")\n",
        "QC_Phar1.reset_index(level=0, inplace=True)\n",
        "QC_Phar1 = pd.melt(QC_Phar1, id_vars=[\"date\",\"Province\"])"
      ],
      "execution_count": 82,
      "outputs": []
    },
    {
      "cell_type": "code",
      "metadata": {
        "id": "HWD5qMHG3nS6"
      },
      "source": [
        "pytrend.build_payload(kw_list=[\"shoppers drug mart\",\"rexall\",\"BC Liquor Stores\",\"London Drugs\",\"dispensary\"],\n",
        "                      timeframe = '2019-12-01 2020-10-19',\n",
        "                      geo=\"CA-BC\")\n",
        "\n",
        "result = pytrend.interest_over_time() \n",
        "\n",
        "BC_Phar = result.assign(Province = \"BC\")\n",
        "BC_Phar1 = BC_Phar.drop(columns=\"isPartial\")\n",
        "BC_Phar1.reset_index(level=0, inplace=True)\n",
        "BC_Phar1 = pd.melt(BC_Phar1, id_vars=[\"date\",\"Province\"])"
      ],
      "execution_count": 83,
      "outputs": []
    },
    {
      "cell_type": "code",
      "metadata": {
        "id": "KNRxxSux4tQv"
      },
      "source": [
        "pytrend.build_payload(kw_list=[\"shoppers drug mart\",\"rexall\",\"liquorconnect\",\"London Drugs\",\"dispensary\"],\n",
        "                      timeframe = '2019-12-01 2020-10-19',\n",
        "                      geo=\"CA-AB\")\n",
        "\n",
        "result = pytrend.interest_over_time() \n",
        "\n",
        "AB_Phar = result.assign(Province = \"AB\")\n",
        "AB_Phar1 = AB_Phar.drop(columns=\"isPartial\")\n",
        "AB_Phar1.reset_index(level=0, inplace=True)\n",
        "AB_Phar1 = pd.melt(AB_Phar1, id_vars=[\"date\",\"Province\"])"
      ],
      "execution_count": 84,
      "outputs": []
    },
    {
      "cell_type": "code",
      "metadata": {
        "id": "Ykiv8sxu5YXo"
      },
      "source": [
        "pytrend.build_payload(kw_list=[\"shoppers drug mart\",\"rexall\",\"Jean Coutu\",\"London Drugs\",\"Brunet\"],\n",
        "                      timeframe = '2019-12-01 2020-10-19',\n",
        "                      geo=\"CA\")\n",
        "\n",
        "result = pytrend.interest_over_time() \n",
        "\n",
        "pytrend.build_payload(kw_list=[\"SAQ\",\"lcbo\",\"liquorconnect\",\"BC Liquor Stores\"], \n",
        "                      timeframe = '2019-12-01 2020-10-19',\n",
        "                      geo=\"CA\")\n",
        "\n",
        "result1 = pytrend.interest_over_time() \n",
        "result2 = result1.drop(columns=[\"isPartial\"])\n",
        "CA_Phar = pd.concat([result,result2], join='inner', axis=1)\n",
        "\n",
        "CA_Phar1 = CA_Phar.drop(columns=\"isPartial\", axis=1)\n",
        "CA_Phar1 = CA_Phar1.assign(Province = \"CA\")\n",
        "CA_Phar1.reset_index(level=0, inplace=True)\n",
        "CA_Phar1 = pd.melt(CA_Phar1, id_vars=[\"date\",\"Province\"])"
      ],
      "execution_count": 85,
      "outputs": []
    },
    {
      "cell_type": "code",
      "metadata": {
        "id": "g-M1Oki66fAX"
      },
      "source": [
        "Phar = pd.concat([ON_Phar1,QC_Phar1,BC_Phar1,AB_Phar1,CA_Phar1], sort=False)\n",
        "Phar = Phar.assign(Category = \"Phar\")"
      ],
      "execution_count": 86,
      "outputs": []
    },
    {
      "cell_type": "markdown",
      "metadata": {
        "id": "0xAx18s4hSVQ"
      },
      "source": [
        "####Mooc"
      ]
    },
    {
      "cell_type": "code",
      "metadata": {
        "id": "F2QI6Vn7hSh9"
      },
      "source": [
        "pytrend.build_payload(kw_list=[\"udacity\", \"udemy\", \"EdX\", \"datacamp\",\"coursera\"],\n",
        "                      timeframe = '2019-12-01 2020-10-19',\n",
        "                      geo=\"CA-ON\")\n",
        "\n",
        "result = pytrend.interest_over_time() \n",
        "\n",
        "ON_Mooc = result.assign(Province = \"ON\")\n",
        "ON_Mooc1 = ON_Mooc.drop(columns=\"isPartial\")\n",
        "ON_Mooc1.reset_index(level=0, inplace=True)\n",
        "ON_Mooc1 = pd.melt(ON_Mooc1, id_vars=[\"date\",\"Province\"])"
      ],
      "execution_count": 87,
      "outputs": []
    },
    {
      "cell_type": "code",
      "metadata": {
        "id": "LetssLs8hvyA"
      },
      "source": [
        "pytrend.build_payload(kw_list=[\"udacity\", \"udemy\", \"EdX\", \"datacamp\",\"coursera\"],\n",
        "                      timeframe = '2019-12-01 2020-10-19',\n",
        "                      geo=\"CA-QC\")\n",
        "\n",
        "result = pytrend.interest_over_time() \n",
        "\n",
        "QC_Mooc = result.assign(Province = \"QC\")\n",
        "QC_Mooc1 = QC_Mooc.drop(columns=\"isPartial\")\n",
        "QC_Mooc1.reset_index(level=0, inplace=True)\n",
        "QC_Mooc1 = pd.melt(QC_Mooc1, id_vars=[\"date\",\"Province\"])"
      ],
      "execution_count": 88,
      "outputs": []
    },
    {
      "cell_type": "code",
      "metadata": {
        "id": "4bJoosU2h4aM"
      },
      "source": [
        "pytrend.build_payload(kw_list=[\"udacity\", \"udemy\", \"EdX\", \"datacamp\",\"coursera\"],\n",
        "                      timeframe = '2019-12-01 2020-10-19',\n",
        "                      geo=\"CA-BC\")\n",
        "\n",
        "result = pytrend.interest_over_time() \n",
        "\n",
        "BC_Mooc = result.assign(Province = \"BC\")\n",
        "BC_Mooc1 = BC_Mooc.drop(columns=\"isPartial\")\n",
        "BC_Mooc1.reset_index(level=0, inplace=True)\n",
        "BC_Mooc1 = pd.melt(BC_Mooc1, id_vars=[\"date\",\"Province\"])"
      ],
      "execution_count": 89,
      "outputs": []
    },
    {
      "cell_type": "code",
      "metadata": {
        "id": "NlqZUcktiDPT"
      },
      "source": [
        "pytrend.build_payload(kw_list=[\"udacity\", \"udemy\", \"EdX\", \"datacamp\",\"coursera\"],\n",
        "                      timeframe = '2019-12-01 2020-10-19',\n",
        "                      geo=\"CA-AB\")\n",
        "\n",
        "result = pytrend.interest_over_time() \n",
        "\n",
        "AB_Mooc = result.assign(Province = \"AB\")\n",
        "AB_Mooc1 = AB_Mooc.drop(columns=\"isPartial\")\n",
        "AB_Mooc1.reset_index(level=0, inplace=True)\n",
        "AB_Mooc1 = pd.melt(AB_Mooc1, id_vars=[\"date\",\"Province\"])"
      ],
      "execution_count": 90,
      "outputs": []
    },
    {
      "cell_type": "code",
      "metadata": {
        "id": "CaFu-fepiMBQ"
      },
      "source": [
        "pytrend.build_payload(kw_list=[\"udacity\", \"udemy\", \"EdX\", \"datacamp\",\"coursera\"],\n",
        "                      timeframe = '2019-12-01 2020-10-19',\n",
        "                      geo=\"CA\")\n",
        "\n",
        "result = pytrend.interest_over_time() \n",
        "\n",
        "CA_Mooc = result.assign(Province = \"CA\")\n",
        "CA_Mooc1 = CA_Mooc.drop(columns=\"isPartial\")\n",
        "CA_Mooc1.reset_index(level=0, inplace=True)\n",
        "CA_Mooc1 = pd.melt(CA_Mooc1, id_vars=[\"date\",\"Province\"])"
      ],
      "execution_count": 91,
      "outputs": []
    },
    {
      "cell_type": "code",
      "metadata": {
        "id": "wGqjxnkdigEe"
      },
      "source": [
        "Mooc = pd.concat([ON_Mooc1,QC_Mooc1,BC_Mooc1,AB_Mooc1,CA_Mooc1], sort=False)\n",
        "Mooc = Mooc.assign(Category = \"Mooc\")"
      ],
      "execution_count": 92,
      "outputs": []
    },
    {
      "cell_type": "markdown",
      "metadata": {
        "id": "oP4pWVoe6iut"
      },
      "source": [
        "####Trading"
      ]
    },
    {
      "cell_type": "code",
      "metadata": {
        "id": "RPxo31LU6hKa"
      },
      "source": [
        "pytrend.build_payload(kw_list=[\"Questrade\", \"Wealthsimple\", \"TD Direct Investing\", \"RBC direct investing\",\"Scotia iTRADE\"],\n",
        "                      timeframe = '2019-12-01 2020-10-19',\n",
        "                      geo=\"CA-ON\")\n",
        "\n",
        "result = pytrend.interest_over_time() \n",
        "\n",
        "ON_Trading = result.assign(Province = \"ON\")\n",
        "ON_Trading1 = ON_Trading.drop(columns=\"isPartial\")\n",
        "ON_Trading1.reset_index(level=0, inplace=True)\n",
        "ON_Trading1 = pd.melt(ON_Trading1, id_vars=[\"date\",\"Province\"])"
      ],
      "execution_count": 93,
      "outputs": []
    },
    {
      "cell_type": "code",
      "metadata": {
        "id": "XMe3J5Po8Qtc"
      },
      "source": [
        "pytrend.build_payload(kw_list=[\"Questrade\", \"Wealthsimple\", \"TD Direct Investing\", \"RBC direct investing\",\"Scotia iTRADE\"],\n",
        "                      timeframe = '2019-12-01 2020-10-19',\n",
        "                      geo=\"CA-QC\")\n",
        "\n",
        "result = pytrend.interest_over_time() \n",
        "\n",
        "QC_Trading = result.assign(Province = \"QC\")\n",
        "QC_Trading1 = QC_Trading.drop(columns=\"isPartial\")\n",
        "QC_Trading1.reset_index(level=0, inplace=True)\n",
        "QC_Trading1 = pd.melt(QC_Trading1, id_vars=[\"date\",\"Province\"])"
      ],
      "execution_count": 94,
      "outputs": []
    },
    {
      "cell_type": "code",
      "metadata": {
        "id": "9b6MCRmB8eBk"
      },
      "source": [
        "pytrend.build_payload(kw_list=[\"Questrade\", \"Wealthsimple\", \"TD Direct Investing\", \"RBC direct investing\",\"Scotia iTRADE\"],\n",
        "                      timeframe = '2019-12-01 2020-10-19',\n",
        "                      geo=\"CA-BC\")\n",
        "\n",
        "result = pytrend.interest_over_time() \n",
        "\n",
        "BC_Trading = result.assign(Province = \"BC\")\n",
        "BC_Trading1 = BC_Trading.drop(columns=\"isPartial\")\n",
        "BC_Trading1.reset_index(level=0, inplace=True)\n",
        "BC_Trading1 = pd.melt(BC_Trading1, id_vars=[\"date\",\"Province\"])"
      ],
      "execution_count": 95,
      "outputs": []
    },
    {
      "cell_type": "code",
      "metadata": {
        "id": "Jc5f-ZQh8v4a"
      },
      "source": [
        "pytrend.build_payload(kw_list=[\"Questrade\", \"Wealthsimple\", \"TD Direct Investing\", \"RBC direct investing\",\"Scotia iTRADE\"],\n",
        "                      timeframe = '2019-12-01 2020-10-19',\n",
        "                      geo=\"CA-AB\")\n",
        "\n",
        "result = pytrend.interest_over_time() \n",
        "\n",
        "AB_Trading = result.assign(Province = \"AB\")\n",
        "AB_Trading1 = AB_Trading.drop(columns=\"isPartial\")\n",
        "AB_Trading1.reset_index(level=0, inplace=True)\n",
        "AB_Trading1 = pd.melt(AB_Trading1, id_vars=[\"date\",\"Province\"])"
      ],
      "execution_count": 96,
      "outputs": []
    },
    {
      "cell_type": "code",
      "metadata": {
        "id": "nvTougUl8-yh"
      },
      "source": [
        "pytrend.build_payload(kw_list=[\"Questrade\", \"Wealthsimple\", \"TD Direct Investing\", \"RBC direct investing\",\"Scotia iTRADE\"],\n",
        "                      timeframe = '2019-12-01 2020-10-19',\n",
        "                      geo=\"CA\")\n",
        "\n",
        "result = pytrend.interest_over_time() \n",
        "\n",
        "CA_Trading = result.assign(Province = \"CA\")\n",
        "CA_Trading1 = CA_Trading.drop(columns=\"isPartial\")\n",
        "CA_Trading1.reset_index(level=0, inplace=True)\n",
        "CA_Trading1 = pd.melt(CA_Trading1, id_vars=[\"date\",\"Province\"])"
      ],
      "execution_count": 97,
      "outputs": []
    },
    {
      "cell_type": "code",
      "metadata": {
        "id": "QcNEJbIt9MtR"
      },
      "source": [
        "Trading = pd.concat([ON_Trading1,QC_Trading1,BC_Trading1,AB_Trading1,CA_Trading1], sort=False)\n",
        "Trading = Trading.assign(Category = \"Trading\")"
      ],
      "execution_count": 98,
      "outputs": []
    },
    {
      "cell_type": "code",
      "metadata": {
        "id": "srskBqRLIBtn",
        "outputId": "e0d0f446-3439-47d3-b9e9-c793a99e555f",
        "colab": {
          "base_uri": "https://localhost:8080/",
          "height": 415
        }
      },
      "source": [
        "Final = pd.concat([Social,Shopping,News,Streaming,Corona,Food,Grocery,Meal,Realest,Video,Entertainment,Finance,Auto,Phar,Mooc,Trading], sort=False)\n",
        "Final"
      ],
      "execution_count": 99,
      "outputs": [
        {
          "output_type": "execute_result",
          "data": {
            "text/html": [
              "<div>\n",
              "<style scoped>\n",
              "    .dataframe tbody tr th:only-of-type {\n",
              "        vertical-align: middle;\n",
              "    }\n",
              "\n",
              "    .dataframe tbody tr th {\n",
              "        vertical-align: top;\n",
              "    }\n",
              "\n",
              "    .dataframe thead th {\n",
              "        text-align: right;\n",
              "    }\n",
              "</style>\n",
              "<table border=\"1\" class=\"dataframe\">\n",
              "  <thead>\n",
              "    <tr style=\"text-align: right;\">\n",
              "      <th></th>\n",
              "      <th>date</th>\n",
              "      <th>Province</th>\n",
              "      <th>variable</th>\n",
              "      <th>value</th>\n",
              "      <th>Category</th>\n",
              "    </tr>\n",
              "  </thead>\n",
              "  <tbody>\n",
              "    <tr>\n",
              "      <th>0</th>\n",
              "      <td>2019-12-01</td>\n",
              "      <td>ON</td>\n",
              "      <td>Facebook</td>\n",
              "      <td>85</td>\n",
              "      <td>Social</td>\n",
              "    </tr>\n",
              "    <tr>\n",
              "      <th>1</th>\n",
              "      <td>2019-12-02</td>\n",
              "      <td>ON</td>\n",
              "      <td>Facebook</td>\n",
              "      <td>78</td>\n",
              "      <td>Social</td>\n",
              "    </tr>\n",
              "    <tr>\n",
              "      <th>2</th>\n",
              "      <td>2019-12-03</td>\n",
              "      <td>ON</td>\n",
              "      <td>Facebook</td>\n",
              "      <td>78</td>\n",
              "      <td>Social</td>\n",
              "    </tr>\n",
              "    <tr>\n",
              "      <th>3</th>\n",
              "      <td>2019-12-04</td>\n",
              "      <td>ON</td>\n",
              "      <td>Facebook</td>\n",
              "      <td>72</td>\n",
              "      <td>Social</td>\n",
              "    </tr>\n",
              "    <tr>\n",
              "      <th>4</th>\n",
              "      <td>2019-12-05</td>\n",
              "      <td>ON</td>\n",
              "      <td>Facebook</td>\n",
              "      <td>79</td>\n",
              "      <td>Social</td>\n",
              "    </tr>\n",
              "    <tr>\n",
              "      <th>...</th>\n",
              "      <td>...</td>\n",
              "      <td>...</td>\n",
              "      <td>...</td>\n",
              "      <td>...</td>\n",
              "      <td>...</td>\n",
              "    </tr>\n",
              "    <tr>\n",
              "      <th>1210</th>\n",
              "      <td>2020-07-26</td>\n",
              "      <td>CA</td>\n",
              "      <td>Scotia iTRADE</td>\n",
              "      <td>2</td>\n",
              "      <td>Trading</td>\n",
              "    </tr>\n",
              "    <tr>\n",
              "      <th>1211</th>\n",
              "      <td>2020-07-27</td>\n",
              "      <td>CA</td>\n",
              "      <td>Scotia iTRADE</td>\n",
              "      <td>5</td>\n",
              "      <td>Trading</td>\n",
              "    </tr>\n",
              "    <tr>\n",
              "      <th>1212</th>\n",
              "      <td>2020-07-28</td>\n",
              "      <td>CA</td>\n",
              "      <td>Scotia iTRADE</td>\n",
              "      <td>5</td>\n",
              "      <td>Trading</td>\n",
              "    </tr>\n",
              "    <tr>\n",
              "      <th>1213</th>\n",
              "      <td>2020-07-29</td>\n",
              "      <td>CA</td>\n",
              "      <td>Scotia iTRADE</td>\n",
              "      <td>5</td>\n",
              "      <td>Trading</td>\n",
              "    </tr>\n",
              "    <tr>\n",
              "      <th>1214</th>\n",
              "      <td>2020-07-30</td>\n",
              "      <td>CA</td>\n",
              "      <td>Scotia iTRADE</td>\n",
              "      <td>2</td>\n",
              "      <td>Trading</td>\n",
              "    </tr>\n",
              "  </tbody>\n",
              "</table>\n",
              "<p>143127 rows × 5 columns</p>\n",
              "</div>"
            ],
            "text/plain": [
              "           date Province       variable  value Category\n",
              "0    2019-12-01       ON       Facebook     85   Social\n",
              "1    2019-12-02       ON       Facebook     78   Social\n",
              "2    2019-12-03       ON       Facebook     78   Social\n",
              "3    2019-12-04       ON       Facebook     72   Social\n",
              "4    2019-12-05       ON       Facebook     79   Social\n",
              "...         ...      ...            ...    ...      ...\n",
              "1210 2020-07-26       CA  Scotia iTRADE      2  Trading\n",
              "1211 2020-07-27       CA  Scotia iTRADE      5  Trading\n",
              "1212 2020-07-28       CA  Scotia iTRADE      5  Trading\n",
              "1213 2020-07-29       CA  Scotia iTRADE      5  Trading\n",
              "1214 2020-07-30       CA  Scotia iTRADE      2  Trading\n",
              "\n",
              "[143127 rows x 5 columns]"
            ]
          },
          "metadata": {
            "tags": []
          },
          "execution_count": 99
        }
      ]
    },
    {
      "cell_type": "markdown",
      "metadata": {
        "id": "k9kIqVZcVjVT"
      },
      "source": [
        "#### Raw File"
      ]
    },
    {
      "cell_type": "code",
      "metadata": {
        "id": "MUNN4stvRQLe"
      },
      "source": [
        "Final.to_excel(\"Final_Trendsv5.xlsx\")"
      ],
      "execution_count": 100,
      "outputs": []
    },
    {
      "cell_type": "markdown",
      "metadata": {
        "id": "Jmv-rsAQV4KP"
      },
      "source": [
        "#### Work in progress"
      ]
    },
    {
      "cell_type": "code",
      "metadata": {
        "id": "GbNW09mcBm3H",
        "outputId": "0c00f02f-4261-47ff-f772-5cdddbc34b50",
        "colab": {
          "base_uri": "https://localhost:8080/",
          "height": 691
        }
      },
      "source": [
        "searches = [\"Amazon.com\", \"Walmart\", \"costco\", \"ebay\", \"Aliexpress\", \"Canadian Tire\", \"Dollarama\", \n",
        "             \"CP24\", \"CTV NEWS\", \"CBC\", \"Global News\", \"The Globe and Mail\", \"Bloomberg\",\n",
        "             \"Canadian Superstore\", \"nofrills\", \"Loblaws\", \"Sobeys\", \"Freshco\",\n",
        "             \"Netflix\", \"Amazon Prime\", \"Crave\", \"Disney+\", \"YouTube TV\",\n",
        "             \"Uber Eats\", \"SkipTheDishes\", \"DoorDash\", \"Foodora\",\n",
        "             \"Facebook\", \"Twitter\", \"Pinterest\", \"Reddit\", \"LinkedIn\", \"Instagram\", \"Youtube\",\n",
        "             \"Coronavirus\"]\n",
        "\n",
        "\n",
        "\n",
        "groupkeywords = list(zip(*[iter(searches)]*1))\n",
        "groupkeywords = [list(x) for x in groupkeywords]\n",
        "\n",
        "dicti = {}\n",
        "i = 1\n",
        "for trending in groupkeywords:\n",
        "    pytrend.build_payload(trending, timeframe = '2019-12-01 2020-03-16', geo = \"CA\")\n",
        "    dicti[i] = pytrend.interest_over_time()\n",
        "    i+=1\n",
        "\n",
        "result = pd.concat(dicti, axis=1)\n",
        "result.columns = result.columns.droplevel(0)\n",
        "result = result.drop('isPartial', axis = 1)\n",
        "\n",
        "result"
      ],
      "execution_count": 101,
      "outputs": [
        {
          "output_type": "execute_result",
          "data": {
            "text/html": [
              "<div>\n",
              "<style scoped>\n",
              "    .dataframe tbody tr th:only-of-type {\n",
              "        vertical-align: middle;\n",
              "    }\n",
              "\n",
              "    .dataframe tbody tr th {\n",
              "        vertical-align: top;\n",
              "    }\n",
              "\n",
              "    .dataframe thead th {\n",
              "        text-align: right;\n",
              "    }\n",
              "</style>\n",
              "<table border=\"1\" class=\"dataframe\">\n",
              "  <thead>\n",
              "    <tr style=\"text-align: right;\">\n",
              "      <th></th>\n",
              "      <th>Amazon.com</th>\n",
              "      <th>Walmart</th>\n",
              "      <th>costco</th>\n",
              "      <th>ebay</th>\n",
              "      <th>Aliexpress</th>\n",
              "      <th>Canadian Tire</th>\n",
              "      <th>Dollarama</th>\n",
              "      <th>CP24</th>\n",
              "      <th>CTV NEWS</th>\n",
              "      <th>CBC</th>\n",
              "      <th>Global News</th>\n",
              "      <th>The Globe and Mail</th>\n",
              "      <th>Bloomberg</th>\n",
              "      <th>Canadian Superstore</th>\n",
              "      <th>nofrills</th>\n",
              "      <th>Loblaws</th>\n",
              "      <th>Sobeys</th>\n",
              "      <th>Freshco</th>\n",
              "      <th>Netflix</th>\n",
              "      <th>Amazon Prime</th>\n",
              "      <th>Crave</th>\n",
              "      <th>Disney+</th>\n",
              "      <th>YouTube TV</th>\n",
              "      <th>Uber Eats</th>\n",
              "      <th>SkipTheDishes</th>\n",
              "      <th>DoorDash</th>\n",
              "      <th>Foodora</th>\n",
              "      <th>Facebook</th>\n",
              "      <th>Twitter</th>\n",
              "      <th>Pinterest</th>\n",
              "      <th>Reddit</th>\n",
              "      <th>LinkedIn</th>\n",
              "      <th>Instagram</th>\n",
              "      <th>Youtube</th>\n",
              "      <th>Coronavirus</th>\n",
              "    </tr>\n",
              "    <tr>\n",
              "      <th>date</th>\n",
              "      <th></th>\n",
              "      <th></th>\n",
              "      <th></th>\n",
              "      <th></th>\n",
              "      <th></th>\n",
              "      <th></th>\n",
              "      <th></th>\n",
              "      <th></th>\n",
              "      <th></th>\n",
              "      <th></th>\n",
              "      <th></th>\n",
              "      <th></th>\n",
              "      <th></th>\n",
              "      <th></th>\n",
              "      <th></th>\n",
              "      <th></th>\n",
              "      <th></th>\n",
              "      <th></th>\n",
              "      <th></th>\n",
              "      <th></th>\n",
              "      <th></th>\n",
              "      <th></th>\n",
              "      <th></th>\n",
              "      <th></th>\n",
              "      <th></th>\n",
              "      <th></th>\n",
              "      <th></th>\n",
              "      <th></th>\n",
              "      <th></th>\n",
              "      <th></th>\n",
              "      <th></th>\n",
              "      <th></th>\n",
              "      <th></th>\n",
              "      <th></th>\n",
              "      <th></th>\n",
              "    </tr>\n",
              "  </thead>\n",
              "  <tbody>\n",
              "    <tr>\n",
              "      <th>2019-12-01</th>\n",
              "      <td>97</td>\n",
              "      <td>61</td>\n",
              "      <td>79</td>\n",
              "      <td>93</td>\n",
              "      <td>73</td>\n",
              "      <td>79</td>\n",
              "      <td>45</td>\n",
              "      <td>12</td>\n",
              "      <td>11</td>\n",
              "      <td>15</td>\n",
              "      <td>11</td>\n",
              "      <td>8</td>\n",
              "      <td>9</td>\n",
              "      <td>53</td>\n",
              "      <td>26</td>\n",
              "      <td>25</td>\n",
              "      <td>28</td>\n",
              "      <td>42</td>\n",
              "      <td>66</td>\n",
              "      <td>94</td>\n",
              "      <td>61</td>\n",
              "      <td>99</td>\n",
              "      <td>73</td>\n",
              "      <td>78</td>\n",
              "      <td>61</td>\n",
              "      <td>77</td>\n",
              "      <td>88</td>\n",
              "      <td>86</td>\n",
              "      <td>50</td>\n",
              "      <td>80</td>\n",
              "      <td>67</td>\n",
              "      <td>44</td>\n",
              "      <td>66</td>\n",
              "      <td>88</td>\n",
              "      <td>0</td>\n",
              "    </tr>\n",
              "    <tr>\n",
              "      <th>2019-12-02</th>\n",
              "      <td>88</td>\n",
              "      <td>56</td>\n",
              "      <td>65</td>\n",
              "      <td>80</td>\n",
              "      <td>74</td>\n",
              "      <td>65</td>\n",
              "      <td>23</td>\n",
              "      <td>15</td>\n",
              "      <td>14</td>\n",
              "      <td>16</td>\n",
              "      <td>16</td>\n",
              "      <td>38</td>\n",
              "      <td>10</td>\n",
              "      <td>27</td>\n",
              "      <td>18</td>\n",
              "      <td>26</td>\n",
              "      <td>22</td>\n",
              "      <td>23</td>\n",
              "      <td>46</td>\n",
              "      <td>90</td>\n",
              "      <td>42</td>\n",
              "      <td>73</td>\n",
              "      <td>56</td>\n",
              "      <td>45</td>\n",
              "      <td>39</td>\n",
              "      <td>46</td>\n",
              "      <td>49</td>\n",
              "      <td>88</td>\n",
              "      <td>62</td>\n",
              "      <td>78</td>\n",
              "      <td>60</td>\n",
              "      <td>56</td>\n",
              "      <td>64</td>\n",
              "      <td>78</td>\n",
              "      <td>0</td>\n",
              "    </tr>\n",
              "    <tr>\n",
              "      <th>2019-12-03</th>\n",
              "      <td>96</td>\n",
              "      <td>47</td>\n",
              "      <td>53</td>\n",
              "      <td>89</td>\n",
              "      <td>68</td>\n",
              "      <td>53</td>\n",
              "      <td>23</td>\n",
              "      <td>9</td>\n",
              "      <td>15</td>\n",
              "      <td>20</td>\n",
              "      <td>15</td>\n",
              "      <td>32</td>\n",
              "      <td>16</td>\n",
              "      <td>21</td>\n",
              "      <td>24</td>\n",
              "      <td>19</td>\n",
              "      <td>19</td>\n",
              "      <td>23</td>\n",
              "      <td>41</td>\n",
              "      <td>88</td>\n",
              "      <td>46</td>\n",
              "      <td>64</td>\n",
              "      <td>40</td>\n",
              "      <td>59</td>\n",
              "      <td>69</td>\n",
              "      <td>52</td>\n",
              "      <td>56</td>\n",
              "      <td>89</td>\n",
              "      <td>65</td>\n",
              "      <td>100</td>\n",
              "      <td>59</td>\n",
              "      <td>73</td>\n",
              "      <td>65</td>\n",
              "      <td>85</td>\n",
              "      <td>0</td>\n",
              "    </tr>\n",
              "    <tr>\n",
              "      <th>2019-12-04</th>\n",
              "      <td>95</td>\n",
              "      <td>42</td>\n",
              "      <td>52</td>\n",
              "      <td>80</td>\n",
              "      <td>67</td>\n",
              "      <td>45</td>\n",
              "      <td>28</td>\n",
              "      <td>13</td>\n",
              "      <td>16</td>\n",
              "      <td>19</td>\n",
              "      <td>13</td>\n",
              "      <td>29</td>\n",
              "      <td>10</td>\n",
              "      <td>32</td>\n",
              "      <td>12</td>\n",
              "      <td>31</td>\n",
              "      <td>23</td>\n",
              "      <td>41</td>\n",
              "      <td>43</td>\n",
              "      <td>71</td>\n",
              "      <td>47</td>\n",
              "      <td>61</td>\n",
              "      <td>65</td>\n",
              "      <td>67</td>\n",
              "      <td>52</td>\n",
              "      <td>54</td>\n",
              "      <td>23</td>\n",
              "      <td>88</td>\n",
              "      <td>83</td>\n",
              "      <td>81</td>\n",
              "      <td>62</td>\n",
              "      <td>68</td>\n",
              "      <td>64</td>\n",
              "      <td>85</td>\n",
              "      <td>0</td>\n",
              "    </tr>\n",
              "    <tr>\n",
              "      <th>2019-12-05</th>\n",
              "      <td>100</td>\n",
              "      <td>45</td>\n",
              "      <td>48</td>\n",
              "      <td>79</td>\n",
              "      <td>63</td>\n",
              "      <td>50</td>\n",
              "      <td>25</td>\n",
              "      <td>8</td>\n",
              "      <td>15</td>\n",
              "      <td>20</td>\n",
              "      <td>13</td>\n",
              "      <td>41</td>\n",
              "      <td>10</td>\n",
              "      <td>29</td>\n",
              "      <td>27</td>\n",
              "      <td>33</td>\n",
              "      <td>29</td>\n",
              "      <td>49</td>\n",
              "      <td>47</td>\n",
              "      <td>70</td>\n",
              "      <td>38</td>\n",
              "      <td>56</td>\n",
              "      <td>41</td>\n",
              "      <td>50</td>\n",
              "      <td>38</td>\n",
              "      <td>22</td>\n",
              "      <td>29</td>\n",
              "      <td>88</td>\n",
              "      <td>60</td>\n",
              "      <td>80</td>\n",
              "      <td>59</td>\n",
              "      <td>67</td>\n",
              "      <td>68</td>\n",
              "      <td>87</td>\n",
              "      <td>0</td>\n",
              "    </tr>\n",
              "    <tr>\n",
              "      <th>...</th>\n",
              "      <td>...</td>\n",
              "      <td>...</td>\n",
              "      <td>...</td>\n",
              "      <td>...</td>\n",
              "      <td>...</td>\n",
              "      <td>...</td>\n",
              "      <td>...</td>\n",
              "      <td>...</td>\n",
              "      <td>...</td>\n",
              "      <td>...</td>\n",
              "      <td>...</td>\n",
              "      <td>...</td>\n",
              "      <td>...</td>\n",
              "      <td>...</td>\n",
              "      <td>...</td>\n",
              "      <td>...</td>\n",
              "      <td>...</td>\n",
              "      <td>...</td>\n",
              "      <td>...</td>\n",
              "      <td>...</td>\n",
              "      <td>...</td>\n",
              "      <td>...</td>\n",
              "      <td>...</td>\n",
              "      <td>...</td>\n",
              "      <td>...</td>\n",
              "      <td>...</td>\n",
              "      <td>...</td>\n",
              "      <td>...</td>\n",
              "      <td>...</td>\n",
              "      <td>...</td>\n",
              "      <td>...</td>\n",
              "      <td>...</td>\n",
              "      <td>...</td>\n",
              "      <td>...</td>\n",
              "      <td>...</td>\n",
              "    </tr>\n",
              "    <tr>\n",
              "      <th>2020-03-12</th>\n",
              "      <td>49</td>\n",
              "      <td>36</td>\n",
              "      <td>61</td>\n",
              "      <td>61</td>\n",
              "      <td>30</td>\n",
              "      <td>31</td>\n",
              "      <td>20</td>\n",
              "      <td>41</td>\n",
              "      <td>45</td>\n",
              "      <td>47</td>\n",
              "      <td>43</td>\n",
              "      <td>100</td>\n",
              "      <td>29</td>\n",
              "      <td>50</td>\n",
              "      <td>36</td>\n",
              "      <td>46</td>\n",
              "      <td>32</td>\n",
              "      <td>55</td>\n",
              "      <td>42</td>\n",
              "      <td>58</td>\n",
              "      <td>34</td>\n",
              "      <td>84</td>\n",
              "      <td>38</td>\n",
              "      <td>43</td>\n",
              "      <td>26</td>\n",
              "      <td>47</td>\n",
              "      <td>40</td>\n",
              "      <td>85</td>\n",
              "      <td>94</td>\n",
              "      <td>59</td>\n",
              "      <td>61</td>\n",
              "      <td>71</td>\n",
              "      <td>59</td>\n",
              "      <td>72</td>\n",
              "      <td>100</td>\n",
              "    </tr>\n",
              "    <tr>\n",
              "      <th>2020-03-13</th>\n",
              "      <td>46</td>\n",
              "      <td>47</td>\n",
              "      <td>88</td>\n",
              "      <td>61</td>\n",
              "      <td>50</td>\n",
              "      <td>33</td>\n",
              "      <td>26</td>\n",
              "      <td>38</td>\n",
              "      <td>56</td>\n",
              "      <td>59</td>\n",
              "      <td>52</td>\n",
              "      <td>59</td>\n",
              "      <td>23</td>\n",
              "      <td>100</td>\n",
              "      <td>100</td>\n",
              "      <td>94</td>\n",
              "      <td>43</td>\n",
              "      <td>93</td>\n",
              "      <td>53</td>\n",
              "      <td>68</td>\n",
              "      <td>51</td>\n",
              "      <td>88</td>\n",
              "      <td>44</td>\n",
              "      <td>52</td>\n",
              "      <td>67</td>\n",
              "      <td>61</td>\n",
              "      <td>51</td>\n",
              "      <td>91</td>\n",
              "      <td>100</td>\n",
              "      <td>65</td>\n",
              "      <td>60</td>\n",
              "      <td>53</td>\n",
              "      <td>59</td>\n",
              "      <td>78</td>\n",
              "      <td>99</td>\n",
              "    </tr>\n",
              "    <tr>\n",
              "      <th>2020-03-14</th>\n",
              "      <td>39</td>\n",
              "      <td>52</td>\n",
              "      <td>88</td>\n",
              "      <td>81</td>\n",
              "      <td>48</td>\n",
              "      <td>43</td>\n",
              "      <td>37</td>\n",
              "      <td>26</td>\n",
              "      <td>39</td>\n",
              "      <td>45</td>\n",
              "      <td>40</td>\n",
              "      <td>73</td>\n",
              "      <td>13</td>\n",
              "      <td>72</td>\n",
              "      <td>79</td>\n",
              "      <td>97</td>\n",
              "      <td>52</td>\n",
              "      <td>100</td>\n",
              "      <td>82</td>\n",
              "      <td>95</td>\n",
              "      <td>79</td>\n",
              "      <td>62</td>\n",
              "      <td>74</td>\n",
              "      <td>69</td>\n",
              "      <td>55</td>\n",
              "      <td>33</td>\n",
              "      <td>73</td>\n",
              "      <td>96</td>\n",
              "      <td>74</td>\n",
              "      <td>62</td>\n",
              "      <td>73</td>\n",
              "      <td>45</td>\n",
              "      <td>70</td>\n",
              "      <td>86</td>\n",
              "      <td>77</td>\n",
              "    </tr>\n",
              "    <tr>\n",
              "      <th>2020-03-15</th>\n",
              "      <td>38</td>\n",
              "      <td>47</td>\n",
              "      <td>68</td>\n",
              "      <td>71</td>\n",
              "      <td>45</td>\n",
              "      <td>41</td>\n",
              "      <td>46</td>\n",
              "      <td>36</td>\n",
              "      <td>49</td>\n",
              "      <td>50</td>\n",
              "      <td>47</td>\n",
              "      <td>87</td>\n",
              "      <td>10</td>\n",
              "      <td>58</td>\n",
              "      <td>70</td>\n",
              "      <td>63</td>\n",
              "      <td>50</td>\n",
              "      <td>55</td>\n",
              "      <td>82</td>\n",
              "      <td>99</td>\n",
              "      <td>98</td>\n",
              "      <td>67</td>\n",
              "      <td>70</td>\n",
              "      <td>41</td>\n",
              "      <td>58</td>\n",
              "      <td>60</td>\n",
              "      <td>29</td>\n",
              "      <td>97</td>\n",
              "      <td>77</td>\n",
              "      <td>61</td>\n",
              "      <td>66</td>\n",
              "      <td>33</td>\n",
              "      <td>65</td>\n",
              "      <td>81</td>\n",
              "      <td>82</td>\n",
              "    </tr>\n",
              "    <tr>\n",
              "      <th>2020-03-16</th>\n",
              "      <td>45</td>\n",
              "      <td>40</td>\n",
              "      <td>67</td>\n",
              "      <td>59</td>\n",
              "      <td>44</td>\n",
              "      <td>33</td>\n",
              "      <td>27</td>\n",
              "      <td>100</td>\n",
              "      <td>100</td>\n",
              "      <td>100</td>\n",
              "      <td>100</td>\n",
              "      <td>93</td>\n",
              "      <td>31</td>\n",
              "      <td>58</td>\n",
              "      <td>61</td>\n",
              "      <td>61</td>\n",
              "      <td>44</td>\n",
              "      <td>51</td>\n",
              "      <td>65</td>\n",
              "      <td>78</td>\n",
              "      <td>73</td>\n",
              "      <td>53</td>\n",
              "      <td>59</td>\n",
              "      <td>77</td>\n",
              "      <td>36</td>\n",
              "      <td>79</td>\n",
              "      <td>45</td>\n",
              "      <td>95</td>\n",
              "      <td>94</td>\n",
              "      <td>56</td>\n",
              "      <td>63</td>\n",
              "      <td>51</td>\n",
              "      <td>60</td>\n",
              "      <td>73</td>\n",
              "      <td>89</td>\n",
              "    </tr>\n",
              "  </tbody>\n",
              "</table>\n",
              "<p>107 rows × 35 columns</p>\n",
              "</div>"
            ],
            "text/plain": [
              "            Amazon.com  Walmart  costco  ...  Instagram  Youtube  Coronavirus\n",
              "date                                     ...                                 \n",
              "2019-12-01          97       61      79  ...         66       88            0\n",
              "2019-12-02          88       56      65  ...         64       78            0\n",
              "2019-12-03          96       47      53  ...         65       85            0\n",
              "2019-12-04          95       42      52  ...         64       85            0\n",
              "2019-12-05         100       45      48  ...         68       87            0\n",
              "...                ...      ...     ...  ...        ...      ...          ...\n",
              "2020-03-12          49       36      61  ...         59       72          100\n",
              "2020-03-13          46       47      88  ...         59       78           99\n",
              "2020-03-14          39       52      88  ...         70       86           77\n",
              "2020-03-15          38       47      68  ...         65       81           82\n",
              "2020-03-16          45       40      67  ...         60       73           89\n",
              "\n",
              "[107 rows x 35 columns]"
            ]
          },
          "metadata": {
            "tags": []
          },
          "execution_count": 101
        }
      ]
    }
  ]
}