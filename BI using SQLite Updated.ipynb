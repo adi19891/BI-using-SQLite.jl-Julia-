{
 "cells": [
  {
   "cell_type": "code",
   "execution_count": 1,
   "metadata": {},
   "outputs": [],
   "source": [
    "####  Adding required packages"
   ]
  },
  {
   "cell_type": "code",
   "execution_count": 2,
   "metadata": {},
   "outputs": [],
   "source": [
    "using Pkg"
   ]
  },
  {
   "cell_type": "code",
   "execution_count": 3,
   "metadata": {},
   "outputs": [
    {
     "name": "stdout",
     "output_type": "stream",
     "text": [
      "\u001b[32m\u001b[1m  Updating\u001b[22m\u001b[39m registry at `~/.julia/registries/General`\n",
      "\u001b[32m\u001b[1m  Updating\u001b[22m\u001b[39m git-repo `https://github.com/JuliaRegistries/General.git`\n",
      "\u001b[2K\u001b[?25h[1mFetching:\u001b[22m\u001b[39m [========================================>]  100.0 %.0 %]  45.1 %=====================================>   ]  90.6 %\u001b[32m\u001b[1m Resolving\u001b[22m\u001b[39m package versions...\n",
      "\u001b[32m\u001b[1m Installed\u001b[22m\u001b[39m DiffRules ── v0.0.10\n",
      "\u001b[32m\u001b[1m Installed\u001b[22m\u001b[39m MacroTools ─ v0.4.5\n",
      "\u001b[32m\u001b[1m  Updating\u001b[22m\u001b[39m `~/.julia/environments/v1.0/Project.toml`\n",
      "\u001b[90m [no changes]\u001b[39m\n",
      "\u001b[32m\u001b[1m  Updating\u001b[22m\u001b[39m `~/.julia/environments/v1.0/Manifest.toml`\n",
      " \u001b[90m [b552c78f]\u001b[39m\u001b[93m ↑ DiffRules v0.0.9 ⇒ v0.0.10\u001b[39m\n",
      " \u001b[90m [1914dd2f]\u001b[39m\u001b[93m ↑ MacroTools v0.4.4 ⇒ v0.4.5\u001b[39m\n",
      "\u001b[32m\u001b[1m Resolving\u001b[22m\u001b[39m package versions...\n",
      "\u001b[32m\u001b[1m  Updating\u001b[22m\u001b[39m `~/.julia/environments/v1.0/Project.toml`\n",
      "\u001b[90m [no changes]\u001b[39m\n",
      "\u001b[32m\u001b[1m  Updating\u001b[22m\u001b[39m `~/.julia/environments/v1.0/Manifest.toml`\n",
      "\u001b[90m [no changes]\u001b[39m\n",
      "\u001b[32m\u001b[1m Resolving\u001b[22m\u001b[39m package versions...\n",
      "\u001b[32m\u001b[1m  Updating\u001b[22m\u001b[39m `~/.julia/environments/v1.0/Project.toml`\n",
      "\u001b[90m [no changes]\u001b[39m\n",
      "\u001b[32m\u001b[1m  Updating\u001b[22m\u001b[39m `~/.julia/environments/v1.0/Manifest.toml`\n",
      "\u001b[90m [no changes]\u001b[39m\n",
      "\u001b[32m\u001b[1m Resolving\u001b[22m\u001b[39m package versions...\n",
      "\u001b[32m\u001b[1m  Updating\u001b[22m\u001b[39m `~/.julia/environments/v1.0/Project.toml`\n",
      "\u001b[90m [no changes]\u001b[39m\n",
      "\u001b[32m\u001b[1m  Updating\u001b[22m\u001b[39m `~/.julia/environments/v1.0/Manifest.toml`\n",
      "\u001b[90m [no changes]\u001b[39m\n",
      "\u001b[32m\u001b[1m Resolving\u001b[22m\u001b[39m package versions...\n",
      "\u001b[32m\u001b[1m  Updating\u001b[22m\u001b[39m `~/.julia/environments/v1.0/Project.toml`\n",
      "\u001b[90m [no changes]\u001b[39m\n",
      "\u001b[32m\u001b[1m  Updating\u001b[22m\u001b[39m `~/.julia/environments/v1.0/Manifest.toml`\n",
      "\u001b[90m [no changes]\u001b[39m\n",
      "\u001b[32m\u001b[1m Resolving\u001b[22m\u001b[39m package versions...\n",
      "\u001b[32m\u001b[1m  Updating\u001b[22m\u001b[39m `~/.julia/environments/v1.0/Project.toml`\n",
      "\u001b[90m [no changes]\u001b[39m\n",
      "\u001b[32m\u001b[1m  Updating\u001b[22m\u001b[39m `~/.julia/environments/v1.0/Manifest.toml`\n",
      "\u001b[90m [no changes]\u001b[39m\n"
     ]
    }
   ],
   "source": [
    "Pkg.add(\"DataFrames\")\n",
    "Pkg.add(\"CSV\")\n",
    "Pkg.add(\"SQLite\")\n",
    "Pkg.add(\"Dates\")\n",
    "Pkg.add(\"Tables\")\n",
    "Pkg.add(\"Plots\")"
   ]
  },
  {
   "cell_type": "code",
   "execution_count": 4,
   "metadata": {},
   "outputs": [],
   "source": [
    "using CSV\n",
    "using DataFrames\n",
    "using SQLite\n",
    "using Dates\n",
    "using Tables\n",
    "using Plots"
   ]
  },
  {
   "cell_type": "code",
   "execution_count": 5,
   "metadata": {},
   "outputs": [],
   "source": [
    "#### Assigning path to all the tables"
   ]
  },
  {
   "cell_type": "code",
   "execution_count": 6,
   "metadata": {},
   "outputs": [
    {
     "data": {
      "text/plain": [
       "\"/Users/adityakamboj/Desktop/Data Integrity/ord.csv\""
      ]
     },
     "execution_count": 6,
     "metadata": {},
     "output_type": "execute_result"
    }
   ],
   "source": [
    "path = \"/Users/adityakamboj/Desktop/Data Integrity/ord.csv\""
   ]
  },
  {
   "cell_type": "code",
   "execution_count": 7,
   "metadata": {},
   "outputs": [
    {
     "data": {
      "text/plain": [
       "\"/Users/adityakamboj/Desktop/Data Integrity/orderitem.csv\""
      ]
     },
     "execution_count": 7,
     "metadata": {},
     "output_type": "execute_result"
    }
   ],
   "source": [
    "path1 = \"/Users/adityakamboj/Desktop/Data Integrity/orderitem.csv\""
   ]
  },
  {
   "cell_type": "code",
   "execution_count": 8,
   "metadata": {},
   "outputs": [
    {
     "data": {
      "text/plain": [
       "\"/Users/adityakamboj/Desktop/Data Integrity/product.csv\""
      ]
     },
     "execution_count": 8,
     "metadata": {},
     "output_type": "execute_result"
    }
   ],
   "source": [
    "path2 = \"/Users/adityakamboj/Desktop/Data Integrity/product.csv\""
   ]
  },
  {
   "cell_type": "code",
   "execution_count": 9,
   "metadata": {},
   "outputs": [
    {
     "data": {
      "text/plain": [
       "\"/Users/adityakamboj/Desktop/Data Integrity/customer.csv\""
      ]
     },
     "execution_count": 9,
     "metadata": {},
     "output_type": "execute_result"
    }
   ],
   "source": [
    "path3 = \"/Users/adityakamboj/Desktop/Data Integrity/customer.csv\""
   ]
  },
  {
   "cell_type": "code",
   "execution_count": 14,
   "metadata": {
    "scrolled": false
   },
   "outputs": [
    {
     "data": {
      "text/plain": [
       "\"/Users/adityakamboj/Desktop/Data Integrity/supplier.csv\""
      ]
     },
     "execution_count": 14,
     "metadata": {},
     "output_type": "execute_result"
    }
   ],
   "source": [
    "path4 = \"/Users/adityakamboj/Desktop/Data Integrity/supplier.csv\""
   ]
  },
  {
   "cell_type": "code",
   "execution_count": 11,
   "metadata": {},
   "outputs": [],
   "source": [
    "#### Reading CSV files and ignoring 'quotes' in the data but first we need to create a function to parse dates"
   ]
  },
  {
   "cell_type": "code",
   "execution_count": 12,
   "metadata": {},
   "outputs": [
    {
     "data": {
      "text/plain": [
       "mydate (generic function with 1 method)"
      ]
     },
     "execution_count": 12,
     "metadata": {},
     "output_type": "execute_result"
    }
   ],
   "source": [
    "function mydate(str)\n",
    "    if endswith(str, \"PM\")\n",
    "        return DateTime(str, dateformat\"uuu dd yyyy HH:MM:SS:sss\\P\\M\") + Dates.Hour(12)\n",
    "    else\n",
    "        return DateTime(str, dateformat\"uuu dd yyyy HH:MM:SS:sss\\A\\M\")\n",
    "    end\n",
    "end        "
   ]
  },
  {
   "cell_type": "code",
   "execution_count": 13,
   "metadata": {
    "scrolled": true
   },
   "outputs": [
    {
     "data": {
      "text/html": [
       "<table class=\"data-frame\"><thead><tr><th></th><th>Id</th><th>OrderDate</th><th>CustomerId</th><th>TotalAmount</th><th>OrderNumber</th></tr><tr><th></th><th>Int64</th><th>DateTime</th><th>Int64</th><th>Float64</th><th>Int64</th></tr></thead><tbody><p>830 rows × 5 columns</p><tr><th>1</th><td>1</td><td>2012-07-04T12:00:00</td><td>85</td><td>440.0</td><td>542378</td></tr><tr><th>2</th><td>2</td><td>2012-07-05T12:00:00</td><td>79</td><td>1863.4</td><td>542379</td></tr><tr><th>3</th><td>3</td><td>2012-07-08T12:00:00</td><td>34</td><td>1813.0</td><td>542380</td></tr><tr><th>4</th><td>4</td><td>2012-07-08T12:00:00</td><td>84</td><td>670.8</td><td>542381</td></tr><tr><th>5</th><td>5</td><td>2012-07-09T12:00:00</td><td>76</td><td>3730.0</td><td>542382</td></tr><tr><th>6</th><td>6</td><td>2012-07-10T12:00:00</td><td>34</td><td>1444.8</td><td>542383</td></tr><tr><th>7</th><td>7</td><td>2012-07-11T12:00:00</td><td>14</td><td>625.2</td><td>542384</td></tr><tr><th>8</th><td>8</td><td>2012-07-12T12:00:00</td><td>68</td><td>2490.5</td><td>542385</td></tr><tr><th>9</th><td>9</td><td>2012-07-15T12:00:00</td><td>88</td><td>517.8</td><td>542386</td></tr><tr><th>10</th><td>10</td><td>2012-07-16T12:00:00</td><td>35</td><td>1119.9</td><td>542387</td></tr><tr><th>11</th><td>11</td><td>2012-07-17T12:00:00</td><td>20</td><td>2018.6</td><td>542388</td></tr><tr><th>12</th><td>12</td><td>2012-07-18T12:00:00</td><td>13</td><td>100.8</td><td>542389</td></tr><tr><th>13</th><td>13</td><td>2012-07-19T12:00:00</td><td>56</td><td>1746.2</td><td>542390</td></tr><tr><th>14</th><td>14</td><td>2012-07-19T12:00:00</td><td>61</td><td>448.0</td><td>542391</td></tr><tr><th>15</th><td>15</td><td>2012-07-22T12:00:00</td><td>65</td><td>624.8</td><td>542392</td></tr><tr><th>16</th><td>16</td><td>2012-07-23T12:00:00</td><td>20</td><td>2464.8</td><td>542393</td></tr><tr><th>17</th><td>17</td><td>2012-07-24T12:00:00</td><td>24</td><td>724.5</td><td>542394</td></tr><tr><th>18</th><td>18</td><td>2012-07-25T12:00:00</td><td>7</td><td>1176.0</td><td>542395</td></tr><tr><th>19</th><td>19</td><td>2012-07-26T12:00:00</td><td>87</td><td>364.8</td><td>542396</td></tr><tr><th>20</th><td>20</td><td>2012-07-29T12:00:00</td><td>25</td><td>4031.0</td><td>542397</td></tr><tr><th>21</th><td>21</td><td>2012-07-30T12:00:00</td><td>33</td><td>1101.2</td><td>542398</td></tr><tr><th>22</th><td>22</td><td>2012-07-31T12:00:00</td><td>89</td><td>676.0</td><td>542399</td></tr><tr><th>23</th><td>23</td><td>2012-08-01T12:00:00</td><td>87</td><td>1376.0</td><td>542400</td></tr><tr><th>24</th><td>24</td><td>2012-08-01T12:00:00</td><td>75</td><td>48.0</td><td>542401</td></tr><tr><th>25</th><td>25</td><td>2012-08-02T12:00:00</td><td>65</td><td>1456.0</td><td>542402</td></tr><tr><th>26</th><td>26</td><td>2012-08-05T12:00:00</td><td>63</td><td>2142.4</td><td>542403</td></tr><tr><th>27</th><td>27</td><td>2012-08-06T12:00:00</td><td>85</td><td>538.6</td><td>542404</td></tr><tr><th>28</th><td>28</td><td>2012-08-07T12:00:00</td><td>49</td><td>307.2</td><td>542405</td></tr><tr><th>29</th><td>29</td><td>2012-08-08T12:00:00</td><td>80</td><td>420.0</td><td>542406</td></tr><tr><th>30</th><td>30</td><td>2012-08-09T12:00:00</td><td>52</td><td>1200.8</td><td>542407</td></tr><tr><th>&vellip;</th><td>&vellip;</td><td>&vellip;</td><td>&vellip;</td><td>&vellip;</td><td>&vellip;</td></tr></tbody></table>"
      ],
      "text/latex": [
       "\\begin{tabular}{r|ccccc}\n",
       "\t& Id & OrderDate & CustomerId & TotalAmount & OrderNumber\\\\\n",
       "\t\\hline\n",
       "\t& Int64 & DateTime & Int64 & Float64 & Int64\\\\\n",
       "\t\\hline\n",
       "\t1 & 1 & 2012-07-04T12:00:00 & 85 & 440.0 & 542378 \\\\\n",
       "\t2 & 2 & 2012-07-05T12:00:00 & 79 & 1863.4 & 542379 \\\\\n",
       "\t3 & 3 & 2012-07-08T12:00:00 & 34 & 1813.0 & 542380 \\\\\n",
       "\t4 & 4 & 2012-07-08T12:00:00 & 84 & 670.8 & 542381 \\\\\n",
       "\t5 & 5 & 2012-07-09T12:00:00 & 76 & 3730.0 & 542382 \\\\\n",
       "\t6 & 6 & 2012-07-10T12:00:00 & 34 & 1444.8 & 542383 \\\\\n",
       "\t7 & 7 & 2012-07-11T12:00:00 & 14 & 625.2 & 542384 \\\\\n",
       "\t8 & 8 & 2012-07-12T12:00:00 & 68 & 2490.5 & 542385 \\\\\n",
       "\t9 & 9 & 2012-07-15T12:00:00 & 88 & 517.8 & 542386 \\\\\n",
       "\t10 & 10 & 2012-07-16T12:00:00 & 35 & 1119.9 & 542387 \\\\\n",
       "\t11 & 11 & 2012-07-17T12:00:00 & 20 & 2018.6 & 542388 \\\\\n",
       "\t12 & 12 & 2012-07-18T12:00:00 & 13 & 100.8 & 542389 \\\\\n",
       "\t13 & 13 & 2012-07-19T12:00:00 & 56 & 1746.2 & 542390 \\\\\n",
       "\t14 & 14 & 2012-07-19T12:00:00 & 61 & 448.0 & 542391 \\\\\n",
       "\t15 & 15 & 2012-07-22T12:00:00 & 65 & 624.8 & 542392 \\\\\n",
       "\t16 & 16 & 2012-07-23T12:00:00 & 20 & 2464.8 & 542393 \\\\\n",
       "\t17 & 17 & 2012-07-24T12:00:00 & 24 & 724.5 & 542394 \\\\\n",
       "\t18 & 18 & 2012-07-25T12:00:00 & 7 & 1176.0 & 542395 \\\\\n",
       "\t19 & 19 & 2012-07-26T12:00:00 & 87 & 364.8 & 542396 \\\\\n",
       "\t20 & 20 & 2012-07-29T12:00:00 & 25 & 4031.0 & 542397 \\\\\n",
       "\t21 & 21 & 2012-07-30T12:00:00 & 33 & 1101.2 & 542398 \\\\\n",
       "\t22 & 22 & 2012-07-31T12:00:00 & 89 & 676.0 & 542399 \\\\\n",
       "\t23 & 23 & 2012-08-01T12:00:00 & 87 & 1376.0 & 542400 \\\\\n",
       "\t24 & 24 & 2012-08-01T12:00:00 & 75 & 48.0 & 542401 \\\\\n",
       "\t25 & 25 & 2012-08-02T12:00:00 & 65 & 1456.0 & 542402 \\\\\n",
       "\t26 & 26 & 2012-08-05T12:00:00 & 63 & 2142.4 & 542403 \\\\\n",
       "\t27 & 27 & 2012-08-06T12:00:00 & 85 & 538.6 & 542404 \\\\\n",
       "\t28 & 28 & 2012-08-07T12:00:00 & 49 & 307.2 & 542405 \\\\\n",
       "\t29 & 29 & 2012-08-08T12:00:00 & 80 & 420.0 & 542406 \\\\\n",
       "\t30 & 30 & 2012-08-09T12:00:00 & 52 & 1200.8 & 542407 \\\\\n",
       "\t$\\dots$ & $\\dots$ & $\\dots$ & $\\dots$ & $\\dots$ & $\\dots$ \\\\\n",
       "\\end{tabular}\n"
      ],
      "text/plain": [
       "830×5 DataFrame\n",
       "│ Row │ Id    │ OrderDate           │ CustomerId │ TotalAmount │ OrderNumber │\n",
       "│     │ \u001b[90mInt64\u001b[39m │ \u001b[90mDateTime\u001b[39m            │ \u001b[90mInt64\u001b[39m      │ \u001b[90mFloat64\u001b[39m     │ \u001b[90mInt64\u001b[39m       │\n",
       "├─────┼───────┼─────────────────────┼────────────┼─────────────┼─────────────┤\n",
       "│ 1   │ 1     │ 2012-07-04T12:00:00 │ 85         │ 440.0       │ 542378      │\n",
       "│ 2   │ 2     │ 2012-07-05T12:00:00 │ 79         │ 1863.4      │ 542379      │\n",
       "│ 3   │ 3     │ 2012-07-08T12:00:00 │ 34         │ 1813.0      │ 542380      │\n",
       "│ 4   │ 4     │ 2012-07-08T12:00:00 │ 84         │ 670.8       │ 542381      │\n",
       "│ 5   │ 5     │ 2012-07-09T12:00:00 │ 76         │ 3730.0      │ 542382      │\n",
       "│ 6   │ 6     │ 2012-07-10T12:00:00 │ 34         │ 1444.8      │ 542383      │\n",
       "│ 7   │ 7     │ 2012-07-11T12:00:00 │ 14         │ 625.2       │ 542384      │\n",
       "│ 8   │ 8     │ 2012-07-12T12:00:00 │ 68         │ 2490.5      │ 542385      │\n",
       "│ 9   │ 9     │ 2012-07-15T12:00:00 │ 88         │ 517.8       │ 542386      │\n",
       "│ 10  │ 10    │ 2012-07-16T12:00:00 │ 35         │ 1119.9      │ 542387      │\n",
       "⋮\n",
       "│ 820 │ 820   │ 2014-05-04T12:00:00 │ 17         │ 86.85       │ 543197      │\n",
       "│ 821 │ 821   │ 2014-05-04T12:00:00 │ 62         │ 2384.8      │ 543198      │\n",
       "│ 822 │ 822   │ 2014-05-04T12:00:00 │ 80         │ 360.0       │ 543199      │\n",
       "│ 823 │ 823   │ 2014-05-05T12:00:00 │ 44         │ 1873.5      │ 543200      │\n",
       "│ 824 │ 824   │ 2014-05-05T12:00:00 │ 46         │ 510.0       │ 543201      │\n",
       "│ 825 │ 825   │ 2014-05-05T12:00:00 │ 20         │ 5218.0      │ 543202      │\n",
       "│ 826 │ 826   │ 2014-05-05T12:00:00 │ 58         │ 300.0       │ 543203      │\n",
       "│ 827 │ 827   │ 2014-05-06T12:00:00 │ 73         │ 244.3       │ 543204      │\n",
       "│ 828 │ 828   │ 2014-05-06T12:00:00 │ 68         │ 586.0       │ 543205      │\n",
       "│ 829 │ 829   │ 2014-05-06T12:00:00 │ 9          │ 1057.0      │ 543206      │\n",
       "│ 830 │ 830   │ 2014-05-06T12:00:00 │ 65         │ 1374.6      │ 543207      │"
      ]
     },
     "execution_count": 13,
     "metadata": {},
     "output_type": "execute_result"
    }
   ],
   "source": [
    "ord = CSV.File(path; quotechar='\\'') |> Tables.transform(orderdate=mydate) |> DataFrame"
   ]
  },
  {
   "cell_type": "code",
   "execution_count": 57,
   "metadata": {},
   "outputs": [
    {
     "data": {
      "text/plain": [
       "CSV.File(\"/Users/adityakamboj/Desktop/Data Integrity/orderitem.csv\", rows=2155):\n",
       "Tables.Schema:\n",
       " :Id         Union{Missing, Int64}  \n",
       " :OrderId    Union{Missing, Int64}  \n",
       " :ProductId  Union{Missing, Int64}  \n",
       " :UnitPrice  Union{Missing, Float64}\n",
       " :Quantity   Union{Missing, Int64}  "
      ]
     },
     "execution_count": 57,
     "metadata": {},
     "output_type": "execute_result"
    }
   ],
   "source": [
    "orderitem = CSV.File(path1)"
   ]
  },
  {
   "cell_type": "code",
   "execution_count": 58,
   "metadata": {},
   "outputs": [
    {
     "data": {
      "text/plain": [
       "CSV.File(\"/Users/adityakamboj/Desktop/Data Integrity/product.csv\", rows=78):\n",
       "Tables.Schema:\n",
       " :Id              Union{Missing, Int64}  \n",
       " :ProductName     Union{Missing, String} \n",
       " :SupplierId      Union{Missing, Int64}  \n",
       " :UnitPrice       Union{Missing, Float64}\n",
       " :Package         Union{Missing, String} \n",
       " :IsDiscontinued  Union{Missing, Int64}  "
      ]
     },
     "execution_count": 58,
     "metadata": {},
     "output_type": "execute_result"
    }
   ],
   "source": [
    "product = CSV.File(path2; quotechar='\\'')"
   ]
  },
  {
   "cell_type": "code",
   "execution_count": 43,
   "metadata": {},
   "outputs": [
    {
     "data": {
      "text/plain": [
       "CSV.File(\"/Users/adityakamboj/Desktop/Data Integrity/customer.csv\", rows=91):\n",
       "Tables.Schema:\n",
       " :Id         Union{Missing, Int64} \n",
       " :FirstName  Union{Missing, String}\n",
       " :LastName   Union{Missing, String}\n",
       " :City       Union{Missing, String}\n",
       " :Country    Union{Missing, String}\n",
       " :Phone      Union{Missing, String}"
      ]
     },
     "execution_count": 43,
     "metadata": {},
     "output_type": "execute_result"
    }
   ],
   "source": [
    "customer = CSV.File(path3; quotechar='\\'')"
   ]
  },
  {
   "cell_type": "code",
   "execution_count": 15,
   "metadata": {},
   "outputs": [
    {
     "data": {
      "text/plain": [
       "CSV.File(\"/Users/adityakamboj/Desktop/Data Integrity/supplier.csv\", rows=30):\n",
       "Tables.Schema:\n",
       " :Id           Union{Missing, Int64} \n",
       " :CompanyName  Union{Missing, String}\n",
       " :ContactName  Union{Missing, String}\n",
       " :City         Union{Missing, String}\n",
       " :Country      Union{Missing, String}\n",
       " :Phone        Union{Missing, String}\n",
       " :Fax          Union{Missing, String}"
      ]
     },
     "execution_count": 15,
     "metadata": {},
     "output_type": "execute_result"
    }
   ],
   "source": [
    "supplier = CSV.File(path4; quotechar='\\'')"
   ]
  },
  {
   "cell_type": "code",
   "execution_count": 122,
   "metadata": {},
   "outputs": [],
   "source": [
    "#### Loading data in DB"
   ]
  },
  {
   "cell_type": "code",
   "execution_count": 18,
   "metadata": {},
   "outputs": [
    {
     "data": {
      "text/plain": [
       "\"ord\""
      ]
     },
     "execution_count": 18,
     "metadata": {},
     "output_type": "execute_result"
    }
   ],
   "source": [
    "acme = SQLite.DB()  \n",
    "\n",
    "SQLite.load!(ord, acme, \"ord\")"
   ]
  },
  {
   "cell_type": "code",
   "execution_count": 56,
   "metadata": {},
   "outputs": [
    {
     "data": {
      "text/plain": [
       "\"orderitem\""
      ]
     },
     "execution_count": 56,
     "metadata": {},
     "output_type": "execute_result"
    }
   ],
   "source": [
    "SQLite.load!(orderitem, acme, \"orderitem\")"
   ]
  },
  {
   "cell_type": "code",
   "execution_count": 47,
   "metadata": {},
   "outputs": [
    {
     "data": {
      "text/plain": [
       "\"product\""
      ]
     },
     "execution_count": 47,
     "metadata": {},
     "output_type": "execute_result"
    }
   ],
   "source": [
    "SQLite.load!(product, acme, \"product\")"
   ]
  },
  {
   "cell_type": "code",
   "execution_count": 48,
   "metadata": {},
   "outputs": [
    {
     "data": {
      "text/plain": [
       "\"customer\""
      ]
     },
     "execution_count": 48,
     "metadata": {},
     "output_type": "execute_result"
    }
   ],
   "source": [
    "SQLite.load!(customer, acme, \"customer\")"
   ]
  },
  {
   "cell_type": "code",
   "execution_count": 19,
   "metadata": {},
   "outputs": [
    {
     "name": "stdout",
     "output_type": "stream",
     "text": [
      "warning: failed parsing String on row=4, col=2, error=INVALID: OK, QUOTED, DELIMITED, INVALID_DELIMITER\n",
      "warning: failed parsing String on row=6, col=2, error=INVALID: OK, QUOTED, DELIMITED, INVALID_DELIMITER\n",
      "warning: failed parsing String on row=7, col=2, error=INVALID: OK, QUOTED, DELIMITED, INVALID_DELIMITER\n",
      "warning: failed parsing String on row=25, col=2, error=INVALID: OK, QUOTED, DELIMITED, INVALID_DELIMITER\n",
      "warning: failed parsing String on row=30, col=2, error=INVALID: OK, QUOTED, DELIMITED, INVALID_DELIMITER\n"
     ]
    },
    {
     "data": {
      "text/plain": [
       "\"supplier\""
      ]
     },
     "execution_count": 19,
     "metadata": {},
     "output_type": "execute_result"
    }
   ],
   "source": [
    "SQLite.load!(supplier, acme, \"supplier\")"
   ]
  },
  {
   "cell_type": "code",
   "execution_count": 39,
   "metadata": {},
   "outputs": [
    {
     "data": {
      "text/html": [
       "<table class=\"data-frame\"><thead><tr><th></th><th>Id</th><th>OrderDate</th><th>CustomerId</th><th>TotalAmount</th><th>OrderNumber</th></tr><tr><th></th><th>Int64⍰</th><th>String⍰</th><th>Int64⍰</th><th>Float64⍰</th><th>Int64⍰</th></tr></thead><tbody><p>5 rows × 5 columns</p><tr><th>1</th><td>1</td><td>2012-07-04T12:00:00</td><td>85</td><td>440.0</td><td>542378</td></tr><tr><th>2</th><td>2</td><td>2012-07-05T12:00:00</td><td>79</td><td>1863.4</td><td>542379</td></tr><tr><th>3</th><td>3</td><td>2012-07-08T12:00:00</td><td>34</td><td>1813.0</td><td>542380</td></tr><tr><th>4</th><td>4</td><td>2012-07-08T12:00:00</td><td>84</td><td>670.8</td><td>542381</td></tr><tr><th>5</th><td>5</td><td>2012-07-09T12:00:00</td><td>76</td><td>3730.0</td><td>542382</td></tr></tbody></table>"
      ],
      "text/latex": [
       "\\begin{tabular}{r|ccccc}\n",
       "\t& Id & OrderDate & CustomerId & TotalAmount & OrderNumber\\\\\n",
       "\t\\hline\n",
       "\t& Int64⍰ & String⍰ & Int64⍰ & Float64⍰ & Int64⍰\\\\\n",
       "\t\\hline\n",
       "\t1 & 1 & 2012-07-04T12:00:00 & 85 & 440.0 & 542378 \\\\\n",
       "\t2 & 2 & 2012-07-05T12:00:00 & 79 & 1863.4 & 542379 \\\\\n",
       "\t3 & 3 & 2012-07-08T12:00:00 & 34 & 1813.0 & 542380 \\\\\n",
       "\t4 & 4 & 2012-07-08T12:00:00 & 84 & 670.8 & 542381 \\\\\n",
       "\t5 & 5 & 2012-07-09T12:00:00 & 76 & 3730.0 & 542382 \\\\\n",
       "\\end{tabular}\n"
      ],
      "text/plain": [
       "5×5 DataFrame\n",
       "│ Row │ Id     │ OrderDate           │ CustomerId │ TotalAmount │ OrderNumber │\n",
       "│     │ \u001b[90mInt64⍰\u001b[39m │ \u001b[90mString⍰\u001b[39m             │ \u001b[90mInt64⍰\u001b[39m     │ \u001b[90mFloat64⍰\u001b[39m    │ \u001b[90mInt64⍰\u001b[39m      │\n",
       "├─────┼────────┼─────────────────────┼────────────┼─────────────┼─────────────┤\n",
       "│ 1   │ 1      │ 2012-07-04T12:00:00 │ 85         │ 440.0       │ 542378      │\n",
       "│ 2   │ 2      │ 2012-07-05T12:00:00 │ 79         │ 1863.4      │ 542379      │\n",
       "│ 3   │ 3      │ 2012-07-08T12:00:00 │ 34         │ 1813.0      │ 542380      │\n",
       "│ 4   │ 4      │ 2012-07-08T12:00:00 │ 84         │ 670.8       │ 542381      │\n",
       "│ 5   │ 5      │ 2012-07-09T12:00:00 │ 76         │ 3730.0      │ 542382      │"
      ]
     },
     "execution_count": 39,
     "metadata": {},
     "output_type": "execute_result"
    }
   ],
   "source": [
    "DataFrame(SQLite.Query(acme,\"\"\"select * from ord\n",
    "        limit 5\n",
    "        \"\"\"))"
   ]
  },
  {
   "cell_type": "code",
   "execution_count": 54,
   "metadata": {},
   "outputs": [
    {
     "data": {
      "text/html": [
       "<table class=\"data-frame\"><thead><tr><th></th><th>Id</th><th>OrderId</th><th>ProductId</th><th>UnitPrice</th><th>Quantity</th></tr><tr><th></th><th>Int64⍰</th><th>Int64⍰</th><th>Int64⍰</th><th>Float64⍰</th><th>Int64⍰</th></tr></thead><tbody><p>5 rows × 5 columns</p><tr><th>1</th><td>1</td><td>1</td><td>11</td><td>14.0</td><td>12</td></tr><tr><th>2</th><td>2</td><td>1</td><td>42</td><td>9.8</td><td>10</td></tr><tr><th>3</th><td>3</td><td>1</td><td>72</td><td>34.8</td><td>5</td></tr><tr><th>4</th><td>4</td><td>2</td><td>14</td><td>18.6</td><td>9</td></tr><tr><th>5</th><td>5</td><td>2</td><td>51</td><td>42.4</td><td>40</td></tr></tbody></table>"
      ],
      "text/latex": [
       "\\begin{tabular}{r|ccccc}\n",
       "\t& Id & OrderId & ProductId & UnitPrice & Quantity\\\\\n",
       "\t\\hline\n",
       "\t& Int64⍰ & Int64⍰ & Int64⍰ & Float64⍰ & Int64⍰\\\\\n",
       "\t\\hline\n",
       "\t1 & 1 & 1 & 11 & 14.0 & 12 \\\\\n",
       "\t2 & 2 & 1 & 42 & 9.8 & 10 \\\\\n",
       "\t3 & 3 & 1 & 72 & 34.8 & 5 \\\\\n",
       "\t4 & 4 & 2 & 14 & 18.6 & 9 \\\\\n",
       "\t5 & 5 & 2 & 51 & 42.4 & 40 \\\\\n",
       "\\end{tabular}\n"
      ],
      "text/plain": [
       "5×5 DataFrame\n",
       "│ Row │ Id     │ OrderId │ ProductId │ UnitPrice │ Quantity │\n",
       "│     │ \u001b[90mInt64⍰\u001b[39m │ \u001b[90mInt64⍰\u001b[39m  │ \u001b[90mInt64⍰\u001b[39m    │ \u001b[90mFloat64⍰\u001b[39m  │ \u001b[90mInt64⍰\u001b[39m   │\n",
       "├─────┼────────┼─────────┼───────────┼───────────┼──────────┤\n",
       "│ 1   │ 1      │ 1       │ 11        │ 14.0      │ 12       │\n",
       "│ 2   │ 2      │ 1       │ 42        │ 9.8       │ 10       │\n",
       "│ 3   │ 3      │ 1       │ 72        │ 34.8      │ 5        │\n",
       "│ 4   │ 4      │ 2       │ 14        │ 18.6      │ 9        │\n",
       "│ 5   │ 5      │ 2       │ 51        │ 42.4      │ 40       │"
      ]
     },
     "execution_count": 54,
     "metadata": {},
     "output_type": "execute_result"
    }
   ],
   "source": [
    "DataFrame(SQLite.Query(acme,\"\"\"select * from orderitem\n",
    "        limit 5\n",
    "        \"\"\"))"
   ]
  },
  {
   "cell_type": "code",
   "execution_count": 55,
   "metadata": {},
   "outputs": [
    {
     "data": {
      "text/html": [
       "<table class=\"data-frame\"><thead><tr><th></th><th>Id</th><th>ProductName</th><th>SupplierId</th><th>UnitPrice</th><th>Package</th><th>IsDiscontinued</th></tr><tr><th></th><th>Int64⍰</th><th>String⍰</th><th>Int64⍰</th><th>Float64⍰</th><th>String⍰</th><th>Int64⍰</th></tr></thead><tbody><p>5 rows × 6 columns</p><tr><th>1</th><td>1</td><td>Chai</td><td>1</td><td>18.0</td><td>10 boxes x 20 bags</td><td>0</td></tr><tr><th>2</th><td>2</td><td>Chang</td><td>1</td><td>19.0</td><td>24 - 12 oz bottles</td><td>0</td></tr><tr><th>3</th><td>3</td><td>Aniseed Syrup</td><td>1</td><td>10.0</td><td>12 - 550 ml bottles</td><td>0</td></tr><tr><th>4</th><td>4</td><td>Chef Antons Cajun Seasoning</td><td>2</td><td>22.0</td><td>48 - 6 oz jars</td><td>0</td></tr><tr><th>5</th><td>5</td><td>Chef Antons Gumbo Mix</td><td>2</td><td>21.35</td><td>36 boxes</td><td>1</td></tr></tbody></table>"
      ],
      "text/latex": [
       "\\begin{tabular}{r|cccccc}\n",
       "\t& Id & ProductName & SupplierId & UnitPrice & Package & IsDiscontinued\\\\\n",
       "\t\\hline\n",
       "\t& Int64⍰ & String⍰ & Int64⍰ & Float64⍰ & String⍰ & Int64⍰\\\\\n",
       "\t\\hline\n",
       "\t1 & 1 & Chai & 1 & 18.0 & 10 boxes x 20 bags & 0 \\\\\n",
       "\t2 & 2 & Chang & 1 & 19.0 & 24 - 12 oz bottles & 0 \\\\\n",
       "\t3 & 3 & Aniseed Syrup & 1 & 10.0 & 12 - 550 ml bottles & 0 \\\\\n",
       "\t4 & 4 & Chef Antons Cajun Seasoning & 2 & 22.0 & 48 - 6 oz jars & 0 \\\\\n",
       "\t5 & 5 & Chef Antons Gumbo Mix & 2 & 21.35 & 36 boxes & 1 \\\\\n",
       "\\end{tabular}\n"
      ],
      "text/plain": [
       "5×6 DataFrame. Omitted printing of 2 columns\n",
       "│ Row │ Id     │ ProductName                 │ SupplierId │ UnitPrice │\n",
       "│     │ \u001b[90mInt64⍰\u001b[39m │ \u001b[90mUnion{Missing, String}\u001b[39m      │ \u001b[90mInt64⍰\u001b[39m     │ \u001b[90mFloat64⍰\u001b[39m  │\n",
       "├─────┼────────┼─────────────────────────────┼────────────┼───────────┤\n",
       "│ 1   │ 1      │ Chai                        │ 1          │ 18.0      │\n",
       "│ 2   │ 2      │ Chang                       │ 1          │ 19.0      │\n",
       "│ 3   │ 3      │ Aniseed Syrup               │ 1          │ 10.0      │\n",
       "│ 4   │ 4      │ Chef Antons Cajun Seasoning │ 2          │ 22.0      │\n",
       "│ 5   │ 5      │ Chef Antons Gumbo Mix       │ 2          │ 21.35     │"
      ]
     },
     "execution_count": 55,
     "metadata": {},
     "output_type": "execute_result"
    }
   ],
   "source": [
    "DataFrame(SQLite.Query(acme,\"\"\"select * from product\n",
    "        limit 5\n",
    "        \"\"\"))"
   ]
  },
  {
   "cell_type": "code",
   "execution_count": 22,
   "metadata": {},
   "outputs": [
    {
     "data": {
      "text/html": [
       "<table class=\"data-frame\"><thead><tr><th></th><th>Id</th><th>FirstName</th><th>LastName</th><th>City</th><th>Country</th><th>Phone</th></tr><tr><th></th><th>Int64⍰</th><th>String⍰</th><th>String⍰</th><th>String⍰</th><th>String⍰</th><th>String⍰</th></tr></thead><tbody><p>5 rows × 6 columns</p><tr><th>1</th><td>1</td><td>Maria</td><td>Anders</td><td>Berlin</td><td>Germany</td><td>030-0074321</td></tr><tr><th>2</th><td>2</td><td>Ana</td><td>Trujillo</td><td>México D.F.</td><td>Mexico</td><td>(5) 555-4729</td></tr><tr><th>3</th><td>3</td><td>Antonio</td><td>Moreno</td><td>México D.F.</td><td>Mexico</td><td>(5) 555-3932</td></tr><tr><th>4</th><td>4</td><td>Thomas</td><td>Hardy</td><td>London</td><td>UK</td><td>(171) 555-7788</td></tr><tr><th>5</th><td>5</td><td>Christina</td><td>Berglund</td><td>Luleå</td><td>Sweden</td><td>0921-12 34 65</td></tr></tbody></table>"
      ],
      "text/latex": [
       "\\begin{tabular}{r|cccccc}\n",
       "\t& Id & FirstName & LastName & City & Country & Phone\\\\\n",
       "\t\\hline\n",
       "\t& Int64⍰ & String⍰ & String⍰ & String⍰ & String⍰ & String⍰\\\\\n",
       "\t\\hline\n",
       "\t1 & 1 & Maria & Anders & Berlin & Germany & 030-0074321 \\\\\n",
       "\t2 & 2 & Ana & Trujillo & México D.F. & Mexico & (5) 555-4729 \\\\\n",
       "\t3 & 3 & Antonio & Moreno & México D.F. & Mexico & (5) 555-3932 \\\\\n",
       "\t4 & 4 & Thomas & Hardy & London & UK & (171) 555-7788 \\\\\n",
       "\t5 & 5 & Christina & Berglund & Luleå & Sweden & 0921-12 34 65 \\\\\n",
       "\\end{tabular}\n"
      ],
      "text/plain": [
       "5×6 DataFrame\n",
       "│ Row │ Id     │ FirstName │ LastName │ City        │ Country │ Phone          │\n",
       "│     │ \u001b[90mInt64⍰\u001b[39m │ \u001b[90mString⍰\u001b[39m   │ \u001b[90mString⍰\u001b[39m  │ \u001b[90mString⍰\u001b[39m     │ \u001b[90mString⍰\u001b[39m │ \u001b[90mString⍰\u001b[39m        │\n",
       "├─────┼────────┼───────────┼──────────┼─────────────┼─────────┼────────────────┤\n",
       "│ 1   │ 1      │ Maria     │ Anders   │ Berlin      │ Germany │ 030-0074321    │\n",
       "│ 2   │ 2      │ Ana       │ Trujillo │ México D.F. │ Mexico  │ (5) 555-4729   │\n",
       "│ 3   │ 3      │ Antonio   │ Moreno   │ México D.F. │ Mexico  │ (5) 555-3932   │\n",
       "│ 4   │ 4      │ Thomas    │ Hardy    │ London      │ UK      │ (171) 555-7788 │\n",
       "│ 5   │ 5      │ Christina │ Berglund │ Luleå       │ Sweden  │ 0921-12 34 65  │"
      ]
     },
     "execution_count": 22,
     "metadata": {},
     "output_type": "execute_result"
    }
   ],
   "source": [
    "DataFrame(SQLite.Query(acme,\"\"\"select * from customer\n",
    "        limit 5\n",
    "        \"\"\"))"
   ]
  },
  {
   "cell_type": "code",
   "execution_count": 23,
   "metadata": {},
   "outputs": [
    {
     "data": {
      "text/html": [
       "<table class=\"data-frame\"><thead><tr><th></th><th>Id</th><th>CompanyName</th><th>ContactName</th><th>City</th><th>Country</th><th>Phone</th></tr><tr><th></th><th>Int64⍰</th><th>String⍰</th><th>String⍰</th><th>String⍰</th><th>String⍰</th><th>String⍰</th></tr></thead><tbody><p>5 rows × 6 columns</p><tr><th>1</th><td>1</td><td>Exotic Liquids</td><td>Charlotte Cooper</td><td>London</td><td>UK</td><td>(171) 555-2222</td></tr><tr><th>2</th><td>1</td><td>Exotic Liquids</td><td>Charlotte Cooper</td><td>London</td><td>UK</td><td>(171) 555-2222</td></tr><tr><th>3</th><td>2</td><td>New Orleans Cajun Delights</td><td>Shelley Burke</td><td>New Orleans</td><td>USA</td><td>(100) 555-4822</td></tr><tr><th>4</th><td>3</td><td>Grandma Kelly's Homestead</td><td>Regina Murphy</td><td>Ann Arbor</td><td>USA</td><td>(313) 555-5735</td></tr><tr><th>5</th><td>7</td><td>Pavlova  Ltd.</td><td>Ian Devling</td><td>Melbourne</td><td>Australia</td><td>(06) 431-7877</td></tr></tbody></table>"
      ],
      "text/latex": [
       "\\begin{tabular}{r|cccccc}\n",
       "\t& Id & CompanyName & ContactName & City & Country & Phone\\\\\n",
       "\t\\hline\n",
       "\t& Int64⍰ & String⍰ & String⍰ & String⍰ & String⍰ & String⍰\\\\\n",
       "\t\\hline\n",
       "\t1 & 1 & Exotic Liquids & Charlotte Cooper & London & UK & (171) 555-2222 \\\\\n",
       "\t2 & 1 & Exotic Liquids & Charlotte Cooper & London & UK & (171) 555-2222 \\\\\n",
       "\t3 & 2 & New Orleans Cajun Delights & Shelley Burke & New Orleans & USA & (100) 555-4822 \\\\\n",
       "\t4 & 3 & Grandma Kelly's Homestead & Regina Murphy & Ann Arbor & USA & (313) 555-5735 \\\\\n",
       "\t5 & 7 & Pavlova  Ltd. & Ian Devling & Melbourne & Australia & (06) 431-7877 \\\\\n",
       "\\end{tabular}\n"
      ],
      "text/plain": [
       "5×6 DataFrame. Omitted printing of 2 columns\n",
       "│ Row │ Id     │ CompanyName                │ ContactName      │ City        │\n",
       "│     │ \u001b[90mInt64⍰\u001b[39m │ \u001b[90mUnion{Missing, String}\u001b[39m     │ \u001b[90mString⍰\u001b[39m          │ \u001b[90mString⍰\u001b[39m     │\n",
       "├─────┼────────┼────────────────────────────┼──────────────────┼─────────────┤\n",
       "│ 1   │ 1      │ Exotic Liquids             │ Charlotte Cooper │ London      │\n",
       "│ 2   │ 1      │ Exotic Liquids             │ Charlotte Cooper │ London      │\n",
       "│ 3   │ 2      │ New Orleans Cajun Delights │ Shelley Burke    │ New Orleans │\n",
       "│ 4   │ 3      │ Grandma Kelly's Homestead  │ Regina Murphy    │ Ann Arbor   │\n",
       "│ 5   │ 7      │ Pavlova  Ltd.              │ Ian Devling      │ Melbourne   │"
      ]
     },
     "execution_count": 23,
     "metadata": {},
     "output_type": "execute_result"
    }
   ],
   "source": [
    "DataFrame(SQLite.Query(acme,\"\"\"select * from suppl\n",
    "        limit 5\n",
    "        \"\"\"))"
   ]
  },
  {
   "cell_type": "markdown",
   "metadata": {},
   "source": [
    "## 1.\tSales analysis\n",
    "#### Company’s sales trend over time?"
   ]
  },
  {
   "cell_type": "code",
   "execution_count": 97,
   "metadata": {
    "scrolled": true
   },
   "outputs": [
    {
     "data": {
      "text/html": [
       "<table class=\"data-frame\"><thead><tr><th></th><th>Months</th><th>sales</th></tr><tr><th></th><th>String⍰</th><th>Float64⍰</th></tr></thead><tbody><p>23 rows × 2 columns</p><tr><th>1</th><td>2012-07</td><td>1372.37</td></tr><tr><th>2</th><td>2012-08</td><td>1064.38</td></tr><tr><th>3</th><td>2012-09</td><td>1201.57</td></tr><tr><th>4</th><td>2012-10</td><td>1584.75</td></tr><tr><th>5</th><td>2012-11</td><td>1988.16</td></tr><tr><th>6</th><td>2012-12</td><td>1643.66</td></tr><tr><th>7</th><td>2013-01</td><td>2020.99</td></tr><tr><th>8</th><td>2013-02</td><td>1420.94</td></tr><tr><th>9</th><td>2013-03</td><td>1332.66</td></tr><tr><th>10</th><td>2013-04</td><td>1796.75</td></tr><tr><th>11</th><td>2013-05</td><td>1775.74</td></tr><tr><th>12</th><td>2013-06</td><td>1302.93</td></tr><tr><th>13</th><td>2013-07</td><td>1680.76</td></tr><tr><th>14</th><td>2013-08</td><td>1514.6</td></tr><tr><th>15</th><td>2013-09</td><td>1614.41</td></tr><tr><th>16</th><td>2013-10</td><td>1850.75</td></tr><tr><th>17</th><td>2013-11</td><td>1350.39</td></tr><tr><th>18</th><td>2013-12</td><td>1614.09</td></tr><tr><th>19</th><td>2014-01</td><td>1833.72</td></tr><tr><th>20</th><td>2014-02</td><td>1936.33</td></tr><tr><th>21</th><td>2014-03</td><td>1504.46</td></tr><tr><th>22</th><td>2014-04</td><td>1819.33</td></tr><tr><th>23</th><td>2014-05</td><td>1421.33</td></tr></tbody></table>"
      ],
      "text/latex": [
       "\\begin{tabular}{r|cc}\n",
       "\t& Months & sales\\\\\n",
       "\t\\hline\n",
       "\t& String⍰ & Float64⍰\\\\\n",
       "\t\\hline\n",
       "\t1 & 2012-07 & 1372.37 \\\\\n",
       "\t2 & 2012-08 & 1064.38 \\\\\n",
       "\t3 & 2012-09 & 1201.57 \\\\\n",
       "\t4 & 2012-10 & 1584.75 \\\\\n",
       "\t5 & 2012-11 & 1988.16 \\\\\n",
       "\t6 & 2012-12 & 1643.66 \\\\\n",
       "\t7 & 2013-01 & 2020.99 \\\\\n",
       "\t8 & 2013-02 & 1420.94 \\\\\n",
       "\t9 & 2013-03 & 1332.66 \\\\\n",
       "\t10 & 2013-04 & 1796.75 \\\\\n",
       "\t11 & 2013-05 & 1775.74 \\\\\n",
       "\t12 & 2013-06 & 1302.93 \\\\\n",
       "\t13 & 2013-07 & 1680.76 \\\\\n",
       "\t14 & 2013-08 & 1514.6 \\\\\n",
       "\t15 & 2013-09 & 1614.41 \\\\\n",
       "\t16 & 2013-10 & 1850.75 \\\\\n",
       "\t17 & 2013-11 & 1350.39 \\\\\n",
       "\t18 & 2013-12 & 1614.09 \\\\\n",
       "\t19 & 2014-01 & 1833.72 \\\\\n",
       "\t20 & 2014-02 & 1936.33 \\\\\n",
       "\t21 & 2014-03 & 1504.46 \\\\\n",
       "\t22 & 2014-04 & 1819.33 \\\\\n",
       "\t23 & 2014-05 & 1421.33 \\\\\n",
       "\\end{tabular}\n"
      ],
      "text/plain": [
       "23×2 DataFrame\n",
       "│ Row │ Months  │ sales    │\n",
       "│     │ \u001b[90mString⍰\u001b[39m │ \u001b[90mFloat64⍰\u001b[39m │\n",
       "├─────┼─────────┼──────────┤\n",
       "│ 1   │ 2012-07 │ 1372.37  │\n",
       "│ 2   │ 2012-08 │ 1064.38  │\n",
       "│ 3   │ 2012-09 │ 1201.57  │\n",
       "│ 4   │ 2012-10 │ 1584.75  │\n",
       "│ 5   │ 2012-11 │ 1988.16  │\n",
       "│ 6   │ 2012-12 │ 1643.66  │\n",
       "│ 7   │ 2013-01 │ 2020.99  │\n",
       "│ 8   │ 2013-02 │ 1420.94  │\n",
       "│ 9   │ 2013-03 │ 1332.66  │\n",
       "│ 10  │ 2013-04 │ 1796.75  │\n",
       "│ 11  │ 2013-05 │ 1775.74  │\n",
       "│ 12  │ 2013-06 │ 1302.93  │\n",
       "│ 13  │ 2013-07 │ 1680.76  │\n",
       "│ 14  │ 2013-08 │ 1514.6   │\n",
       "│ 15  │ 2013-09 │ 1614.41  │\n",
       "│ 16  │ 2013-10 │ 1850.75  │\n",
       "│ 17  │ 2013-11 │ 1350.39  │\n",
       "│ 18  │ 2013-12 │ 1614.09  │\n",
       "│ 19  │ 2014-01 │ 1833.72  │\n",
       "│ 20  │ 2014-02 │ 1936.33  │\n",
       "│ 21  │ 2014-03 │ 1504.46  │\n",
       "│ 22  │ 2014-04 │ 1819.33  │\n",
       "│ 23  │ 2014-05 │ 1421.33  │"
      ]
     },
     "execution_count": 97,
     "metadata": {},
     "output_type": "execute_result"
    }
   ],
   "source": [
    "SalesTrend = DataFrame(SQLite.Query(acme,\"\"\"select strftime('%Y-%m',OrderDate) Months, \n",
    "avg(TotalAmount) as sales\n",
    "        from ord \n",
    "        group by Months\n",
    "        order by Months\n",
    "        \"\"\"))\n"
   ]
  },
  {
   "cell_type": "code",
   "execution_count": 96,
   "metadata": {},
   "outputs": [
    {
     "data": {
      "text/plain": [
       "Plots.GRBackend()"
      ]
     },
     "execution_count": 96,
     "metadata": {},
     "output_type": "execute_result"
    }
   ],
   "source": [
    "gr()"
   ]
  },
  {
   "cell_type": "code",
   "execution_count": 99,
   "metadata": {},
   "outputs": [
    {
     "data": {
      "image/svg+xml": [
       "<?xml version=\"1.0\" encoding=\"utf-8\"?>\n",
       "<svg xmlns=\"http://www.w3.org/2000/svg\" xmlns:xlink=\"http://www.w3.org/1999/xlink\" width=\"600\" height=\"400\" viewBox=\"0 0 2400 1600\">\n",
       "<defs>\n",
       "  <clipPath id=\"clip9100\">\n",
       "    <rect x=\"0\" y=\"0\" width=\"2000\" height=\"2000\"/>\n",
       "  </clipPath>\n",
       "</defs>\n",
       "<defs>\n",
       "  <clipPath id=\"clip9101\">\n",
       "    <rect x=\"0\" y=\"0\" width=\"2400\" height=\"1600\"/>\n",
       "  </clipPath>\n",
       "</defs>\n",
       "<polygon clip-path=\"url(#clip9101)\" points=\"\n",
       "0,1600 2400,1600 2400,0 0,0 \n",
       "  \" fill=\"#ffffff\" fill-rule=\"evenodd\" fill-opacity=\"1\"/>\n",
       "<defs>\n",
       "  <clipPath id=\"clip9102\">\n",
       "    <rect x=\"480\" y=\"0\" width=\"1681\" height=\"1600\"/>\n",
       "  </clipPath>\n",
       "</defs>\n",
       "<polygon clip-path=\"url(#clip9101)\" points=\"\n",
       "264.53,1440.48 2321.26,1440.48 2321.26,125.984 264.53,125.984 \n",
       "  \" fill=\"#ffffff\" fill-rule=\"evenodd\" fill-opacity=\"1\"/>\n",
       "<defs>\n",
       "  <clipPath id=\"clip9103\">\n",
       "    <rect x=\"264\" y=\"125\" width=\"2058\" height=\"1315\"/>\n",
       "  </clipPath>\n",
       "</defs>\n",
       "<polyline clip-path=\"url(#clip9103)\" style=\"stroke:#000000; stroke-width:2; stroke-opacity:0.1; fill:none\" points=\"\n",
       "  322.739,1440.48 322.739,125.984 \n",
       "  \"/>\n",
       "<polyline clip-path=\"url(#clip9103)\" style=\"stroke:#000000; stroke-width:2; stroke-opacity:0.1; fill:none\" points=\"\n",
       "  499.131,1440.48 499.131,125.984 \n",
       "  \"/>\n",
       "<polyline clip-path=\"url(#clip9103)\" style=\"stroke:#000000; stroke-width:2; stroke-opacity:0.1; fill:none\" points=\"\n",
       "  587.327,1440.48 587.327,125.984 \n",
       "  \"/>\n",
       "<polyline clip-path=\"url(#clip9103)\" style=\"stroke:#000000; stroke-width:2; stroke-opacity:0.1; fill:none\" points=\"\n",
       "  763.719,1440.48 763.719,125.984 \n",
       "  \"/>\n",
       "<polyline clip-path=\"url(#clip9103)\" style=\"stroke:#000000; stroke-width:2; stroke-opacity:0.1; fill:none\" points=\"\n",
       "  851.915,1440.48 851.915,125.984 \n",
       "  \"/>\n",
       "<polyline clip-path=\"url(#clip9103)\" style=\"stroke:#000000; stroke-width:2; stroke-opacity:0.1; fill:none\" points=\"\n",
       "  1028.31,1440.48 1028.31,125.984 \n",
       "  \"/>\n",
       "<polyline clip-path=\"url(#clip9103)\" style=\"stroke:#000000; stroke-width:2; stroke-opacity:0.1; fill:none\" points=\"\n",
       "  1116.5,1440.48 1116.5,125.984 \n",
       "  \"/>\n",
       "<polyline clip-path=\"url(#clip9103)\" style=\"stroke:#000000; stroke-width:2; stroke-opacity:0.1; fill:none\" points=\"\n",
       "  1292.89,1440.48 1292.89,125.984 \n",
       "  \"/>\n",
       "<polyline clip-path=\"url(#clip9103)\" style=\"stroke:#000000; stroke-width:2; stroke-opacity:0.1; fill:none\" points=\"\n",
       "  1469.29,1440.48 1469.29,125.984 \n",
       "  \"/>\n",
       "<polyline clip-path=\"url(#clip9103)\" style=\"stroke:#000000; stroke-width:2; stroke-opacity:0.1; fill:none\" points=\"\n",
       "  1557.48,1440.48 1557.48,125.984 \n",
       "  \"/>\n",
       "<polyline clip-path=\"url(#clip9103)\" style=\"stroke:#000000; stroke-width:2; stroke-opacity:0.1; fill:none\" points=\"\n",
       "  1733.87,1440.48 1733.87,125.984 \n",
       "  \"/>\n",
       "<polyline clip-path=\"url(#clip9103)\" style=\"stroke:#000000; stroke-width:2; stroke-opacity:0.1; fill:none\" points=\"\n",
       "  1822.07,1440.48 1822.07,125.984 \n",
       "  \"/>\n",
       "<polyline clip-path=\"url(#clip9103)\" style=\"stroke:#000000; stroke-width:2; stroke-opacity:0.1; fill:none\" points=\"\n",
       "  1998.46,1440.48 1998.46,125.984 \n",
       "  \"/>\n",
       "<polyline clip-path=\"url(#clip9103)\" style=\"stroke:#000000; stroke-width:2; stroke-opacity:0.1; fill:none\" points=\"\n",
       "  2086.66,1440.48 2086.66,125.984 \n",
       "  \"/>\n",
       "<polyline clip-path=\"url(#clip9103)\" style=\"stroke:#000000; stroke-width:2; stroke-opacity:0.1; fill:none\" points=\"\n",
       "  2263.05,1440.48 2263.05,125.984 \n",
       "  \"/>\n",
       "<polyline clip-path=\"url(#clip9103)\" style=\"stroke:#000000; stroke-width:2; stroke-opacity:0.1; fill:none\" points=\"\n",
       "  264.53,1227.47 2321.26,1227.47 \n",
       "  \"/>\n",
       "<polyline clip-path=\"url(#clip9103)\" style=\"stroke:#000000; stroke-width:2; stroke-opacity:0.1; fill:none\" points=\"\n",
       "  264.53,968.2 2321.26,968.2 \n",
       "  \"/>\n",
       "<polyline clip-path=\"url(#clip9103)\" style=\"stroke:#000000; stroke-width:2; stroke-opacity:0.1; fill:none\" points=\"\n",
       "  264.53,708.934 2321.26,708.934 \n",
       "  \"/>\n",
       "<polyline clip-path=\"url(#clip9103)\" style=\"stroke:#000000; stroke-width:2; stroke-opacity:0.1; fill:none\" points=\"\n",
       "  264.53,449.668 2321.26,449.668 \n",
       "  \"/>\n",
       "<polyline clip-path=\"url(#clip9103)\" style=\"stroke:#000000; stroke-width:2; stroke-opacity:0.1; fill:none\" points=\"\n",
       "  264.53,190.402 2321.26,190.402 \n",
       "  \"/>\n",
       "<polyline clip-path=\"url(#clip9101)\" style=\"stroke:#000000; stroke-width:4; stroke-opacity:1; fill:none\" points=\"\n",
       "  264.53,1440.48 2321.26,1440.48 \n",
       "  \"/>\n",
       "<polyline clip-path=\"url(#clip9101)\" style=\"stroke:#000000; stroke-width:4; stroke-opacity:1; fill:none\" points=\"\n",
       "  264.53,1440.48 264.53,125.984 \n",
       "  \"/>\n",
       "<polyline clip-path=\"url(#clip9101)\" style=\"stroke:#000000; stroke-width:4; stroke-opacity:1; fill:none\" points=\"\n",
       "  322.739,1440.48 322.739,1420.77 \n",
       "  \"/>\n",
       "<polyline clip-path=\"url(#clip9101)\" style=\"stroke:#000000; stroke-width:4; stroke-opacity:1; fill:none\" points=\"\n",
       "  499.131,1440.48 499.131,1420.77 \n",
       "  \"/>\n",
       "<polyline clip-path=\"url(#clip9101)\" style=\"stroke:#000000; stroke-width:4; stroke-opacity:1; fill:none\" points=\"\n",
       "  587.327,1440.48 587.327,1420.77 \n",
       "  \"/>\n",
       "<polyline clip-path=\"url(#clip9101)\" style=\"stroke:#000000; stroke-width:4; stroke-opacity:1; fill:none\" points=\"\n",
       "  763.719,1440.48 763.719,1420.77 \n",
       "  \"/>\n",
       "<polyline clip-path=\"url(#clip9101)\" style=\"stroke:#000000; stroke-width:4; stroke-opacity:1; fill:none\" points=\"\n",
       "  851.915,1440.48 851.915,1420.77 \n",
       "  \"/>\n",
       "<polyline clip-path=\"url(#clip9101)\" style=\"stroke:#000000; stroke-width:4; stroke-opacity:1; fill:none\" points=\"\n",
       "  1028.31,1440.48 1028.31,1420.77 \n",
       "  \"/>\n",
       "<polyline clip-path=\"url(#clip9101)\" style=\"stroke:#000000; stroke-width:4; stroke-opacity:1; fill:none\" points=\"\n",
       "  1116.5,1440.48 1116.5,1420.77 \n",
       "  \"/>\n",
       "<polyline clip-path=\"url(#clip9101)\" style=\"stroke:#000000; stroke-width:4; stroke-opacity:1; fill:none\" points=\"\n",
       "  1292.89,1440.48 1292.89,1420.77 \n",
       "  \"/>\n",
       "<polyline clip-path=\"url(#clip9101)\" style=\"stroke:#000000; stroke-width:4; stroke-opacity:1; fill:none\" points=\"\n",
       "  1469.29,1440.48 1469.29,1420.77 \n",
       "  \"/>\n",
       "<polyline clip-path=\"url(#clip9101)\" style=\"stroke:#000000; stroke-width:4; stroke-opacity:1; fill:none\" points=\"\n",
       "  1557.48,1440.48 1557.48,1420.77 \n",
       "  \"/>\n",
       "<polyline clip-path=\"url(#clip9101)\" style=\"stroke:#000000; stroke-width:4; stroke-opacity:1; fill:none\" points=\"\n",
       "  1733.87,1440.48 1733.87,1420.77 \n",
       "  \"/>\n",
       "<polyline clip-path=\"url(#clip9101)\" style=\"stroke:#000000; stroke-width:4; stroke-opacity:1; fill:none\" points=\"\n",
       "  1822.07,1440.48 1822.07,1420.77 \n",
       "  \"/>\n",
       "<polyline clip-path=\"url(#clip9101)\" style=\"stroke:#000000; stroke-width:4; stroke-opacity:1; fill:none\" points=\"\n",
       "  1998.46,1440.48 1998.46,1420.77 \n",
       "  \"/>\n",
       "<polyline clip-path=\"url(#clip9101)\" style=\"stroke:#000000; stroke-width:4; stroke-opacity:1; fill:none\" points=\"\n",
       "  2086.66,1440.48 2086.66,1420.77 \n",
       "  \"/>\n",
       "<polyline clip-path=\"url(#clip9101)\" style=\"stroke:#000000; stroke-width:4; stroke-opacity:1; fill:none\" points=\"\n",
       "  2263.05,1440.48 2263.05,1420.77 \n",
       "  \"/>\n",
       "<polyline clip-path=\"url(#clip9101)\" style=\"stroke:#000000; stroke-width:4; stroke-opacity:1; fill:none\" points=\"\n",
       "  264.53,1227.47 295.381,1227.47 \n",
       "  \"/>\n",
       "<polyline clip-path=\"url(#clip9101)\" style=\"stroke:#000000; stroke-width:4; stroke-opacity:1; fill:none\" points=\"\n",
       "  264.53,968.2 295.381,968.2 \n",
       "  \"/>\n",
       "<polyline clip-path=\"url(#clip9101)\" style=\"stroke:#000000; stroke-width:4; stroke-opacity:1; fill:none\" points=\"\n",
       "  264.53,708.934 295.381,708.934 \n",
       "  \"/>\n",
       "<polyline clip-path=\"url(#clip9101)\" style=\"stroke:#000000; stroke-width:4; stroke-opacity:1; fill:none\" points=\"\n",
       "  264.53,449.668 295.381,449.668 \n",
       "  \"/>\n",
       "<polyline clip-path=\"url(#clip9101)\" style=\"stroke:#000000; stroke-width:4; stroke-opacity:1; fill:none\" points=\"\n",
       "  264.53,190.402 295.381,190.402 \n",
       "  \"/>\n",
       "<g clip-path=\"url(#clip9101)\">\n",
       "<text style=\"fill:#000000; fill-opacity:1; font-family:Arial,Helvetica Neue,Helvetica,sans-serif; font-size:48px; text-anchor:middle;\" transform=\"rotate(0, 322.739, 1494.48)\" x=\"322.739\" y=\"1494.48\">2012-07</text>\n",
       "</g>\n",
       "<g clip-path=\"url(#clip9101)\">\n",
       "<text style=\"fill:#000000; fill-opacity:1; font-family:Arial,Helvetica Neue,Helvetica,sans-serif; font-size:48px; text-anchor:middle;\" transform=\"rotate(0, 499.131, 1494.48)\" x=\"499.131\" y=\"1494.48\">2012-09</text>\n",
       "</g>\n",
       "<g clip-path=\"url(#clip9101)\">\n",
       "<text style=\"fill:#000000; fill-opacity:1; font-family:Arial,Helvetica Neue,Helvetica,sans-serif; font-size:48px; text-anchor:middle;\" transform=\"rotate(0, 587.327, 1494.48)\" x=\"587.327\" y=\"1494.48\">2012-10</text>\n",
       "</g>\n",
       "<g clip-path=\"url(#clip9101)\">\n",
       "<text style=\"fill:#000000; fill-opacity:1; font-family:Arial,Helvetica Neue,Helvetica,sans-serif; font-size:48px; text-anchor:middle;\" transform=\"rotate(0, 763.719, 1494.48)\" x=\"763.719\" y=\"1494.48\">2012-12</text>\n",
       "</g>\n",
       "<g clip-path=\"url(#clip9101)\">\n",
       "<text style=\"fill:#000000; fill-opacity:1; font-family:Arial,Helvetica Neue,Helvetica,sans-serif; font-size:48px; text-anchor:middle;\" transform=\"rotate(0, 851.915, 1494.48)\" x=\"851.915\" y=\"1494.48\">2013-01</text>\n",
       "</g>\n",
       "<g clip-path=\"url(#clip9101)\">\n",
       "<text style=\"fill:#000000; fill-opacity:1; font-family:Arial,Helvetica Neue,Helvetica,sans-serif; font-size:48px; text-anchor:middle;\" transform=\"rotate(0, 1028.31, 1494.48)\" x=\"1028.31\" y=\"1494.48\">2013-03</text>\n",
       "</g>\n",
       "<g clip-path=\"url(#clip9101)\">\n",
       "<text style=\"fill:#000000; fill-opacity:1; font-family:Arial,Helvetica Neue,Helvetica,sans-serif; font-size:48px; text-anchor:middle;\" transform=\"rotate(0, 1116.5, 1494.48)\" x=\"1116.5\" y=\"1494.48\">2013-04</text>\n",
       "</g>\n",
       "<g clip-path=\"url(#clip9101)\">\n",
       "<text style=\"fill:#000000; fill-opacity:1; font-family:Arial,Helvetica Neue,Helvetica,sans-serif; font-size:48px; text-anchor:middle;\" transform=\"rotate(0, 1292.89, 1494.48)\" x=\"1292.89\" y=\"1494.48\">2013-06</text>\n",
       "</g>\n",
       "<g clip-path=\"url(#clip9101)\">\n",
       "<text style=\"fill:#000000; fill-opacity:1; font-family:Arial,Helvetica Neue,Helvetica,sans-serif; font-size:48px; text-anchor:middle;\" transform=\"rotate(0, 1469.29, 1494.48)\" x=\"1469.29\" y=\"1494.48\">2013-08</text>\n",
       "</g>\n",
       "<g clip-path=\"url(#clip9101)\">\n",
       "<text style=\"fill:#000000; fill-opacity:1; font-family:Arial,Helvetica Neue,Helvetica,sans-serif; font-size:48px; text-anchor:middle;\" transform=\"rotate(0, 1557.48, 1494.48)\" x=\"1557.48\" y=\"1494.48\">2013-09</text>\n",
       "</g>\n",
       "<g clip-path=\"url(#clip9101)\">\n",
       "<text style=\"fill:#000000; fill-opacity:1; font-family:Arial,Helvetica Neue,Helvetica,sans-serif; font-size:48px; text-anchor:middle;\" transform=\"rotate(0, 1733.87, 1494.48)\" x=\"1733.87\" y=\"1494.48\">2013-11</text>\n",
       "</g>\n",
       "<g clip-path=\"url(#clip9101)\">\n",
       "<text style=\"fill:#000000; fill-opacity:1; font-family:Arial,Helvetica Neue,Helvetica,sans-serif; font-size:48px; text-anchor:middle;\" transform=\"rotate(0, 1822.07, 1494.48)\" x=\"1822.07\" y=\"1494.48\">2013-12</text>\n",
       "</g>\n",
       "<g clip-path=\"url(#clip9101)\">\n",
       "<text style=\"fill:#000000; fill-opacity:1; font-family:Arial,Helvetica Neue,Helvetica,sans-serif; font-size:48px; text-anchor:middle;\" transform=\"rotate(0, 1998.46, 1494.48)\" x=\"1998.46\" y=\"1494.48\">2014-02</text>\n",
       "</g>\n",
       "<g clip-path=\"url(#clip9101)\">\n",
       "<text style=\"fill:#000000; fill-opacity:1; font-family:Arial,Helvetica Neue,Helvetica,sans-serif; font-size:48px; text-anchor:middle;\" transform=\"rotate(0, 2086.66, 1494.48)\" x=\"2086.66\" y=\"1494.48\">2014-03</text>\n",
       "</g>\n",
       "<g clip-path=\"url(#clip9101)\">\n",
       "<text style=\"fill:#000000; fill-opacity:1; font-family:Arial,Helvetica Neue,Helvetica,sans-serif; font-size:48px; text-anchor:middle;\" transform=\"rotate(0, 2263.05, 1494.48)\" x=\"2263.05\" y=\"1494.48\">2014-05</text>\n",
       "</g>\n",
       "<g clip-path=\"url(#clip9101)\">\n",
       "<text style=\"fill:#000000; fill-opacity:1; font-family:Arial,Helvetica Neue,Helvetica,sans-serif; font-size:48px; text-anchor:end;\" transform=\"rotate(0, 240.53, 1244.97)\" x=\"240.53\" y=\"1244.97\">1200</text>\n",
       "</g>\n",
       "<g clip-path=\"url(#clip9101)\">\n",
       "<text style=\"fill:#000000; fill-opacity:1; font-family:Arial,Helvetica Neue,Helvetica,sans-serif; font-size:48px; text-anchor:end;\" transform=\"rotate(0, 240.53, 985.7)\" x=\"240.53\" y=\"985.7\">1400</text>\n",
       "</g>\n",
       "<g clip-path=\"url(#clip9101)\">\n",
       "<text style=\"fill:#000000; fill-opacity:1; font-family:Arial,Helvetica Neue,Helvetica,sans-serif; font-size:48px; text-anchor:end;\" transform=\"rotate(0, 240.53, 726.434)\" x=\"240.53\" y=\"726.434\">1600</text>\n",
       "</g>\n",
       "<g clip-path=\"url(#clip9101)\">\n",
       "<text style=\"fill:#000000; fill-opacity:1; font-family:Arial,Helvetica Neue,Helvetica,sans-serif; font-size:48px; text-anchor:end;\" transform=\"rotate(0, 240.53, 467.168)\" x=\"240.53\" y=\"467.168\">1800</text>\n",
       "</g>\n",
       "<g clip-path=\"url(#clip9101)\">\n",
       "<text style=\"fill:#000000; fill-opacity:1; font-family:Arial,Helvetica Neue,Helvetica,sans-serif; font-size:48px; text-anchor:end;\" transform=\"rotate(0, 240.53, 207.902)\" x=\"240.53\" y=\"207.902\">2000</text>\n",
       "</g>\n",
       "<g clip-path=\"url(#clip9101)\">\n",
       "<text style=\"fill:#000000; fill-opacity:1; font-family:Arial,Helvetica Neue,Helvetica,sans-serif; font-size:84px; text-anchor:middle;\" transform=\"rotate(0, 1292.89, 73.2)\" x=\"1292.89\" y=\"73.2\">Sales Trend</text>\n",
       "</g>\n",
       "<g clip-path=\"url(#clip9101)\">\n",
       "<text style=\"fill:#000000; fill-opacity:1; font-family:Arial,Helvetica Neue,Helvetica,sans-serif; font-size:66px; text-anchor:middle;\" transform=\"rotate(0, 1292.89, 1590.4)\" x=\"1292.89\" y=\"1590.4\">Months from July-1996 to Feb-1997</text>\n",
       "</g>\n",
       "<g clip-path=\"url(#clip9101)\">\n",
       "<text style=\"fill:#000000; fill-opacity:1; font-family:Arial,Helvetica Neue,Helvetica,sans-serif; font-size:66px; text-anchor:middle;\" transform=\"rotate(-90, 57.6, 783.233)\" x=\"57.6\" y=\"783.233\">Average Sales</text>\n",
       "</g>\n",
       "<polyline clip-path=\"url(#clip9103)\" style=\"stroke:#009af9; stroke-width:4; stroke-opacity:1; fill:none\" points=\"\n",
       "  322.739,1004.02 410.935,1403.28 499.131,1225.44 587.327,728.698 675.523,205.751 763.719,652.339 851.915,163.187 940.111,941.058 1028.31,1055.49 1116.5,453.875 \n",
       "  1204.7,481.116 1292.89,1094.03 1381.09,604.248 1469.29,819.645 1557.48,690.259 1645.68,383.879 1733.87,1032.51 1822.07,690.671 1910.27,405.953 1998.46,272.936 \n",
       "  2086.66,832.788 2174.85,424.608 2263.05,940.546 \n",
       "  \"/>\n",
       "<circle clip-path=\"url(#clip9103)\" style=\"fill:#000000; stroke:none; fill-opacity:1\" cx=\"322.739\" cy=\"1004.02\" r=\"18\"/>\n",
       "<circle clip-path=\"url(#clip9103)\" style=\"fill:#e26f46; stroke:none; fill-opacity:1\" cx=\"322.739\" cy=\"1004.02\" r=\"14\"/>\n",
       "<circle clip-path=\"url(#clip9103)\" style=\"fill:#000000; stroke:none; fill-opacity:1\" cx=\"410.935\" cy=\"1403.28\" r=\"18\"/>\n",
       "<circle clip-path=\"url(#clip9103)\" style=\"fill:#e26f46; stroke:none; fill-opacity:1\" cx=\"410.935\" cy=\"1403.28\" r=\"14\"/>\n",
       "<circle clip-path=\"url(#clip9103)\" style=\"fill:#000000; stroke:none; fill-opacity:1\" cx=\"499.131\" cy=\"1225.44\" r=\"18\"/>\n",
       "<circle clip-path=\"url(#clip9103)\" style=\"fill:#e26f46; stroke:none; fill-opacity:1\" cx=\"499.131\" cy=\"1225.44\" r=\"14\"/>\n",
       "<circle clip-path=\"url(#clip9103)\" style=\"fill:#000000; stroke:none; fill-opacity:1\" cx=\"587.327\" cy=\"728.698\" r=\"18\"/>\n",
       "<circle clip-path=\"url(#clip9103)\" style=\"fill:#e26f46; stroke:none; fill-opacity:1\" cx=\"587.327\" cy=\"728.698\" r=\"14\"/>\n",
       "<circle clip-path=\"url(#clip9103)\" style=\"fill:#000000; stroke:none; fill-opacity:1\" cx=\"675.523\" cy=\"205.751\" r=\"18\"/>\n",
       "<circle clip-path=\"url(#clip9103)\" style=\"fill:#e26f46; stroke:none; fill-opacity:1\" cx=\"675.523\" cy=\"205.751\" r=\"14\"/>\n",
       "<circle clip-path=\"url(#clip9103)\" style=\"fill:#000000; stroke:none; fill-opacity:1\" cx=\"763.719\" cy=\"652.339\" r=\"18\"/>\n",
       "<circle clip-path=\"url(#clip9103)\" style=\"fill:#e26f46; stroke:none; fill-opacity:1\" cx=\"763.719\" cy=\"652.339\" r=\"14\"/>\n",
       "<circle clip-path=\"url(#clip9103)\" style=\"fill:#000000; stroke:none; fill-opacity:1\" cx=\"851.915\" cy=\"163.187\" r=\"18\"/>\n",
       "<circle clip-path=\"url(#clip9103)\" style=\"fill:#e26f46; stroke:none; fill-opacity:1\" cx=\"851.915\" cy=\"163.187\" r=\"14\"/>\n",
       "<circle clip-path=\"url(#clip9103)\" style=\"fill:#000000; stroke:none; fill-opacity:1\" cx=\"940.111\" cy=\"941.058\" r=\"18\"/>\n",
       "<circle clip-path=\"url(#clip9103)\" style=\"fill:#e26f46; stroke:none; fill-opacity:1\" cx=\"940.111\" cy=\"941.058\" r=\"14\"/>\n",
       "<circle clip-path=\"url(#clip9103)\" style=\"fill:#000000; stroke:none; fill-opacity:1\" cx=\"1028.31\" cy=\"1055.49\" r=\"18\"/>\n",
       "<circle clip-path=\"url(#clip9103)\" style=\"fill:#e26f46; stroke:none; fill-opacity:1\" cx=\"1028.31\" cy=\"1055.49\" r=\"14\"/>\n",
       "<circle clip-path=\"url(#clip9103)\" style=\"fill:#000000; stroke:none; fill-opacity:1\" cx=\"1116.5\" cy=\"453.875\" r=\"18\"/>\n",
       "<circle clip-path=\"url(#clip9103)\" style=\"fill:#e26f46; stroke:none; fill-opacity:1\" cx=\"1116.5\" cy=\"453.875\" r=\"14\"/>\n",
       "<circle clip-path=\"url(#clip9103)\" style=\"fill:#000000; stroke:none; fill-opacity:1\" cx=\"1204.7\" cy=\"481.116\" r=\"18\"/>\n",
       "<circle clip-path=\"url(#clip9103)\" style=\"fill:#e26f46; stroke:none; fill-opacity:1\" cx=\"1204.7\" cy=\"481.116\" r=\"14\"/>\n",
       "<circle clip-path=\"url(#clip9103)\" style=\"fill:#000000; stroke:none; fill-opacity:1\" cx=\"1292.89\" cy=\"1094.03\" r=\"18\"/>\n",
       "<circle clip-path=\"url(#clip9103)\" style=\"fill:#e26f46; stroke:none; fill-opacity:1\" cx=\"1292.89\" cy=\"1094.03\" r=\"14\"/>\n",
       "<circle clip-path=\"url(#clip9103)\" style=\"fill:#000000; stroke:none; fill-opacity:1\" cx=\"1381.09\" cy=\"604.248\" r=\"18\"/>\n",
       "<circle clip-path=\"url(#clip9103)\" style=\"fill:#e26f46; stroke:none; fill-opacity:1\" cx=\"1381.09\" cy=\"604.248\" r=\"14\"/>\n",
       "<circle clip-path=\"url(#clip9103)\" style=\"fill:#000000; stroke:none; fill-opacity:1\" cx=\"1469.29\" cy=\"819.645\" r=\"18\"/>\n",
       "<circle clip-path=\"url(#clip9103)\" style=\"fill:#e26f46; stroke:none; fill-opacity:1\" cx=\"1469.29\" cy=\"819.645\" r=\"14\"/>\n",
       "<circle clip-path=\"url(#clip9103)\" style=\"fill:#000000; stroke:none; fill-opacity:1\" cx=\"1557.48\" cy=\"690.259\" r=\"18\"/>\n",
       "<circle clip-path=\"url(#clip9103)\" style=\"fill:#e26f46; stroke:none; fill-opacity:1\" cx=\"1557.48\" cy=\"690.259\" r=\"14\"/>\n",
       "<circle clip-path=\"url(#clip9103)\" style=\"fill:#000000; stroke:none; fill-opacity:1\" cx=\"1645.68\" cy=\"383.879\" r=\"18\"/>\n",
       "<circle clip-path=\"url(#clip9103)\" style=\"fill:#e26f46; stroke:none; fill-opacity:1\" cx=\"1645.68\" cy=\"383.879\" r=\"14\"/>\n",
       "<circle clip-path=\"url(#clip9103)\" style=\"fill:#000000; stroke:none; fill-opacity:1\" cx=\"1733.87\" cy=\"1032.51\" r=\"18\"/>\n",
       "<circle clip-path=\"url(#clip9103)\" style=\"fill:#e26f46; stroke:none; fill-opacity:1\" cx=\"1733.87\" cy=\"1032.51\" r=\"14\"/>\n",
       "<circle clip-path=\"url(#clip9103)\" style=\"fill:#000000; stroke:none; fill-opacity:1\" cx=\"1822.07\" cy=\"690.671\" r=\"18\"/>\n",
       "<circle clip-path=\"url(#clip9103)\" style=\"fill:#e26f46; stroke:none; fill-opacity:1\" cx=\"1822.07\" cy=\"690.671\" r=\"14\"/>\n",
       "<circle clip-path=\"url(#clip9103)\" style=\"fill:#000000; stroke:none; fill-opacity:1\" cx=\"1910.27\" cy=\"405.953\" r=\"18\"/>\n",
       "<circle clip-path=\"url(#clip9103)\" style=\"fill:#e26f46; stroke:none; fill-opacity:1\" cx=\"1910.27\" cy=\"405.953\" r=\"14\"/>\n",
       "<circle clip-path=\"url(#clip9103)\" style=\"fill:#000000; stroke:none; fill-opacity:1\" cx=\"1998.46\" cy=\"272.936\" r=\"18\"/>\n",
       "<circle clip-path=\"url(#clip9103)\" style=\"fill:#e26f46; stroke:none; fill-opacity:1\" cx=\"1998.46\" cy=\"272.936\" r=\"14\"/>\n",
       "<circle clip-path=\"url(#clip9103)\" style=\"fill:#000000; stroke:none; fill-opacity:1\" cx=\"2086.66\" cy=\"832.788\" r=\"18\"/>\n",
       "<circle clip-path=\"url(#clip9103)\" style=\"fill:#e26f46; stroke:none; fill-opacity:1\" cx=\"2086.66\" cy=\"832.788\" r=\"14\"/>\n",
       "<circle clip-path=\"url(#clip9103)\" style=\"fill:#000000; stroke:none; fill-opacity:1\" cx=\"2174.85\" cy=\"424.608\" r=\"18\"/>\n",
       "<circle clip-path=\"url(#clip9103)\" style=\"fill:#e26f46; stroke:none; fill-opacity:1\" cx=\"2174.85\" cy=\"424.608\" r=\"14\"/>\n",
       "<circle clip-path=\"url(#clip9103)\" style=\"fill:#000000; stroke:none; fill-opacity:1\" cx=\"2263.05\" cy=\"940.546\" r=\"18\"/>\n",
       "<circle clip-path=\"url(#clip9103)\" style=\"fill:#e26f46; stroke:none; fill-opacity:1\" cx=\"2263.05\" cy=\"940.546\" r=\"14\"/>\n",
       "<polygon clip-path=\"url(#clip9101)\" points=\"\n",
       "1880.84,390.944 2249.26,390.944 2249.26,209.504 1880.84,209.504 \n",
       "  \" fill=\"#ffffff\" fill-rule=\"evenodd\" fill-opacity=\"1\"/>\n",
       "<polyline clip-path=\"url(#clip9101)\" style=\"stroke:#000000; stroke-width:4; stroke-opacity:1; fill:none\" points=\"\n",
       "  1880.84,390.944 2249.26,390.944 2249.26,209.504 1880.84,209.504 1880.84,390.944 \n",
       "  \"/>\n",
       "<polyline clip-path=\"url(#clip9101)\" style=\"stroke:#009af9; stroke-width:4; stroke-opacity:1; fill:none\" points=\"\n",
       "  1904.84,269.984 2048.84,269.984 \n",
       "  \"/>\n",
       "<g clip-path=\"url(#clip9101)\">\n",
       "<text style=\"fill:#000000; fill-opacity:1; font-family:Arial,Helvetica Neue,Helvetica,sans-serif; font-size:48px; text-anchor:start;\" transform=\"rotate(0, 2072.84, 287.484)\" x=\"2072.84\" y=\"287.484\">line</text>\n",
       "</g>\n",
       "<circle clip-path=\"url(#clip9101)\" style=\"fill:#000000; stroke:none; fill-opacity:1\" cx=\"1988.84\" cy=\"330.464\" r=\"25\"/>\n",
       "<circle clip-path=\"url(#clip9101)\" style=\"fill:#e26f46; stroke:none; fill-opacity:1\" cx=\"1988.84\" cy=\"330.464\" r=\"21\"/>\n",
       "<g clip-path=\"url(#clip9101)\">\n",
       "<text style=\"fill:#000000; fill-opacity:1; font-family:Arial,Helvetica Neue,Helvetica,sans-serif; font-size:48px; text-anchor:start;\" transform=\"rotate(0, 2072.84, 347.964)\" x=\"2072.84\" y=\"347.964\">points</text>\n",
       "</g>\n",
       "</svg>\n"
      ]
     },
     "execution_count": 99,
     "metadata": {},
     "output_type": "execute_result"
    }
   ],
   "source": [
    "plot(SalesTrend[:,1], SalesTrend[:,2], label = \"line\")\n",
    "scatter!(SalesTrend[:,1], SalesTrend[:,2], label = \"points\")\n",
    "xlabel!(\"Months from July-1996 to Feb-1997\")\n",
    "ylabel!(\"Average Sales\")\n",
    "title!(\"Sales Trend\")"
   ]
  },
  {
   "cell_type": "markdown",
   "metadata": {},
   "source": [
    "## 2.\tProduct Analysis\n",
    "#### Product popularity by quantity sold since inception "
   ]
  },
  {
   "cell_type": "code",
   "execution_count": 29,
   "metadata": {
    "scrolled": true
   },
   "outputs": [
    {
     "data": {
      "text/html": [
       "<table class=\"data-frame\"><thead><tr><th></th><th>ProductName</th><th>Total_Qty</th></tr><tr><th></th><th>String⍰</th><th>Int64⍰</th></tr></thead><tbody><p>77 rows × 2 columns</p><tr><th>1</th><td>Camembert Pierrot</td><td>1577</td></tr><tr><th>2</th><td>Raclette Courdavault</td><td>1496</td></tr><tr><th>3</th><td>Gorgonzola Telino</td><td>1397</td></tr><tr><th>4</th><td>Gnocchi di nonna Alice</td><td>1263</td></tr><tr><th>5</th><td>Pavlova</td><td>1158</td></tr><tr><th>6</th><td>Rhönbräu Klosterbier</td><td>1155</td></tr><tr><th>7</th><td>Guaraná Fantástica</td><td>1125</td></tr><tr><th>8</th><td>Boston Crab Meat</td><td>1103</td></tr><tr><th>9</th><td>Tarte au sucre</td><td>1083</td></tr><tr><th>10</th><td>Chang</td><td>1057</td></tr><tr><th>11</th><td>Flotemysost</td><td>1057</td></tr><tr><th>12</th><td>Sir Rodneys Scones</td><td>1016</td></tr><tr><th>13</th><td>Jack</td><td>981</td></tr><tr><th>14</th><td>Lakkalikööri</td><td>981</td></tr><tr><th>15</th><td>Alice Mutton</td><td>978</td></tr><tr><th>16</th><td>Pâté chinois</td><td>903</td></tr><tr><th>17</th><td>Konbu</td><td>891</td></tr><tr><th>18</th><td>Manjimup Dried Apples</td><td>886</td></tr><tr><th>19</th><td>Steeleye Stout</td><td>883</td></tr><tr><th>20</th><td>Chai</td><td>828</td></tr><tr><th>21</th><td>Outback Lager</td><td>817</td></tr><tr><th>22</th><td>Mozzarella di Giovanni</td><td>806</td></tr><tr><th>23</th><td>Inlagd Sill</td><td>805</td></tr><tr><th>24</th><td>Scottish Longbreads</td><td>799</td></tr><tr><th>25</th><td>Chartreuse verte</td><td>793</td></tr><tr><th>26</th><td>Original Frankfurter grüne Soße</td><td>791</td></tr><tr><th>27</th><td>Uncle Bobs Organic Dried Pears</td><td>763</td></tr><tr><th>28</th><td>Geitost</td><td>755</td></tr><tr><th>29</th><td>Tourtière</td><td>755</td></tr><tr><th>30</th><td>Gumbär Gummibärchen</td><td>753</td></tr><tr><th>&vellip;</th><td>&vellip;</td><td>&vellip;</td></tr></tbody></table>"
      ],
      "text/latex": [
       "\\begin{tabular}{r|cc}\n",
       "\t& ProductName & Total\\_Qty\\\\\n",
       "\t\\hline\n",
       "\t& String⍰ & Int64⍰\\\\\n",
       "\t\\hline\n",
       "\t1 & Camembert Pierrot & 1577 \\\\\n",
       "\t2 & Raclette Courdavault & 1496 \\\\\n",
       "\t3 & Gorgonzola Telino & 1397 \\\\\n",
       "\t4 & Gnocchi di nonna Alice & 1263 \\\\\n",
       "\t5 & Pavlova & 1158 \\\\\n",
       "\t6 & Rhönbräu Klosterbier & 1155 \\\\\n",
       "\t7 & Guaraná Fantástica & 1125 \\\\\n",
       "\t8 & Boston Crab Meat & 1103 \\\\\n",
       "\t9 & Tarte au sucre & 1083 \\\\\n",
       "\t10 & Chang & 1057 \\\\\n",
       "\t11 & Flotemysost & 1057 \\\\\n",
       "\t12 & Sir Rodneys Scones & 1016 \\\\\n",
       "\t13 & Jack & 981 \\\\\n",
       "\t14 & Lakkalikööri & 981 \\\\\n",
       "\t15 & Alice Mutton & 978 \\\\\n",
       "\t16 & Pâté chinois & 903 \\\\\n",
       "\t17 & Konbu & 891 \\\\\n",
       "\t18 & Manjimup Dried Apples & 886 \\\\\n",
       "\t19 & Steeleye Stout & 883 \\\\\n",
       "\t20 & Chai & 828 \\\\\n",
       "\t21 & Outback Lager & 817 \\\\\n",
       "\t22 & Mozzarella di Giovanni & 806 \\\\\n",
       "\t23 & Inlagd Sill & 805 \\\\\n",
       "\t24 & Scottish Longbreads & 799 \\\\\n",
       "\t25 & Chartreuse verte & 793 \\\\\n",
       "\t26 & Original Frankfurter grüne Soße & 791 \\\\\n",
       "\t27 & Uncle Bobs Organic Dried Pears & 763 \\\\\n",
       "\t28 & Geitost & 755 \\\\\n",
       "\t29 & Tourtière & 755 \\\\\n",
       "\t30 & Gumbär Gummibärchen & 753 \\\\\n",
       "\t$\\dots$ & $\\dots$ & $\\dots$ \\\\\n",
       "\\end{tabular}\n"
      ],
      "text/plain": [
       "77×2 DataFrame\n",
       "│ Row │ ProductName               │ Total_Qty │\n",
       "│     │ \u001b[90mUnion{Missing, String}\u001b[39m    │ \u001b[90mInt64⍰\u001b[39m    │\n",
       "├─────┼───────────────────────────┼───────────┤\n",
       "│ 1   │ Camembert Pierrot         │ 1577      │\n",
       "│ 2   │ Raclette Courdavault      │ 1496      │\n",
       "│ 3   │ Gorgonzola Telino         │ 1397      │\n",
       "│ 4   │ Gnocchi di nonna Alice    │ 1263      │\n",
       "│ 5   │ Pavlova                   │ 1158      │\n",
       "│ 6   │ Rhönbräu Klosterbier      │ 1155      │\n",
       "│ 7   │ Guaraná Fantástica        │ 1125      │\n",
       "│ 8   │ Boston Crab Meat          │ 1103      │\n",
       "│ 9   │ Tarte au sucre            │ 1083      │\n",
       "│ 10  │ Chang                     │ 1057      │\n",
       "⋮\n",
       "│ 67  │ Chef Antons Gumbo Mix     │ 298       │\n",
       "│ 68  │ Longlife Tofu             │ 297       │\n",
       "│ 69  │ Mascarpone Fabioli        │ 297       │\n",
       "│ 70  │ Röd Kaviar                │ 293       │\n",
       "│ 71  │ Louisiana Hot Spiced Okra │ 239       │\n",
       "│ 72  │ Valkoinen suklaa          │ 235       │\n",
       "│ 73  │ Laughing Lumberjack Lager │ 184       │\n",
       "│ 74  │ Chocolade                 │ 138       │\n",
       "│ 75  │ Gravad lax                │ 125       │\n",
       "│ 76  │ Genen Shouyu              │ 122       │\n",
       "│ 77  │ Mishi Kobe Niku           │ 95        │"
      ]
     },
     "execution_count": 29,
     "metadata": {},
     "output_type": "execute_result"
    }
   ],
   "source": [
    "# see if you only output continued products\n",
    "Prod = DataFrame(SQLite.Query(acme,\"\"\"select productname, sum(Quantity) as Total_Qty\n",
    "        from product join orderitem on product.id = orderitem.productid\n",
    "        group by productname \n",
    "        order by Total_Qty desc\n",
    "        \"\"\"))"
   ]
  },
  {
   "cell_type": "code",
   "execution_count": 100,
   "metadata": {
    "scrolled": true
   },
   "outputs": [
    {
     "name": "stdout",
     "output_type": "stream",
     "text": [
      "\u001b[32m\u001b[1m  Building\u001b[22m\u001b[39m NodeJS → `~/.julia/packages/NodeJS/rx0mH/deps/build.log`\n",
      "\u001b[32m\u001b[1m Resolving\u001b[22m\u001b[39m package versions...\n",
      "\u001b[32m\u001b[1m  Updating\u001b[22m\u001b[39m `~/.julia/environments/v1.0/Project.toml`\n",
      "\u001b[90m [no changes]\u001b[39m\n",
      "\u001b[32m\u001b[1m  Updating\u001b[22m\u001b[39m `~/.julia/environments/v1.0/Manifest.toml`\n",
      "\u001b[90m [no changes]\u001b[39m\n"
     ]
    }
   ],
   "source": [
    "Pkg.build(\"NodeJS\")\n",
    "Pkg.add(\"VegaLite\")"
   ]
  },
  {
   "cell_type": "code",
   "execution_count": 101,
   "metadata": {},
   "outputs": [
    {
     "name": "stderr",
     "output_type": "stream",
     "text": [
      "┌ Info: Recompiling stale cache file /Users/adityakamboj/.julia/compiled/v1.0/VegaLite/lrJqi.ji for VegaLite [112f6efa-9a02-5b7d-90c0-432ed331239a]\n",
      "└ @ Base loading.jl:1190\n"
     ]
    }
   ],
   "source": [
    "using VegaLite"
   ]
  },
  {
   "cell_type": "code",
   "execution_count": 102,
   "metadata": {},
   "outputs": [
    {
     "data": {
      "application/vnd.vegalite.v2+json": {
       "data": {
        "values": [
         {
          "ProductName": "Camembert Pierrot",
          "Total_Qty": 1577
         },
         {
          "ProductName": "Raclette Courdavault",
          "Total_Qty": 1496
         },
         {
          "ProductName": "Gorgonzola Telino",
          "Total_Qty": 1397
         },
         {
          "ProductName": "Gnocchi di nonna Alice",
          "Total_Qty": 1263
         },
         {
          "ProductName": "Pavlova",
          "Total_Qty": 1158
         },
         {
          "ProductName": "Rhönbräu Klosterbier",
          "Total_Qty": 1155
         },
         {
          "ProductName": "Guaraná Fantástica",
          "Total_Qty": 1125
         },
         {
          "ProductName": "Boston Crab Meat",
          "Total_Qty": 1103
         },
         {
          "ProductName": "Tarte au sucre",
          "Total_Qty": 1083
         },
         {
          "ProductName": "Chang",
          "Total_Qty": 1057
         },
         {
          "ProductName": "Flotemysost",
          "Total_Qty": 1057
         },
         {
          "ProductName": "Sir Rodneys Scones",
          "Total_Qty": 1016
         },
         {
          "ProductName": "Jack",
          "Total_Qty": 981
         },
         {
          "ProductName": "Lakkalikööri",
          "Total_Qty": 981
         },
         {
          "ProductName": "Alice Mutton",
          "Total_Qty": 978
         },
         {
          "ProductName": "Pâté chinois",
          "Total_Qty": 903
         },
         {
          "ProductName": "Konbu",
          "Total_Qty": 891
         },
         {
          "ProductName": "Manjimup Dried Apples",
          "Total_Qty": 886
         },
         {
          "ProductName": "Steeleye Stout",
          "Total_Qty": 883
         },
         {
          "ProductName": "Chai",
          "Total_Qty": 828
         },
         {
          "ProductName": "Outback Lager",
          "Total_Qty": 817
         },
         {
          "ProductName": "Mozzarella di Giovanni",
          "Total_Qty": 806
         },
         {
          "ProductName": "Inlagd Sill",
          "Total_Qty": 805
         },
         {
          "ProductName": "Scottish Longbreads",
          "Total_Qty": 799
         },
         {
          "ProductName": "Chartreuse verte",
          "Total_Qty": 793
         },
         {
          "ProductName": "Original Frankfurter grüne Soße",
          "Total_Qty": 791
         },
         {
          "ProductName": "Uncle Bobs Organic Dried Pears",
          "Total_Qty": 763
         },
         {
          "ProductName": "Geitost",
          "Total_Qty": 755
         },
         {
          "ProductName": "Tourtière",
          "Total_Qty": 755
         },
         {
          "ProductName": "Gumbär Gummibärchen",
          "Total_Qty": 753
         },
         {
          "ProductName": "Thüringer Rostbratwurst",
          "Total_Qty": 746
         },
         {
          "ProductName": "Louisiana Fiery Hot Pepper Sauce",
          "Total_Qty": 745
         },
         {
          "ProductName": "Ikura",
          "Total_Qty": 742
         },
         {
          "ProductName": "Wimmers gute Semmelknödel",
          "Total_Qty": 740
         },
         {
          "ProductName": "Teatime Chocolate Biscuits",
          "Total_Qty": 723
         },
         {
          "ProductName": "Perth Pasties",
          "Total_Qty": 722
         },
         {
          "ProductName": "Gudbrandsdalsost",
          "Total_Qty": 714
         },
         {
          "ProductName": "Queso Cabrales",
          "Total_Qty": 706
         },
         {
          "ProductName": "Singaporean Hokkien Fried Mee",
          "Total_Qty": 697
         },
         {
          "ProductName": "Rössle Sauerkraut",
          "Total_Qty": 640
         },
         {
          "ProductName": "Côte de Blaye",
          "Total_Qty": 623
         },
         {
          "ProductName": "Nord-Ost Matjeshering",
          "Total_Qty": 612
         },
         {
          "ProductName": "Sirop d",
          "Total_Qty": 603
         },
         {
          "ProductName": "Gula Malacca",
          "Total_Qty": 601
         },
         {
          "ProductName": "Ipoh Coffee",
          "Total_Qty": 580
         },
         {
          "ProductName": "Tunnbröd",
          "Total_Qty": 580
         },
         {
          "ProductName": "Spegesild",
          "Total_Qty": 548
         },
         {
          "ProductName": "Carnarvon Tigers",
          "Total_Qty": 539
         },
         {
          "ProductName": "Escargots de Bourgogne",
          "Total_Qty": 534
         },
         {
          "ProductName": "Maxilaku",
          "Total_Qty": 520
         },
         {
          "ProductName": "Rogede sild",
          "Total_Qty": 508
         },
         {
          "ProductName": "Sasquatch Ale",
          "Total_Qty": 506
         },
         {
          "ProductName": "Filo Mix",
          "Total_Qty": 500
         },
         {
          "ProductName": "Zaanse koeken",
          "Total_Qty": 485
         },
         {
          "ProductName": "Chef Antons Cajun Seasoning",
          "Total_Qty": 453
         },
         {
          "ProductName": "Vegie-spread",
          "Total_Qty": 445
         },
         {
          "ProductName": "Ravioli Angelo",
          "Total_Qty": 434
         },
         {
          "ProductName": "Tofu",
          "Total_Qty": 404
         },
         {
          "ProductName": "Northwoods Cranberry Sauce",
          "Total_Qty": 372
         },
         {
          "ProductName": "Schoggi Schokolade",
          "Total_Qty": 365
         },
         {
          "ProductName": "Gustafs Knäckebröd",
          "Total_Qty": 348
         },
         {
          "ProductName": "Queso Manchego La Pastora",
          "Total_Qty": 344
         },
         {
          "ProductName": "Aniseed Syrup",
          "Total_Qty": 328
         },
         {
          "ProductName": "NuNuCa Nuß-Nougat-Creme",
          "Total_Qty": 318
         },
         {
          "ProductName": "Sir Rodneys Marmalade",
          "Total_Qty": 313
         },
         {
          "ProductName": "Grandmas Boysenberry Spread",
          "Total_Qty": 301
         },
         {
          "ProductName": "Chef Antons Gumbo Mix",
          "Total_Qty": 298
         },
         {
          "ProductName": "Longlife Tofu",
          "Total_Qty": 297
         },
         {
          "ProductName": "Mascarpone Fabioli",
          "Total_Qty": 297
         },
         {
          "ProductName": "Röd Kaviar",
          "Total_Qty": 293
         },
         {
          "ProductName": "Louisiana Hot Spiced Okra",
          "Total_Qty": 239
         },
         {
          "ProductName": "Valkoinen suklaa",
          "Total_Qty": 235
         },
         {
          "ProductName": "Laughing Lumberjack Lager",
          "Total_Qty": 184
         },
         {
          "ProductName": "Chocolade",
          "Total_Qty": 138
         },
         {
          "ProductName": "Gravad lax",
          "Total_Qty": 125
         },
         {
          "ProductName": "Genen Shouyu",
          "Total_Qty": 122
         },
         {
          "ProductName": "Mishi Kobe Niku",
          "Total_Qty": 95
         }
        ]
       },
       "encoding": {
        "x": {
         "field": "ProductName",
         "type": "nominal"
        },
        "y": {
         "field": "Total_Qty",
         "type": "quantitative"
        }
       },
       "mark": "bar"
      },
      "image/png": "[encoded data removed]",
      "image/svg+xml": [
       "<?xml version=\"1.0\" encoding=\"utf-8\"?>\n",
       "<!DOCTYPE svg PUBLIC \"-//W3C//DTD SVG 1.1//EN\" \"http://www.w3.org/Graphics/SVG/1.1/DTD/svg11.dtd\">\n",
       "<svg class=\"marks\" width=\"1692\" height=\"411\" viewBox=\"0 0 1692 411\" version=\"1.1\" xmlns=\"http://www.w3.org/2000/svg\" xmlns:xlink=\"http://www.w3.org/1999/xlink\"><g transform=\"translate(70,5)\"><g class=\"mark-group role-frame root\"><g transform=\"translate(0,0)\"><path class=\"background\" d=\"M0.5,0.5h1617v200h-1617Z\" style=\"fill: none; stroke: #ddd;\"></path><g><g class=\"mark-group role-axis\"><g transform=\"translate(0.5,0.5)\"><path class=\"background\" d=\"M0,0h0v0h0Z\" style=\"pointer-events: none; fill: none;\"></path><g><g class=\"mark-rule role-axis-grid\" style=\"pointer-events: none;\"><line transform=\"translate(0,200)\" x2=\"1617\" y2=\"0\" style=\"fill: none; stroke: #ddd; stroke-width: 1; opacity: 1;\"></line><line transform=\"translate(0,138)\" x2=\"1617\" y2=\"0\" style=\"fill: none; stroke: #ddd; stroke-width: 1; opacity: 1;\"></line><line transform=\"translate(0,75)\" x2=\"1617\" y2=\"0\" style=\"fill: none; stroke: #ddd; stroke-width: 1; opacity: 1;\"></line><line transform=\"translate(0,13)\" x2=\"1617\" y2=\"0\" style=\"fill: none; stroke: #ddd; stroke-width: 1; opacity: 1;\"></line></g></g></g></g><g class=\"mark-rect role-mark marks\"><path d=\"M64.04999999999995,2.875h18.900000000000002v197.125h-18.900000000000002Z\" style=\"fill: #4c78a8;\"></path><path d=\"M1072.05,13h18.900000000000002v187h-18.900000000000002Z\" style=\"fill: #4c78a8;\"></path><path d=\"M379.04999999999995,25.375h18.900000000000002v174.625h-18.900000000000002Z\" style=\"fill: #4c78a8;\"></path><path d=\"M358.04999999999995,42.125h18.900000000000002v157.875h-18.900000000000002Z\" style=\"fill: #4c78a8;\"></path><path d=\"M967.05,55.25h18.900000000000002v144.75h-18.900000000000002Z\" style=\"fill: #4c78a8;\"></path><path d=\"M1114.05,55.625h18.900000000000002v144.375h-18.900000000000002Z\" style=\"fill: #4c78a8;\"></path><path d=\"M442.04999999999995,59.375h18.900000000000002v140.625h-18.900000000000002Z\" style=\"fill: #4c78a8;\"></path><path d=\"M43.049999999999955,62.125h18.900000000000002v137.875h-18.900000000000002Z\" style=\"fill: #4c78a8;\"></path><path d=\"M1387.05,64.625h18.900000000000002v135.375h-18.900000000000002Z\" style=\"fill: #4c78a8;\"></path><path d=\"M127.04999999999995,67.875h18.900000000000002v132.125h-18.900000000000002Z\" style=\"fill: #4c78a8;\"></path><path d=\"M295.04999999999995,67.875h18.900000000000002v132.125h-18.900000000000002Z\" style=\"fill: #4c78a8;\"></path><path d=\"M1303.05,73h18.900000000000002v127h-18.900000000000002Z\" style=\"fill: #4c78a8;\"></path><path d=\"M610.05,77.375h18.900000000000002v122.625h-18.900000000000002Z\" style=\"fill: #4c78a8;\"></path><path d=\"M652.05,77.375h18.900000000000002v122.625h-18.900000000000002Z\" style=\"fill: #4c78a8;\"></path><path d=\"M1.0499999999999545,77.75000000000001h18.900000000000002v122.24999999999999h-18.900000000000002Z\" style=\"fill: #4c78a8;\"></path><path d=\"M1009.05,87.12500000000001h18.900000000000002v112.87499999999999h-18.900000000000002Z\" style=\"fill: #4c78a8;\"></path><path d=\"M631.05,88.625h18.900000000000002v111.375h-18.900000000000002Z\" style=\"fill: #4c78a8;\"></path><path d=\"M757.05,89.25h18.900000000000002v110.75h-18.900000000000002Z\" style=\"fill: #4c78a8;\"></path><path d=\"M1366.05,89.625h18.900000000000002v110.375h-18.900000000000002Z\" style=\"fill: #4c78a8;\"></path><path d=\"M106.04999999999995,96.50000000000001h18.900000000000002v103.49999999999999h-18.900000000000002Z\" style=\"fill: #4c78a8;\"></path><path d=\"M946.05,97.875h18.900000000000002v102.125h-18.900000000000002Z\" style=\"fill: #4c78a8;\"></path><path d=\"M841.05,99.25h18.900000000000002v100.75h-18.900000000000002Z\" style=\"fill: #4c78a8;\"></path><path d=\"M568.05,99.37499999999999h18.900000000000002v100.62500000000001h-18.900000000000002Z\" style=\"fill: #4c78a8;\"></path><path d=\"M1240.05,100.125h18.900000000000002v99.875h-18.900000000000002Z\" style=\"fill: #4c78a8;\"></path><path d=\"M148.04999999999995,100.875h18.900000000000002v99.125h-18.900000000000002Z\" style=\"fill: #4c78a8;\"></path><path d=\"M925.05,101.125h18.900000000000002v98.875h-18.900000000000002Z\" style=\"fill: #4c78a8;\"></path><path d=\"M1513.05,104.625h18.900000000000002v95.375h-18.900000000000002Z\" style=\"fill: #4c78a8;\"></path><path d=\"M316.04999999999995,105.625h18.900000000000002v94.375h-18.900000000000002Z\" style=\"fill: #4c78a8;\"></path><path d=\"M1471.05,105.625h18.900000000000002v94.375h-18.900000000000002Z\" style=\"fill: #4c78a8;\"></path><path d=\"M505.04999999999995,105.875h18.900000000000002v94.125h-18.900000000000002Z\" style=\"fill: #4c78a8;\"></path><path d=\"M1429.05,106.75h18.900000000000002v93.25h-18.900000000000002Z\" style=\"fill: #4c78a8;\"></path><path d=\"M715.05,106.875h18.900000000000002v93.125h-18.900000000000002Z\" style=\"fill: #4c78a8;\"></path><path d=\"M547.05,107.25h18.900000000000002v92.75h-18.900000000000002Z\" style=\"fill: #4c78a8;\"></path><path d=\"M1576.05,107.5h18.900000000000002v92.5h-18.900000000000002Z\" style=\"fill: #4c78a8;\"></path><path d=\"M1408.05,109.625h18.900000000000002v90.375h-18.900000000000002Z\" style=\"fill: #4c78a8;\"></path><path d=\"M988.05,109.75h18.900000000000002v90.25h-18.900000000000002Z\" style=\"fill: #4c78a8;\"></path><path d=\"M463.04999999999995,110.75h18.900000000000002v89.25h-18.900000000000002Z\" style=\"fill: #4c78a8;\"></path><path d=\"M1030.05,111.75h18.900000000000002v88.25h-18.900000000000002Z\" style=\"fill: #4c78a8;\"></path><path d=\"M1261.05,112.875h18.900000000000002v87.125h-18.900000000000002Z\" style=\"fill: #4c78a8;\"></path><path d=\"M1177.05,120h18.900000000000002v80h-18.900000000000002Z\" style=\"fill: #4c78a8;\"></path><path d=\"M232.04999999999995,122.125h18.900000000000002v77.875h-18.900000000000002Z\" style=\"fill: #4c78a8;\"></path><path d=\"M862.05,123.5h18.900000000000002v76.5h-18.900000000000002Z\" style=\"fill: #4c78a8;\"></path><path d=\"M1324.05,124.625h18.900000000000002v75.375h-18.900000000000002Z\" style=\"fill: #4c78a8;\"></path><path d=\"M484.04999999999995,124.875h18.900000000000002v75.125h-18.900000000000002Z\" style=\"fill: #4c78a8;\"></path><path d=\"M589.05,127.5h18.900000000000002v72.5h-18.900000000000002Z\" style=\"fill: #4c78a8;\"></path><path d=\"M1492.05,127.5h18.900000000000002v72.5h-18.900000000000002Z\" style=\"fill: #4c78a8;\"></path><path d=\"M1345.05,131.5h18.900000000000002v68.5h-18.900000000000002Z\" style=\"fill: #4c78a8;\"></path><path d=\"M85.04999999999995,132.625h18.900000000000002v67.375h-18.900000000000002Z\" style=\"fill: #4c78a8;\"></path><path d=\"M253.04999999999995,133.25h18.900000000000002v66.75h-18.900000000000002Z\" style=\"fill: #4c78a8;\"></path><path d=\"M799.05,135h18.900000000000002v65h-18.900000000000002Z\" style=\"fill: #4c78a8;\"></path><path d=\"M1135.05,136.5h18.900000000000002v63.5h-18.900000000000002Z\" style=\"fill: #4c78a8;\"></path><path d=\"M1198.05,136.75h18.900000000000002v63.25h-18.900000000000002Z\" style=\"fill: #4c78a8;\"></path><path d=\"M274.04999999999995,137.5h18.900000000000002v62.5h-18.900000000000002Z\" style=\"fill: #4c78a8;\"></path><path d=\"M1597.05,139.375h18.900000000000002v60.625h-18.900000000000002Z\" style=\"fill: #4c78a8;\"></path><path d=\"M169.04999999999995,143.375h18.900000000000002v56.625h-18.900000000000002Z\" style=\"fill: #4c78a8;\"></path><path d=\"M1555.05,144.375h18.900000000000002v55.625h-18.900000000000002Z\" style=\"fill: #4c78a8;\"></path><path d=\"M1093.05,145.75h18.900000000000002v54.25h-18.900000000000002Z\" style=\"fill: #4c78a8;\"></path><path d=\"M1450.05,149.5h18.900000000000002v50.5h-18.900000000000002Z\" style=\"fill: #4c78a8;\"></path><path d=\"M883.05,153.5h18.900000000000002v46.5h-18.900000000000002Z\" style=\"fill: #4c78a8;\"></path><path d=\"M1219.05,154.375h18.900000000000002v45.625h-18.900000000000002Z\" style=\"fill: #4c78a8;\"></path><path d=\"M526.05,156.5h18.900000000000002v43.5h-18.900000000000002Z\" style=\"fill: #4c78a8;\"></path><path d=\"M1051.05,157h18.900000000000002v43h-18.900000000000002Z\" style=\"fill: #4c78a8;\"></path><path d=\"M22.049999999999955,159h18.900000000000002v41h-18.900000000000002Z\" style=\"fill: #4c78a8;\"></path><path d=\"M904.05,160.25h18.900000000000002v39.75h-18.900000000000002Z\" style=\"fill: #4c78a8;\"></path><path d=\"M1282.05,160.875h18.900000000000002v39.125h-18.900000000000002Z\" style=\"fill: #4c78a8;\"></path><path d=\"M400.04999999999995,162.375h18.900000000000002v37.625h-18.900000000000002Z\" style=\"fill: #4c78a8;\"></path><path d=\"M190.04999999999995,162.75h18.900000000000002v37.25h-18.900000000000002Z\" style=\"fill: #4c78a8;\"></path><path d=\"M694.05,162.875h18.900000000000002v37.125h-18.900000000000002Z\" style=\"fill: #4c78a8;\"></path><path d=\"M778.05,162.875h18.900000000000002v37.125h-18.900000000000002Z\" style=\"fill: #4c78a8;\"></path><path d=\"M1156.05,163.375h18.900000000000002v36.625h-18.900000000000002Z\" style=\"fill: #4c78a8;\"></path><path d=\"M736.05,170.125h18.900000000000002v29.875h-18.900000000000002Z\" style=\"fill: #4c78a8;\"></path><path d=\"M1534.05,170.625h18.900000000000002v29.375h-18.900000000000002Z\" style=\"fill: #4c78a8;\"></path><path d=\"M673.05,177h18.900000000000002v23h-18.900000000000002Z\" style=\"fill: #4c78a8;\"></path><path d=\"M211.04999999999995,182.75h18.900000000000002v17.25h-18.900000000000002Z\" style=\"fill: #4c78a8;\"></path><path d=\"M421.04999999999995,184.375h18.900000000000002v15.625h-18.900000000000002Z\" style=\"fill: #4c78a8;\"></path><path d=\"M337.04999999999995,184.75h18.900000000000002v15.25h-18.900000000000002Z\" style=\"fill: #4c78a8;\"></path><path d=\"M820.05,188.125h18.900000000000002v11.875h-18.900000000000002Z\" style=\"fill: #4c78a8;\"></path></g><g class=\"mark-group role-axis\"><g transform=\"translate(0.5,200.5)\"><path class=\"background\" d=\"M0,0h0v0h0Z\" style=\"pointer-events: none; fill: none;\"></path><g><g class=\"mark-rule role-axis-tick\" style=\"pointer-events: none;\"><line transform=\"translate(9,0)\" x2=\"0\" y2=\"5\" style=\"fill: none; stroke: #888; stroke-width: 1; opacity: 1;\"></line><line transform=\"translate(30,0)\" x2=\"0\" y2=\"5\" style=\"fill: none; stroke: #888; stroke-width: 1; opacity: 1;\"></line><line transform=\"translate(51,0)\" x2=\"0\" y2=\"5\" style=\"fill: none; stroke: #888; stroke-width: 1; opacity: 1;\"></line><line transform=\"translate(72,0)\" x2=\"0\" y2=\"5\" style=\"fill: none; stroke: #888; stroke-width: 1; opacity: 1;\"></line><line transform=\"translate(93,0)\" x2=\"0\" y2=\"5\" style=\"fill: none; stroke: #888; stroke-width: 1; opacity: 1;\"></line><line transform=\"translate(114,0)\" x2=\"0\" y2=\"5\" style=\"fill: none; stroke: #888; stroke-width: 1; opacity: 1;\"></line><line transform=\"translate(135,0)\" x2=\"0\" y2=\"5\" style=\"fill: none; stroke: #888; stroke-width: 1; opacity: 1;\"></line><line transform=\"translate(156,0)\" x2=\"0\" y2=\"5\" style=\"fill: none; stroke: #888; stroke-width: 1; opacity: 1;\"></line><line transform=\"translate(177,0)\" x2=\"0\" y2=\"5\" style=\"fill: none; stroke: #888; stroke-width: 1; opacity: 1;\"></line><line transform=\"translate(198,0)\" x2=\"0\" y2=\"5\" style=\"fill: none; stroke: #888; stroke-width: 1; opacity: 1;\"></line><line transform=\"translate(219,0)\" x2=\"0\" y2=\"5\" style=\"fill: none; stroke: #888; stroke-width: 1; opacity: 1;\"></line><line transform=\"translate(240,0)\" x2=\"0\" y2=\"5\" style=\"fill: none; stroke: #888; stroke-width: 1; opacity: 1;\"></line><line transform=\"translate(261,0)\" x2=\"0\" y2=\"5\" style=\"fill: none; stroke: #888; stroke-width: 1; opacity: 1;\"></line><line transform=\"translate(282,0)\" x2=\"0\" y2=\"5\" style=\"fill: none; stroke: #888; stroke-width: 1; opacity: 1;\"></line><line transform=\"translate(303,0)\" x2=\"0\" y2=\"5\" style=\"fill: none; stroke: #888; stroke-width: 1; opacity: 1;\"></line><line transform=\"translate(324,0)\" x2=\"0\" y2=\"5\" style=\"fill: none; stroke: #888; stroke-width: 1; opacity: 1;\"></line><line transform=\"translate(345,0)\" x2=\"0\" y2=\"5\" style=\"fill: none; stroke: #888; stroke-width: 1; opacity: 1;\"></line><line transform=\"translate(366,0)\" x2=\"0\" y2=\"5\" style=\"fill: none; stroke: #888; stroke-width: 1; opacity: 1;\"></line><line transform=\"translate(387,0)\" x2=\"0\" y2=\"5\" style=\"fill: none; stroke: #888; stroke-width: 1; opacity: 1;\"></line><line transform=\"translate(408,0)\" x2=\"0\" y2=\"5\" style=\"fill: none; stroke: #888; stroke-width: 1; opacity: 1;\"></line><line transform=\"translate(429,0)\" x2=\"0\" y2=\"5\" style=\"fill: none; stroke: #888; stroke-width: 1; opacity: 1;\"></line><line transform=\"translate(450,0)\" x2=\"0\" y2=\"5\" style=\"fill: none; stroke: #888; stroke-width: 1; opacity: 1;\"></line><line transform=\"translate(471,0)\" x2=\"0\" y2=\"5\" style=\"fill: none; stroke: #888; stroke-width: 1; opacity: 1;\"></line><line transform=\"translate(492,0)\" x2=\"0\" y2=\"5\" style=\"fill: none; stroke: #888; stroke-width: 1; opacity: 1;\"></line><line transform=\"translate(514,0)\" x2=\"0\" y2=\"5\" style=\"fill: none; stroke: #888; stroke-width: 1; opacity: 1;\"></line><line transform=\"translate(535,0)\" x2=\"0\" y2=\"5\" style=\"fill: none; stroke: #888; stroke-width: 1; opacity: 1;\"></line><line transform=\"translate(556,0)\" x2=\"0\" y2=\"5\" style=\"fill: none; stroke: #888; stroke-width: 1; opacity: 1;\"></line><line transform=\"translate(577,0)\" x2=\"0\" y2=\"5\" style=\"fill: none; stroke: #888; stroke-width: 1; opacity: 1;\"></line><line transform=\"translate(598,0)\" x2=\"0\" y2=\"5\" style=\"fill: none; stroke: #888; stroke-width: 1; opacity: 1;\"></line><line transform=\"translate(619,0)\" x2=\"0\" y2=\"5\" style=\"fill: none; stroke: #888; stroke-width: 1; opacity: 1;\"></line><line transform=\"translate(640,0)\" x2=\"0\" y2=\"5\" style=\"fill: none; stroke: #888; stroke-width: 1; opacity: 1;\"></line><line transform=\"translate(661,0)\" x2=\"0\" y2=\"5\" style=\"fill: none; stroke: #888; stroke-width: 1; opacity: 1;\"></line><line transform=\"translate(682,0)\" x2=\"0\" y2=\"5\" style=\"fill: none; stroke: #888; stroke-width: 1; opacity: 1;\"></line><line transform=\"translate(703,0)\" x2=\"0\" y2=\"5\" style=\"fill: none; stroke: #888; stroke-width: 1; opacity: 1;\"></line><line transform=\"translate(724,0)\" x2=\"0\" y2=\"5\" style=\"fill: none; stroke: #888; stroke-width: 1; opacity: 1;\"></line><line transform=\"translate(745,0)\" x2=\"0\" y2=\"5\" style=\"fill: none; stroke: #888; stroke-width: 1; opacity: 1;\"></line><line transform=\"translate(766,0)\" x2=\"0\" y2=\"5\" style=\"fill: none; stroke: #888; stroke-width: 1; opacity: 1;\"></line><line transform=\"translate(787,0)\" x2=\"0\" y2=\"5\" style=\"fill: none; stroke: #888; stroke-width: 1; opacity: 1;\"></line><line transform=\"translate(808,0)\" x2=\"0\" y2=\"5\" style=\"fill: none; stroke: #888; stroke-width: 1; opacity: 1;\"></line><line transform=\"translate(829,0)\" x2=\"0\" y2=\"5\" style=\"fill: none; stroke: #888; stroke-width: 1; opacity: 1;\"></line><line transform=\"translate(850,0)\" x2=\"0\" y2=\"5\" style=\"fill: none; stroke: #888; stroke-width: 1; opacity: 1;\"></line><line transform=\"translate(871,0)\" x2=\"0\" y2=\"5\" style=\"fill: none; stroke: #888; stroke-width: 1; opacity: 1;\"></line><line transform=\"translate(892,0)\" x2=\"0\" y2=\"5\" style=\"fill: none; stroke: #888; stroke-width: 1; opacity: 1;\"></line><line transform=\"translate(913,0)\" x2=\"0\" y2=\"5\" style=\"fill: none; stroke: #888; stroke-width: 1; opacity: 1;\"></line><line transform=\"translate(934,0)\" x2=\"0\" y2=\"5\" style=\"fill: none; stroke: #888; stroke-width: 1; opacity: 1;\"></line><line transform=\"translate(955,0)\" x2=\"0\" y2=\"5\" style=\"fill: none; stroke: #888; stroke-width: 1; opacity: 1;\"></line><line transform=\"translate(976,0)\" x2=\"0\" y2=\"5\" style=\"fill: none; stroke: #888; stroke-width: 1; opacity: 1;\"></line><line transform=\"translate(997,0)\" x2=\"0\" y2=\"5\" style=\"fill: none; stroke: #888; stroke-width: 1; opacity: 1;\"></line><line transform=\"translate(1018,0)\" x2=\"0\" y2=\"5\" style=\"fill: none; stroke: #888; stroke-width: 1; opacity: 1;\"></line><line transform=\"translate(1039,0)\" x2=\"0\" y2=\"5\" style=\"fill: none; stroke: #888; stroke-width: 1; opacity: 1;\"></line><line transform=\"translate(1060,0)\" x2=\"0\" y2=\"5\" style=\"fill: none; stroke: #888; stroke-width: 1; opacity: 1;\"></line><line transform=\"translate(1081,0)\" x2=\"0\" y2=\"5\" style=\"fill: none; stroke: #888; stroke-width: 1; opacity: 1;\"></line><line transform=\"translate(1102,0)\" x2=\"0\" y2=\"5\" style=\"fill: none; stroke: #888; stroke-width: 1; opacity: 1;\"></line><line transform=\"translate(1123,0)\" x2=\"0\" y2=\"5\" style=\"fill: none; stroke: #888; stroke-width: 1; opacity: 1;\"></line><line transform=\"translate(1144,0)\" x2=\"0\" y2=\"5\" style=\"fill: none; stroke: #888; stroke-width: 1; opacity: 1;\"></line><line transform=\"translate(1165,0)\" x2=\"0\" y2=\"5\" style=\"fill: none; stroke: #888; stroke-width: 1; opacity: 1;\"></line><line transform=\"translate(1186,0)\" x2=\"0\" y2=\"5\" style=\"fill: none; stroke: #888; stroke-width: 1; opacity: 1;\"></line><line transform=\"translate(1207,0)\" x2=\"0\" y2=\"5\" style=\"fill: none; stroke: #888; stroke-width: 1; opacity: 1;\"></line><line transform=\"translate(1228,0)\" x2=\"0\" y2=\"5\" style=\"fill: none; stroke: #888; stroke-width: 1; opacity: 1;\"></line><line transform=\"translate(1249,0)\" x2=\"0\" y2=\"5\" style=\"fill: none; stroke: #888; stroke-width: 1; opacity: 1;\"></line><line transform=\"translate(1270,0)\" x2=\"0\" y2=\"5\" style=\"fill: none; stroke: #888; stroke-width: 1; opacity: 1;\"></line><line transform=\"translate(1291,0)\" x2=\"0\" y2=\"5\" style=\"fill: none; stroke: #888; stroke-width: 1; opacity: 1;\"></line><line transform=\"translate(1312,0)\" x2=\"0\" y2=\"5\" style=\"fill: none; stroke: #888; stroke-width: 1; opacity: 1;\"></line><line transform=\"translate(1333,0)\" x2=\"0\" y2=\"5\" style=\"fill: none; stroke: #888; stroke-width: 1; opacity: 1;\"></line><line transform=\"translate(1354,0)\" x2=\"0\" y2=\"5\" style=\"fill: none; stroke: #888; stroke-width: 1; opacity: 1;\"></line><line transform=\"translate(1375,0)\" x2=\"0\" y2=\"5\" style=\"fill: none; stroke: #888; stroke-width: 1; opacity: 1;\"></line><line transform=\"translate(1396,0)\" x2=\"0\" y2=\"5\" style=\"fill: none; stroke: #888; stroke-width: 1; opacity: 1;\"></line><line transform=\"translate(1417,0)\" x2=\"0\" y2=\"5\" style=\"fill: none; stroke: #888; stroke-width: 1; opacity: 1;\"></line><line transform=\"translate(1438,0)\" x2=\"0\" y2=\"5\" style=\"fill: none; stroke: #888; stroke-width: 1; opacity: 1;\"></line><line transform=\"translate(1459,0)\" x2=\"0\" y2=\"5\" style=\"fill: none; stroke: #888; stroke-width: 1; opacity: 1;\"></line><line transform=\"translate(1480,0)\" x2=\"0\" y2=\"5\" style=\"fill: none; stroke: #888; stroke-width: 1; opacity: 1;\"></line><line transform=\"translate(1501,0)\" x2=\"0\" y2=\"5\" style=\"fill: none; stroke: #888; stroke-width: 1; opacity: 1;\"></line><line transform=\"translate(1522,0)\" x2=\"0\" y2=\"5\" style=\"fill: none; stroke: #888; stroke-width: 1; opacity: 1;\"></line><line transform=\"translate(1543,0)\" x2=\"0\" y2=\"5\" style=\"fill: none; stroke: #888; stroke-width: 1; opacity: 1;\"></line><line transform=\"translate(1564,0)\" x2=\"0\" y2=\"5\" style=\"fill: none; stroke: #888; stroke-width: 1; opacity: 1;\"></line><line transform=\"translate(1585,0)\" x2=\"0\" y2=\"5\" style=\"fill: none; stroke: #888; stroke-width: 1; opacity: 1;\"></line><line transform=\"translate(1606,0)\" x2=\"0\" y2=\"5\" style=\"fill: none; stroke: #888; stroke-width: 1; opacity: 1;\"></line></g><g class=\"mark-text role-axis-label\" style=\"pointer-events: none;\"><text text-anchor=\"end\" transform=\"translate(9.499999999999956,7) rotate(270) translate(0,3)\" style=\"font-family: sans-serif; font-size: 10px; fill: #000; opacity: 1;\">Alice Mutton</text><text text-anchor=\"end\" transform=\"translate(30.499999999999957,7) rotate(270) translate(0,3)\" style=\"font-family: sans-serif; font-size: 10px; fill: #000; opacity: 1;\">Aniseed Syrup</text><text text-anchor=\"end\" transform=\"translate(51.49999999999996,7) rotate(270) translate(0,3)\" style=\"font-family: sans-serif; font-size: 10px; fill: #000; opacity: 1;\">Boston Crab Meat</text><text text-anchor=\"end\" transform=\"translate(72.49999999999996,7) rotate(270) translate(0,3)\" style=\"font-family: sans-serif; font-size: 10px; fill: #000; opacity: 1;\">Camembert Pierrot</text><text text-anchor=\"end\" transform=\"translate(93.49999999999996,7) rotate(270) translate(0,3)\" style=\"font-family: sans-serif; font-size: 10px; fill: #000; opacity: 1;\">Carnarvon Tigers</text><text text-anchor=\"end\" transform=\"translate(114.49999999999996,7) rotate(270) translate(0,3)\" style=\"font-family: sans-serif; font-size: 10px; fill: #000; opacity: 1;\">Chai</text><text text-anchor=\"end\" transform=\"translate(135.49999999999994,7) rotate(270) translate(0,3)\" style=\"font-family: sans-serif; font-size: 10px; fill: #000; opacity: 1;\">Chang</text><text text-anchor=\"end\" transform=\"translate(156.49999999999994,7) rotate(270) translate(0,3)\" style=\"font-family: sans-serif; font-size: 10px; fill: #000; opacity: 1;\">Chartreuse verte</text><text text-anchor=\"end\" transform=\"translate(177.49999999999994,7) rotate(270) translate(0,3)\" style=\"font-family: sans-serif; font-size: 10px; fill: #000; opacity: 1;\">Chef Antons Cajun Sea…</text><text text-anchor=\"end\" transform=\"translate(198.49999999999994,7) rotate(270) translate(0,3)\" style=\"font-family: sans-serif; font-size: 10px; fill: #000; opacity: 1;\">Chef Antons Gumbo Mix</text><text text-anchor=\"end\" transform=\"translate(219.49999999999994,7) rotate(270) translate(0,3)\" style=\"font-family: sans-serif; font-size: 10px; fill: #000; opacity: 1;\">Chocolade</text><text text-anchor=\"end\" transform=\"translate(240.49999999999994,7) rotate(270) translate(0,3)\" style=\"font-family: sans-serif; font-size: 10px; fill: #000; opacity: 1;\">Côte de Blaye</text><text text-anchor=\"end\" transform=\"translate(261.49999999999994,7) rotate(270) translate(0,3)\" style=\"font-family: sans-serif; font-size: 10px; fill: #000; opacity: 1;\">Escargots de Bourgogne</text><text text-anchor=\"end\" transform=\"translate(282.49999999999994,7) rotate(270) translate(0,3)\" style=\"font-family: sans-serif; font-size: 10px; fill: #000; opacity: 1;\">Filo Mix</text><text text-anchor=\"end\" transform=\"translate(303.49999999999994,7) rotate(270) translate(0,3)\" style=\"font-family: sans-serif; font-size: 10px; fill: #000; opacity: 1;\">Flotemysost</text><text text-anchor=\"end\" transform=\"translate(324.49999999999994,7) rotate(270) translate(0,3)\" style=\"font-family: sans-serif; font-size: 10px; fill: #000; opacity: 1;\">Geitost</text><text text-anchor=\"end\" transform=\"translate(345.49999999999994,7) rotate(270) translate(0,3)\" style=\"font-family: sans-serif; font-size: 10px; fill: #000; opacity: 1;\">Genen Shouyu</text><text text-anchor=\"end\" transform=\"translate(366.49999999999994,7) rotate(270) translate(0,3)\" style=\"font-family: sans-serif; font-size: 10px; fill: #000; opacity: 1;\">Gnocchi di nonna Alice</text><text text-anchor=\"end\" transform=\"translate(387.49999999999994,7) rotate(270) translate(0,3)\" style=\"font-family: sans-serif; font-size: 10px; fill: #000; opacity: 1;\">Gorgonzola Telino</text><text text-anchor=\"end\" transform=\"translate(408.49999999999994,7) rotate(270) translate(0,3)\" style=\"font-family: sans-serif; font-size: 10px; fill: #000; opacity: 1;\">Grandmas Boysenberry …</text><text text-anchor=\"end\" transform=\"translate(429.49999999999994,7) rotate(270) translate(0,3)\" style=\"font-family: sans-serif; font-size: 10px; fill: #000; opacity: 1;\">Gravad lax</text><text text-anchor=\"end\" transform=\"translate(450.49999999999994,7) rotate(270) translate(0,3)\" style=\"font-family: sans-serif; font-size: 10px; fill: #000; opacity: 1;\">Guaraná Fantástica</text><text text-anchor=\"end\" transform=\"translate(471.49999999999994,7) rotate(270) translate(0,3)\" style=\"font-family: sans-serif; font-size: 10px; fill: #000; opacity: 1;\">Gudbrandsdalsost</text><text text-anchor=\"end\" transform=\"translate(492.49999999999994,7) rotate(270) translate(0,3)\" style=\"font-family: sans-serif; font-size: 10px; fill: #000; opacity: 1;\">Gula Malacca</text><text text-anchor=\"end\" transform=\"translate(513.5,7) rotate(270) translate(0,3)\" style=\"font-family: sans-serif; font-size: 10px; fill: #000; opacity: 1;\">Gumbär Gummibärchen</text><text text-anchor=\"end\" transform=\"translate(534.5,7) rotate(270) translate(0,3)\" style=\"font-family: sans-serif; font-size: 10px; fill: #000; opacity: 1;\">Gustafs Knäckebröd</text><text text-anchor=\"end\" transform=\"translate(555.5,7) rotate(270) translate(0,3)\" style=\"font-family: sans-serif; font-size: 10px; fill: #000; opacity: 1;\">Ikura</text><text text-anchor=\"end\" transform=\"translate(576.5,7) rotate(270) translate(0,3)\" style=\"font-family: sans-serif; font-size: 10px; fill: #000; opacity: 1;\">Inlagd Sill</text><text text-anchor=\"end\" transform=\"translate(597.5,7) rotate(270) translate(0,3)\" style=\"font-family: sans-serif; font-size: 10px; fill: #000; opacity: 1;\">Ipoh Coffee</text><text text-anchor=\"end\" transform=\"translate(618.5,7) rotate(270) translate(0,3)\" style=\"font-family: sans-serif; font-size: 10px; fill: #000; opacity: 1;\">Jack</text><text text-anchor=\"end\" transform=\"translate(639.5,7) rotate(270) translate(0,3)\" style=\"font-family: sans-serif; font-size: 10px; fill: #000; opacity: 1;\">Konbu</text><text text-anchor=\"end\" transform=\"translate(660.5,7) rotate(270) translate(0,3)\" style=\"font-family: sans-serif; font-size: 10px; fill: #000; opacity: 1;\">Lakkalikööri</text><text text-anchor=\"end\" transform=\"translate(681.5,7) rotate(270) translate(0,3)\" style=\"font-family: sans-serif; font-size: 10px; fill: #000; opacity: 1;\">Laughing Lumberjack L…</text><text text-anchor=\"end\" transform=\"translate(702.5,7) rotate(270) translate(0,3)\" style=\"font-family: sans-serif; font-size: 10px; fill: #000; opacity: 1;\">Longlife Tofu</text><text text-anchor=\"end\" transform=\"translate(723.5,7) rotate(270) translate(0,3)\" style=\"font-family: sans-serif; font-size: 10px; fill: #000; opacity: 1;\">Louisiana Fiery Hot P…</text><text text-anchor=\"end\" transform=\"translate(744.5,7) rotate(270) translate(0,3)\" style=\"font-family: sans-serif; font-size: 10px; fill: #000; opacity: 1;\">Louisiana Hot Spiced …</text><text text-anchor=\"end\" transform=\"translate(765.5,7) rotate(270) translate(0,3)\" style=\"font-family: sans-serif; font-size: 10px; fill: #000; opacity: 1;\">Manjimup Dried Apples</text><text text-anchor=\"end\" transform=\"translate(786.5,7) rotate(270) translate(0,3)\" style=\"font-family: sans-serif; font-size: 10px; fill: #000; opacity: 1;\">Mascarpone Fabioli</text><text text-anchor=\"end\" transform=\"translate(807.5,7) rotate(270) translate(0,3)\" style=\"font-family: sans-serif; font-size: 10px; fill: #000; opacity: 1;\">Maxilaku</text><text text-anchor=\"end\" transform=\"translate(828.5,7) rotate(270) translate(0,3)\" style=\"font-family: sans-serif; font-size: 10px; fill: #000; opacity: 1;\">Mishi Kobe Niku</text><text text-anchor=\"end\" transform=\"translate(849.5,7) rotate(270) translate(0,3)\" style=\"font-family: sans-serif; font-size: 10px; fill: #000; opacity: 1;\">Mozzarella di Giovanni</text><text text-anchor=\"end\" transform=\"translate(870.5,7) rotate(270) translate(0,3)\" style=\"font-family: sans-serif; font-size: 10px; fill: #000; opacity: 1;\">Nord-Ost Matjeshering</text><text text-anchor=\"end\" transform=\"translate(891.5,7) rotate(270) translate(0,3)\" style=\"font-family: sans-serif; font-size: 10px; fill: #000; opacity: 1;\">Northwoods Cranberry …</text><text text-anchor=\"end\" transform=\"translate(912.5,7) rotate(270) translate(0,3)\" style=\"font-family: sans-serif; font-size: 10px; fill: #000; opacity: 1;\">NuNuCa Nuß-Nougat-Cre…</text><text text-anchor=\"end\" transform=\"translate(933.5,7) rotate(270) translate(0,3)\" style=\"font-family: sans-serif; font-size: 10px; fill: #000; opacity: 1;\">Original Frankfurter …</text><text text-anchor=\"end\" transform=\"translate(954.5,7) rotate(270) translate(0,3)\" style=\"font-family: sans-serif; font-size: 10px; fill: #000; opacity: 1;\">Outback Lager</text><text text-anchor=\"end\" transform=\"translate(975.5,7) rotate(270) translate(0,3)\" style=\"font-family: sans-serif; font-size: 10px; fill: #000; opacity: 1;\">Pavlova</text><text text-anchor=\"end\" transform=\"translate(996.5,7) rotate(270) translate(0,3)\" style=\"font-family: sans-serif; font-size: 10px; fill: #000; opacity: 1;\">Perth Pasties</text><text text-anchor=\"end\" transform=\"translate(1017.5,7) rotate(270) translate(0,3)\" style=\"font-family: sans-serif; font-size: 10px; fill: #000; opacity: 1;\">Pâté chinois</text><text text-anchor=\"end\" transform=\"translate(1038.5,7) rotate(270) translate(0,3)\" style=\"font-family: sans-serif; font-size: 10px; fill: #000; opacity: 1;\">Queso Cabrales</text><text text-anchor=\"end\" transform=\"translate(1059.5,7) rotate(270) translate(0,3)\" style=\"font-family: sans-serif; font-size: 10px; fill: #000; opacity: 1;\">Queso Manchego La Pas…</text><text text-anchor=\"end\" transform=\"translate(1080.5,7) rotate(270) translate(0,3)\" style=\"font-family: sans-serif; font-size: 10px; fill: #000; opacity: 1;\">Raclette Courdavault</text><text text-anchor=\"end\" transform=\"translate(1101.5,7) rotate(270) translate(0,3)\" style=\"font-family: sans-serif; font-size: 10px; fill: #000; opacity: 1;\">Ravioli Angelo</text><text text-anchor=\"end\" transform=\"translate(1122.5,7) rotate(270) translate(0,3)\" style=\"font-family: sans-serif; font-size: 10px; fill: #000; opacity: 1;\">Rhönbräu Klosterbier</text><text text-anchor=\"end\" transform=\"translate(1143.5,7) rotate(270) translate(0,3)\" style=\"font-family: sans-serif; font-size: 10px; fill: #000; opacity: 1;\">Rogede sild</text><text text-anchor=\"end\" transform=\"translate(1164.5,7) rotate(270) translate(0,3)\" style=\"font-family: sans-serif; font-size: 10px; fill: #000; opacity: 1;\">Röd Kaviar</text><text text-anchor=\"end\" transform=\"translate(1185.5,7) rotate(270) translate(0,3)\" style=\"font-family: sans-serif; font-size: 10px; fill: #000; opacity: 1;\">Rössle Sauerkraut</text><text text-anchor=\"end\" transform=\"translate(1206.5,7) rotate(270) translate(0,3)\" style=\"font-family: sans-serif; font-size: 10px; fill: #000; opacity: 1;\">Sasquatch Ale</text><text text-anchor=\"end\" transform=\"translate(1227.5,7) rotate(270) translate(0,3)\" style=\"font-family: sans-serif; font-size: 10px; fill: #000; opacity: 1;\">Schoggi Schokolade</text><text text-anchor=\"end\" transform=\"translate(1248.5,7) rotate(270) translate(0,3)\" style=\"font-family: sans-serif; font-size: 10px; fill: #000; opacity: 1;\">Scottish Longbreads</text><text text-anchor=\"end\" transform=\"translate(1269.5,7) rotate(270) translate(0,3)\" style=\"font-family: sans-serif; font-size: 10px; fill: #000; opacity: 1;\">Singaporean Hokkien F…</text><text text-anchor=\"end\" transform=\"translate(1290.5,7) rotate(270) translate(0,3)\" style=\"font-family: sans-serif; font-size: 10px; fill: #000; opacity: 1;\">Sir Rodneys Marmalade</text><text text-anchor=\"end\" transform=\"translate(1311.5,7) rotate(270) translate(0,3)\" style=\"font-family: sans-serif; font-size: 10px; fill: #000; opacity: 1;\">Sir Rodneys Scones</text><text text-anchor=\"end\" transform=\"translate(1332.5,7) rotate(270) translate(0,3)\" style=\"font-family: sans-serif; font-size: 10px; fill: #000; opacity: 1;\">Sirop d</text><text text-anchor=\"end\" transform=\"translate(1353.5,7) rotate(270) translate(0,3)\" style=\"font-family: sans-serif; font-size: 10px; fill: #000; opacity: 1;\">Spegesild</text><text text-anchor=\"end\" transform=\"translate(1374.5,7) rotate(270) translate(0,3)\" style=\"font-family: sans-serif; font-size: 10px; fill: #000; opacity: 1;\">Steeleye Stout</text><text text-anchor=\"end\" transform=\"translate(1395.5,7) rotate(270) translate(0,3)\" style=\"font-family: sans-serif; font-size: 10px; fill: #000; opacity: 1;\">Tarte au sucre</text><text text-anchor=\"end\" transform=\"translate(1416.5,7) rotate(270) translate(0,3)\" style=\"font-family: sans-serif; font-size: 10px; fill: #000; opacity: 1;\">Teatime Chocolate Bis…</text><text text-anchor=\"end\" transform=\"translate(1437.5,7) rotate(270) translate(0,3)\" style=\"font-family: sans-serif; font-size: 10px; fill: #000; opacity: 1;\">Thüringer Rostbratwur…</text><text text-anchor=\"end\" transform=\"translate(1458.5,7) rotate(270) translate(0,3)\" style=\"font-family: sans-serif; font-size: 10px; fill: #000; opacity: 1;\">Tofu</text><text text-anchor=\"end\" transform=\"translate(1479.5,7) rotate(270) translate(0,3)\" style=\"font-family: sans-serif; font-size: 10px; fill: #000; opacity: 1;\">Tourtière</text><text text-anchor=\"end\" transform=\"translate(1500.5,7) rotate(270) translate(0,3)\" style=\"font-family: sans-serif; font-size: 10px; fill: #000; opacity: 1;\">Tunnbröd</text><text text-anchor=\"end\" transform=\"translate(1521.5,7) rotate(270) translate(0,3)\" style=\"font-family: sans-serif; font-size: 10px; fill: #000; opacity: 1;\">Uncle Bobs Organic Dr…</text><text text-anchor=\"end\" transform=\"translate(1542.5,7) rotate(270) translate(0,3)\" style=\"font-family: sans-serif; font-size: 10px; fill: #000; opacity: 1;\">Valkoinen suklaa</text><text text-anchor=\"end\" transform=\"translate(1563.5,7) rotate(270) translate(0,3)\" style=\"font-family: sans-serif; font-size: 10px; fill: #000; opacity: 1;\">Vegie-spread</text><text text-anchor=\"end\" transform=\"translate(1584.5,7) rotate(270) translate(0,3)\" style=\"font-family: sans-serif; font-size: 10px; fill: #000; opacity: 1;\">Wimmers gute Semmelkn…</text><text text-anchor=\"end\" transform=\"translate(1605.5,7) rotate(270) translate(0,3)\" style=\"font-family: sans-serif; font-size: 10px; fill: #000; opacity: 1;\">Zaanse koeken</text></g><g class=\"mark-rule role-axis-domain\" style=\"pointer-events: none;\"><line transform=\"translate(0,0)\" x2=\"1617\" y2=\"0\" style=\"fill: none; stroke: #888; stroke-width: 1; opacity: 1;\"></line></g><g class=\"mark-text role-axis-title\" style=\"pointer-events: none;\"><text text-anchor=\"middle\" transform=\"translate(808.5,197)\" style=\"font-family: sans-serif; font-size: 11px; font-weight: bold; fill: #000; opacity: 1;\">ProductName</text></g></g></g></g><g class=\"mark-group role-axis\"><g transform=\"translate(0.5,0.5)\"><path class=\"background\" d=\"M0,0h0v0h0Z\" style=\"pointer-events: none; fill: none;\"></path><g><g class=\"mark-rule role-axis-tick\" style=\"pointer-events: none;\"><line transform=\"translate(0,200)\" x2=\"-5\" y2=\"0\" style=\"fill: none; stroke: #888; stroke-width: 1; opacity: 1;\"></line><line transform=\"translate(0,138)\" x2=\"-5\" y2=\"0\" style=\"fill: none; stroke: #888; stroke-width: 1; opacity: 1;\"></line><line transform=\"translate(0,75)\" x2=\"-5\" y2=\"0\" style=\"fill: none; stroke: #888; stroke-width: 1; opacity: 1;\"></line><line transform=\"translate(0,13)\" x2=\"-5\" y2=\"0\" style=\"fill: none; stroke: #888; stroke-width: 1; opacity: 1;\"></line></g><g class=\"mark-text role-axis-label\" style=\"pointer-events: none;\"><text text-anchor=\"end\" transform=\"translate(-7,203)\" style=\"font-family: sans-serif; font-size: 10px; fill: #000; opacity: 1;\">0</text><text text-anchor=\"end\" transform=\"translate(-7,140.5)\" style=\"font-family: sans-serif; font-size: 10px; fill: #000; opacity: 1;\">500</text><text text-anchor=\"end\" transform=\"translate(-7,78)\" style=\"font-family: sans-serif; font-size: 10px; fill: #000; opacity: 1;\">1,000</text><text text-anchor=\"end\" transform=\"translate(-7,15.5)\" style=\"font-family: sans-serif; font-size: 10px; fill: #000; opacity: 1;\">1,500</text></g><g class=\"mark-rule role-axis-domain\" style=\"pointer-events: none;\"><line transform=\"translate(0,200)\" x2=\"0\" y2=\"-200\" style=\"fill: none; stroke: #888; stroke-width: 1; opacity: 1;\"></line></g><g class=\"mark-text role-axis-title\" style=\"pointer-events: none;\"><text text-anchor=\"middle\" transform=\"translate(-52,100) rotate(-90) translate(0,-2)\" style=\"font-family: sans-serif; font-size: 11px; font-weight: bold; fill: #000; opacity: 1;\">Total_Qty</text></g></g></g></g></g></g></g></g></svg>"
      ],
      "text/plain": [
       "VegaLite.VLSpec{:plot}"
      ]
     },
     "execution_count": 102,
     "metadata": {},
     "output_type": "execute_result"
    }
   ],
   "source": [
    "Prod |> @vlplot(:bar, x=:ProductName, y=:Total_Qty)"
   ]
  },
  {
   "cell_type": "markdown",
   "metadata": {},
   "source": [
    "#### Top 10 revenue generating products in the Fiscal Year"
   ]
  },
  {
   "cell_type": "code",
   "execution_count": 63,
   "metadata": {
    "scrolled": true
   },
   "outputs": [
    {
     "data": {
      "text/html": [
       "<table class=\"data-frame\"><thead><tr><th></th><th>ProductName</th><th>sales</th></tr><tr><th></th><th>String⍰</th><th>Float64⍰</th></tr></thead><tbody><p>10 rows × 2 columns</p><tr><th>1</th><td>Côte de Blaye</td><td>178653.0</td></tr><tr><th>2</th><td>Thüringer Rostbratwurst</td><td>1.29732e5</td></tr><tr><th>3</th><td>Raclette Courdavault</td><td>104280.0</td></tr><tr><th>4</th><td>Manjimup Dried Apples</td><td>71762.0</td></tr><tr><th>5</th><td>Tarte au sucre</td><td>70992.0</td></tr><tr><th>6</th><td>Camembert Pierrot</td><td>66572.0</td></tr><tr><th>7</th><td>Gnocchi di nonna Alice</td><td>58900.0</td></tr><tr><th>8</th><td>Alice Mutton</td><td>49686.0</td></tr><tr><th>9</th><td>Carnarvon Tigers</td><td>47250.0</td></tr><tr><th>10</th><td>Uncle Bobs Organic Dried Pears</td><td>37560.0</td></tr></tbody></table>"
      ],
      "text/latex": [
       "\\begin{tabular}{r|cc}\n",
       "\t& ProductName & sales\\\\\n",
       "\t\\hline\n",
       "\t& String⍰ & Float64⍰\\\\\n",
       "\t\\hline\n",
       "\t1 & Côte de Blaye & 178653.0 \\\\\n",
       "\t2 & Thüringer Rostbratwurst & 1.29732e5 \\\\\n",
       "\t3 & Raclette Courdavault & 104280.0 \\\\\n",
       "\t4 & Manjimup Dried Apples & 71762.0 \\\\\n",
       "\t5 & Tarte au sucre & 70992.0 \\\\\n",
       "\t6 & Camembert Pierrot & 66572.0 \\\\\n",
       "\t7 & Gnocchi di nonna Alice & 58900.0 \\\\\n",
       "\t8 & Alice Mutton & 49686.0 \\\\\n",
       "\t9 & Carnarvon Tigers & 47250.0 \\\\\n",
       "\t10 & Uncle Bobs Organic Dried Pears & 37560.0 \\\\\n",
       "\\end{tabular}\n"
      ],
      "text/plain": [
       "10×2 DataFrame\n",
       "│ Row │ ProductName                    │ sales     │\n",
       "│     │ \u001b[90mUnion{Missing, String}\u001b[39m         │ \u001b[90mFloat64⍰\u001b[39m  │\n",
       "├─────┼────────────────────────────────┼───────────┤\n",
       "│ 1   │ Côte de Blaye                  │ 178653.0  │\n",
       "│ 2   │ Thüringer Rostbratwurst        │ 1.29732e5 │\n",
       "│ 3   │ Raclette Courdavault           │ 104280.0  │\n",
       "│ 4   │ Manjimup Dried Apples          │ 71762.0   │\n",
       "│ 5   │ Tarte au sucre                 │ 70992.0   │\n",
       "│ 6   │ Camembert Pierrot              │ 66572.0   │\n",
       "│ 7   │ Gnocchi di nonna Alice         │ 58900.0   │\n",
       "│ 8   │ Alice Mutton                   │ 49686.0   │\n",
       "│ 9   │ Carnarvon Tigers               │ 47250.0   │\n",
       "│ 10  │ Uncle Bobs Organic Dried Pears │ 37560.0   │"
      ]
     },
     "execution_count": 63,
     "metadata": {},
     "output_type": "execute_result"
    }
   ],
   "source": [
    "TopTenProd = DataFrame(SQLite.Query(acme,\"\"\"select productname, sum(orderitem.unitprice*quantity) as sales\n",
    "from product join orderitem on product.id = orderitem.productid\n",
    "        join ord on orderitem.orderid = ord.id\n",
    "        where orderdate between '2013-04-31T12:00:00' and '2014-05-01T12:00:00'\n",
    "        group by productname\n",
    "        order by sales desc\n",
    "        limit 10\"\"\"\n",
    "))    "
   ]
  },
  {
   "cell_type": "code",
   "execution_count": 103,
   "metadata": {},
   "outputs": [
    {
     "data": {
      "application/vnd.vegalite.v2+json": {
       "data": {
        "values": [
         {
          "ProductName": "Côte de Blaye",
          "sales": 178653
         },
         {
          "ProductName": "Thüringer Rostbratwurst",
          "sales": 129731.91999999997
         },
         {
          "ProductName": "Raclette Courdavault",
          "sales": 104280
         },
         {
          "ProductName": "Manjimup Dried Apples",
          "sales": 71762
         },
         {
          "ProductName": "Tarte au sucre",
          "sales": 70992.00000000003
         },
         {
          "ProductName": "Camembert Pierrot",
          "sales": 66572
         },
         {
          "ProductName": "Gnocchi di nonna Alice",
          "sales": 58900
         },
         {
          "ProductName": "Alice Mutton",
          "sales": 49686
         },
         {
          "ProductName": "Carnarvon Tigers",
          "sales": 47250
         },
         {
          "ProductName": "Uncle Bobs Organic Dried Pears",
          "sales": 37560
         }
        ]
       },
       "encoding": {
        "x": {
         "field": "ProductName",
         "type": "nominal"
        },
        "y": {
         "field": "sales",
         "type": "quantitative"
        }
       },
       "mark": "bar"
      },
      "image/png": "[encoded data removed]",
      "image/svg+xml": [
       "<?xml version=\"1.0\" encoding=\"utf-8\"?>\n",
       "<!DOCTYPE svg PUBLIC \"-//W3C//DTD SVG 1.1//EN\" \"http://www.w3.org/Graphics/SVG/1.1/DTD/svg11.dtd\">\n",
       "<svg class=\"marks\" width=\"301\" height=\"411\" viewBox=\"0 0 301 411\" version=\"1.1\" xmlns=\"http://www.w3.org/2000/svg\" xmlns:xlink=\"http://www.w3.org/1999/xlink\"><g transform=\"translate(86,5)\"><g class=\"mark-group role-frame root\"><g transform=\"translate(0,0)\"><path class=\"background\" d=\"M0.5,0.5h210v200h-210Z\" style=\"fill: none; stroke: #ddd;\"></path><g><g class=\"mark-group role-axis\"><g transform=\"translate(0.5,0.5)\"><path class=\"background\" d=\"M0,0h0v0h0Z\" style=\"pointer-events: none; fill: none;\"></path><g><g class=\"mark-rule role-axis-grid\" style=\"pointer-events: none;\"><line transform=\"translate(0,200)\" x2=\"210\" y2=\"0\" style=\"fill: none; stroke: #ddd; stroke-width: 1; opacity: 1;\"></line><line transform=\"translate(0,144)\" x2=\"210\" y2=\"0\" style=\"fill: none; stroke: #ddd; stroke-width: 1; opacity: 1;\"></line><line transform=\"translate(0,89)\" x2=\"210\" y2=\"0\" style=\"fill: none; stroke: #ddd; stroke-width: 1; opacity: 1;\"></line><line transform=\"translate(0,33)\" x2=\"210\" y2=\"0\" style=\"fill: none; stroke: #ddd; stroke-width: 1; opacity: 1;\"></line></g></g></g></g><g class=\"mark-rect role-mark marks\"><path d=\"M64.05,1.4966666666666697h18.900000000000002v198.50333333333333h-18.900000000000002Z\" style=\"fill: #4c78a8;\"></path><path d=\"M169.05,55.853422222222235h18.900000000000002v144.14657777777776h-18.900000000000002Z\" style=\"fill: #4c78a8;\"></path><path d=\"M127.05,84.13333333333333h18.900000000000002v115.86666666666667h-18.900000000000002Z\" style=\"fill: #4c78a8;\"></path><path d=\"M106.05,120.26444444444444h18.900000000000002v79.73555555555556h-18.900000000000002Z\" style=\"fill: #4c78a8;\"></path><path d=\"M148.05,121.11999999999998h18.900000000000002v78.88000000000002h-18.900000000000002Z\" style=\"fill: #4c78a8;\"></path><path d=\"M22.049999999999997,126.03111111111112h18.900000000000002v73.96888888888888h-18.900000000000002Z\" style=\"fill: #4c78a8;\"></path><path d=\"M85.05,134.55555555555554h18.900000000000002v65.44444444444446h-18.900000000000002Z\" style=\"fill: #4c78a8;\"></path><path d=\"M1.0499999999999972,144.79333333333332h18.900000000000002v55.20666666666668h-18.900000000000002Z\" style=\"fill: #4c78a8;\"></path><path d=\"M43.05,147.5h18.900000000000002v52.5h-18.900000000000002Z\" style=\"fill: #4c78a8;\"></path><path d=\"M190.05,158.26666666666665h18.900000000000002v41.73333333333335h-18.900000000000002Z\" style=\"fill: #4c78a8;\"></path></g><g class=\"mark-group role-axis\"><g transform=\"translate(0.5,200.5)\"><path class=\"background\" d=\"M0,0h0v0h0Z\" style=\"pointer-events: none; fill: none;\"></path><g><g class=\"mark-rule role-axis-tick\" style=\"pointer-events: none;\"><line transform=\"translate(9,0)\" x2=\"0\" y2=\"5\" style=\"fill: none; stroke: #888; stroke-width: 1; opacity: 1;\"></line><line transform=\"translate(31,0)\" x2=\"0\" y2=\"5\" style=\"fill: none; stroke: #888; stroke-width: 1; opacity: 1;\"></line><line transform=\"translate(52,0)\" x2=\"0\" y2=\"5\" style=\"fill: none; stroke: #888; stroke-width: 1; opacity: 1;\"></line><line transform=\"translate(73,0)\" x2=\"0\" y2=\"5\" style=\"fill: none; stroke: #888; stroke-width: 1; opacity: 1;\"></line><line transform=\"translate(94,0)\" x2=\"0\" y2=\"5\" style=\"fill: none; stroke: #888; stroke-width: 1; opacity: 1;\"></line><line transform=\"translate(115,0)\" x2=\"0\" y2=\"5\" style=\"fill: none; stroke: #888; stroke-width: 1; opacity: 1;\"></line><line transform=\"translate(136,0)\" x2=\"0\" y2=\"5\" style=\"fill: none; stroke: #888; stroke-width: 1; opacity: 1;\"></line><line transform=\"translate(157,0)\" x2=\"0\" y2=\"5\" style=\"fill: none; stroke: #888; stroke-width: 1; opacity: 1;\"></line><line transform=\"translate(178,0)\" x2=\"0\" y2=\"5\" style=\"fill: none; stroke: #888; stroke-width: 1; opacity: 1;\"></line><line transform=\"translate(199,0)\" x2=\"0\" y2=\"5\" style=\"fill: none; stroke: #888; stroke-width: 1; opacity: 1;\"></line></g><g class=\"mark-text role-axis-label\" style=\"pointer-events: none;\"><text text-anchor=\"end\" transform=\"translate(9.499999999999998,7) rotate(270) translate(0,3)\" style=\"font-family: sans-serif; font-size: 10px; fill: #000; opacity: 1;\">Alice Mutton</text><text text-anchor=\"end\" transform=\"translate(30.5,7) rotate(270) translate(0,3)\" style=\"font-family: sans-serif; font-size: 10px; fill: #000; opacity: 1;\">Camembert Pierrot</text><text text-anchor=\"end\" transform=\"translate(51.5,7) rotate(270) translate(0,3)\" style=\"font-family: sans-serif; font-size: 10px; fill: #000; opacity: 1;\">Carnarvon Tigers</text><text text-anchor=\"end\" transform=\"translate(72.5,7) rotate(270) translate(0,3)\" style=\"font-family: sans-serif; font-size: 10px; fill: #000; opacity: 1;\">Côte de Blaye</text><text text-anchor=\"end\" transform=\"translate(93.5,7) rotate(270) translate(0,3)\" style=\"font-family: sans-serif; font-size: 10px; fill: #000; opacity: 1;\">Gnocchi di nonna Alice</text><text text-anchor=\"end\" transform=\"translate(114.5,7) rotate(270) translate(0,3)\" style=\"font-family: sans-serif; font-size: 10px; fill: #000; opacity: 1;\">Manjimup Dried Apples</text><text text-anchor=\"end\" transform=\"translate(135.5,7) rotate(270) translate(0,3)\" style=\"font-family: sans-serif; font-size: 10px; fill: #000; opacity: 1;\">Raclette Courdavault</text><text text-anchor=\"end\" transform=\"translate(156.5,7) rotate(270) translate(0,3)\" style=\"font-family: sans-serif; font-size: 10px; fill: #000; opacity: 1;\">Tarte au sucre</text><text text-anchor=\"end\" transform=\"translate(177.5,7) rotate(270) translate(0,3)\" style=\"font-family: sans-serif; font-size: 10px; fill: #000; opacity: 1;\">Thüringer Rostbratwur…</text><text text-anchor=\"end\" transform=\"translate(198.5,7) rotate(270) translate(0,3)\" style=\"font-family: sans-serif; font-size: 10px; fill: #000; opacity: 1;\">Uncle Bobs Organic Dr…</text></g><g class=\"mark-rule role-axis-domain\" style=\"pointer-events: none;\"><line transform=\"translate(0,0)\" x2=\"210\" y2=\"0\" style=\"fill: none; stroke: #888; stroke-width: 1; opacity: 1;\"></line></g><g class=\"mark-text role-axis-title\" style=\"pointer-events: none;\"><text text-anchor=\"middle\" transform=\"translate(105,197)\" style=\"font-family: sans-serif; font-size: 11px; font-weight: bold; fill: #000; opacity: 1;\">ProductName</text></g></g></g></g><g class=\"mark-group role-axis\"><g transform=\"translate(0.5,0.5)\"><path class=\"background\" d=\"M0,0h0v0h0Z\" style=\"pointer-events: none; fill: none;\"></path><g><g class=\"mark-rule role-axis-tick\" style=\"pointer-events: none;\"><line transform=\"translate(0,200)\" x2=\"-5\" y2=\"0\" style=\"fill: none; stroke: #888; stroke-width: 1; opacity: 1;\"></line><line transform=\"translate(0,144)\" x2=\"-5\" y2=\"0\" style=\"fill: none; stroke: #888; stroke-width: 1; opacity: 1;\"></line><line transform=\"translate(0,89)\" x2=\"-5\" y2=\"0\" style=\"fill: none; stroke: #888; stroke-width: 1; opacity: 1;\"></line><line transform=\"translate(0,33)\" x2=\"-5\" y2=\"0\" style=\"fill: none; stroke: #888; stroke-width: 1; opacity: 1;\"></line></g><g class=\"mark-text role-axis-label\" style=\"pointer-events: none;\"><text text-anchor=\"end\" transform=\"translate(-7,203)\" style=\"font-family: sans-serif; font-size: 10px; fill: #000; opacity: 1;\">0</text><text text-anchor=\"end\" transform=\"translate(-7,147.44444444444446)\" style=\"font-family: sans-serif; font-size: 10px; fill: #000; opacity: 1;\">50,000</text><text text-anchor=\"end\" transform=\"translate(-7,91.88888888888889)\" style=\"font-family: sans-serif; font-size: 10px; fill: #000; opacity: 1;\">100,000</text><text text-anchor=\"end\" transform=\"translate(-7,36.333333333333314)\" style=\"font-family: sans-serif; font-size: 10px; fill: #000; opacity: 1;\">150,000</text></g><g class=\"mark-rule role-axis-domain\" style=\"pointer-events: none;\"><line transform=\"translate(0,200)\" x2=\"0\" y2=\"-200\" style=\"fill: none; stroke: #888; stroke-width: 1; opacity: 1;\"></line></g><g class=\"mark-text role-axis-title\" style=\"pointer-events: none;\"><text text-anchor=\"middle\" transform=\"translate(-68,100) rotate(-90) translate(0,-2)\" style=\"font-family: sans-serif; font-size: 11px; font-weight: bold; fill: #000; opacity: 1;\">sales</text></g></g></g></g></g></g></g></g></svg>"
      ],
      "text/plain": [
       "VegaLite.VLSpec{:plot}"
      ]
     },
     "execution_count": 103,
     "metadata": {},
     "output_type": "execute_result"
    }
   ],
   "source": [
    "TopTenProd |> @vlplot(:bar, x=:ProductName, y=:sales)"
   ]
  },
  {
   "cell_type": "markdown",
   "metadata": {},
   "source": [
    "#### Products that have not been ordered in the past three months as measured from Fiscal Year End"
   ]
  },
  {
   "cell_type": "code",
   "execution_count": 66,
   "metadata": {},
   "outputs": [
    {
     "data": {
      "text/html": [
       "<table class=\"data-frame\"><thead><tr><th></th><th>Id</th><th>ProductName</th></tr><tr><th></th><th>Int64⍰</th><th>String⍰</th></tr></thead><tbody><p>1 rows × 2 columns</p><tr><th>1</th><td>78</td><td>Stroopwafels</td></tr></tbody></table>"
      ],
      "text/latex": [
       "\\begin{tabular}{r|cc}\n",
       "\t& Id & ProductName\\\\\n",
       "\t\\hline\n",
       "\t& Int64⍰ & String⍰\\\\\n",
       "\t\\hline\n",
       "\t1 & 78 & Stroopwafels \\\\\n",
       "\\end{tabular}\n"
      ],
      "text/plain": [
       "1×2 DataFrame\n",
       "│ Row │ Id     │ ProductName  │\n",
       "│     │ \u001b[90mInt64⍰\u001b[39m │ \u001b[90mString⍰\u001b[39m      │\n",
       "├─────┼────────┼──────────────┤\n",
       "│ 1   │ 78     │ Stroopwafels │"
      ]
     },
     "execution_count": 66,
     "metadata": {},
     "output_type": "execute_result"
    }
   ],
   "source": [
    "DataFrame(SQLite.Query(acme,\"\"\"SELECT Product.ID, ProductName\n",
    "FROM Product\n",
    "WHERE Product.ID NOT IN (\n",
    "    SELECT DISTINCT Product.ID\n",
    "    FROM Product\n",
    "    join Orderitem ON product.id = orderitem.productid\n",
    "    join Ord ON Ord.Id = Orderitem.OrderId\n",
    "    where Ord.OrderDate between '2013-04-31T12:00:00' and '2014-05-01T12:00:00'\n",
    ")\"\"\"))  "
   ]
  },
  {
   "cell_type": "markdown",
   "metadata": {},
   "source": [
    "## 3.\tCustomer Analysis\n",
    "#### Fiscal year Revenue by customer’s Country"
   ]
  },
  {
   "cell_type": "code",
   "execution_count": 70,
   "metadata": {},
   "outputs": [
    {
     "data": {
      "text/html": [
       "<table class=\"data-frame\"><thead><tr><th></th><th>Country</th><th>Revenue</th></tr><tr><th></th><th>String⍰</th><th>Float64⍰</th></tr></thead><tbody><p>21 rows × 2 columns</p><tr><th>1</th><td>USA</td><td>3.75177e5</td></tr><tr><th>2</th><td>Germany</td><td>3.48377e5</td></tr><tr><th>3</th><td>Austria</td><td>1.67685e5</td></tr><tr><th>4</th><td>Brazil</td><td>154073.0</td></tr><tr><th>5</th><td>Sweden</td><td>1.00615e5</td></tr><tr><th>6</th><td>France</td><td>97208.5</td></tr><tr><th>7</th><td>UK</td><td>86622.2</td></tr><tr><th>8</th><td>Ireland</td><td>80687.8</td></tr><tr><th>9</th><td>Venezuela</td><td>78114.0</td></tr><tr><th>10</th><td>Canada</td><td>57915.8</td></tr><tr><th>11</th><td>Switzerland</td><td>46959.6</td></tr><tr><th>12</th><td>Belgium</td><td>44642.2</td></tr><tr><th>13</th><td>Denmark</td><td>35047.9</td></tr><tr><th>14</th><td>Spain</td><td>31986.6</td></tr><tr><th>15</th><td>Italy</td><td>26022.7</td></tr><tr><th>16</th><td>Finland</td><td>24797.3</td></tr><tr><th>17</th><td>Mexico</td><td>23257.7</td></tr><tr><th>18</th><td>Argentina</td><td>14262.0</td></tr><tr><th>19</th><td>Portugal</td><td>12620.3</td></tr><tr><th>20</th><td>Norway</td><td>8953.5</td></tr><tr><th>21</th><td>Poland</td><td>6145.9</td></tr></tbody></table>"
      ],
      "text/latex": [
       "\\begin{tabular}{r|cc}\n",
       "\t& Country & Revenue\\\\\n",
       "\t\\hline\n",
       "\t& String⍰ & Float64⍰\\\\\n",
       "\t\\hline\n",
       "\t1 & USA & 3.75177e5 \\\\\n",
       "\t2 & Germany & 3.48377e5 \\\\\n",
       "\t3 & Austria & 1.67685e5 \\\\\n",
       "\t4 & Brazil & 154073.0 \\\\\n",
       "\t5 & Sweden & 1.00615e5 \\\\\n",
       "\t6 & France & 97208.5 \\\\\n",
       "\t7 & UK & 86622.2 \\\\\n",
       "\t8 & Ireland & 80687.8 \\\\\n",
       "\t9 & Venezuela & 78114.0 \\\\\n",
       "\t10 & Canada & 57915.8 \\\\\n",
       "\t11 & Switzerland & 46959.6 \\\\\n",
       "\t12 & Belgium & 44642.2 \\\\\n",
       "\t13 & Denmark & 35047.9 \\\\\n",
       "\t14 & Spain & 31986.6 \\\\\n",
       "\t15 & Italy & 26022.7 \\\\\n",
       "\t16 & Finland & 24797.3 \\\\\n",
       "\t17 & Mexico & 23257.7 \\\\\n",
       "\t18 & Argentina & 14262.0 \\\\\n",
       "\t19 & Portugal & 12620.3 \\\\\n",
       "\t20 & Norway & 8953.5 \\\\\n",
       "\t21 & Poland & 6145.9 \\\\\n",
       "\\end{tabular}\n"
      ],
      "text/plain": [
       "21×2 DataFrame\n",
       "│ Row │ Country     │ Revenue   │\n",
       "│     │ \u001b[90mString⍰\u001b[39m     │ \u001b[90mFloat64⍰\u001b[39m  │\n",
       "├─────┼─────────────┼───────────┤\n",
       "│ 1   │ USA         │ 3.75177e5 │\n",
       "│ 2   │ Germany     │ 3.48377e5 │\n",
       "│ 3   │ Austria     │ 1.67685e5 │\n",
       "│ 4   │ Brazil      │ 154073.0  │\n",
       "│ 5   │ Sweden      │ 1.00615e5 │\n",
       "│ 6   │ France      │ 97208.5   │\n",
       "│ 7   │ UK          │ 86622.2   │\n",
       "│ 8   │ Ireland     │ 80687.8   │\n",
       "│ 9   │ Venezuela   │ 78114.0   │\n",
       "│ 10  │ Canada      │ 57915.8   │\n",
       "│ 11  │ Switzerland │ 46959.6   │\n",
       "│ 12  │ Belgium     │ 44642.2   │\n",
       "│ 13  │ Denmark     │ 35047.9   │\n",
       "│ 14  │ Spain       │ 31986.6   │\n",
       "│ 15  │ Italy       │ 26022.7   │\n",
       "│ 16  │ Finland     │ 24797.3   │\n",
       "│ 17  │ Mexico      │ 23257.7   │\n",
       "│ 18  │ Argentina   │ 14262.0   │\n",
       "│ 19  │ Portugal    │ 12620.3   │\n",
       "│ 20  │ Norway      │ 8953.5    │\n",
       "│ 21  │ Poland      │ 6145.9    │"
      ]
     },
     "execution_count": 70,
     "metadata": {},
     "output_type": "execute_result"
    }
   ],
   "source": [
    "CustomerCountry = DataFrame(SQLite.Query(acme,\"\"\"select country, sum(orderitem.unitprice*quantity) as Revenue\n",
    "        from customer inner join ord on customer.id = ord.customerid\n",
    "        inner join orderitem on ord.id = orderitem.orderid\n",
    "        inner join product on orderitem.productid = product.id\n",
    "        where orderdate between '2013-04-31T12:00:00' and '2014-05-01T12:00:00'\n",
    "        group by country\n",
    "        order by Revenue desc\"\"\"))"
   ]
  },
  {
   "cell_type": "code",
   "execution_count": 104,
   "metadata": {},
   "outputs": [
    {
     "data": {
      "application/vnd.vegalite.v2+json": {
       "data": {
        "values": [
         {
          "Country": "USA",
          "Revenue": 375176.8799999998
         },
         {
          "Country": "Germany",
          "Revenue": 348377.16000000003
         },
         {
          "Country": "Austria",
          "Revenue": 167685.16000000003
         },
         {
          "Country": "Brazil",
          "Revenue": 154072.95999999996
         },
         {
          "Country": "Sweden",
          "Revenue": 100615.40000000001
         },
         {
          "Country": "France",
          "Revenue": 97208.52000000003
         },
         {
          "Country": "UK",
          "Revenue": 86622.22000000003
         },
         {
          "Country": "Ireland",
          "Revenue": 80687.78000000001
         },
         {
          "Country": "Venezuela",
          "Revenue": 78113.98
         },
         {
          "Country": "Canada",
          "Revenue": 57915.8
         },
         {
          "Country": "Switzerland",
          "Revenue": 46959.60000000001
         },
         {
          "Country": "Belgium",
          "Revenue": 44642.16
         },
         {
          "Country": "Denmark",
          "Revenue": 35047.899999999994
         },
         {
          "Country": "Spain",
          "Revenue": 31986.579999999994
         },
         {
          "Country": "Italy",
          "Revenue": 26022.7
         },
         {
          "Country": "Finland",
          "Revenue": 24797.3
         },
         {
          "Country": "Mexico",
          "Revenue": 23257.7
         },
         {
          "Country": "Argentina",
          "Revenue": 14262
         },
         {
          "Country": "Portugal",
          "Revenue": 12620.3
         },
         {
          "Country": "Norway",
          "Revenue": 8953.5
         },
         {
          "Country": "Poland",
          "Revenue": 6145.9
         }
        ]
       },
       "encoding": {
        "x": {
         "field": "Country",
         "type": "nominal"
        },
        "y": {
         "field": "Revenue",
         "type": "quantitative"
        }
       },
       "mark": "bar"
      },
      "image/png": "[encoded data removed]",
      "image/svg+xml": [
       "<?xml version=\"1.0\" encoding=\"utf-8\"?>\n",
       "<!DOCTYPE svg PUBLIC \"-//W3C//DTD SVG 1.1//EN\" \"http://www.w3.org/Graphics/SVG/1.1/DTD/svg11.dtd\">\n",
       "<svg class=\"marks\" width=\"532\" height=\"329\" viewBox=\"0 0 532 329\" version=\"1.1\" xmlns=\"http://www.w3.org/2000/svg\" xmlns:xlink=\"http://www.w3.org/1999/xlink\"><g transform=\"translate(86,11)\"><g class=\"mark-group role-frame root\"><g transform=\"translate(0,0)\"><path class=\"background\" d=\"M0.5,0.5h441v200h-441Z\" style=\"fill: none; stroke: #ddd;\"></path><g><g class=\"mark-group role-axis\"><g transform=\"translate(0.5,0.5)\"><path class=\"background\" d=\"M0,0h0v0h0Z\" style=\"pointer-events: none; fill: none;\"></path><g><g class=\"mark-rule role-axis-grid\" style=\"pointer-events: none;\"><line transform=\"translate(0,200)\" x2=\"441\" y2=\"0\" style=\"fill: none; stroke: #ddd; stroke-width: 1; opacity: 1;\"></line><line transform=\"translate(0,150)\" x2=\"441\" y2=\"0\" style=\"fill: none; stroke: #ddd; stroke-width: 1; opacity: 1;\"></line><line transform=\"translate(0,100)\" x2=\"441\" y2=\"0\" style=\"fill: none; stroke: #ddd; stroke-width: 1; opacity: 1;\"></line><line transform=\"translate(0,50)\" x2=\"441\" y2=\"0\" style=\"fill: none; stroke: #ddd; stroke-width: 1; opacity: 1;\"></line><line transform=\"translate(0,0)\" x2=\"441\" y2=\"0\" style=\"fill: none; stroke: #ddd; stroke-width: 1; opacity: 1;\"></line></g></g></g></g><g class=\"mark-rect role-mark marks\"><path d=\"M400.05,12.411560000000122h18.900000000000002v187.58843999999988h-18.900000000000002Z\" style=\"fill: #4c78a8;\"></path><path d=\"M169.05,25.81142h18.900000000000002v174.18858h-18.900000000000002Z\" style=\"fill: #4c78a8;\"></path><path d=\"M22.05000000000001,116.15741999999999h18.900000000000002v83.84258000000001h-18.900000000000002Z\" style=\"fill: #4c78a8;\"></path><path d=\"M64.05000000000001,122.96352000000002h18.900000000000002v77.03647999999998h-18.900000000000002Z\" style=\"fill: #4c78a8;\"></path><path d=\"M337.05,149.6923h18.900000000000002v50.30770000000001h-18.900000000000002Z\" style=\"fill: #4c78a8;\"></path><path d=\"M148.05,151.39574h18.900000000000002v48.60426000000001h-18.900000000000002Z\" style=\"fill: #4c78a8;\"></path><path d=\"M379.05,156.68889h18.900000000000002v43.31111000000001h-18.900000000000002Z\" style=\"fill: #4c78a8;\"></path><path d=\"M190.05,159.65611h18.900000000000002v40.34388999999999h-18.900000000000002Z\" style=\"fill: #4c78a8;\"></path><path d=\"M421.05,160.94301000000002h18.900000000000002v39.056989999999985h-18.900000000000002Z\" style=\"fill: #4c78a8;\"></path><path d=\"M85.05000000000001,171.0421h18.900000000000002v28.957899999999995h-18.900000000000002Z\" style=\"fill: #4c78a8;\"></path><path d=\"M358.05,176.5202h18.900000000000002v23.47980000000001h-18.900000000000002Z\" style=\"fill: #4c78a8;\"></path><path d=\"M43.05000000000001,177.67892h18.900000000000002v22.321079999999995h-18.900000000000002Z\" style=\"fill: #4c78a8;\"></path><path d=\"M106.05000000000001,182.47605000000001h18.900000000000002v17.523949999999985h-18.900000000000002Z\" style=\"fill: #4c78a8;\"></path><path d=\"M316.05,184.00671h18.900000000000002v15.993290000000002h-18.900000000000002Z\" style=\"fill: #4c78a8;\"></path><path d=\"M211.05,186.98865h18.900000000000002v13.011349999999993h-18.900000000000002Z\" style=\"fill: #4c78a8;\"></path><path d=\"M127.05000000000001,187.60135h18.900000000000002v12.398650000000004h-18.900000000000002Z\" style=\"fill: #4c78a8;\"></path><path d=\"M232.05,188.37115h18.900000000000002v11.62885h-18.900000000000002Z\" style=\"fill: #4c78a8;\"></path><path d=\"M1.0500000000000114,192.869h18.900000000000002v7.131h-18.900000000000002Z\" style=\"fill: #4c78a8;\"></path><path d=\"M295.05,193.68985h18.900000000000002v6.310149999999993h-18.900000000000002Z\" style=\"fill: #4c78a8;\"></path><path d=\"M253.05,195.52325h18.900000000000002v4.47675000000001h-18.900000000000002Z\" style=\"fill: #4c78a8;\"></path><path d=\"M274.05,196.92705h18.900000000000002v3.0729499999999916h-18.900000000000002Z\" style=\"fill: #4c78a8;\"></path></g><g class=\"mark-group role-axis\"><g transform=\"translate(0.5,200.5)\"><path class=\"background\" d=\"M0,0h0v0h0Z\" style=\"pointer-events: none; fill: none;\"></path><g><g class=\"mark-rule role-axis-tick\" style=\"pointer-events: none;\"><line transform=\"translate(10,0)\" x2=\"0\" y2=\"5\" style=\"fill: none; stroke: #888; stroke-width: 1; opacity: 1;\"></line><line transform=\"translate(31,0)\" x2=\"0\" y2=\"5\" style=\"fill: none; stroke: #888; stroke-width: 1; opacity: 1;\"></line><line transform=\"translate(52,0)\" x2=\"0\" y2=\"5\" style=\"fill: none; stroke: #888; stroke-width: 1; opacity: 1;\"></line><line transform=\"translate(73,0)\" x2=\"0\" y2=\"5\" style=\"fill: none; stroke: #888; stroke-width: 1; opacity: 1;\"></line><line transform=\"translate(94,0)\" x2=\"0\" y2=\"5\" style=\"fill: none; stroke: #888; stroke-width: 1; opacity: 1;\"></line><line transform=\"translate(115,0)\" x2=\"0\" y2=\"5\" style=\"fill: none; stroke: #888; stroke-width: 1; opacity: 1;\"></line><line transform=\"translate(136,0)\" x2=\"0\" y2=\"5\" style=\"fill: none; stroke: #888; stroke-width: 1; opacity: 1;\"></line><line transform=\"translate(157,0)\" x2=\"0\" y2=\"5\" style=\"fill: none; stroke: #888; stroke-width: 1; opacity: 1;\"></line><line transform=\"translate(178,0)\" x2=\"0\" y2=\"5\" style=\"fill: none; stroke: #888; stroke-width: 1; opacity: 1;\"></line><line transform=\"translate(199,0)\" x2=\"0\" y2=\"5\" style=\"fill: none; stroke: #888; stroke-width: 1; opacity: 1;\"></line><line transform=\"translate(220,0)\" x2=\"0\" y2=\"5\" style=\"fill: none; stroke: #888; stroke-width: 1; opacity: 1;\"></line><line transform=\"translate(241,0)\" x2=\"0\" y2=\"5\" style=\"fill: none; stroke: #888; stroke-width: 1; opacity: 1;\"></line><line transform=\"translate(262,0)\" x2=\"0\" y2=\"5\" style=\"fill: none; stroke: #888; stroke-width: 1; opacity: 1;\"></line><line transform=\"translate(283,0)\" x2=\"0\" y2=\"5\" style=\"fill: none; stroke: #888; stroke-width: 1; opacity: 1;\"></line><line transform=\"translate(304,0)\" x2=\"0\" y2=\"5\" style=\"fill: none; stroke: #888; stroke-width: 1; opacity: 1;\"></line><line transform=\"translate(325,0)\" x2=\"0\" y2=\"5\" style=\"fill: none; stroke: #888; stroke-width: 1; opacity: 1;\"></line><line transform=\"translate(346,0)\" x2=\"0\" y2=\"5\" style=\"fill: none; stroke: #888; stroke-width: 1; opacity: 1;\"></line><line transform=\"translate(367,0)\" x2=\"0\" y2=\"5\" style=\"fill: none; stroke: #888; stroke-width: 1; opacity: 1;\"></line><line transform=\"translate(388,0)\" x2=\"0\" y2=\"5\" style=\"fill: none; stroke: #888; stroke-width: 1; opacity: 1;\"></line><line transform=\"translate(409,0)\" x2=\"0\" y2=\"5\" style=\"fill: none; stroke: #888; stroke-width: 1; opacity: 1;\"></line><line transform=\"translate(430,0)\" x2=\"0\" y2=\"5\" style=\"fill: none; stroke: #888; stroke-width: 1; opacity: 1;\"></line></g><g class=\"mark-text role-axis-label\" style=\"pointer-events: none;\"><text text-anchor=\"end\" transform=\"translate(9.500000000000012,7) rotate(270) translate(0,3)\" style=\"font-family: sans-serif; font-size: 10px; fill: #000; opacity: 1;\">Argentina</text><text text-anchor=\"end\" transform=\"translate(30.500000000000014,7) rotate(270) translate(0,3)\" style=\"font-family: sans-serif; font-size: 10px; fill: #000; opacity: 1;\">Austria</text><text text-anchor=\"end\" transform=\"translate(51.500000000000014,7) rotate(270) translate(0,3)\" style=\"font-family: sans-serif; font-size: 10px; fill: #000; opacity: 1;\">Belgium</text><text text-anchor=\"end\" transform=\"translate(72.50000000000001,7) rotate(270) translate(0,3)\" style=\"font-family: sans-serif; font-size: 10px; fill: #000; opacity: 1;\">Brazil</text><text text-anchor=\"end\" transform=\"translate(93.50000000000001,7) rotate(270) translate(0,3)\" style=\"font-family: sans-serif; font-size: 10px; fill: #000; opacity: 1;\">Canada</text><text text-anchor=\"end\" transform=\"translate(114.50000000000001,7) rotate(270) translate(0,3)\" style=\"font-family: sans-serif; font-size: 10px; fill: #000; opacity: 1;\">Denmark</text><text text-anchor=\"end\" transform=\"translate(135.5,7) rotate(270) translate(0,3)\" style=\"font-family: sans-serif; font-size: 10px; fill: #000; opacity: 1;\">Finland</text><text text-anchor=\"end\" transform=\"translate(156.5,7) rotate(270) translate(0,3)\" style=\"font-family: sans-serif; font-size: 10px; fill: #000; opacity: 1;\">France</text><text text-anchor=\"end\" transform=\"translate(177.5,7) rotate(270) translate(0,3)\" style=\"font-family: sans-serif; font-size: 10px; fill: #000; opacity: 1;\">Germany</text><text text-anchor=\"end\" transform=\"translate(198.5,7) rotate(270) translate(0,3)\" style=\"font-family: sans-serif; font-size: 10px; fill: #000; opacity: 1;\">Ireland</text><text text-anchor=\"end\" transform=\"translate(219.5,7) rotate(270) translate(0,3)\" style=\"font-family: sans-serif; font-size: 10px; fill: #000; opacity: 1;\">Italy</text><text text-anchor=\"end\" transform=\"translate(240.5,7) rotate(270) translate(0,3)\" style=\"font-family: sans-serif; font-size: 10px; fill: #000; opacity: 1;\">Mexico</text><text text-anchor=\"end\" transform=\"translate(261.5,7) rotate(270) translate(0,3)\" style=\"font-family: sans-serif; font-size: 10px; fill: #000; opacity: 1;\">Norway</text><text text-anchor=\"end\" transform=\"translate(282.5,7) rotate(270) translate(0,3)\" style=\"font-family: sans-serif; font-size: 10px; fill: #000; opacity: 1;\">Poland</text><text text-anchor=\"end\" transform=\"translate(303.5,7) rotate(270) translate(0,3)\" style=\"font-family: sans-serif; font-size: 10px; fill: #000; opacity: 1;\">Portugal</text><text text-anchor=\"end\" transform=\"translate(324.5,7) rotate(270) translate(0,3)\" style=\"font-family: sans-serif; font-size: 10px; fill: #000; opacity: 1;\">Spain</text><text text-anchor=\"end\" transform=\"translate(345.5,7) rotate(270) translate(0,3)\" style=\"font-family: sans-serif; font-size: 10px; fill: #000; opacity: 1;\">Sweden</text><text text-anchor=\"end\" transform=\"translate(366.5,7) rotate(270) translate(0,3)\" style=\"font-family: sans-serif; font-size: 10px; fill: #000; opacity: 1;\">Switzerland</text><text text-anchor=\"end\" transform=\"translate(387.5,7) rotate(270) translate(0,3)\" style=\"font-family: sans-serif; font-size: 10px; fill: #000; opacity: 1;\">UK</text><text text-anchor=\"end\" transform=\"translate(408.5,7) rotate(270) translate(0,3)\" style=\"font-family: sans-serif; font-size: 10px; fill: #000; opacity: 1;\">USA</text><text text-anchor=\"end\" transform=\"translate(429.5,7) rotate(270) translate(0,3)\" style=\"font-family: sans-serif; font-size: 10px; fill: #000; opacity: 1;\">Venezuela</text></g><g class=\"mark-rule role-axis-domain\" style=\"pointer-events: none;\"><line transform=\"translate(0,0)\" x2=\"441\" y2=\"0\" style=\"fill: none; stroke: #888; stroke-width: 1; opacity: 1;\"></line></g><g class=\"mark-text role-axis-title\" style=\"pointer-events: none;\"><text text-anchor=\"middle\" transform=\"translate(220.5,109)\" style=\"font-family: sans-serif; font-size: 11px; font-weight: bold; fill: #000; opacity: 1;\">Country</text></g></g></g></g><g class=\"mark-group role-axis\"><g transform=\"translate(0.5,0.5)\"><path class=\"background\" d=\"M0,0h0v0h0Z\" style=\"pointer-events: none; fill: none;\"></path><g><g class=\"mark-rule role-axis-tick\" style=\"pointer-events: none;\"><line transform=\"translate(0,200)\" x2=\"-5\" y2=\"0\" style=\"fill: none; stroke: #888; stroke-width: 1; opacity: 1;\"></line><line transform=\"translate(0,150)\" x2=\"-5\" y2=\"0\" style=\"fill: none; stroke: #888; stroke-width: 1; opacity: 1;\"></line><line transform=\"translate(0,100)\" x2=\"-5\" y2=\"0\" style=\"fill: none; stroke: #888; stroke-width: 1; opacity: 1;\"></line><line transform=\"translate(0,50)\" x2=\"-5\" y2=\"0\" style=\"fill: none; stroke: #888; stroke-width: 1; opacity: 1;\"></line><line transform=\"translate(0,0)\" x2=\"-5\" y2=\"0\" style=\"fill: none; stroke: #888; stroke-width: 1; opacity: 1;\"></line></g><g class=\"mark-text role-axis-label\" style=\"pointer-events: none;\"><text text-anchor=\"end\" transform=\"translate(-7,203)\" style=\"font-family: sans-serif; font-size: 10px; fill: #000; opacity: 1;\">0</text><text text-anchor=\"end\" transform=\"translate(-7,153)\" style=\"font-family: sans-serif; font-size: 10px; fill: #000; opacity: 1;\">100,000</text><text text-anchor=\"end\" transform=\"translate(-7,103)\" style=\"font-family: sans-serif; font-size: 10px; fill: #000; opacity: 1;\">200,000</text><text text-anchor=\"end\" transform=\"translate(-7,53)\" style=\"font-family: sans-serif; font-size: 10px; fill: #000; opacity: 1;\">300,000</text><text text-anchor=\"end\" transform=\"translate(-7,3)\" style=\"font-family: sans-serif; font-size: 10px; fill: #000; opacity: 1;\">400,000</text></g><g class=\"mark-rule role-axis-domain\" style=\"pointer-events: none;\"><line transform=\"translate(0,200)\" x2=\"0\" y2=\"-200\" style=\"fill: none; stroke: #888; stroke-width: 1; opacity: 1;\"></line></g><g class=\"mark-text role-axis-title\" style=\"pointer-events: none;\"><text text-anchor=\"middle\" transform=\"translate(-68,100) rotate(-90) translate(0,-2)\" style=\"font-family: sans-serif; font-size: 11px; font-weight: bold; fill: #000; opacity: 1;\">Revenue</text></g></g></g></g></g></g></g></g></svg>"
      ],
      "text/plain": [
       "VegaLite.VLSpec{:plot}"
      ]
     },
     "execution_count": 104,
     "metadata": {},
     "output_type": "execute_result"
    }
   ],
   "source": [
    "CustomerCountry |> @vlplot(:bar, x=:Country, y=:Revenue)"
   ]
  },
  {
   "cell_type": "markdown",
   "metadata": {},
   "source": [
    "#### Top 10 customers by revenue during Fiscal year"
   ]
  },
  {
   "cell_type": "code",
   "execution_count": 76,
   "metadata": {},
   "outputs": [
    {
     "data": {
      "text/html": [
       "<table class=\"data-frame\"><thead><tr><th></th><th>Id</th><th>FirstName</th><th>LastName</th><th>Revenue</th></tr><tr><th></th><th>Int64⍰</th><th>String⍰</th><th>String⍰</th><th>Float64⍰</th></tr></thead><tbody><p>10 rows × 4 columns</p><tr><th>1</th><td>71</td><td>Jose</td><td>Pavarotti</td><td>1.81709e5</td></tr><tr><th>2</th><td>63</td><td>Horst</td><td>Kloss</td><td>1.76169e5</td></tr><tr><th>3</th><td>20</td><td>Roland</td><td>Mendel</td><td>1.41835e5</td></tr><tr><th>4</th><td>37</td><td>Patricia</td><td>McKenna</td><td>80687.8</td></tr><tr><th>5</th><td>34</td><td>Mario</td><td>Pontes</td><td>61686.7</td></tr><tr><th>6</th><td>24</td><td>Maria</td><td>Larsson</td><td>57741.1</td></tr><tr><th>7</th><td>39</td><td>Philip</td><td>Cramer</td><td>53329.5</td></tr><tr><th>8</th><td>65</td><td>Paula</td><td>Wilson</td><td>51291.0</td></tr><tr><th>9</th><td>89</td><td>Karl</td><td>Jablonski</td><td>44646.9</td></tr><tr><th>10</th><td>5</td><td>Christina</td><td>Berglund</td><td>42874.3</td></tr></tbody></table>"
      ],
      "text/latex": [
       "\\begin{tabular}{r|cccc}\n",
       "\t& Id & FirstName & LastName & Revenue\\\\\n",
       "\t\\hline\n",
       "\t& Int64⍰ & String⍰ & String⍰ & Float64⍰\\\\\n",
       "\t\\hline\n",
       "\t1 & 71 & Jose & Pavarotti & 1.81709e5 \\\\\n",
       "\t2 & 63 & Horst & Kloss & 1.76169e5 \\\\\n",
       "\t3 & 20 & Roland & Mendel & 1.41835e5 \\\\\n",
       "\t4 & 37 & Patricia & McKenna & 80687.8 \\\\\n",
       "\t5 & 34 & Mario & Pontes & 61686.7 \\\\\n",
       "\t6 & 24 & Maria & Larsson & 57741.1 \\\\\n",
       "\t7 & 39 & Philip & Cramer & 53329.5 \\\\\n",
       "\t8 & 65 & Paula & Wilson & 51291.0 \\\\\n",
       "\t9 & 89 & Karl & Jablonski & 44646.9 \\\\\n",
       "\t10 & 5 & Christina & Berglund & 42874.3 \\\\\n",
       "\\end{tabular}\n"
      ],
      "text/plain": [
       "10×4 DataFrame\n",
       "│ Row │ Id     │ FirstName │ LastName  │ Revenue   │\n",
       "│     │ \u001b[90mInt64⍰\u001b[39m │ \u001b[90mString⍰\u001b[39m   │ \u001b[90mString⍰\u001b[39m   │ \u001b[90mFloat64⍰\u001b[39m  │\n",
       "├─────┼────────┼───────────┼───────────┼───────────┤\n",
       "│ 1   │ 71     │ Jose      │ Pavarotti │ 1.81709e5 │\n",
       "│ 2   │ 63     │ Horst     │ Kloss     │ 1.76169e5 │\n",
       "│ 3   │ 20     │ Roland    │ Mendel    │ 1.41835e5 │\n",
       "│ 4   │ 37     │ Patricia  │ McKenna   │ 80687.8   │\n",
       "│ 5   │ 34     │ Mario     │ Pontes    │ 61686.7   │\n",
       "│ 6   │ 24     │ Maria     │ Larsson   │ 57741.1   │\n",
       "│ 7   │ 39     │ Philip    │ Cramer    │ 53329.5   │\n",
       "│ 8   │ 65     │ Paula     │ Wilson    │ 51291.0   │\n",
       "│ 9   │ 89     │ Karl      │ Jablonski │ 44646.9   │\n",
       "│ 10  │ 5      │ Christina │ Berglund  │ 42874.3   │"
      ]
     },
     "execution_count": 76,
     "metadata": {},
     "output_type": "execute_result"
    }
   ],
   "source": [
    "top10Cust = DataFrame(SQLite.Query(acme,\"\"\"select customer.id, Firstname, Lastname, sum(product.unitprice*quantity) as Revenue\n",
    "from customer inner join ord on ord.customerid = customer.id\n",
    "inner join orderitem on ord.id = orderitem.orderid\n",
    "inner join product on orderitem.productID = product.id\n",
    "where  orderdate between '2013-04-31T12:00:00' and '2014-05-01T12:00:00'\n",
    "group by customer.id\n",
    "order by Revenue desc\n",
    "limit 10\"\"\"))"
   ]
  },
  {
   "cell_type": "code",
   "execution_count": 107,
   "metadata": {},
   "outputs": [
    {
     "data": {
      "application/vnd.vegalite.v2+json": {
       "data": {
        "values": [
         {
          "FirstName": "Jose",
          "Id": 71,
          "LastName": "Pavarotti",
          "Revenue": 181708.7
         },
         {
          "FirstName": "Horst",
          "Id": 63,
          "LastName": "Kloss",
          "Revenue": 176168.58
         },
         {
          "FirstName": "Roland",
          "Id": 20,
          "LastName": "Mendel",
          "Revenue": 141834.86000000002
         },
         {
          "FirstName": "Patricia",
          "Id": 37,
          "LastName": "McKenna",
          "Revenue": 80687.78000000001
         },
         {
          "FirstName": "Mario",
          "Id": 34,
          "LastName": "Pontes",
          "Revenue": 61686.70000000001
         },
         {
          "FirstName": "Maria",
          "Id": 24,
          "LastName": "Larsson",
          "Revenue": 57741.1
         },
         {
          "FirstName": "Philip",
          "Id": 39,
          "LastName": "Cramer",
          "Revenue": 53329.50000000001
         },
         {
          "FirstName": "Paula",
          "Id": 65,
          "LastName": "Wilson",
          "Revenue": 51291
         },
         {
          "FirstName": "Karl",
          "Id": 89,
          "LastName": "Jablonski",
          "Revenue": 44646.9
         },
         {
          "FirstName": "Christina",
          "Id": 5,
          "LastName": "Berglund",
          "Revenue": 42874.29999999999
         }
        ]
       },
       "encoding": {
        "x": {
         "field": "FirstName",
         "type": "nominal"
        },
        "y": {
         "field": "Revenue",
         "type": "quantitative"
        }
       },
       "mark": "bar"
      },
      "image/png": "[encoded data removed]",
      "image/svg+xml": [
       "<?xml version=\"1.0\" encoding=\"utf-8\"?>\n",
       "<!DOCTYPE svg PUBLIC \"-//W3C//DTD SVG 1.1//EN\" \"http://www.w3.org/Graphics/SVG/1.1/DTD/svg11.dtd\">\n",
       "<svg class=\"marks\" width=\"301\" height=\"313\" viewBox=\"0 0 301 313\" version=\"1.1\" xmlns=\"http://www.w3.org/2000/svg\" xmlns:xlink=\"http://www.w3.org/1999/xlink\"><g transform=\"translate(86,11)\"><g class=\"mark-group role-frame root\"><g transform=\"translate(0,0)\"><path class=\"background\" d=\"M0.5,0.5h210v200h-210Z\" style=\"fill: none; stroke: #ddd;\"></path><g><g class=\"mark-group role-axis\"><g transform=\"translate(0.5,0.5)\"><path class=\"background\" d=\"M0,0h0v0h0Z\" style=\"pointer-events: none; fill: none;\"></path><g><g class=\"mark-rule role-axis-grid\" style=\"pointer-events: none;\"><line transform=\"translate(0,200)\" x2=\"210\" y2=\"0\" style=\"fill: none; stroke: #ddd; stroke-width: 1; opacity: 1;\"></line><line transform=\"translate(0,150)\" x2=\"210\" y2=\"0\" style=\"fill: none; stroke: #ddd; stroke-width: 1; opacity: 1;\"></line><line transform=\"translate(0,100)\" x2=\"210\" y2=\"0\" style=\"fill: none; stroke: #ddd; stroke-width: 1; opacity: 1;\"></line><line transform=\"translate(0,50)\" x2=\"210\" y2=\"0\" style=\"fill: none; stroke: #ddd; stroke-width: 1; opacity: 1;\"></line><line transform=\"translate(0,0)\" x2=\"210\" y2=\"0\" style=\"fill: none; stroke: #ddd; stroke-width: 1; opacity: 1;\"></line></g></g></g></g><g class=\"mark-rect role-mark marks\"><path d=\"M43.05,18.29129999999998h18.900000000000002v181.70870000000002h-18.900000000000002Z\" style=\"fill: #4c78a8;\"></path><path d=\"M22.049999999999997,23.83142000000001h18.900000000000002v176.16858h-18.900000000000002Z\" style=\"fill: #4c78a8;\"></path><path d=\"M190.05,58.16513999999998h18.900000000000002v141.83486000000002h-18.900000000000002Z\" style=\"fill: #4c78a8;\"></path><path d=\"M127.05,119.31222h18.900000000000002v80.68778h-18.900000000000002Z\" style=\"fill: #4c78a8;\"></path><path d=\"M106.05,138.31329999999997h18.900000000000002v61.68670000000003h-18.900000000000002Z\" style=\"fill: #4c78a8;\"></path><path d=\"M85.05,142.25889999999998h18.900000000000002v57.74110000000002h-18.900000000000002Z\" style=\"fill: #4c78a8;\"></path><path d=\"M169.05,146.6705h18.900000000000002v53.329499999999996h-18.900000000000002Z\" style=\"fill: #4c78a8;\"></path><path d=\"M148.05,148.709h18.900000000000002v51.291h-18.900000000000002Z\" style=\"fill: #4c78a8;\"></path><path d=\"M64.05,155.35309999999998h18.900000000000002v44.64690000000002h-18.900000000000002Z\" style=\"fill: #4c78a8;\"></path><path d=\"M1.0499999999999972,157.1257h18.900000000000002v42.874300000000005h-18.900000000000002Z\" style=\"fill: #4c78a8;\"></path></g><g class=\"mark-group role-axis\"><g transform=\"translate(0.5,200.5)\"><path class=\"background\" d=\"M0,0h0v0h0Z\" style=\"pointer-events: none; fill: none;\"></path><g><g class=\"mark-rule role-axis-tick\" style=\"pointer-events: none;\"><line transform=\"translate(9,0)\" x2=\"0\" y2=\"5\" style=\"fill: none; stroke: #888; stroke-width: 1; opacity: 1;\"></line><line transform=\"translate(31,0)\" x2=\"0\" y2=\"5\" style=\"fill: none; stroke: #888; stroke-width: 1; opacity: 1;\"></line><line transform=\"translate(52,0)\" x2=\"0\" y2=\"5\" style=\"fill: none; stroke: #888; stroke-width: 1; opacity: 1;\"></line><line transform=\"translate(73,0)\" x2=\"0\" y2=\"5\" style=\"fill: none; stroke: #888; stroke-width: 1; opacity: 1;\"></line><line transform=\"translate(94,0)\" x2=\"0\" y2=\"5\" style=\"fill: none; stroke: #888; stroke-width: 1; opacity: 1;\"></line><line transform=\"translate(115,0)\" x2=\"0\" y2=\"5\" style=\"fill: none; stroke: #888; stroke-width: 1; opacity: 1;\"></line><line transform=\"translate(136,0)\" x2=\"0\" y2=\"5\" style=\"fill: none; stroke: #888; stroke-width: 1; opacity: 1;\"></line><line transform=\"translate(157,0)\" x2=\"0\" y2=\"5\" style=\"fill: none; stroke: #888; stroke-width: 1; opacity: 1;\"></line><line transform=\"translate(178,0)\" x2=\"0\" y2=\"5\" style=\"fill: none; stroke: #888; stroke-width: 1; opacity: 1;\"></line><line transform=\"translate(199,0)\" x2=\"0\" y2=\"5\" style=\"fill: none; stroke: #888; stroke-width: 1; opacity: 1;\"></line></g><g class=\"mark-text role-axis-label\" style=\"pointer-events: none;\"><text text-anchor=\"end\" transform=\"translate(9.499999999999998,7) rotate(270) translate(0,3)\" style=\"font-family: sans-serif; font-size: 10px; fill: #000; opacity: 1;\">Christina</text><text text-anchor=\"end\" transform=\"translate(30.5,7) rotate(270) translate(0,3)\" style=\"font-family: sans-serif; font-size: 10px; fill: #000; opacity: 1;\">Horst</text><text text-anchor=\"end\" transform=\"translate(51.5,7) rotate(270) translate(0,3)\" style=\"font-family: sans-serif; font-size: 10px; fill: #000; opacity: 1;\">Jose</text><text text-anchor=\"end\" transform=\"translate(72.5,7) rotate(270) translate(0,3)\" style=\"font-family: sans-serif; font-size: 10px; fill: #000; opacity: 1;\">Karl</text><text text-anchor=\"end\" transform=\"translate(93.5,7) rotate(270) translate(0,3)\" style=\"font-family: sans-serif; font-size: 10px; fill: #000; opacity: 1;\">Maria</text><text text-anchor=\"end\" transform=\"translate(114.5,7) rotate(270) translate(0,3)\" style=\"font-family: sans-serif; font-size: 10px; fill: #000; opacity: 1;\">Mario</text><text text-anchor=\"end\" transform=\"translate(135.5,7) rotate(270) translate(0,3)\" style=\"font-family: sans-serif; font-size: 10px; fill: #000; opacity: 1;\">Patricia</text><text text-anchor=\"end\" transform=\"translate(156.5,7) rotate(270) translate(0,3)\" style=\"font-family: sans-serif; font-size: 10px; fill: #000; opacity: 1;\">Paula</text><text text-anchor=\"end\" transform=\"translate(177.5,7) rotate(270) translate(0,3)\" style=\"font-family: sans-serif; font-size: 10px; fill: #000; opacity: 1;\">Philip</text><text text-anchor=\"end\" transform=\"translate(198.5,7) rotate(270) translate(0,3)\" style=\"font-family: sans-serif; font-size: 10px; fill: #000; opacity: 1;\">Roland</text></g><g class=\"mark-rule role-axis-domain\" style=\"pointer-events: none;\"><line transform=\"translate(0,0)\" x2=\"210\" y2=\"0\" style=\"fill: none; stroke: #888; stroke-width: 1; opacity: 1;\"></line></g><g class=\"mark-text role-axis-title\" style=\"pointer-events: none;\"><text text-anchor=\"middle\" transform=\"translate(105,93)\" style=\"font-family: sans-serif; font-size: 11px; font-weight: bold; fill: #000; opacity: 1;\">FirstName</text></g></g></g></g><g class=\"mark-group role-axis\"><g transform=\"translate(0.5,0.5)\"><path class=\"background\" d=\"M0,0h0v0h0Z\" style=\"pointer-events: none; fill: none;\"></path><g><g class=\"mark-rule role-axis-tick\" style=\"pointer-events: none;\"><line transform=\"translate(0,200)\" x2=\"-5\" y2=\"0\" style=\"fill: none; stroke: #888; stroke-width: 1; opacity: 1;\"></line><line transform=\"translate(0,150)\" x2=\"-5\" y2=\"0\" style=\"fill: none; stroke: #888; stroke-width: 1; opacity: 1;\"></line><line transform=\"translate(0,100)\" x2=\"-5\" y2=\"0\" style=\"fill: none; stroke: #888; stroke-width: 1; opacity: 1;\"></line><line transform=\"translate(0,50)\" x2=\"-5\" y2=\"0\" style=\"fill: none; stroke: #888; stroke-width: 1; opacity: 1;\"></line><line transform=\"translate(0,0)\" x2=\"-5\" y2=\"0\" style=\"fill: none; stroke: #888; stroke-width: 1; opacity: 1;\"></line></g><g class=\"mark-text role-axis-label\" style=\"pointer-events: none;\"><text text-anchor=\"end\" transform=\"translate(-7,203)\" style=\"font-family: sans-serif; font-size: 10px; fill: #000; opacity: 1;\">0</text><text text-anchor=\"end\" transform=\"translate(-7,153)\" style=\"font-family: sans-serif; font-size: 10px; fill: #000; opacity: 1;\">50,000</text><text text-anchor=\"end\" transform=\"translate(-7,103)\" style=\"font-family: sans-serif; font-size: 10px; fill: #000; opacity: 1;\">100,000</text><text text-anchor=\"end\" transform=\"translate(-7,53)\" style=\"font-family: sans-serif; font-size: 10px; fill: #000; opacity: 1;\">150,000</text><text text-anchor=\"end\" transform=\"translate(-7,3)\" style=\"font-family: sans-serif; font-size: 10px; fill: #000; opacity: 1;\">200,000</text></g><g class=\"mark-rule role-axis-domain\" style=\"pointer-events: none;\"><line transform=\"translate(0,200)\" x2=\"0\" y2=\"-200\" style=\"fill: none; stroke: #888; stroke-width: 1; opacity: 1;\"></line></g><g class=\"mark-text role-axis-title\" style=\"pointer-events: none;\"><text text-anchor=\"middle\" transform=\"translate(-68,100) rotate(-90) translate(0,-2)\" style=\"font-family: sans-serif; font-size: 11px; font-weight: bold; fill: #000; opacity: 1;\">Revenue</text></g></g></g></g></g></g></g></g></svg>"
      ],
      "text/plain": [
       "VegaLite.VLSpec{:plot}"
      ]
     },
     "execution_count": 107,
     "metadata": {},
     "output_type": "execute_result"
    }
   ],
   "source": [
    "top10Cust |> @vlplot(:bar, x=:FirstName, y=:Revenue)"
   ]
  },
  {
   "cell_type": "markdown",
   "metadata": {},
   "source": [
    "#### Customers are acquired each month"
   ]
  },
  {
   "cell_type": "code",
   "execution_count": 79,
   "metadata": {},
   "outputs": [
    {
     "data": {
      "text/html": [
       "<table class=\"data-frame\"><thead><tr><th></th><th>Customer_Count</th><th>Months</th></tr><tr><th></th><th>Int64⍰</th><th>String⍰</th></tr></thead><tbody><p>23 rows × 2 columns</p><tr><th>1</th><td>20</td><td>2012-07</td></tr><tr><th>2</th><td>18</td><td>2012-08</td></tr><tr><th>3</th><td>19</td><td>2012-09</td></tr><tr><th>4</th><td>20</td><td>2012-10</td></tr><tr><th>5</th><td>21</td><td>2012-11</td></tr><tr><th>6</th><td>25</td><td>2012-12</td></tr><tr><th>7</th><td>27</td><td>2013-01</td></tr><tr><th>8</th><td>21</td><td>2013-02</td></tr><tr><th>9</th><td>24</td><td>2013-03</td></tr><tr><th>10</th><td>27</td><td>2013-04</td></tr><tr><th>11</th><td>26</td><td>2013-05</td></tr><tr><th>12</th><td>25</td><td>2013-06</td></tr><tr><th>13</th><td>25</td><td>2013-07</td></tr><tr><th>14</th><td>30</td><td>2013-08</td></tr><tr><th>15</th><td>27</td><td>2013-09</td></tr><tr><th>16</th><td>28</td><td>2013-10</td></tr><tr><th>17</th><td>27</td><td>2013-11</td></tr><tr><th>18</th><td>37</td><td>2013-12</td></tr><tr><th>19</th><td>41</td><td>2014-01</td></tr><tr><th>20</th><td>35</td><td>2014-02</td></tr><tr><th>21</th><td>49</td><td>2014-03</td></tr><tr><th>22</th><td>51</td><td>2014-04</td></tr><tr><th>23</th><td>13</td><td>2014-05</td></tr></tbody></table>"
      ],
      "text/latex": [
       "\\begin{tabular}{r|cc}\n",
       "\t& Customer\\_Count & Months\\\\\n",
       "\t\\hline\n",
       "\t& Int64⍰ & String⍰\\\\\n",
       "\t\\hline\n",
       "\t1 & 20 & 2012-07 \\\\\n",
       "\t2 & 18 & 2012-08 \\\\\n",
       "\t3 & 19 & 2012-09 \\\\\n",
       "\t4 & 20 & 2012-10 \\\\\n",
       "\t5 & 21 & 2012-11 \\\\\n",
       "\t6 & 25 & 2012-12 \\\\\n",
       "\t7 & 27 & 2013-01 \\\\\n",
       "\t8 & 21 & 2013-02 \\\\\n",
       "\t9 & 24 & 2013-03 \\\\\n",
       "\t10 & 27 & 2013-04 \\\\\n",
       "\t11 & 26 & 2013-05 \\\\\n",
       "\t12 & 25 & 2013-06 \\\\\n",
       "\t13 & 25 & 2013-07 \\\\\n",
       "\t14 & 30 & 2013-08 \\\\\n",
       "\t15 & 27 & 2013-09 \\\\\n",
       "\t16 & 28 & 2013-10 \\\\\n",
       "\t17 & 27 & 2013-11 \\\\\n",
       "\t18 & 37 & 2013-12 \\\\\n",
       "\t19 & 41 & 2014-01 \\\\\n",
       "\t20 & 35 & 2014-02 \\\\\n",
       "\t21 & 49 & 2014-03 \\\\\n",
       "\t22 & 51 & 2014-04 \\\\\n",
       "\t23 & 13 & 2014-05 \\\\\n",
       "\\end{tabular}\n"
      ],
      "text/plain": [
       "23×2 DataFrame\n",
       "│ Row │ Customer_Count │ Months  │\n",
       "│     │ \u001b[90mInt64⍰\u001b[39m         │ \u001b[90mString⍰\u001b[39m │\n",
       "├─────┼────────────────┼─────────┤\n",
       "│ 1   │ 20             │ 2012-07 │\n",
       "│ 2   │ 18             │ 2012-08 │\n",
       "│ 3   │ 19             │ 2012-09 │\n",
       "│ 4   │ 20             │ 2012-10 │\n",
       "│ 5   │ 21             │ 2012-11 │\n",
       "│ 6   │ 25             │ 2012-12 │\n",
       "│ 7   │ 27             │ 2013-01 │\n",
       "│ 8   │ 21             │ 2013-02 │\n",
       "│ 9   │ 24             │ 2013-03 │\n",
       "│ 10  │ 27             │ 2013-04 │\n",
       "│ 11  │ 26             │ 2013-05 │\n",
       "│ 12  │ 25             │ 2013-06 │\n",
       "│ 13  │ 25             │ 2013-07 │\n",
       "│ 14  │ 30             │ 2013-08 │\n",
       "│ 15  │ 27             │ 2013-09 │\n",
       "│ 16  │ 28             │ 2013-10 │\n",
       "│ 17  │ 27             │ 2013-11 │\n",
       "│ 18  │ 37             │ 2013-12 │\n",
       "│ 19  │ 41             │ 2014-01 │\n",
       "│ 20  │ 35             │ 2014-02 │\n",
       "│ 21  │ 49             │ 2014-03 │\n",
       "│ 22  │ 51             │ 2014-04 │\n",
       "│ 23  │ 13             │ 2014-05 │"
      ]
     },
     "execution_count": 79,
     "metadata": {},
     "output_type": "execute_result"
    }
   ],
   "source": [
    "CustomersAcquired = DataFrame(SQLite.Query(acme,\"\"\"Select count(distinct(Customer.id)) as Customer_Count, strftime('%Y-%m', orderdate) as Months\n",
    "from Customer\n",
    "join Ord on \n",
    "Ord.CustomerID = Customer.ID\n",
    "join OrderItem on\n",
    "ord.ID = Orderitem.orderID\n",
    "join product on\n",
    "product.Id = orderitem.productID\n",
    "group by Months\n",
    "order by Months\n",
    "        \"\"\"))"
   ]
  },
  {
   "cell_type": "code",
   "execution_count": 109,
   "metadata": {},
   "outputs": [
    {
     "data": {
      "application/vnd.vegalite.v2+json": {
       "data": {
        "values": [
         {
          "Customer_Count": 20,
          "Months": "2012-07"
         },
         {
          "Customer_Count": 18,
          "Months": "2012-08"
         },
         {
          "Customer_Count": 19,
          "Months": "2012-09"
         },
         {
          "Customer_Count": 20,
          "Months": "2012-10"
         },
         {
          "Customer_Count": 21,
          "Months": "2012-11"
         },
         {
          "Customer_Count": 25,
          "Months": "2012-12"
         },
         {
          "Customer_Count": 27,
          "Months": "2013-01"
         },
         {
          "Customer_Count": 21,
          "Months": "2013-02"
         },
         {
          "Customer_Count": 24,
          "Months": "2013-03"
         },
         {
          "Customer_Count": 27,
          "Months": "2013-04"
         },
         {
          "Customer_Count": 26,
          "Months": "2013-05"
         },
         {
          "Customer_Count": 25,
          "Months": "2013-06"
         },
         {
          "Customer_Count": 25,
          "Months": "2013-07"
         },
         {
          "Customer_Count": 30,
          "Months": "2013-08"
         },
         {
          "Customer_Count": 27,
          "Months": "2013-09"
         },
         {
          "Customer_Count": 28,
          "Months": "2013-10"
         },
         {
          "Customer_Count": 27,
          "Months": "2013-11"
         },
         {
          "Customer_Count": 37,
          "Months": "2013-12"
         },
         {
          "Customer_Count": 41,
          "Months": "2014-01"
         },
         {
          "Customer_Count": 35,
          "Months": "2014-02"
         },
         {
          "Customer_Count": 49,
          "Months": "2014-03"
         },
         {
          "Customer_Count": 51,
          "Months": "2014-04"
         },
         {
          "Customer_Count": 13,
          "Months": "2014-05"
         }
        ]
       },
       "encoding": {
        "x": {
         "field": "Months",
         "type": "nominal"
        },
        "y": {
         "field": "Customer_Count",
         "type": "quantitative"
        }
       },
       "mark": "bar"
      },
      "image/png": "[encoded data removed]",
      "image/svg+xml": [
       "<?xml version=\"1.0\" encoding=\"utf-8\"?>\n",
       "<!DOCTYPE svg PUBLIC \"-//W3C//DTD SVG 1.1//EN\" \"http://www.w3.org/Graphics/SVG/1.1/DTD/svg11.dtd\">\n",
       "<svg class=\"marks\" width=\"540\" height=\"291\" viewBox=\"0 0 540 291\" version=\"1.1\" xmlns=\"http://www.w3.org/2000/svg\" xmlns:xlink=\"http://www.w3.org/1999/xlink\"><g transform=\"translate(52,5)\"><g class=\"mark-group role-frame root\"><g transform=\"translate(0,0)\"><path class=\"background\" d=\"M0.5,0.5h483v200h-483Z\" style=\"fill: none; stroke: #ddd;\"></path><g><g class=\"mark-group role-axis\"><g transform=\"translate(0.5,0.5)\"><path class=\"background\" d=\"M0,0h0v0h0Z\" style=\"pointer-events: none; fill: none;\"></path><g><g class=\"mark-rule role-axis-grid\" style=\"pointer-events: none;\"><line transform=\"translate(0,200)\" x2=\"483\" y2=\"0\" style=\"fill: none; stroke: #ddd; stroke-width: 1; opacity: 1;\"></line><line transform=\"translate(0,164)\" x2=\"483\" y2=\"0\" style=\"fill: none; stroke: #ddd; stroke-width: 1; opacity: 1;\"></line><line transform=\"translate(0,127)\" x2=\"483\" y2=\"0\" style=\"fill: none; stroke: #ddd; stroke-width: 1; opacity: 1;\"></line><line transform=\"translate(0,91)\" x2=\"483\" y2=\"0\" style=\"fill: none; stroke: #ddd; stroke-width: 1; opacity: 1;\"></line><line transform=\"translate(0,55)\" x2=\"483\" y2=\"0\" style=\"fill: none; stroke: #ddd; stroke-width: 1; opacity: 1;\"></line><line transform=\"translate(0,18)\" x2=\"483\" y2=\"0\" style=\"fill: none; stroke: #ddd; stroke-width: 1; opacity: 1;\"></line></g></g></g></g><g class=\"mark-rect role-mark marks\"><path d=\"M1.0500000000000114,127.27272727272727h18.900000000000002v72.72727272727273h-18.900000000000002Z\" style=\"fill: #4c78a8;\"></path><path d=\"M22.05000000000001,134.54545454545456h18.900000000000002v65.45454545454544h-18.900000000000002Z\" style=\"fill: #4c78a8;\"></path><path d=\"M43.05000000000001,130.9090909090909h18.900000000000002v69.0909090909091h-18.900000000000002Z\" style=\"fill: #4c78a8;\"></path><path d=\"M64.05000000000001,127.27272727272727h18.900000000000002v72.72727272727273h-18.900000000000002Z\" style=\"fill: #4c78a8;\"></path><path d=\"M85.05000000000001,123.63636363636363h18.900000000000002v76.36363636363637h-18.900000000000002Z\" style=\"fill: #4c78a8;\"></path><path d=\"M106.05000000000001,109.0909090909091h18.900000000000002v90.9090909090909h-18.900000000000002Z\" style=\"fill: #4c78a8;\"></path><path d=\"M127.05000000000001,101.81818181818181h18.900000000000002v98.18181818181819h-18.900000000000002Z\" style=\"fill: #4c78a8;\"></path><path d=\"M148.05,123.63636363636363h18.900000000000002v76.36363636363637h-18.900000000000002Z\" style=\"fill: #4c78a8;\"></path><path d=\"M169.05,112.72727272727273h18.900000000000002v87.27272727272727h-18.900000000000002Z\" style=\"fill: #4c78a8;\"></path><path d=\"M190.05,101.81818181818181h18.900000000000002v98.18181818181819h-18.900000000000002Z\" style=\"fill: #4c78a8;\"></path><path d=\"M211.05,105.45454545454545h18.900000000000002v94.54545454545455h-18.900000000000002Z\" style=\"fill: #4c78a8;\"></path><path d=\"M232.05,109.0909090909091h18.900000000000002v90.9090909090909h-18.900000000000002Z\" style=\"fill: #4c78a8;\"></path><path d=\"M253.05,109.0909090909091h18.900000000000002v90.9090909090909h-18.900000000000002Z\" style=\"fill: #4c78a8;\"></path><path d=\"M274.05,90.90909090909092h18.900000000000002v109.09090909090908h-18.900000000000002Z\" style=\"fill: #4c78a8;\"></path><path d=\"M295.05,101.81818181818181h18.900000000000002v98.18181818181819h-18.900000000000002Z\" style=\"fill: #4c78a8;\"></path><path d=\"M316.05,98.18181818181819h18.900000000000002v101.81818181818181h-18.900000000000002Z\" style=\"fill: #4c78a8;\"></path><path d=\"M337.05,101.81818181818181h18.900000000000002v98.18181818181819h-18.900000000000002Z\" style=\"fill: #4c78a8;\"></path><path d=\"M358.05,65.45454545454547h18.900000000000002v134.54545454545453h-18.900000000000002Z\" style=\"fill: #4c78a8;\"></path><path d=\"M379.05,50.90909090909091h18.900000000000002v149.0909090909091h-18.900000000000002Z\" style=\"fill: #4c78a8;\"></path><path d=\"M400.05,72.72727272727273h18.900000000000002v127.27272727272727h-18.900000000000002Z\" style=\"fill: #4c78a8;\"></path><path d=\"M421.05,21.818181818181813h18.900000000000002v178.1818181818182h-18.900000000000002Z\" style=\"fill: #4c78a8;\"></path><path d=\"M442.05,14.545454545454561h18.900000000000002v185.45454545454544h-18.900000000000002Z\" style=\"fill: #4c78a8;\"></path><path d=\"M463.05,152.72727272727272h18.900000000000002v47.27272727272728h-18.900000000000002Z\" style=\"fill: #4c78a8;\"></path></g><g class=\"mark-group role-axis\"><g transform=\"translate(0.5,200.5)\"><path class=\"background\" d=\"M0,0h0v0h0Z\" style=\"pointer-events: none; fill: none;\"></path><g><g class=\"mark-rule role-axis-tick\" style=\"pointer-events: none;\"><line transform=\"translate(10,0)\" x2=\"0\" y2=\"5\" style=\"fill: none; stroke: #888; stroke-width: 1; opacity: 1;\"></line><line transform=\"translate(31,0)\" x2=\"0\" y2=\"5\" style=\"fill: none; stroke: #888; stroke-width: 1; opacity: 1;\"></line><line transform=\"translate(52,0)\" x2=\"0\" y2=\"5\" style=\"fill: none; stroke: #888; stroke-width: 1; opacity: 1;\"></line><line transform=\"translate(73,0)\" x2=\"0\" y2=\"5\" style=\"fill: none; stroke: #888; stroke-width: 1; opacity: 1;\"></line><line transform=\"translate(94,0)\" x2=\"0\" y2=\"5\" style=\"fill: none; stroke: #888; stroke-width: 1; opacity: 1;\"></line><line transform=\"translate(115,0)\" x2=\"0\" y2=\"5\" style=\"fill: none; stroke: #888; stroke-width: 1; opacity: 1;\"></line><line transform=\"translate(136,0)\" x2=\"0\" y2=\"5\" style=\"fill: none; stroke: #888; stroke-width: 1; opacity: 1;\"></line><line transform=\"translate(157,0)\" x2=\"0\" y2=\"5\" style=\"fill: none; stroke: #888; stroke-width: 1; opacity: 1;\"></line><line transform=\"translate(178,0)\" x2=\"0\" y2=\"5\" style=\"fill: none; stroke: #888; stroke-width: 1; opacity: 1;\"></line><line transform=\"translate(199,0)\" x2=\"0\" y2=\"5\" style=\"fill: none; stroke: #888; stroke-width: 1; opacity: 1;\"></line><line transform=\"translate(220,0)\" x2=\"0\" y2=\"5\" style=\"fill: none; stroke: #888; stroke-width: 1; opacity: 1;\"></line><line transform=\"translate(241,0)\" x2=\"0\" y2=\"5\" style=\"fill: none; stroke: #888; stroke-width: 1; opacity: 1;\"></line><line transform=\"translate(262,0)\" x2=\"0\" y2=\"5\" style=\"fill: none; stroke: #888; stroke-width: 1; opacity: 1;\"></line><line transform=\"translate(283,0)\" x2=\"0\" y2=\"5\" style=\"fill: none; stroke: #888; stroke-width: 1; opacity: 1;\"></line><line transform=\"translate(304,0)\" x2=\"0\" y2=\"5\" style=\"fill: none; stroke: #888; stroke-width: 1; opacity: 1;\"></line><line transform=\"translate(325,0)\" x2=\"0\" y2=\"5\" style=\"fill: none; stroke: #888; stroke-width: 1; opacity: 1;\"></line><line transform=\"translate(346,0)\" x2=\"0\" y2=\"5\" style=\"fill: none; stroke: #888; stroke-width: 1; opacity: 1;\"></line><line transform=\"translate(367,0)\" x2=\"0\" y2=\"5\" style=\"fill: none; stroke: #888; stroke-width: 1; opacity: 1;\"></line><line transform=\"translate(388,0)\" x2=\"0\" y2=\"5\" style=\"fill: none; stroke: #888; stroke-width: 1; opacity: 1;\"></line><line transform=\"translate(409,0)\" x2=\"0\" y2=\"5\" style=\"fill: none; stroke: #888; stroke-width: 1; opacity: 1;\"></line><line transform=\"translate(430,0)\" x2=\"0\" y2=\"5\" style=\"fill: none; stroke: #888; stroke-width: 1; opacity: 1;\"></line><line transform=\"translate(451,0)\" x2=\"0\" y2=\"5\" style=\"fill: none; stroke: #888; stroke-width: 1; opacity: 1;\"></line><line transform=\"translate(472,0)\" x2=\"0\" y2=\"5\" style=\"fill: none; stroke: #888; stroke-width: 1; opacity: 1;\"></line></g><g class=\"mark-text role-axis-label\" style=\"pointer-events: none;\"><text text-anchor=\"end\" transform=\"translate(9.500000000000012,7) rotate(270) translate(0,3)\" style=\"font-family: sans-serif; font-size: 10px; fill: #000; opacity: 1;\">2012-07</text><text text-anchor=\"end\" transform=\"translate(30.500000000000014,7) rotate(270) translate(0,3)\" style=\"font-family: sans-serif; font-size: 10px; fill: #000; opacity: 1;\">2012-08</text><text text-anchor=\"end\" transform=\"translate(51.500000000000014,7) rotate(270) translate(0,3)\" style=\"font-family: sans-serif; font-size: 10px; fill: #000; opacity: 1;\">2012-09</text><text text-anchor=\"end\" transform=\"translate(72.50000000000001,7) rotate(270) translate(0,3)\" style=\"font-family: sans-serif; font-size: 10px; fill: #000; opacity: 1;\">2012-10</text><text text-anchor=\"end\" transform=\"translate(93.50000000000001,7) rotate(270) translate(0,3)\" style=\"font-family: sans-serif; font-size: 10px; fill: #000; opacity: 1;\">2012-11</text><text text-anchor=\"end\" transform=\"translate(114.50000000000001,7) rotate(270) translate(0,3)\" style=\"font-family: sans-serif; font-size: 10px; fill: #000; opacity: 1;\">2012-12</text><text text-anchor=\"end\" transform=\"translate(135.5,7) rotate(270) translate(0,3)\" style=\"font-family: sans-serif; font-size: 10px; fill: #000; opacity: 1;\">2013-01</text><text text-anchor=\"end\" transform=\"translate(156.5,7) rotate(270) translate(0,3)\" style=\"font-family: sans-serif; font-size: 10px; fill: #000; opacity: 1;\">2013-02</text><text text-anchor=\"end\" transform=\"translate(177.5,7) rotate(270) translate(0,3)\" style=\"font-family: sans-serif; font-size: 10px; fill: #000; opacity: 1;\">2013-03</text><text text-anchor=\"end\" transform=\"translate(198.5,7) rotate(270) translate(0,3)\" style=\"font-family: sans-serif; font-size: 10px; fill: #000; opacity: 1;\">2013-04</text><text text-anchor=\"end\" transform=\"translate(219.5,7) rotate(270) translate(0,3)\" style=\"font-family: sans-serif; font-size: 10px; fill: #000; opacity: 1;\">2013-05</text><text text-anchor=\"end\" transform=\"translate(240.5,7) rotate(270) translate(0,3)\" style=\"font-family: sans-serif; font-size: 10px; fill: #000; opacity: 1;\">2013-06</text><text text-anchor=\"end\" transform=\"translate(261.5,7) rotate(270) translate(0,3)\" style=\"font-family: sans-serif; font-size: 10px; fill: #000; opacity: 1;\">2013-07</text><text text-anchor=\"end\" transform=\"translate(282.5,7) rotate(270) translate(0,3)\" style=\"font-family: sans-serif; font-size: 10px; fill: #000; opacity: 1;\">2013-08</text><text text-anchor=\"end\" transform=\"translate(303.5,7) rotate(270) translate(0,3)\" style=\"font-family: sans-serif; font-size: 10px; fill: #000; opacity: 1;\">2013-09</text><text text-anchor=\"end\" transform=\"translate(324.5,7) rotate(270) translate(0,3)\" style=\"font-family: sans-serif; font-size: 10px; fill: #000; opacity: 1;\">2013-10</text><text text-anchor=\"end\" transform=\"translate(345.5,7) rotate(270) translate(0,3)\" style=\"font-family: sans-serif; font-size: 10px; fill: #000; opacity: 1;\">2013-11</text><text text-anchor=\"end\" transform=\"translate(366.5,7) rotate(270) translate(0,3)\" style=\"font-family: sans-serif; font-size: 10px; fill: #000; opacity: 1;\">2013-12</text><text text-anchor=\"end\" transform=\"translate(387.5,7) rotate(270) translate(0,3)\" style=\"font-family: sans-serif; font-size: 10px; fill: #000; opacity: 1;\">2014-01</text><text text-anchor=\"end\" transform=\"translate(408.5,7) rotate(270) translate(0,3)\" style=\"font-family: sans-serif; font-size: 10px; fill: #000; opacity: 1;\">2014-02</text><text text-anchor=\"end\" transform=\"translate(429.5,7) rotate(270) translate(0,3)\" style=\"font-family: sans-serif; font-size: 10px; fill: #000; opacity: 1;\">2014-03</text><text text-anchor=\"end\" transform=\"translate(450.5,7) rotate(270) translate(0,3)\" style=\"font-family: sans-serif; font-size: 10px; fill: #000; opacity: 1;\">2014-04</text><text text-anchor=\"end\" transform=\"translate(471.5,7) rotate(270) translate(0,3)\" style=\"font-family: sans-serif; font-size: 10px; fill: #000; opacity: 1;\">2014-05</text></g><g class=\"mark-rule role-axis-domain\" style=\"pointer-events: none;\"><line transform=\"translate(0,0)\" x2=\"483\" y2=\"0\" style=\"fill: none; stroke: #888; stroke-width: 1; opacity: 1;\"></line></g><g class=\"mark-text role-axis-title\" style=\"pointer-events: none;\"><text text-anchor=\"middle\" transform=\"translate(241.5,77)\" style=\"font-family: sans-serif; font-size: 11px; font-weight: bold; fill: #000; opacity: 1;\">Months</text></g></g></g></g><g class=\"mark-group role-axis\"><g transform=\"translate(0.5,0.5)\"><path class=\"background\" d=\"M0,0h0v0h0Z\" style=\"pointer-events: none; fill: none;\"></path><g><g class=\"mark-rule role-axis-tick\" style=\"pointer-events: none;\"><line transform=\"translate(0,200)\" x2=\"-5\" y2=\"0\" style=\"fill: none; stroke: #888; stroke-width: 1; opacity: 1;\"></line><line transform=\"translate(0,164)\" x2=\"-5\" y2=\"0\" style=\"fill: none; stroke: #888; stroke-width: 1; opacity: 1;\"></line><line transform=\"translate(0,127)\" x2=\"-5\" y2=\"0\" style=\"fill: none; stroke: #888; stroke-width: 1; opacity: 1;\"></line><line transform=\"translate(0,91)\" x2=\"-5\" y2=\"0\" style=\"fill: none; stroke: #888; stroke-width: 1; opacity: 1;\"></line><line transform=\"translate(0,55)\" x2=\"-5\" y2=\"0\" style=\"fill: none; stroke: #888; stroke-width: 1; opacity: 1;\"></line><line transform=\"translate(0,18)\" x2=\"-5\" y2=\"0\" style=\"fill: none; stroke: #888; stroke-width: 1; opacity: 1;\"></line></g><g class=\"mark-text role-axis-label\" style=\"pointer-events: none;\"><text text-anchor=\"end\" transform=\"translate(-7,203)\" style=\"font-family: sans-serif; font-size: 10px; fill: #000; opacity: 1;\">0</text><text text-anchor=\"end\" transform=\"translate(-7,166.63636363636363)\" style=\"font-family: sans-serif; font-size: 10px; fill: #000; opacity: 1;\">10</text><text text-anchor=\"end\" transform=\"translate(-7,130.27272727272725)\" style=\"font-family: sans-serif; font-size: 10px; fill: #000; opacity: 1;\">20</text><text text-anchor=\"end\" transform=\"translate(-7,93.90909090909092)\" style=\"font-family: sans-serif; font-size: 10px; fill: #000; opacity: 1;\">30</text><text text-anchor=\"end\" transform=\"translate(-7,57.54545454545453)\" style=\"font-family: sans-serif; font-size: 10px; fill: #000; opacity: 1;\">40</text><text text-anchor=\"end\" transform=\"translate(-7,21.181818181818187)\" style=\"font-family: sans-serif; font-size: 10px; fill: #000; opacity: 1;\">50</text></g><g class=\"mark-rule role-axis-domain\" style=\"pointer-events: none;\"><line transform=\"translate(0,200)\" x2=\"0\" y2=\"-200\" style=\"fill: none; stroke: #888; stroke-width: 1; opacity: 1;\"></line></g><g class=\"mark-text role-axis-title\" style=\"pointer-events: none;\"><text text-anchor=\"middle\" transform=\"translate(-34,100) rotate(-90) translate(0,-2)\" style=\"font-family: sans-serif; font-size: 11px; font-weight: bold; fill: #000; opacity: 1;\">Customer_Count</text></g></g></g></g></g></g></g></g></svg>"
      ],
      "text/plain": [
       "VegaLite.VLSpec{:plot}"
      ]
     },
     "execution_count": 109,
     "metadata": {},
     "output_type": "execute_result"
    }
   ],
   "source": [
    "CustomersAcquired |> @vlplot(:bar, x=:Months, y=:Customer_Count)"
   ]
  },
  {
   "cell_type": "markdown",
   "metadata": {},
   "source": [
    "#### Customers are deemed attrited in the database"
   ]
  },
  {
   "cell_type": "code",
   "execution_count": 83,
   "metadata": {},
   "outputs": [
    {
     "data": {
      "text/html": [
       "<table class=\"data-frame\"><thead><tr><th></th><th>Id</th><th>FirstName</th><th>LastName</th><th>City</th><th>Country</th><th>Phone</th></tr><tr><th></th><th>Int64⍰</th><th>String⍰</th><th>String⍰</th><th>String⍰</th><th>String⍰</th><th>String⍰</th></tr></thead><tbody><p>8 rows × 6 columns</p><tr><th>1</th><td>13</td><td>Francisco</td><td>Chang</td><td>México D.F.</td><td>Mexico</td><td>(5) 555-3392</td></tr><tr><th>2</th><td>21</td><td>Aria</td><td>Cruz</td><td>Sao Paulo</td><td>Brazil</td><td>(11) 555-9857</td></tr><tr><th>3</th><td>22</td><td>Diego</td><td>Roel</td><td>Madrid</td><td>Spain</td><td>(91) 555 94 44</td></tr><tr><th>4</th><td>36</td><td>Yoshi</td><td>Latimer</td><td>Elgin</td><td>USA</td><td>(503) 555-6874</td></tr><tr><th>5</th><td>43</td><td>John</td><td>Steel</td><td>Walla Walla</td><td>USA</td><td>(509) 555-7969</td></tr><tr><th>6</th><td>51</td><td>Jean</td><td>Fresnière</td><td>Montréal</td><td>Canada</td><td>(514) 555-8054</td></tr><tr><th>7</th><td>57</td><td>Marie</td><td>Bertrand</td><td>Paris</td><td>France</td><td>(1) 42.34.22.66</td></tr><tr><th>8</th><td>85</td><td>Paul</td><td>Henriot</td><td>Reims</td><td>France</td><td>26.47.15.10</td></tr></tbody></table>"
      ],
      "text/latex": [
       "\\begin{tabular}{r|cccccc}\n",
       "\t& Id & FirstName & LastName & City & Country & Phone\\\\\n",
       "\t\\hline\n",
       "\t& Int64⍰ & String⍰ & String⍰ & String⍰ & String⍰ & String⍰\\\\\n",
       "\t\\hline\n",
       "\t1 & 13 & Francisco & Chang & México D.F. & Mexico & (5) 555-3392 \\\\\n",
       "\t2 & 21 & Aria & Cruz & Sao Paulo & Brazil & (11) 555-9857 \\\\\n",
       "\t3 & 22 & Diego & Roel & Madrid & Spain & (91) 555 94 44 \\\\\n",
       "\t4 & 36 & Yoshi & Latimer & Elgin & USA & (503) 555-6874 \\\\\n",
       "\t5 & 43 & John & Steel & Walla Walla & USA & (509) 555-7969 \\\\\n",
       "\t6 & 51 & Jean & Fresnière & Montréal & Canada & (514) 555-8054 \\\\\n",
       "\t7 & 57 & Marie & Bertrand & Paris & France & (1) 42.34.22.66 \\\\\n",
       "\t8 & 85 & Paul & Henriot & Reims & France & 26.47.15.10 \\\\\n",
       "\\end{tabular}\n"
      ],
      "text/plain": [
       "8×6 DataFrame. Omitted printing of 1 columns\n",
       "│ Row │ Id     │ FirstName │ LastName  │ City        │ Country │\n",
       "│     │ \u001b[90mInt64⍰\u001b[39m │ \u001b[90mString⍰\u001b[39m   │ \u001b[90mString⍰\u001b[39m   │ \u001b[90mString⍰\u001b[39m     │ \u001b[90mString⍰\u001b[39m │\n",
       "├─────┼────────┼───────────┼───────────┼─────────────┼─────────┤\n",
       "│ 1   │ 13     │ Francisco │ Chang     │ México D.F. │ Mexico  │\n",
       "│ 2   │ 21     │ Aria      │ Cruz      │ Sao Paulo   │ Brazil  │\n",
       "│ 3   │ 22     │ Diego     │ Roel      │ Madrid      │ Spain   │\n",
       "│ 4   │ 36     │ Yoshi     │ Latimer   │ Elgin       │ USA     │\n",
       "│ 5   │ 43     │ John      │ Steel     │ Walla Walla │ USA     │\n",
       "│ 6   │ 51     │ Jean      │ Fresnière │ Montréal    │ Canada  │\n",
       "│ 7   │ 57     │ Marie     │ Bertrand  │ Paris       │ France  │\n",
       "│ 8   │ 85     │ Paul      │ Henriot   │ Reims       │ France  │"
      ]
     },
     "execution_count": 83,
     "metadata": {},
     "output_type": "execute_result"
    }
   ],
   "source": [
    "DataFrame(SQLite.Query(acme,\"\"\"SELECT customer.*\n",
    "FROM Customer \n",
    "LEFT JOIN Ord\n",
    "    ON ord.CustomerID = Customer.ID \n",
    "    AND ord.OrderDate BETWEEN '2013-11-30T12:00:00' and '2014-05-31T12:00:00'\n",
    "WHERE ord.ID IS NULL\n",
    "\"\"\"))"
   ]
  },
  {
   "cell_type": "markdown",
   "metadata": {},
   "source": [
    "## 4.\tSupplier Analysis\n",
    "#### Fiscal year Revenue by supplier Country"
   ]
  },
  {
   "cell_type": "code",
   "execution_count": 87,
   "metadata": {
    "scrolled": true
   },
   "outputs": [
    {
     "data": {
      "text/html": [
       "<table class=\"data-frame\"><thead><tr><th></th><th>Country</th><th>Revenue</th></tr><tr><th></th><th>String⍰</th><th>Float64⍰</th></tr></thead><tbody><p>14 rows × 2 columns</p><tr><th>1</th><td>France</td><td>2.66176e5</td></tr><tr><th>2</th><td>Germany</td><td>1.64443e5</td></tr><tr><th>3</th><td>Australia</td><td>1.35952e5</td></tr><tr><th>4</th><td>USA</td><td>92285.8</td></tr><tr><th>5</th><td>UK</td><td>91731.6</td></tr><tr><th>6</th><td>Italy</td><td>86384.0</td></tr><tr><th>7</th><td>Canada</td><td>72279.3</td></tr><tr><th>8</th><td>Singapore</td><td>34729.6</td></tr><tr><th>9</th><td>Norway</td><td>34278.0</td></tr><tr><th>10</th><td>Finland</td><td>21727.5</td></tr><tr><th>11</th><td>Sweden</td><td>16056.0</td></tr><tr><th>12</th><td>Denmark</td><td>5790.0</td></tr><tr><th>13</th><td>Netherlands</td><td>5153.0</td></tr><tr><th>14</th><td>Brazil</td><td>3132.0</td></tr></tbody></table>"
      ],
      "text/latex": [
       "\\begin{tabular}{r|cc}\n",
       "\t& Country & Revenue\\\\\n",
       "\t\\hline\n",
       "\t& String⍰ & Float64⍰\\\\\n",
       "\t\\hline\n",
       "\t1 & France & 2.66176e5 \\\\\n",
       "\t2 & Germany & 1.64443e5 \\\\\n",
       "\t3 & Australia & 1.35952e5 \\\\\n",
       "\t4 & USA & 92285.8 \\\\\n",
       "\t5 & UK & 91731.6 \\\\\n",
       "\t6 & Italy & 86384.0 \\\\\n",
       "\t7 & Canada & 72279.3 \\\\\n",
       "\t8 & Singapore & 34729.6 \\\\\n",
       "\t9 & Norway & 34278.0 \\\\\n",
       "\t10 & Finland & 21727.5 \\\\\n",
       "\t11 & Sweden & 16056.0 \\\\\n",
       "\t12 & Denmark & 5790.0 \\\\\n",
       "\t13 & Netherlands & 5153.0 \\\\\n",
       "\t14 & Brazil & 3132.0 \\\\\n",
       "\\end{tabular}\n"
      ],
      "text/plain": [
       "14×2 DataFrame\n",
       "│ Row │ Country     │ Revenue   │\n",
       "│     │ \u001b[90mString⍰\u001b[39m     │ \u001b[90mFloat64⍰\u001b[39m  │\n",
       "├─────┼─────────────┼───────────┤\n",
       "│ 1   │ France      │ 2.66176e5 │\n",
       "│ 2   │ Germany     │ 1.64443e5 │\n",
       "│ 3   │ Australia   │ 1.35952e5 │\n",
       "│ 4   │ USA         │ 92285.8   │\n",
       "│ 5   │ UK          │ 91731.6   │\n",
       "│ 6   │ Italy       │ 86384.0   │\n",
       "│ 7   │ Canada      │ 72279.3   │\n",
       "│ 8   │ Singapore   │ 34729.6   │\n",
       "│ 9   │ Norway      │ 34278.0   │\n",
       "│ 10  │ Finland     │ 21727.5   │\n",
       "│ 11  │ Sweden      │ 16056.0   │\n",
       "│ 12  │ Denmark     │ 5790.0    │\n",
       "│ 13  │ Netherlands │ 5153.0    │\n",
       "│ 14  │ Brazil      │ 3132.0    │"
      ]
     },
     "execution_count": 87,
     "metadata": {},
     "output_type": "execute_result"
    }
   ],
   "source": [
    "RevenueSupplierCountry = DataFrame(SQLite.Query(acme,\"\"\"select country, sum(product.unitprice*quantity) as Revenue from Suppl\n",
    "inner join Product on Suppl.ID = Product.SupplierID\n",
    "inner join orderitem on Product.ID = OrderItem.ProductID\n",
    "inner join Ord on OrderItem.OrderID = Ord.ID\n",
    "where orderdate < '2013-04-31T12:00:00' and '2014-05-01T12:00:00'\n",
    "group by country\n",
    "order by Revenue desc\n",
    "        \"\"\"))"
   ]
  },
  {
   "cell_type": "code",
   "execution_count": 110,
   "metadata": {},
   "outputs": [
    {
     "data": {
      "application/vnd.vegalite.v2+json": {
       "data": {
        "values": [
         {
          "Country": "France",
          "Revenue": 266175.5
         },
         {
          "Country": "Germany",
          "Revenue": 164442.61999999994
         },
         {
          "Country": "Australia",
          "Revenue": 135952.09999999995
         },
         {
          "Country": "USA",
          "Revenue": 92285.79999999999
         },
         {
          "Country": "UK",
          "Revenue": 91731.59999999999
         },
         {
          "Country": "Italy",
          "Revenue": 86384
         },
         {
          "Country": "Canada",
          "Revenue": 72279.29999999999
         },
         {
          "Country": "Singapore",
          "Revenue": 34729.60000000001
         },
         {
          "Country": "Norway",
          "Revenue": 34278
         },
         {
          "Country": "Finland",
          "Revenue": 21727.5
         },
         {
          "Country": "Sweden",
          "Revenue": 16056
         },
         {
          "Country": "Denmark",
          "Revenue": 5790
         },
         {
          "Country": "Netherlands",
          "Revenue": 5153
         },
         {
          "Country": "Brazil",
          "Revenue": 3132
         }
        ]
       },
       "encoding": {
        "x": {
         "field": "Country",
         "type": "nominal"
        },
        "y": {
         "field": "Revenue",
         "type": "quantitative"
        }
       },
       "mark": "bar"
      },
      "image/png": "[encoded data removed]",
      "image/svg+xml": [
       "<?xml version=\"1.0\" encoding=\"utf-8\"?>\n",
       "<!DOCTYPE svg PUBLIC \"-//W3C//DTD SVG 1.1//EN\" \"http://www.w3.org/Graphics/SVG/1.1/DTD/svg11.dtd\">\n",
       "<svg class=\"marks\" width=\"385\" height=\"323\" viewBox=\"0 0 385 323\" version=\"1.1\" xmlns=\"http://www.w3.org/2000/svg\" xmlns:xlink=\"http://www.w3.org/1999/xlink\"><g transform=\"translate(86,5)\"><g class=\"mark-group role-frame root\"><g transform=\"translate(0,0)\"><path class=\"background\" d=\"M0.5,0.5h294v200h-294Z\" style=\"fill: none; stroke: #ddd;\"></path><g><g class=\"mark-group role-axis\"><g transform=\"translate(0.5,0.5)\"><path class=\"background\" d=\"M0,0h0v0h0Z\" style=\"pointer-events: none; fill: none;\"></path><g><g class=\"mark-rule role-axis-grid\" style=\"pointer-events: none;\"><line transform=\"translate(0,200)\" x2=\"294\" y2=\"0\" style=\"fill: none; stroke: #ddd; stroke-width: 1; opacity: 1;\"></line><line transform=\"translate(0,164)\" x2=\"294\" y2=\"0\" style=\"fill: none; stroke: #ddd; stroke-width: 1; opacity: 1;\"></line><line transform=\"translate(0,129)\" x2=\"294\" y2=\"0\" style=\"fill: none; stroke: #ddd; stroke-width: 1; opacity: 1;\"></line><line transform=\"translate(0,93)\" x2=\"294\" y2=\"0\" style=\"fill: none; stroke: #ddd; stroke-width: 1; opacity: 1;\"></line><line transform=\"translate(0,57)\" x2=\"294\" y2=\"0\" style=\"fill: none; stroke: #ddd; stroke-width: 1; opacity: 1;\"></line><line transform=\"translate(0,21)\" x2=\"294\" y2=\"0\" style=\"fill: none; stroke: #ddd; stroke-width: 1; opacity: 1;\"></line></g></g></g></g><g class=\"mark-rect role-mark marks\"><path d=\"M106.04999999999998,9.874642857142845h18.900000000000002v190.12535714285715h-18.900000000000002Z\" style=\"fill: #4c78a8;\"></path><path d=\"M127.04999999999998,82.54098571428577h18.900000000000002v117.45901428571423h-18.900000000000002Z\" style=\"fill: #4c78a8;\"></path><path d=\"M1.049999999999983,102.89135714285717h18.900000000000002v97.10864285714283h-18.900000000000002Z\" style=\"fill: #4c78a8;\"></path><path d=\"M274.04999999999995,134.08157142857144h18.900000000000002v65.91842857142856h-18.900000000000002Z\" style=\"fill: #4c78a8;\"></path><path d=\"M253.04999999999998,134.47742857142856h18.900000000000002v65.52257142857144h-18.900000000000002Z\" style=\"fill: #4c78a8;\"></path><path d=\"M148.04999999999998,138.29714285714286h18.900000000000002v61.70285714285714h-18.900000000000002Z\" style=\"fill: #4c78a8;\"></path><path d=\"M43.04999999999998,148.37192857142858h18.900000000000002v51.62807142857142h-18.900000000000002Z\" style=\"fill: #4c78a8;\"></path><path d=\"M211.04999999999998,175.19314285714285h18.900000000000002v24.806857142857154h-18.900000000000002Z\" style=\"fill: #4c78a8;\"></path><path d=\"M190.04999999999998,175.5157142857143h18.900000000000002v24.484285714285704h-18.900000000000002Z\" style=\"fill: #4c78a8;\"></path><path d=\"M85.04999999999998,184.48035714285714h18.900000000000002v15.519642857142856h-18.900000000000002Z\" style=\"fill: #4c78a8;\"></path><path d=\"M232.04999999999998,188.53142857142856h18.900000000000002v11.468571428571437h-18.900000000000002Z\" style=\"fill: #4c78a8;\"></path><path d=\"M64.04999999999998,195.86428571428573h18.900000000000002v4.135714285714272h-18.900000000000002Z\" style=\"fill: #4c78a8;\"></path><path d=\"M169.04999999999998,196.3192857142857h18.900000000000002v3.680714285714288h-18.900000000000002Z\" style=\"fill: #4c78a8;\"></path><path d=\"M22.049999999999983,197.76285714285714h18.900000000000002v2.2371428571428567h-18.900000000000002Z\" style=\"fill: #4c78a8;\"></path></g><g class=\"mark-group role-axis\"><g transform=\"translate(0.5,200.5)\"><path class=\"background\" d=\"M0,0h0v0h0Z\" style=\"pointer-events: none; fill: none;\"></path><g><g class=\"mark-rule role-axis-tick\" style=\"pointer-events: none;\"><line transform=\"translate(9,0)\" x2=\"0\" y2=\"5\" style=\"fill: none; stroke: #888; stroke-width: 1; opacity: 1;\"></line><line transform=\"translate(30,0)\" x2=\"0\" y2=\"5\" style=\"fill: none; stroke: #888; stroke-width: 1; opacity: 1;\"></line><line transform=\"translate(51,0)\" x2=\"0\" y2=\"5\" style=\"fill: none; stroke: #888; stroke-width: 1; opacity: 1;\"></line><line transform=\"translate(72,0)\" x2=\"0\" y2=\"5\" style=\"fill: none; stroke: #888; stroke-width: 1; opacity: 1;\"></line><line transform=\"translate(93,0)\" x2=\"0\" y2=\"5\" style=\"fill: none; stroke: #888; stroke-width: 1; opacity: 1;\"></line><line transform=\"translate(114,0)\" x2=\"0\" y2=\"5\" style=\"fill: none; stroke: #888; stroke-width: 1; opacity: 1;\"></line><line transform=\"translate(135,0)\" x2=\"0\" y2=\"5\" style=\"fill: none; stroke: #888; stroke-width: 1; opacity: 1;\"></line><line transform=\"translate(156,0)\" x2=\"0\" y2=\"5\" style=\"fill: none; stroke: #888; stroke-width: 1; opacity: 1;\"></line><line transform=\"translate(177,0)\" x2=\"0\" y2=\"5\" style=\"fill: none; stroke: #888; stroke-width: 1; opacity: 1;\"></line><line transform=\"translate(198,0)\" x2=\"0\" y2=\"5\" style=\"fill: none; stroke: #888; stroke-width: 1; opacity: 1;\"></line><line transform=\"translate(219,0)\" x2=\"0\" y2=\"5\" style=\"fill: none; stroke: #888; stroke-width: 1; opacity: 1;\"></line><line transform=\"translate(240,0)\" x2=\"0\" y2=\"5\" style=\"fill: none; stroke: #888; stroke-width: 1; opacity: 1;\"></line><line transform=\"translate(262,0)\" x2=\"0\" y2=\"5\" style=\"fill: none; stroke: #888; stroke-width: 1; opacity: 1;\"></line><line transform=\"translate(282,0)\" x2=\"0\" y2=\"5\" style=\"fill: none; stroke: #888; stroke-width: 1; opacity: 1;\"></line></g><g class=\"mark-text role-axis-label\" style=\"pointer-events: none;\"><text text-anchor=\"end\" transform=\"translate(9.499999999999984,7) rotate(270) translate(0,3)\" style=\"font-family: sans-serif; font-size: 10px; fill: #000; opacity: 1;\">Australia</text><text text-anchor=\"end\" transform=\"translate(30.499999999999986,7) rotate(270) translate(0,3)\" style=\"font-family: sans-serif; font-size: 10px; fill: #000; opacity: 1;\">Brazil</text><text text-anchor=\"end\" transform=\"translate(51.499999999999986,7) rotate(270) translate(0,3)\" style=\"font-family: sans-serif; font-size: 10px; fill: #000; opacity: 1;\">Canada</text><text text-anchor=\"end\" transform=\"translate(72.49999999999999,7) rotate(270) translate(0,3)\" style=\"font-family: sans-serif; font-size: 10px; fill: #000; opacity: 1;\">Denmark</text><text text-anchor=\"end\" transform=\"translate(93.49999999999999,7) rotate(270) translate(0,3)\" style=\"font-family: sans-serif; font-size: 10px; fill: #000; opacity: 1;\">Finland</text><text text-anchor=\"end\" transform=\"translate(114.49999999999999,7) rotate(270) translate(0,3)\" style=\"font-family: sans-serif; font-size: 10px; fill: #000; opacity: 1;\">France</text><text text-anchor=\"end\" transform=\"translate(135.49999999999997,7) rotate(270) translate(0,3)\" style=\"font-family: sans-serif; font-size: 10px; fill: #000; opacity: 1;\">Germany</text><text text-anchor=\"end\" transform=\"translate(156.49999999999997,7) rotate(270) translate(0,3)\" style=\"font-family: sans-serif; font-size: 10px; fill: #000; opacity: 1;\">Italy</text><text text-anchor=\"end\" transform=\"translate(177.49999999999997,7) rotate(270) translate(0,3)\" style=\"font-family: sans-serif; font-size: 10px; fill: #000; opacity: 1;\">Netherlands</text><text text-anchor=\"end\" transform=\"translate(198.49999999999997,7) rotate(270) translate(0,3)\" style=\"font-family: sans-serif; font-size: 10px; fill: #000; opacity: 1;\">Norway</text><text text-anchor=\"end\" transform=\"translate(219.49999999999997,7) rotate(270) translate(0,3)\" style=\"font-family: sans-serif; font-size: 10px; fill: #000; opacity: 1;\">Singapore</text><text text-anchor=\"end\" transform=\"translate(240.49999999999997,7) rotate(270) translate(0,3)\" style=\"font-family: sans-serif; font-size: 10px; fill: #000; opacity: 1;\">Sweden</text><text text-anchor=\"end\" transform=\"translate(261.5,7) rotate(270) translate(0,3)\" style=\"font-family: sans-serif; font-size: 10px; fill: #000; opacity: 1;\">UK</text><text text-anchor=\"end\" transform=\"translate(282.49999999999994,7) rotate(270) translate(0,3)\" style=\"font-family: sans-serif; font-size: 10px; fill: #000; opacity: 1;\">USA</text></g><g class=\"mark-rule role-axis-domain\" style=\"pointer-events: none;\"><line transform=\"translate(0,0)\" x2=\"294\" y2=\"0\" style=\"fill: none; stroke: #888; stroke-width: 1; opacity: 1;\"></line></g><g class=\"mark-text role-axis-title\" style=\"pointer-events: none;\"><text text-anchor=\"middle\" transform=\"translate(147,109)\" style=\"font-family: sans-serif; font-size: 11px; font-weight: bold; fill: #000; opacity: 1;\">Country</text></g></g></g></g><g class=\"mark-group role-axis\"><g transform=\"translate(0.5,0.5)\"><path class=\"background\" d=\"M0,0h0v0h0Z\" style=\"pointer-events: none; fill: none;\"></path><g><g class=\"mark-rule role-axis-tick\" style=\"pointer-events: none;\"><line transform=\"translate(0,200)\" x2=\"-5\" y2=\"0\" style=\"fill: none; stroke: #888; stroke-width: 1; opacity: 1;\"></line><line transform=\"translate(0,164)\" x2=\"-5\" y2=\"0\" style=\"fill: none; stroke: #888; stroke-width: 1; opacity: 1;\"></line><line transform=\"translate(0,129)\" x2=\"-5\" y2=\"0\" style=\"fill: none; stroke: #888; stroke-width: 1; opacity: 1;\"></line><line transform=\"translate(0,93)\" x2=\"-5\" y2=\"0\" style=\"fill: none; stroke: #888; stroke-width: 1; opacity: 1;\"></line><line transform=\"translate(0,57)\" x2=\"-5\" y2=\"0\" style=\"fill: none; stroke: #888; stroke-width: 1; opacity: 1;\"></line><line transform=\"translate(0,21)\" x2=\"-5\" y2=\"0\" style=\"fill: none; stroke: #888; stroke-width: 1; opacity: 1;\"></line></g><g class=\"mark-text role-axis-label\" style=\"pointer-events: none;\"><text text-anchor=\"end\" transform=\"translate(-7,203)\" style=\"font-family: sans-serif; font-size: 10px; fill: #000; opacity: 1;\">0</text><text text-anchor=\"end\" transform=\"translate(-7,167.28571428571428)\" style=\"font-family: sans-serif; font-size: 10px; fill: #000; opacity: 1;\">50,000</text><text text-anchor=\"end\" transform=\"translate(-7,131.57142857142856)\" style=\"font-family: sans-serif; font-size: 10px; fill: #000; opacity: 1;\">100,000</text><text text-anchor=\"end\" transform=\"translate(-7,95.85714285714286)\" style=\"font-family: sans-serif; font-size: 10px; fill: #000; opacity: 1;\">150,000</text><text text-anchor=\"end\" transform=\"translate(-7,60.14285714285714)\" style=\"font-family: sans-serif; font-size: 10px; fill: #000; opacity: 1;\">200,000</text><text text-anchor=\"end\" transform=\"translate(-7,24.428571428571416)\" style=\"font-family: sans-serif; font-size: 10px; fill: #000; opacity: 1;\">250,000</text></g><g class=\"mark-rule role-axis-domain\" style=\"pointer-events: none;\"><line transform=\"translate(0,200)\" x2=\"0\" y2=\"-200\" style=\"fill: none; stroke: #888; stroke-width: 1; opacity: 1;\"></line></g><g class=\"mark-text role-axis-title\" style=\"pointer-events: none;\"><text text-anchor=\"middle\" transform=\"translate(-68,100) rotate(-90) translate(0,-2)\" style=\"font-family: sans-serif; font-size: 11px; font-weight: bold; fill: #000; opacity: 1;\">Revenue</text></g></g></g></g></g></g></g></g></svg>"
      ],
      "text/plain": [
       "VegaLite.VLSpec{:plot}"
      ]
     },
     "execution_count": 110,
     "metadata": {},
     "output_type": "execute_result"
    }
   ],
   "source": [
    "RevenueSupplierCountry |> @vlplot(:bar, x=:Country, y=:Revenue)"
   ]
  },
  {
   "cell_type": "markdown",
   "metadata": {},
   "source": [
    "#### Top 3 supplier of Fiscal year and their business volume "
   ]
  },
  {
   "cell_type": "code",
   "execution_count": 92,
   "metadata": {},
   "outputs": [
    {
     "data": {
      "text/html": [
       "<table class=\"data-frame\"><thead><tr><th></th><th>Revenue</th><th>CompanyName</th><th>Id</th></tr><tr><th></th><th>Float64⍰</th><th>String⍰</th><th>Int64⍰</th></tr></thead><tbody><p>3 rows × 3 columns</p><tr><th>1</th><td>2.10147e5</td><td>Plutzer Lebensmittelgroßmärkte AG</td><td>12</td></tr><tr><th>2</th><td>194817.0</td><td>Aux joyeux ecclésiastiques</td><td>18</td></tr><tr><th>3</th><td>170852.0</td><td>Gai pâturage</td><td>28</td></tr></tbody></table>"
      ],
      "text/latex": [
       "\\begin{tabular}{r|ccc}\n",
       "\t& Revenue & CompanyName & Id\\\\\n",
       "\t\\hline\n",
       "\t& Float64⍰ & String⍰ & Int64⍰\\\\\n",
       "\t\\hline\n",
       "\t1 & 2.10147e5 & Plutzer Lebensmittelgroßmärkte AG & 12 \\\\\n",
       "\t2 & 194817.0 & Aux joyeux ecclésiastiques & 18 \\\\\n",
       "\t3 & 170852.0 & Gai pâturage & 28 \\\\\n",
       "\\end{tabular}\n"
      ],
      "text/plain": [
       "3×3 DataFrame\n",
       "│ Row │ Revenue   │ CompanyName                       │ Id     │\n",
       "│     │ \u001b[90mFloat64⍰\u001b[39m  │ \u001b[90mUnion{Missing, String}\u001b[39m            │ \u001b[90mInt64⍰\u001b[39m │\n",
       "├─────┼───────────┼───────────────────────────────────┼────────┤\n",
       "│ 1   │ 2.10147e5 │ Plutzer Lebensmittelgroßmärkte AG │ 12     │\n",
       "│ 2   │ 194817.0  │ Aux joyeux ecclésiastiques        │ 18     │\n",
       "│ 3   │ 170852.0  │ Gai pâturage                      │ 28     │"
      ]
     },
     "execution_count": 92,
     "metadata": {},
     "output_type": "execute_result"
    }
   ],
   "source": [
    "Top3Supplier = DataFrame(SQLite.Query(acme,\"\"\"select sum(product.unitprice*quantity) Revenue, CompanyName, suppl.id from suppl \n",
    "inner join product on suppl.id = product.SupplierID\n",
    "inner join orderitem on product.id = orderitem.productid\n",
    "inner join ord on orderitem.OrderID = Ord.id\n",
    "where orderdate between '2013-04-31T12:00:00' and '2014-05-01T12:00:00'\n",
    "group by CompanyName\n",
    "order by revenue desc\n",
    "limit 3\n",
    "        \"\"\"))"
   ]
  },
  {
   "cell_type": "code",
   "execution_count": 112,
   "metadata": {},
   "outputs": [
    {
     "data": {
      "application/vnd.vegalite.v2+json": {
       "data": {
        "values": [
         {
          "CompanyName": "Refrescos Americanas LTDA",
          "Id": 10,
          "Revenue": 6813
         },
         {
          "CompanyName": "Zaanse Snoepfabriek",
          "Id": 22,
          "Revenue": 7581
         },
         {
          "CompanyName": "Escargots Nouveaux",
          "Id": 27,
          "Revenue": 10043.5
         }
        ]
       },
       "encoding": {
        "x": {
         "field": "CompanyName",
         "type": "nominal"
        },
        "y": {
         "field": "Revenue",
         "type": "quantitative"
        }
       },
       "mark": "bar"
      },
      "image/png": "[encoded data removed]",
      "image/svg+xml": [
       "<?xml version=\"1.0\" encoding=\"utf-8\"?>\n",
       "<!DOCTYPE svg PUBLIC \"-//W3C//DTD SVG 1.1//EN\" \"http://www.w3.org/Graphics/SVG/1.1/DTD/svg11.dtd\">\n",
       "<svg class=\"marks\" width=\"164\" height=\"411\" viewBox=\"0 0 164 411\" version=\"1.1\" xmlns=\"http://www.w3.org/2000/svg\" xmlns:xlink=\"http://www.w3.org/1999/xlink\"><g transform=\"translate(78,5)\"><g class=\"mark-group role-frame root\"><g transform=\"translate(0,0)\"><path class=\"background\" d=\"M0.5,0.5h63v200h-63Z\" style=\"fill: none; stroke: #ddd;\"></path><g><g class=\"mark-group role-axis\"><g transform=\"translate(0.5,0.5)\"><path class=\"background\" d=\"M0,0h0v0h0Z\" style=\"pointer-events: none; fill: none;\"></path><g><g class=\"mark-rule role-axis-grid\" style=\"pointer-events: none;\"><line transform=\"translate(0,200)\" x2=\"63\" y2=\"0\" style=\"fill: none; stroke: #ddd; stroke-width: 1; opacity: 1;\"></line><line transform=\"translate(0,164)\" x2=\"63\" y2=\"0\" style=\"fill: none; stroke: #ddd; stroke-width: 1; opacity: 1;\"></line><line transform=\"translate(0,127)\" x2=\"63\" y2=\"0\" style=\"fill: none; stroke: #ddd; stroke-width: 1; opacity: 1;\"></line><line transform=\"translate(0,91)\" x2=\"63\" y2=\"0\" style=\"fill: none; stroke: #ddd; stroke-width: 1; opacity: 1;\"></line><line transform=\"translate(0,55)\" x2=\"63\" y2=\"0\" style=\"fill: none; stroke: #ddd; stroke-width: 1; opacity: 1;\"></line><line transform=\"translate(0,18)\" x2=\"63\" y2=\"0\" style=\"fill: none; stroke: #ddd; stroke-width: 1; opacity: 1;\"></line></g></g></g></g><g class=\"mark-rect role-mark marks\"><path d=\"M22.05,76.12727272727273h18.900000000000002v123.87272727272727h-18.900000000000002Z\" style=\"fill: #4c78a8;\"></path><path d=\"M43.05,62.16363636363636h18.900000000000002v137.83636363636364h-18.900000000000002Z\" style=\"fill: #4c78a8;\"></path><path d=\"M1.0500000000000007,17.390909090909105h18.900000000000002v182.6090909090909h-18.900000000000002Z\" style=\"fill: #4c78a8;\"></path></g><g class=\"mark-group role-axis\"><g transform=\"translate(0.5,200.5)\"><path class=\"background\" d=\"M0,0h0v0h0Z\" style=\"pointer-events: none; fill: none;\"></path><g><g class=\"mark-rule role-axis-tick\" style=\"pointer-events: none;\"><line transform=\"translate(10,0)\" x2=\"0\" y2=\"5\" style=\"fill: none; stroke: #888; stroke-width: 1; opacity: 1;\"></line><line transform=\"translate(31,0)\" x2=\"0\" y2=\"5\" style=\"fill: none; stroke: #888; stroke-width: 1; opacity: 1;\"></line><line transform=\"translate(52,0)\" x2=\"0\" y2=\"5\" style=\"fill: none; stroke: #888; stroke-width: 1; opacity: 1;\"></line></g><g class=\"mark-text role-axis-label\" style=\"pointer-events: none;\"><text text-anchor=\"end\" transform=\"translate(9.500000000000002,7) rotate(270) translate(0,3)\" style=\"font-family: sans-serif; font-size: 10px; fill: #000; opacity: 1;\">Escargots Nouveaux</text><text text-anchor=\"end\" transform=\"translate(30.5,7) rotate(270) translate(0,3)\" style=\"font-family: sans-serif; font-size: 10px; fill: #000; opacity: 1;\">Refrescos Americanas …</text><text text-anchor=\"end\" transform=\"translate(51.5,7) rotate(270) translate(0,3)\" style=\"font-family: sans-serif; font-size: 10px; fill: #000; opacity: 1;\">Zaanse Snoepfabriek</text></g><g class=\"mark-rule role-axis-domain\" style=\"pointer-events: none;\"><line transform=\"translate(0,0)\" x2=\"63\" y2=\"0\" style=\"fill: none; stroke: #888; stroke-width: 1; opacity: 1;\"></line></g><g class=\"mark-text role-axis-title\" style=\"pointer-events: none;\"><text text-anchor=\"middle\" transform=\"translate(31.5,197)\" style=\"font-family: sans-serif; font-size: 11px; font-weight: bold; fill: #000; opacity: 1;\">CompanyName</text></g></g></g></g><g class=\"mark-group role-axis\"><g transform=\"translate(0.5,0.5)\"><path class=\"background\" d=\"M0,0h0v0h0Z\" style=\"pointer-events: none; fill: none;\"></path><g><g class=\"mark-rule role-axis-tick\" style=\"pointer-events: none;\"><line transform=\"translate(0,200)\" x2=\"-5\" y2=\"0\" style=\"fill: none; stroke: #888; stroke-width: 1; opacity: 1;\"></line><line transform=\"translate(0,164)\" x2=\"-5\" y2=\"0\" style=\"fill: none; stroke: #888; stroke-width: 1; opacity: 1;\"></line><line transform=\"translate(0,127)\" x2=\"-5\" y2=\"0\" style=\"fill: none; stroke: #888; stroke-width: 1; opacity: 1;\"></line><line transform=\"translate(0,91)\" x2=\"-5\" y2=\"0\" style=\"fill: none; stroke: #888; stroke-width: 1; opacity: 1;\"></line><line transform=\"translate(0,55)\" x2=\"-5\" y2=\"0\" style=\"fill: none; stroke: #888; stroke-width: 1; opacity: 1;\"></line><line transform=\"translate(0,18)\" x2=\"-5\" y2=\"0\" style=\"fill: none; stroke: #888; stroke-width: 1; opacity: 1;\"></line></g><g class=\"mark-text role-axis-label\" style=\"pointer-events: none;\"><text text-anchor=\"end\" transform=\"translate(-7,203)\" style=\"font-family: sans-serif; font-size: 10px; fill: #000; opacity: 1;\">0</text><text text-anchor=\"end\" transform=\"translate(-7,166.63636363636363)\" style=\"font-family: sans-serif; font-size: 10px; fill: #000; opacity: 1;\">2,000</text><text text-anchor=\"end\" transform=\"translate(-7,130.27272727272725)\" style=\"font-family: sans-serif; font-size: 10px; fill: #000; opacity: 1;\">4,000</text><text text-anchor=\"end\" transform=\"translate(-7,93.90909090909092)\" style=\"font-family: sans-serif; font-size: 10px; fill: #000; opacity: 1;\">6,000</text><text text-anchor=\"end\" transform=\"translate(-7,57.54545454545453)\" style=\"font-family: sans-serif; font-size: 10px; fill: #000; opacity: 1;\">8,000</text><text text-anchor=\"end\" transform=\"translate(-7,21.181818181818187)\" style=\"font-family: sans-serif; font-size: 10px; fill: #000; opacity: 1;\">10,000</text></g><g class=\"mark-rule role-axis-domain\" style=\"pointer-events: none;\"><line transform=\"translate(0,200)\" x2=\"0\" y2=\"-200\" style=\"fill: none; stroke: #888; stroke-width: 1; opacity: 1;\"></line></g><g class=\"mark-text role-axis-title\" style=\"pointer-events: none;\"><text text-anchor=\"middle\" transform=\"translate(-60,100) rotate(-90) translate(0,-2)\" style=\"font-family: sans-serif; font-size: 11px; font-weight: bold; fill: #000; opacity: 1;\">Revenue</text></g></g></g></g></g></g></g></g></svg>"
      ],
      "text/plain": [
       "VegaLite.VLSpec{:plot}"
      ]
     },
     "execution_count": 112,
     "metadata": {},
     "output_type": "execute_result"
    }
   ],
   "source": [
    "Top3Supplier |> @vlplot(:bar, x=:CompanyName, y=:Revenue)"
   ]
  },
  {
   "cell_type": "markdown",
   "metadata": {},
   "source": [
    "#### Bottom 3 volume suppliers during Fiscal year"
   ]
  },
  {
   "cell_type": "code",
   "execution_count": 114,
   "metadata": {
    "scrolled": true
   },
   "outputs": [
    {
     "data": {
      "text/html": [
       "<table class=\"data-frame\"><thead><tr><th></th><th>Revenue</th><th>CompanyName</th><th>Id</th></tr><tr><th></th><th>Float64⍰</th><th>String⍰</th><th>Int64⍰</th></tr></thead><tbody><p>3 rows × 3 columns</p><tr><th>1</th><td>6813.0</td><td>Refrescos Americanas LTDA</td><td>10</td></tr><tr><th>2</th><td>7581.0</td><td>Zaanse Snoepfabriek</td><td>22</td></tr><tr><th>3</th><td>10043.5</td><td>Escargots Nouveaux</td><td>27</td></tr></tbody></table>"
      ],
      "text/latex": [
       "\\begin{tabular}{r|ccc}\n",
       "\t& Revenue & CompanyName & Id\\\\\n",
       "\t\\hline\n",
       "\t& Float64⍰ & String⍰ & Int64⍰\\\\\n",
       "\t\\hline\n",
       "\t1 & 6813.0 & Refrescos Americanas LTDA & 10 \\\\\n",
       "\t2 & 7581.0 & Zaanse Snoepfabriek & 22 \\\\\n",
       "\t3 & 10043.5 & Escargots Nouveaux & 27 \\\\\n",
       "\\end{tabular}\n"
      ],
      "text/plain": [
       "3×3 DataFrame\n",
       "│ Row │ Revenue  │ CompanyName               │ Id     │\n",
       "│     │ \u001b[90mFloat64⍰\u001b[39m │ \u001b[90mUnion{Missing, String}\u001b[39m    │ \u001b[90mInt64⍰\u001b[39m │\n",
       "├─────┼──────────┼───────────────────────────┼────────┤\n",
       "│ 1   │ 6813.0   │ Refrescos Americanas LTDA │ 10     │\n",
       "│ 2   │ 7581.0   │ Zaanse Snoepfabriek       │ 22     │\n",
       "│ 3   │ 10043.5  │ Escargots Nouveaux        │ 27     │"
      ]
     },
     "execution_count": 114,
     "metadata": {},
     "output_type": "execute_result"
    }
   ],
   "source": [
    "BottomSupplier = DataFrame(SQLite.Query(acme,\"\"\"select sum(product.unitprice*quantity) Revenue, CompanyName, suppl.id from suppl \n",
    "inner join product on suppl.id = product.SupplierID\n",
    "inner join orderitem on product.id = orderitem.productid\n",
    "inner join ord on orderitem.OrderID = Ord.id\n",
    "where orderdate between '2013-04-31T12:00:00' and '2014-05-01T12:00:00'\n",
    "group by CompanyName\n",
    "order by revenue \n",
    "limit 3\n",
    "        \"\"\"))"
   ]
  },
  {
   "cell_type": "code",
   "execution_count": 116,
   "metadata": {},
   "outputs": [
    {
     "data": {
      "application/vnd.vegalite.v2+json": {
       "data": {
        "values": [
         {
          "CompanyName": "Refrescos Americanas LTDA",
          "Id": 10,
          "Revenue": 6813
         },
         {
          "CompanyName": "Zaanse Snoepfabriek",
          "Id": 22,
          "Revenue": 7581
         },
         {
          "CompanyName": "Escargots Nouveaux",
          "Id": 27,
          "Revenue": 10043.5
         }
        ]
       },
       "encoding": {
        "x": {
         "field": "CompanyName",
         "type": "nominal"
        },
        "y": {
         "field": "Revenue",
         "type": "quantitative"
        }
       },
       "mark": "bar"
      },
      "image/png": "[encoded data removed]",
      "image/svg+xml": [
       "<?xml version=\"1.0\" encoding=\"utf-8\"?>\n",
       "<!DOCTYPE svg PUBLIC \"-//W3C//DTD SVG 1.1//EN\" \"http://www.w3.org/Graphics/SVG/1.1/DTD/svg11.dtd\">\n",
       "<svg class=\"marks\" width=\"164\" height=\"411\" viewBox=\"0 0 164 411\" version=\"1.1\" xmlns=\"http://www.w3.org/2000/svg\" xmlns:xlink=\"http://www.w3.org/1999/xlink\"><g transform=\"translate(78,5)\"><g class=\"mark-group role-frame root\"><g transform=\"translate(0,0)\"><path class=\"background\" d=\"M0.5,0.5h63v200h-63Z\" style=\"fill: none; stroke: #ddd;\"></path><g><g class=\"mark-group role-axis\"><g transform=\"translate(0.5,0.5)\"><path class=\"background\" d=\"M0,0h0v0h0Z\" style=\"pointer-events: none; fill: none;\"></path><g><g class=\"mark-rule role-axis-grid\" style=\"pointer-events: none;\"><line transform=\"translate(0,200)\" x2=\"63\" y2=\"0\" style=\"fill: none; stroke: #ddd; stroke-width: 1; opacity: 1;\"></line><line transform=\"translate(0,164)\" x2=\"63\" y2=\"0\" style=\"fill: none; stroke: #ddd; stroke-width: 1; opacity: 1;\"></line><line transform=\"translate(0,127)\" x2=\"63\" y2=\"0\" style=\"fill: none; stroke: #ddd; stroke-width: 1; opacity: 1;\"></line><line transform=\"translate(0,91)\" x2=\"63\" y2=\"0\" style=\"fill: none; stroke: #ddd; stroke-width: 1; opacity: 1;\"></line><line transform=\"translate(0,55)\" x2=\"63\" y2=\"0\" style=\"fill: none; stroke: #ddd; stroke-width: 1; opacity: 1;\"></line><line transform=\"translate(0,18)\" x2=\"63\" y2=\"0\" style=\"fill: none; stroke: #ddd; stroke-width: 1; opacity: 1;\"></line></g></g></g></g><g class=\"mark-rect role-mark marks\"><path d=\"M22.05,76.12727272727273h18.900000000000002v123.87272727272727h-18.900000000000002Z\" style=\"fill: #4c78a8;\"></path><path d=\"M43.05,62.16363636363636h18.900000000000002v137.83636363636364h-18.900000000000002Z\" style=\"fill: #4c78a8;\"></path><path d=\"M1.0500000000000007,17.390909090909105h18.900000000000002v182.6090909090909h-18.900000000000002Z\" style=\"fill: #4c78a8;\"></path></g><g class=\"mark-group role-axis\"><g transform=\"translate(0.5,200.5)\"><path class=\"background\" d=\"M0,0h0v0h0Z\" style=\"pointer-events: none; fill: none;\"></path><g><g class=\"mark-rule role-axis-tick\" style=\"pointer-events: none;\"><line transform=\"translate(10,0)\" x2=\"0\" y2=\"5\" style=\"fill: none; stroke: #888; stroke-width: 1; opacity: 1;\"></line><line transform=\"translate(31,0)\" x2=\"0\" y2=\"5\" style=\"fill: none; stroke: #888; stroke-width: 1; opacity: 1;\"></line><line transform=\"translate(52,0)\" x2=\"0\" y2=\"5\" style=\"fill: none; stroke: #888; stroke-width: 1; opacity: 1;\"></line></g><g class=\"mark-text role-axis-label\" style=\"pointer-events: none;\"><text text-anchor=\"end\" transform=\"translate(9.500000000000002,7) rotate(270) translate(0,3)\" style=\"font-family: sans-serif; font-size: 10px; fill: #000; opacity: 1;\">Escargots Nouveaux</text><text text-anchor=\"end\" transform=\"translate(30.5,7) rotate(270) translate(0,3)\" style=\"font-family: sans-serif; font-size: 10px; fill: #000; opacity: 1;\">Refrescos Americanas …</text><text text-anchor=\"end\" transform=\"translate(51.5,7) rotate(270) translate(0,3)\" style=\"font-family: sans-serif; font-size: 10px; fill: #000; opacity: 1;\">Zaanse Snoepfabriek</text></g><g class=\"mark-rule role-axis-domain\" style=\"pointer-events: none;\"><line transform=\"translate(0,0)\" x2=\"63\" y2=\"0\" style=\"fill: none; stroke: #888; stroke-width: 1; opacity: 1;\"></line></g><g class=\"mark-text role-axis-title\" style=\"pointer-events: none;\"><text text-anchor=\"middle\" transform=\"translate(31.5,197)\" style=\"font-family: sans-serif; font-size: 11px; font-weight: bold; fill: #000; opacity: 1;\">CompanyName</text></g></g></g></g><g class=\"mark-group role-axis\"><g transform=\"translate(0.5,0.5)\"><path class=\"background\" d=\"M0,0h0v0h0Z\" style=\"pointer-events: none; fill: none;\"></path><g><g class=\"mark-rule role-axis-tick\" style=\"pointer-events: none;\"><line transform=\"translate(0,200)\" x2=\"-5\" y2=\"0\" style=\"fill: none; stroke: #888; stroke-width: 1; opacity: 1;\"></line><line transform=\"translate(0,164)\" x2=\"-5\" y2=\"0\" style=\"fill: none; stroke: #888; stroke-width: 1; opacity: 1;\"></line><line transform=\"translate(0,127)\" x2=\"-5\" y2=\"0\" style=\"fill: none; stroke: #888; stroke-width: 1; opacity: 1;\"></line><line transform=\"translate(0,91)\" x2=\"-5\" y2=\"0\" style=\"fill: none; stroke: #888; stroke-width: 1; opacity: 1;\"></line><line transform=\"translate(0,55)\" x2=\"-5\" y2=\"0\" style=\"fill: none; stroke: #888; stroke-width: 1; opacity: 1;\"></line><line transform=\"translate(0,18)\" x2=\"-5\" y2=\"0\" style=\"fill: none; stroke: #888; stroke-width: 1; opacity: 1;\"></line></g><g class=\"mark-text role-axis-label\" style=\"pointer-events: none;\"><text text-anchor=\"end\" transform=\"translate(-7,203)\" style=\"font-family: sans-serif; font-size: 10px; fill: #000; opacity: 1;\">0</text><text text-anchor=\"end\" transform=\"translate(-7,166.63636363636363)\" style=\"font-family: sans-serif; font-size: 10px; fill: #000; opacity: 1;\">2,000</text><text text-anchor=\"end\" transform=\"translate(-7,130.27272727272725)\" style=\"font-family: sans-serif; font-size: 10px; fill: #000; opacity: 1;\">4,000</text><text text-anchor=\"end\" transform=\"translate(-7,93.90909090909092)\" style=\"font-family: sans-serif; font-size: 10px; fill: #000; opacity: 1;\">6,000</text><text text-anchor=\"end\" transform=\"translate(-7,57.54545454545453)\" style=\"font-family: sans-serif; font-size: 10px; fill: #000; opacity: 1;\">8,000</text><text text-anchor=\"end\" transform=\"translate(-7,21.181818181818187)\" style=\"font-family: sans-serif; font-size: 10px; fill: #000; opacity: 1;\">10,000</text></g><g class=\"mark-rule role-axis-domain\" style=\"pointer-events: none;\"><line transform=\"translate(0,200)\" x2=\"0\" y2=\"-200\" style=\"fill: none; stroke: #888; stroke-width: 1; opacity: 1;\"></line></g><g class=\"mark-text role-axis-title\" style=\"pointer-events: none;\"><text text-anchor=\"middle\" transform=\"translate(-60,100) rotate(-90) translate(0,-2)\" style=\"font-family: sans-serif; font-size: 11px; font-weight: bold; fill: #000; opacity: 1;\">Revenue</text></g></g></g></g></g></g></g></g></svg>"
      ],
      "text/plain": [
       "VegaLite.VLSpec{:plot}"
      ]
     },
     "execution_count": 116,
     "metadata": {},
     "output_type": "execute_result"
    }
   ],
   "source": [
    "BottomSupplier |> @vlplot(:bar, x=:CompanyName, y=:Revenue)"
   ]
  }
 ],
 "metadata": {
  "kernelspec": {
   "display_name": "Julia 1.0.3",
   "language": "julia",
   "name": "julia-1.0"
  },
  "language_info": {
   "file_extension": ".jl",
   "mimetype": "application/julia",
   "name": "julia",
   "version": "1.0.3"
  }
 },
 "nbformat": 4,
 "nbformat_minor": 2
}
