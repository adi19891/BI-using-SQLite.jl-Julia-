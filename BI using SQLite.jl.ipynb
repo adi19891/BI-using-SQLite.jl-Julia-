{
 "cells": [
  {
   "cell_type": "code",
   "execution_count": 130,
   "metadata": {},
   "outputs": [],
   "source": [
    "using Pkg"
   ]
  },
  {
   "cell_type": "code",
   "execution_count": 209,
   "metadata": {
    "scrolled": true
   },
   "outputs": [
    {
     "name": "stdout",
     "output_type": "stream",
     "text": [
      "\u001b[32m\u001b[1m Resolving\u001b[22m\u001b[39m package versions...\n",
      "\u001b[32m\u001b[1m  Updating\u001b[22m\u001b[39m `~/.julia/environments/v1.0/Project.toml`\n",
      "\u001b[90m [no changes]\u001b[39m\n",
      "\u001b[32m\u001b[1m  Updating\u001b[22m\u001b[39m `~/.julia/environments/v1.0/Manifest.toml`\n",
      "\u001b[90m [no changes]\u001b[39m\n",
      "\u001b[32m\u001b[1m Resolving\u001b[22m\u001b[39m package versions...\n",
      "\u001b[32m\u001b[1m  Updating\u001b[22m\u001b[39m `~/.julia/environments/v1.0/Project.toml`\n",
      "\u001b[90m [no changes]\u001b[39m\n",
      "\u001b[32m\u001b[1m  Updating\u001b[22m\u001b[39m `~/.julia/environments/v1.0/Manifest.toml`\n",
      "\u001b[90m [no changes]\u001b[39m\n",
      "\u001b[32m\u001b[1m  Building\u001b[22m\u001b[39m Conda ─→ `~/.julia/packages/Conda/CpuvI/deps/build.log`\n",
      "\u001b[32m\u001b[1m  Building\u001b[22m\u001b[39m PyCall → `~/.julia/packages/PyCall/0jMpb/deps/build.log`\n",
      "\u001b[32m\u001b[1m Resolving\u001b[22m\u001b[39m package versions...\n",
      "\u001b[32m\u001b[1m  Updating\u001b[22m\u001b[39m `~/.julia/environments/v1.0/Project.toml`\n",
      "\u001b[90m [no changes]\u001b[39m\n",
      "\u001b[32m\u001b[1m  Updating\u001b[22m\u001b[39m `~/.julia/environments/v1.0/Manifest.toml`\n",
      "\u001b[90m [no changes]\u001b[39m\n",
      "\u001b[32m\u001b[1m Resolving\u001b[22m\u001b[39m package versions...\n",
      "\u001b[32m\u001b[1m  Updating\u001b[22m\u001b[39m `~/.julia/environments/v1.0/Project.toml`\n",
      "\u001b[90m [no changes]\u001b[39m\n",
      "\u001b[32m\u001b[1m  Updating\u001b[22m\u001b[39m `~/.julia/environments/v1.0/Manifest.toml`\n",
      "\u001b[90m [no changes]\u001b[39m\n"
     ]
    }
   ],
   "source": [
    "Pkg.add(\"Plots\")\n",
    "Pkg.build(\"PyCall\")\n",
    "Pkg.add(\"Dates\")"
   ]
  },
  {
   "cell_type": "code",
   "execution_count": 210,
   "metadata": {},
   "outputs": [],
   "source": [
    "using CSV\n",
    "using DataFrames\n",
    "using SQLite\n",
    "using Plots\n",
    "using StatPlots\n",
    "using PyCall\n",
    "using Pandas\n",
    "using Dates"
   ]
  },
  {
   "cell_type": "code",
   "execution_count": 211,
   "metadata": {},
   "outputs": [
    {
     "data": {
      "text/plain": [
       "\"/Users/adityakamboj/Desktop/Data Integrity\""
      ]
     },
     "execution_count": 211,
     "metadata": {},
     "output_type": "execute_result"
    }
   ],
   "source": [
    "path = \"/Users/adityakamboj/Desktop/Data Integrity\""
   ]
  },
  {
   "cell_type": "code",
   "execution_count": 212,
   "metadata": {},
   "outputs": [
    {
     "name": "stdout",
     "output_type": "stream",
     "text": [
      "(91, 7)\n"
     ]
    },
    {
     "data": {
      "text/html": [
       "<table class=\"data-frame\"><thead><tr><th></th><th>CustomerID</th><th>CustomerName</th><th>ContactName</th><th>Address</th><th>City</th><th>PostalCode</th><th>Country</th></tr><tr><th></th><th>Int64⍰</th><th>String⍰</th><th>String⍰</th><th>String⍰</th><th>String⍰</th><th>String⍰</th><th>String⍰</th></tr></thead><tbody><p>5 rows × 7 columns</p><tr><th>1</th><td>1</td><td>Alfreds Futterkiste</td><td>Maria Anders</td><td>Obere Str. 57</td><td>Berlin</td><td>12209</td><td>Germany</td></tr><tr><th>2</th><td>2</td><td>Ana Trujillo Emparedados y helados</td><td>Ana Trujillo</td><td>Avda. de la Constitución 2222</td><td>México D.F.</td><td>05021</td><td>Mexico</td></tr><tr><th>3</th><td>3</td><td>Antonio Moreno Taquería</td><td>Antonio Moreno</td><td>Mataderos 2312</td><td>México D.F.</td><td>05023</td><td>Mexico</td></tr><tr><th>4</th><td>4</td><td>Around the Horn</td><td>Thomas Hardy</td><td>120 Hanover Sq.</td><td>London</td><td>WA1 1DP</td><td>UK</td></tr><tr><th>5</th><td>5</td><td>Berglunds snabbköp</td><td>Christina Berglund</td><td>Berguvsvägen 8</td><td>Luleå</td><td>S-958 22</td><td>Sweden</td></tr></tbody></table>"
      ],
      "text/latex": [
       "\\begin{tabular}{r|ccccccc}\n",
       "\t& CustomerID & CustomerName & ContactName & Address & City & PostalCode & Country\\\\\n",
       "\t\\hline\n",
       "\t& Int64⍰ & String⍰ & String⍰ & String⍰ & String⍰ & String⍰ & String⍰\\\\\n",
       "\t\\hline\n",
       "\t1 & 1 & Alfreds Futterkiste & Maria Anders & Obere Str. 57 & Berlin & 12209 & Germany \\\\\n",
       "\t2 & 2 & Ana Trujillo Emparedados y helados & Ana Trujillo & Avda. de la Constitución 2222 & México D.F. & 05021 & Mexico \\\\\n",
       "\t3 & 3 & Antonio Moreno Taquería & Antonio Moreno & Mataderos 2312 & México D.F. & 05023 & Mexico \\\\\n",
       "\t4 & 4 & Around the Horn & Thomas Hardy & 120 Hanover Sq. & London & WA1 1DP & UK \\\\\n",
       "\t5 & 5 & Berglunds snabbköp & Christina Berglund & Berguvsvägen 8 & Luleå & S-958 22 & Sweden \\\\\n",
       "\\end{tabular}\n"
      ],
      "text/plain": [
       "5×7 DataFrame. Omitted printing of 4 columns\n",
       "│ Row │ CustomerID │ CustomerName                       │ ContactName        │\n",
       "│     │ \u001b[90mInt64⍰\u001b[39m     │ \u001b[90mUnion{Missing, String}\u001b[39m             │ \u001b[90mString⍰\u001b[39m            │\n",
       "├─────┼────────────┼────────────────────────────────────┼────────────────────┤\n",
       "│ 1   │ 1          │ Alfreds Futterkiste                │ Maria Anders       │\n",
       "│ 2   │ 2          │ Ana Trujillo Emparedados y helados │ Ana Trujillo       │\n",
       "│ 3   │ 3          │ Antonio Moreno Taquería            │ Antonio Moreno     │\n",
       "│ 4   │ 4          │ Around the Horn                    │ Thomas Hardy       │\n",
       "│ 5   │ 5          │ Berglunds snabbköp                 │ Christina Berglund │"
      ]
     },
     "execution_count": 212,
     "metadata": {},
     "output_type": "execute_result"
    }
   ],
   "source": [
    "customer = CSV.read(joinpath(path, \"customer.csv\"))\n",
    "println(size(customer))\n",
    "first(customer, 5)"
   ]
  },
  {
   "cell_type": "code",
   "execution_count": 213,
   "metadata": {},
   "outputs": [
    {
     "name": "stdout",
     "output_type": "stream",
     "text": [
      "(196, 5)\n"
     ]
    },
    {
     "data": {
      "text/html": [
       "<table class=\"data-frame\"><thead><tr><th></th><th>OrderID</th><th>CustomerID</th><th>EmployeeID</th><th>OrderDate</th><th>ShipperID</th></tr><tr><th></th><th>Int64</th><th>Int64</th><th>Int64</th><th>String</th><th>Int64</th></tr></thead><tbody><p>5 rows × 5 columns</p><tr><th>1</th><td>10248</td><td>90</td><td>5</td><td>1996-07-04</td><td>3</td></tr><tr><th>2</th><td>10249</td><td>81</td><td>6</td><td>1996-07-05</td><td>1</td></tr><tr><th>3</th><td>10250</td><td>34</td><td>4</td><td>1996-07-08</td><td>2</td></tr><tr><th>4</th><td>10251</td><td>84</td><td>3</td><td>1996-07-08</td><td>1</td></tr><tr><th>5</th><td>10252</td><td>76</td><td>4</td><td>1996-07-09</td><td>2</td></tr></tbody></table>"
      ],
      "text/latex": [
       "\\begin{tabular}{r|ccccc}\n",
       "\t& OrderID & CustomerID & EmployeeID & OrderDate & ShipperID\\\\\n",
       "\t\\hline\n",
       "\t& Int64 & Int64 & Int64 & String & Int64\\\\\n",
       "\t\\hline\n",
       "\t1 & 10248 & 90 & 5 & 1996-07-04 & 3 \\\\\n",
       "\t2 & 10249 & 81 & 6 & 1996-07-05 & 1 \\\\\n",
       "\t3 & 10250 & 34 & 4 & 1996-07-08 & 2 \\\\\n",
       "\t4 & 10251 & 84 & 3 & 1996-07-08 & 1 \\\\\n",
       "\t5 & 10252 & 76 & 4 & 1996-07-09 & 2 \\\\\n",
       "\\end{tabular}\n"
      ],
      "text/plain": [
       "5×5 DataFrame\n",
       "│ Row │ OrderID │ CustomerID │ EmployeeID │ OrderDate  │ ShipperID │\n",
       "│     │ \u001b[90mInt64\u001b[39m   │ \u001b[90mInt64\u001b[39m      │ \u001b[90mInt64\u001b[39m      │ \u001b[90mString\u001b[39m     │ \u001b[90mInt64\u001b[39m     │\n",
       "├─────┼─────────┼────────────┼────────────┼────────────┼───────────┤\n",
       "│ 1   │ 10248   │ 90         │ 5          │ 1996-07-04 │ 3         │\n",
       "│ 2   │ 10249   │ 81         │ 6          │ 1996-07-05 │ 1         │\n",
       "│ 3   │ 10250   │ 34         │ 4          │ 1996-07-08 │ 2         │\n",
       "│ 4   │ 10251   │ 84         │ 3          │ 1996-07-08 │ 1         │\n",
       "│ 5   │ 10252   │ 76         │ 4          │ 1996-07-09 │ 2         │"
      ]
     },
     "execution_count": 213,
     "metadata": {},
     "output_type": "execute_result"
    }
   ],
   "source": [
    "orders = CSV.read(joinpath(path, \"orders.csv\");types=[Int64,Int64,Int64,String,Int64])\n",
    "println(size(orders))\n",
    "first(orders, 5)"
   ]
  },
  {
   "cell_type": "code",
   "execution_count": 214,
   "metadata": {},
   "outputs": [
    {
     "name": "stdout",
     "output_type": "stream",
     "text": [
      "(518, 4)\n"
     ]
    },
    {
     "data": {
      "text/html": [
       "<table class=\"data-frame\"><thead><tr><th></th><th>OrderItemID</th><th>OrderID</th><th>ProductID</th><th>Quantity</th></tr><tr><th></th><th>Int64⍰</th><th>Int64⍰</th><th>Int64⍰</th><th>Int64⍰</th></tr></thead><tbody><p>5 rows × 4 columns</p><tr><th>1</th><td>1</td><td>10248</td><td>11</td><td>12</td></tr><tr><th>2</th><td>2</td><td>10248</td><td>42</td><td>10</td></tr><tr><th>3</th><td>3</td><td>10248</td><td>72</td><td>5</td></tr><tr><th>4</th><td>4</td><td>10249</td><td>14</td><td>9</td></tr><tr><th>5</th><td>5</td><td>10249</td><td>51</td><td>40</td></tr></tbody></table>"
      ],
      "text/latex": [
       "\\begin{tabular}{r|cccc}\n",
       "\t& OrderItemID & OrderID & ProductID & Quantity\\\\\n",
       "\t\\hline\n",
       "\t& Int64⍰ & Int64⍰ & Int64⍰ & Int64⍰\\\\\n",
       "\t\\hline\n",
       "\t1 & 1 & 10248 & 11 & 12 \\\\\n",
       "\t2 & 2 & 10248 & 42 & 10 \\\\\n",
       "\t3 & 3 & 10248 & 72 & 5 \\\\\n",
       "\t4 & 4 & 10249 & 14 & 9 \\\\\n",
       "\t5 & 5 & 10249 & 51 & 40 \\\\\n",
       "\\end{tabular}\n"
      ],
      "text/plain": [
       "5×4 DataFrame\n",
       "│ Row │ OrderItemID │ OrderID │ ProductID │ Quantity │\n",
       "│     │ \u001b[90mInt64⍰\u001b[39m      │ \u001b[90mInt64⍰\u001b[39m  │ \u001b[90mInt64⍰\u001b[39m    │ \u001b[90mInt64⍰\u001b[39m   │\n",
       "├─────┼─────────────┼─────────┼───────────┼──────────┤\n",
       "│ 1   │ 1           │ 10248   │ 11        │ 12       │\n",
       "│ 2   │ 2           │ 10248   │ 42        │ 10       │\n",
       "│ 3   │ 3           │ 10248   │ 72        │ 5        │\n",
       "│ 4   │ 4           │ 10249   │ 14        │ 9        │\n",
       "│ 5   │ 5           │ 10249   │ 51        │ 40       │"
      ]
     },
     "execution_count": 214,
     "metadata": {},
     "output_type": "execute_result"
    }
   ],
   "source": [
    "orderitem = CSV.read(joinpath(path, \"orderitem.csv\"))\n",
    "println(size(orderitem))\n",
    "first(orderitem, 5)"
   ]
  },
  {
   "cell_type": "code",
   "execution_count": 215,
   "metadata": {},
   "outputs": [
    {
     "name": "stdout",
     "output_type": "stream",
     "text": [
      "(77, 6)\n"
     ]
    },
    {
     "data": {
      "text/html": [
       "<table class=\"data-frame\"><thead><tr><th></th><th>ProductID</th><th>ProductName</th><th>SupplierID</th><th>CategoryID</th><th>Unit</th><th>Price</th></tr><tr><th></th><th>Int64⍰</th><th>String⍰</th><th>Int64⍰</th><th>Int64⍰</th><th>String⍰</th><th>Float64⍰</th></tr></thead><tbody><p>5 rows × 6 columns</p><tr><th>1</th><td>1</td><td>Chais</td><td>1</td><td>1</td><td>10 boxes x 20 bags</td><td>18.0</td></tr><tr><th>2</th><td>2</td><td>Chang</td><td>1</td><td>1</td><td>24 - 12 oz bottles</td><td>19.0</td></tr><tr><th>3</th><td>3</td><td>Aniseed Syrup</td><td>1</td><td>2</td><td>12 - 550 ml bottles</td><td>10.0</td></tr><tr><th>4</th><td>4</td><td>Chef Anton's Cajun Seasoning</td><td>2</td><td>2</td><td>48 - 6 oz jars</td><td>22.0</td></tr><tr><th>5</th><td>5</td><td>Chef Anton's Gumbo Mix</td><td>2</td><td>2</td><td>36 boxes</td><td>21.35</td></tr></tbody></table>"
      ],
      "text/latex": [
       "\\begin{tabular}{r|cccccc}\n",
       "\t& ProductID & ProductName & SupplierID & CategoryID & Unit & Price\\\\\n",
       "\t\\hline\n",
       "\t& Int64⍰ & String⍰ & Int64⍰ & Int64⍰ & String⍰ & Float64⍰\\\\\n",
       "\t\\hline\n",
       "\t1 & 1 & Chais & 1 & 1 & 10 boxes x 20 bags & 18.0 \\\\\n",
       "\t2 & 2 & Chang & 1 & 1 & 24 - 12 oz bottles & 19.0 \\\\\n",
       "\t3 & 3 & Aniseed Syrup & 1 & 2 & 12 - 550 ml bottles & 10.0 \\\\\n",
       "\t4 & 4 & Chef Anton's Cajun Seasoning & 2 & 2 & 48 - 6 oz jars & 22.0 \\\\\n",
       "\t5 & 5 & Chef Anton's Gumbo Mix & 2 & 2 & 36 boxes & 21.35 \\\\\n",
       "\\end{tabular}\n"
      ],
      "text/plain": [
       "5×6 DataFrame. Omitted printing of 2 columns\n",
       "│ Row │ ProductID │ ProductName                  │ SupplierID │ CategoryID │\n",
       "│     │ \u001b[90mInt64⍰\u001b[39m    │ \u001b[90mUnion{Missing, String}\u001b[39m       │ \u001b[90mInt64⍰\u001b[39m     │ \u001b[90mInt64⍰\u001b[39m     │\n",
       "├─────┼───────────┼──────────────────────────────┼────────────┼────────────┤\n",
       "│ 1   │ 1         │ Chais                        │ 1          │ 1          │\n",
       "│ 2   │ 2         │ Chang                        │ 1          │ 1          │\n",
       "│ 3   │ 3         │ Aniseed Syrup                │ 1          │ 2          │\n",
       "│ 4   │ 4         │ Chef Anton's Cajun Seasoning │ 2          │ 2          │\n",
       "│ 5   │ 5         │ Chef Anton's Gumbo Mix       │ 2          │ 2          │"
      ]
     },
     "execution_count": 215,
     "metadata": {},
     "output_type": "execute_result"
    }
   ],
   "source": [
    "product = CSV.read(joinpath(path,\"product.csv\"))\n",
    "println(size(product))\n",
    "first(product,5)"
   ]
  },
  {
   "cell_type": "code",
   "execution_count": 216,
   "metadata": {},
   "outputs": [
    {
     "name": "stdout",
     "output_type": "stream",
     "text": [
      "(29, 8)\n"
     ]
    },
    {
     "data": {
      "text/html": [
       "<table class=\"data-frame\"><thead><tr><th></th><th>SupplierID</th><th>SupplierName</th><th>ContactName</th><th>Address</th><th>City</th><th>PostalCode</th><th>Country</th><th>Phone</th></tr><tr><th></th><th>Int64⍰</th><th>String⍰</th><th>String⍰</th><th>String⍰</th><th>String⍰</th><th>String⍰</th><th>String⍰</th><th>String⍰</th></tr></thead><tbody><p>5 rows × 8 columns</p><tr><th>1</th><td>1</td><td>Exotic Liquid</td><td>Charlotte Cooper</td><td>49 Gilbert St.</td><td>Londona</td><td>EC1 4SD</td><td>UK</td><td>(171) 555-2222</td></tr><tr><th>2</th><td>2</td><td>New Orleans Cajun Delights</td><td>Shelley Burke</td><td>P.O. Box 78934</td><td>New Orleans</td><td>70117</td><td>USA</td><td>(100) 555-4822</td></tr><tr><th>3</th><td>3</td><td>Grandma Kelly's Homestead</td><td>Regina Murphy</td><td>707 Oxford Rd.</td><td>Ann Arbor</td><td>48104</td><td>USA</td><td>(313) 555-5735</td></tr><tr><th>4</th><td>4</td><td>Tokyo Traders</td><td>Yoshi Nagase</td><td>9-8 Sekimai Musashino-shi</td><td>Tokyo</td><td>100</td><td>Japan</td><td>(03) 3555-5011</td></tr><tr><th>5</th><td>5</td><td>Cooperativa de Quesos 'Las Cabras'</td><td>Antonio del Valle Saavedra</td><td>Calle del Rosal 4</td><td>Oviedo</td><td>33007</td><td>Spain</td><td>(98) 598 76 54</td></tr></tbody></table>"
      ],
      "text/latex": [
       "\\begin{tabular}{r|cccccccc}\n",
       "\t& SupplierID & SupplierName & ContactName & Address & City & PostalCode & Country & Phone\\\\\n",
       "\t\\hline\n",
       "\t& Int64⍰ & String⍰ & String⍰ & String⍰ & String⍰ & String⍰ & String⍰ & String⍰\\\\\n",
       "\t\\hline\n",
       "\t1 & 1 & Exotic Liquid & Charlotte Cooper & 49 Gilbert St. & Londona & EC1 4SD & UK & (171) 555-2222 \\\\\n",
       "\t2 & 2 & New Orleans Cajun Delights & Shelley Burke & P.O. Box 78934 & New Orleans & 70117 & USA & (100) 555-4822 \\\\\n",
       "\t3 & 3 & Grandma Kelly's Homestead & Regina Murphy & 707 Oxford Rd. & Ann Arbor & 48104 & USA & (313) 555-5735 \\\\\n",
       "\t4 & 4 & Tokyo Traders & Yoshi Nagase & 9-8 Sekimai Musashino-shi & Tokyo & 100 & Japan & (03) 3555-5011 \\\\\n",
       "\t5 & 5 & Cooperativa de Quesos 'Las Cabras' & Antonio del Valle Saavedra & Calle del Rosal 4 & Oviedo & 33007 & Spain & (98) 598 76 54 \\\\\n",
       "\\end{tabular}\n"
      ],
      "text/plain": [
       "5×8 DataFrame. Omitted printing of 6 columns\n",
       "│ Row │ SupplierID │ SupplierName                       │\n",
       "│     │ \u001b[90mInt64⍰\u001b[39m     │ \u001b[90mUnion{Missing, String}\u001b[39m             │\n",
       "├─────┼────────────┼────────────────────────────────────┤\n",
       "│ 1   │ 1          │ Exotic Liquid                      │\n",
       "│ 2   │ 2          │ New Orleans Cajun Delights         │\n",
       "│ 3   │ 3          │ Grandma Kelly's Homestead          │\n",
       "│ 4   │ 4          │ Tokyo Traders                      │\n",
       "│ 5   │ 5          │ Cooperativa de Quesos 'Las Cabras' │"
      ]
     },
     "execution_count": 216,
     "metadata": {},
     "output_type": "execute_result"
    }
   ],
   "source": [
    "supplier = CSV.read(joinpath(path, \"supplier.csv\"))\n",
    "println(size(supplier))\n",
    "first(supplier,5)"
   ]
  },
  {
   "cell_type": "code",
   "execution_count": 217,
   "metadata": {},
   "outputs": [
    {
     "data": {
      "text/plain": [
       "\"customer\""
      ]
     },
     "execution_count": 217,
     "metadata": {},
     "output_type": "execute_result"
    }
   ],
   "source": [
    "acme = SQLite.DB()              \n",
    "\n",
    "SQLite.load!(customer, acme, \"customer\")"
   ]
  },
  {
   "cell_type": "code",
   "execution_count": 218,
   "metadata": {},
   "outputs": [
    {
     "data": {
      "text/plain": [
       "\"orders\""
      ]
     },
     "execution_count": 218,
     "metadata": {},
     "output_type": "execute_result"
    }
   ],
   "source": [
    "SQLite.load!(orders, acme, \"orders\")"
   ]
  },
  {
   "cell_type": "code",
   "execution_count": 219,
   "metadata": {},
   "outputs": [
    {
     "data": {
      "text/plain": [
       "\"orderitem\""
      ]
     },
     "execution_count": 219,
     "metadata": {},
     "output_type": "execute_result"
    }
   ],
   "source": [
    "SQLite.load!(orderitem, acme, \"orderitem\")"
   ]
  },
  {
   "cell_type": "code",
   "execution_count": 220,
   "metadata": {},
   "outputs": [
    {
     "data": {
      "text/plain": [
       "\"product\""
      ]
     },
     "execution_count": 220,
     "metadata": {},
     "output_type": "execute_result"
    }
   ],
   "source": [
    "SQLite.load!(product, acme,\"product\")"
   ]
  },
  {
   "cell_type": "code",
   "execution_count": 221,
   "metadata": {},
   "outputs": [
    {
     "data": {
      "text/plain": [
       "\"supplier\""
      ]
     },
     "execution_count": 221,
     "metadata": {},
     "output_type": "execute_result"
    }
   ],
   "source": [
    "SQLite.load!(supplier, acme, \"supplier\")"
   ]
  },
  {
   "cell_type": "markdown",
   "metadata": {},
   "source": [
    "## 1.\tSales analysis\n",
    "#### Company’s sales trend over time?"
   ]
  },
  {
   "cell_type": "code",
   "execution_count": 224,
   "metadata": {},
   "outputs": [
    {
     "data": {
      "text/html": [
       "<table class=\"data-frame\"><thead><tr><th></th></tr><tr><th></th></tr></thead><tbody><p>0 rows × 0 columns</p></tbody></table>"
      ],
      "text/latex": [
       "\\begin{tabular}{r|}\n",
       "\t& \\\\\n",
       "\t\\hline\n",
       "\t& \\\\\n",
       "\t\\hline\n",
       "\\end{tabular}\n"
      ],
      "text/plain": [
       "0×0 DataFrame\n"
      ]
     },
     "execution_count": 224,
     "metadata": {},
     "output_type": "execute_result"
    }
   ],
   "source": [
    "DataFrame(SQLite.Query(acme,\"\"\"create table monthly_sales as select strftime('%Y-%m',OrderDate) Months, \n",
    "avg(price*quantity) sales\n",
    "        from orders inner join orderitem on orders.OrderID = orderitem.OrderID \n",
    "                    join product on product.productid = orderitem.productid\n",
    "                    group by months\n",
    "order by sales\"\"\"))\n"
   ]
  },
  {
   "cell_type": "code",
   "execution_count": 225,
   "metadata": {},
   "outputs": [
    {
     "data": {
      "text/html": [
       "<table class=\"data-frame\"><thead><tr><th></th><th>Months</th><th>sales</th><th>Month</th></tr><tr><th></th><th>String⍰</th><th>Float64⍰</th><th>String⍰</th></tr></thead><tbody><p>8 rows × 3 columns</p><tr><th>1</th><td>1996-07</td><td>640.336</td><td>July</td></tr><tr><th>2</th><td>1996-08</td><td>482.398</td><td>August</td></tr><tr><th>3</th><td>1996-09</td><td>606.414</td><td>September</td></tr><tr><th>4</th><td>1996-10</td><td>705.872</td><td>October</td></tr><tr><th>5</th><td>1996-11</td><td>941.879</td><td>November</td></tr><tr><th>6</th><td>1996-12</td><td>786.682</td><td>December</td></tr><tr><th>7</th><td>1997-01</td><td>981.182</td><td>January</td></tr><tr><th>8</th><td>1997-02</td><td>713.533</td><td>Feburary</td></tr></tbody></table>"
      ],
      "text/latex": [
       "\\begin{tabular}{r|ccc}\n",
       "\t& Months & sales & Month\\\\\n",
       "\t\\hline\n",
       "\t& String⍰ & Float64⍰ & String⍰\\\\\n",
       "\t\\hline\n",
       "\t1 & 1996-07 & 640.336 & July \\\\\n",
       "\t2 & 1996-08 & 482.398 & August \\\\\n",
       "\t3 & 1996-09 & 606.414 & September \\\\\n",
       "\t4 & 1996-10 & 705.872 & October \\\\\n",
       "\t5 & 1996-11 & 941.879 & November \\\\\n",
       "\t6 & 1996-12 & 786.682 & December \\\\\n",
       "\t7 & 1997-01 & 981.182 & January \\\\\n",
       "\t8 & 1997-02 & 713.533 & Feburary \\\\\n",
       "\\end{tabular}\n"
      ],
      "text/plain": [
       "8×3 DataFrame\n",
       "│ Row │ Months  │ sales    │ Month     │\n",
       "│     │ \u001b[90mString⍰\u001b[39m │ \u001b[90mFloat64⍰\u001b[39m │ \u001b[90mString⍰\u001b[39m   │\n",
       "├─────┼─────────┼──────────┼───────────┤\n",
       "│ 1   │ 1996-07 │ 640.336  │ July      │\n",
       "│ 2   │ 1996-08 │ 482.398  │ August    │\n",
       "│ 3   │ 1996-09 │ 606.414  │ September │\n",
       "│ 4   │ 1996-10 │ 705.872  │ October   │\n",
       "│ 5   │ 1996-11 │ 941.879  │ November  │\n",
       "│ 6   │ 1996-12 │ 786.682  │ December  │\n",
       "│ 7   │ 1997-01 │ 981.182  │ January   │\n",
       "│ 8   │ 1997-02 │ 713.533  │ Feburary  │"
      ]
     },
     "execution_count": 225,
     "metadata": {},
     "output_type": "execute_result"
    }
   ],
   "source": [
    "SalesTrend = DataFrame(SQLite.Query(acme,\"\"\"select *,\n",
    "case when months = '1996-07' then 'July' \n",
    "when months = '1996-08' then 'August'\n",
    "when months = '1996-09' then 'September'\n",
    "when months = '1996-10' then 'October'\n",
    "when months = '1996-11' then 'November' \n",
    "when months = '1996-12' then 'December'\n",
    "when months = '1997-01' then 'January'\n",
    "when months = '1997-02' then 'Feburary' end as Month      \n",
    "from monthly_sales\n",
    "Order by Months;\"\"\"))"
   ]
  },
  {
   "cell_type": "code",
   "execution_count": 226,
   "metadata": {},
   "outputs": [
    {
     "data": {
      "text/plain": [
       "Plots.GRBackend()"
      ]
     },
     "execution_count": 226,
     "metadata": {},
     "output_type": "execute_result"
    }
   ],
   "source": [
    "gr()"
   ]
  },
  {
   "cell_type": "code",
   "execution_count": 227,
   "metadata": {},
   "outputs": [
    {
     "data": {
      "text/plain": [
       "8-element Array{Union{Missing, Float64},1}:\n",
       " 640.336440677966 \n",
       " 482.3984057971014\n",
       " 606.4140350877193\n",
       " 705.8724657534245\n",
       " 941.8786363636365\n",
       " 786.6818518518518\n",
       " 981.182          \n",
       " 713.5325         "
      ]
     },
     "execution_count": 227,
     "metadata": {},
     "output_type": "execute_result"
    }
   ],
   "source": [
    "x = SalesTrend[:,3]\n",
    "y = SalesTrend[:,2]"
   ]
  },
  {
   "cell_type": "code",
   "execution_count": 242,
   "metadata": {},
   "outputs": [
    {
     "data": {
      "image/svg+xml": [
       "<?xml version=\"1.0\" encoding=\"utf-8\"?>\n",
       "<svg xmlns=\"http://www.w3.org/2000/svg\" xmlns:xlink=\"http://www.w3.org/1999/xlink\" width=\"600\" height=\"400\" viewBox=\"0 0 2400 1600\">\n",
       "<defs>\n",
       "  <clipPath id=\"clip5900\">\n",
       "    <rect x=\"0\" y=\"0\" width=\"2000\" height=\"2000\"/>\n",
       "  </clipPath>\n",
       "</defs>\n",
       "<defs>\n",
       "  <clipPath id=\"clip5901\">\n",
       "    <rect x=\"0\" y=\"0\" width=\"2400\" height=\"1600\"/>\n",
       "  </clipPath>\n",
       "</defs>\n",
       "<polygon clip-path=\"url(#clip5901)\" points=\"\n",
       "0,1600 2400,1600 2400,0 0,0 \n",
       "  \" fill=\"#ffffff\" fill-rule=\"evenodd\" fill-opacity=\"1\"/>\n",
       "<defs>\n",
       "  <clipPath id=\"clip5902\">\n",
       "    <rect x=\"480\" y=\"0\" width=\"1681\" height=\"1600\"/>\n",
       "  </clipPath>\n",
       "</defs>\n",
       "<polygon clip-path=\"url(#clip5901)\" points=\"\n",
       "237.767,1440.48 2321.26,1440.48 2321.26,125.984 237.767,125.984 \n",
       "  \" fill=\"#ffffff\" fill-rule=\"evenodd\" fill-opacity=\"1\"/>\n",
       "<defs>\n",
       "  <clipPath id=\"clip5903\">\n",
       "    <rect x=\"237\" y=\"125\" width=\"2084\" height=\"1315\"/>\n",
       "  </clipPath>\n",
       "</defs>\n",
       "<polyline clip-path=\"url(#clip5903)\" style=\"stroke:#000000; stroke-width:2; stroke-opacity:0.1; fill:none\" points=\"\n",
       "  296.734,1440.48 296.734,125.984 \n",
       "  \"/>\n",
       "<polyline clip-path=\"url(#clip5903)\" style=\"stroke:#000000; stroke-width:2; stroke-opacity:0.1; fill:none\" points=\"\n",
       "  577.528,1440.48 577.528,125.984 \n",
       "  \"/>\n",
       "<polyline clip-path=\"url(#clip5903)\" style=\"stroke:#000000; stroke-width:2; stroke-opacity:0.1; fill:none\" points=\"\n",
       "  577.528,1440.48 577.528,125.984 \n",
       "  \"/>\n",
       "<polyline clip-path=\"url(#clip5903)\" style=\"stroke:#000000; stroke-width:2; stroke-opacity:0.1; fill:none\" points=\"\n",
       "  577.528,1440.48 577.528,125.984 \n",
       "  \"/>\n",
       "<polyline clip-path=\"url(#clip5903)\" style=\"stroke:#000000; stroke-width:2; stroke-opacity:0.1; fill:none\" points=\"\n",
       "  858.322,1440.48 858.322,125.984 \n",
       "  \"/>\n",
       "<polyline clip-path=\"url(#clip5903)\" style=\"stroke:#000000; stroke-width:2; stroke-opacity:0.1; fill:none\" points=\"\n",
       "  1139.12,1440.48 1139.12,125.984 \n",
       "  \"/>\n",
       "<polyline clip-path=\"url(#clip5903)\" style=\"stroke:#000000; stroke-width:2; stroke-opacity:0.1; fill:none\" points=\"\n",
       "  1139.12,1440.48 1139.12,125.984 \n",
       "  \"/>\n",
       "<polyline clip-path=\"url(#clip5903)\" style=\"stroke:#000000; stroke-width:2; stroke-opacity:0.1; fill:none\" points=\"\n",
       "  1139.12,1440.48 1139.12,125.984 \n",
       "  \"/>\n",
       "<polyline clip-path=\"url(#clip5903)\" style=\"stroke:#000000; stroke-width:2; stroke-opacity:0.1; fill:none\" points=\"\n",
       "  1419.91,1440.48 1419.91,125.984 \n",
       "  \"/>\n",
       "<polyline clip-path=\"url(#clip5903)\" style=\"stroke:#000000; stroke-width:2; stroke-opacity:0.1; fill:none\" points=\"\n",
       "  1700.7,1440.48 1700.7,125.984 \n",
       "  \"/>\n",
       "<polyline clip-path=\"url(#clip5903)\" style=\"stroke:#000000; stroke-width:2; stroke-opacity:0.1; fill:none\" points=\"\n",
       "  1700.7,1440.48 1700.7,125.984 \n",
       "  \"/>\n",
       "<polyline clip-path=\"url(#clip5903)\" style=\"stroke:#000000; stroke-width:2; stroke-opacity:0.1; fill:none\" points=\"\n",
       "  1700.7,1440.48 1700.7,125.984 \n",
       "  \"/>\n",
       "<polyline clip-path=\"url(#clip5903)\" style=\"stroke:#000000; stroke-width:2; stroke-opacity:0.1; fill:none\" points=\"\n",
       "  1981.5,1440.48 1981.5,125.984 \n",
       "  \"/>\n",
       "<polyline clip-path=\"url(#clip5903)\" style=\"stroke:#000000; stroke-width:2; stroke-opacity:0.1; fill:none\" points=\"\n",
       "  2262.29,1440.48 2262.29,125.984 \n",
       "  \"/>\n",
       "<polyline clip-path=\"url(#clip5903)\" style=\"stroke:#000000; stroke-width:2; stroke-opacity:0.1; fill:none\" points=\"\n",
       "  2262.29,1440.48 2262.29,125.984 \n",
       "  \"/>\n",
       "<polyline clip-path=\"url(#clip5903)\" style=\"stroke:#000000; stroke-width:2; stroke-opacity:0.1; fill:none\" points=\"\n",
       "  237.767,1359.52 2321.26,1359.52 \n",
       "  \"/>\n",
       "<polyline clip-path=\"url(#clip5903)\" style=\"stroke:#000000; stroke-width:2; stroke-opacity:0.1; fill:none\" points=\"\n",
       "  237.767,1110.89 2321.26,1110.89 \n",
       "  \"/>\n",
       "<polyline clip-path=\"url(#clip5903)\" style=\"stroke:#000000; stroke-width:2; stroke-opacity:0.1; fill:none\" points=\"\n",
       "  237.767,862.271 2321.26,862.271 \n",
       "  \"/>\n",
       "<polyline clip-path=\"url(#clip5903)\" style=\"stroke:#000000; stroke-width:2; stroke-opacity:0.1; fill:none\" points=\"\n",
       "  237.767,613.648 2321.26,613.648 \n",
       "  \"/>\n",
       "<polyline clip-path=\"url(#clip5903)\" style=\"stroke:#000000; stroke-width:2; stroke-opacity:0.1; fill:none\" points=\"\n",
       "  237.767,365.024 2321.26,365.024 \n",
       "  \"/>\n",
       "<polyline clip-path=\"url(#clip5901)\" style=\"stroke:#000000; stroke-width:4; stroke-opacity:1; fill:none\" points=\"\n",
       "  237.767,1440.48 2321.26,1440.48 \n",
       "  \"/>\n",
       "<polyline clip-path=\"url(#clip5901)\" style=\"stroke:#000000; stroke-width:4; stroke-opacity:1; fill:none\" points=\"\n",
       "  237.767,1440.48 237.767,125.984 \n",
       "  \"/>\n",
       "<polyline clip-path=\"url(#clip5901)\" style=\"stroke:#000000; stroke-width:4; stroke-opacity:1; fill:none\" points=\"\n",
       "  296.734,1440.48 296.734,1420.77 \n",
       "  \"/>\n",
       "<polyline clip-path=\"url(#clip5901)\" style=\"stroke:#000000; stroke-width:4; stroke-opacity:1; fill:none\" points=\"\n",
       "  577.528,1440.48 577.528,1420.77 \n",
       "  \"/>\n",
       "<polyline clip-path=\"url(#clip5901)\" style=\"stroke:#000000; stroke-width:4; stroke-opacity:1; fill:none\" points=\"\n",
       "  577.528,1440.48 577.528,1420.77 \n",
       "  \"/>\n",
       "<polyline clip-path=\"url(#clip5901)\" style=\"stroke:#000000; stroke-width:4; stroke-opacity:1; fill:none\" points=\"\n",
       "  577.528,1440.48 577.528,1420.77 \n",
       "  \"/>\n",
       "<polyline clip-path=\"url(#clip5901)\" style=\"stroke:#000000; stroke-width:4; stroke-opacity:1; fill:none\" points=\"\n",
       "  858.322,1440.48 858.322,1420.77 \n",
       "  \"/>\n",
       "<polyline clip-path=\"url(#clip5901)\" style=\"stroke:#000000; stroke-width:4; stroke-opacity:1; fill:none\" points=\"\n",
       "  1139.12,1440.48 1139.12,1420.77 \n",
       "  \"/>\n",
       "<polyline clip-path=\"url(#clip5901)\" style=\"stroke:#000000; stroke-width:4; stroke-opacity:1; fill:none\" points=\"\n",
       "  1139.12,1440.48 1139.12,1420.77 \n",
       "  \"/>\n",
       "<polyline clip-path=\"url(#clip5901)\" style=\"stroke:#000000; stroke-width:4; stroke-opacity:1; fill:none\" points=\"\n",
       "  1139.12,1440.48 1139.12,1420.77 \n",
       "  \"/>\n",
       "<polyline clip-path=\"url(#clip5901)\" style=\"stroke:#000000; stroke-width:4; stroke-opacity:1; fill:none\" points=\"\n",
       "  1419.91,1440.48 1419.91,1420.77 \n",
       "  \"/>\n",
       "<polyline clip-path=\"url(#clip5901)\" style=\"stroke:#000000; stroke-width:4; stroke-opacity:1; fill:none\" points=\"\n",
       "  1700.7,1440.48 1700.7,1420.77 \n",
       "  \"/>\n",
       "<polyline clip-path=\"url(#clip5901)\" style=\"stroke:#000000; stroke-width:4; stroke-opacity:1; fill:none\" points=\"\n",
       "  1700.7,1440.48 1700.7,1420.77 \n",
       "  \"/>\n",
       "<polyline clip-path=\"url(#clip5901)\" style=\"stroke:#000000; stroke-width:4; stroke-opacity:1; fill:none\" points=\"\n",
       "  1700.7,1440.48 1700.7,1420.77 \n",
       "  \"/>\n",
       "<polyline clip-path=\"url(#clip5901)\" style=\"stroke:#000000; stroke-width:4; stroke-opacity:1; fill:none\" points=\"\n",
       "  1981.5,1440.48 1981.5,1420.77 \n",
       "  \"/>\n",
       "<polyline clip-path=\"url(#clip5901)\" style=\"stroke:#000000; stroke-width:4; stroke-opacity:1; fill:none\" points=\"\n",
       "  2262.29,1440.48 2262.29,1420.77 \n",
       "  \"/>\n",
       "<polyline clip-path=\"url(#clip5901)\" style=\"stroke:#000000; stroke-width:4; stroke-opacity:1; fill:none\" points=\"\n",
       "  2262.29,1440.48 2262.29,1420.77 \n",
       "  \"/>\n",
       "<polyline clip-path=\"url(#clip5901)\" style=\"stroke:#000000; stroke-width:4; stroke-opacity:1; fill:none\" points=\"\n",
       "  237.767,1359.52 269.02,1359.52 \n",
       "  \"/>\n",
       "<polyline clip-path=\"url(#clip5901)\" style=\"stroke:#000000; stroke-width:4; stroke-opacity:1; fill:none\" points=\"\n",
       "  237.767,1110.89 269.02,1110.89 \n",
       "  \"/>\n",
       "<polyline clip-path=\"url(#clip5901)\" style=\"stroke:#000000; stroke-width:4; stroke-opacity:1; fill:none\" points=\"\n",
       "  237.767,862.271 269.02,862.271 \n",
       "  \"/>\n",
       "<polyline clip-path=\"url(#clip5901)\" style=\"stroke:#000000; stroke-width:4; stroke-opacity:1; fill:none\" points=\"\n",
       "  237.767,613.648 269.02,613.648 \n",
       "  \"/>\n",
       "<polyline clip-path=\"url(#clip5901)\" style=\"stroke:#000000; stroke-width:4; stroke-opacity:1; fill:none\" points=\"\n",
       "  237.767,365.024 269.02,365.024 \n",
       "  \"/>\n",
       "<g clip-path=\"url(#clip5901)\">\n",
       "<text style=\"fill:#000000; fill-opacity:1; font-family:Arial,Helvetica Neue,Helvetica,sans-serif; font-size:48px; text-anchor:middle;\" transform=\"rotate(0, 296.734, 1494.48)\" x=\"296.734\" y=\"1494.48\">1996-07</text>\n",
       "</g>\n",
       "<g clip-path=\"url(#clip5901)\">\n",
       "<text style=\"fill:#000000; fill-opacity:1; font-family:Arial,Helvetica Neue,Helvetica,sans-serif; font-size:48px; text-anchor:middle;\" transform=\"rotate(0, 577.528, 1494.48)\" x=\"577.528\" y=\"1494.48\">1996-08</text>\n",
       "</g>\n",
       "<g clip-path=\"url(#clip5901)\">\n",
       "<text style=\"fill:#000000; fill-opacity:1; font-family:Arial,Helvetica Neue,Helvetica,sans-serif; font-size:48px; text-anchor:middle;\" transform=\"rotate(0, 577.528, 1494.48)\" x=\"577.528\" y=\"1494.48\">1996-08</text>\n",
       "</g>\n",
       "<g clip-path=\"url(#clip5901)\">\n",
       "<text style=\"fill:#000000; fill-opacity:1; font-family:Arial,Helvetica Neue,Helvetica,sans-serif; font-size:48px; text-anchor:middle;\" transform=\"rotate(0, 577.528, 1494.48)\" x=\"577.528\" y=\"1494.48\">1996-08</text>\n",
       "</g>\n",
       "<g clip-path=\"url(#clip5901)\">\n",
       "<text style=\"fill:#000000; fill-opacity:1; font-family:Arial,Helvetica Neue,Helvetica,sans-serif; font-size:48px; text-anchor:middle;\" transform=\"rotate(0, 858.322, 1494.48)\" x=\"858.322\" y=\"1494.48\">1996-09</text>\n",
       "</g>\n",
       "<g clip-path=\"url(#clip5901)\">\n",
       "<text style=\"fill:#000000; fill-opacity:1; font-family:Arial,Helvetica Neue,Helvetica,sans-serif; font-size:48px; text-anchor:middle;\" transform=\"rotate(0, 1139.12, 1494.48)\" x=\"1139.12\" y=\"1494.48\">1996-10</text>\n",
       "</g>\n",
       "<g clip-path=\"url(#clip5901)\">\n",
       "<text style=\"fill:#000000; fill-opacity:1; font-family:Arial,Helvetica Neue,Helvetica,sans-serif; font-size:48px; text-anchor:middle;\" transform=\"rotate(0, 1139.12, 1494.48)\" x=\"1139.12\" y=\"1494.48\">1996-10</text>\n",
       "</g>\n",
       "<g clip-path=\"url(#clip5901)\">\n",
       "<text style=\"fill:#000000; fill-opacity:1; font-family:Arial,Helvetica Neue,Helvetica,sans-serif; font-size:48px; text-anchor:middle;\" transform=\"rotate(0, 1139.12, 1494.48)\" x=\"1139.12\" y=\"1494.48\">1996-10</text>\n",
       "</g>\n",
       "<g clip-path=\"url(#clip5901)\">\n",
       "<text style=\"fill:#000000; fill-opacity:1; font-family:Arial,Helvetica Neue,Helvetica,sans-serif; font-size:48px; text-anchor:middle;\" transform=\"rotate(0, 1419.91, 1494.48)\" x=\"1419.91\" y=\"1494.48\">1996-11</text>\n",
       "</g>\n",
       "<g clip-path=\"url(#clip5901)\">\n",
       "<text style=\"fill:#000000; fill-opacity:1; font-family:Arial,Helvetica Neue,Helvetica,sans-serif; font-size:48px; text-anchor:middle;\" transform=\"rotate(0, 1700.7, 1494.48)\" x=\"1700.7\" y=\"1494.48\">1996-12</text>\n",
       "</g>\n",
       "<g clip-path=\"url(#clip5901)\">\n",
       "<text style=\"fill:#000000; fill-opacity:1; font-family:Arial,Helvetica Neue,Helvetica,sans-serif; font-size:48px; text-anchor:middle;\" transform=\"rotate(0, 1700.7, 1494.48)\" x=\"1700.7\" y=\"1494.48\">1996-12</text>\n",
       "</g>\n",
       "<g clip-path=\"url(#clip5901)\">\n",
       "<text style=\"fill:#000000; fill-opacity:1; font-family:Arial,Helvetica Neue,Helvetica,sans-serif; font-size:48px; text-anchor:middle;\" transform=\"rotate(0, 1700.7, 1494.48)\" x=\"1700.7\" y=\"1494.48\">1996-12</text>\n",
       "</g>\n",
       "<g clip-path=\"url(#clip5901)\">\n",
       "<text style=\"fill:#000000; fill-opacity:1; font-family:Arial,Helvetica Neue,Helvetica,sans-serif; font-size:48px; text-anchor:middle;\" transform=\"rotate(0, 1981.5, 1494.48)\" x=\"1981.5\" y=\"1494.48\">1997-01</text>\n",
       "</g>\n",
       "<g clip-path=\"url(#clip5901)\">\n",
       "<text style=\"fill:#000000; fill-opacity:1; font-family:Arial,Helvetica Neue,Helvetica,sans-serif; font-size:48px; text-anchor:middle;\" transform=\"rotate(0, 2262.29, 1494.48)\" x=\"2262.29\" y=\"1494.48\">1997-02</text>\n",
       "</g>\n",
       "<g clip-path=\"url(#clip5901)\">\n",
       "<text style=\"fill:#000000; fill-opacity:1; font-family:Arial,Helvetica Neue,Helvetica,sans-serif; font-size:48px; text-anchor:middle;\" transform=\"rotate(0, 2262.29, 1494.48)\" x=\"2262.29\" y=\"1494.48\">1997-02</text>\n",
       "</g>\n",
       "<g clip-path=\"url(#clip5901)\">\n",
       "<text style=\"fill:#000000; fill-opacity:1; font-family:Arial,Helvetica Neue,Helvetica,sans-serif; font-size:48px; text-anchor:end;\" transform=\"rotate(0, 213.767, 1377.02)\" x=\"213.767\" y=\"1377.02\">500</text>\n",
       "</g>\n",
       "<g clip-path=\"url(#clip5901)\">\n",
       "<text style=\"fill:#000000; fill-opacity:1; font-family:Arial,Helvetica Neue,Helvetica,sans-serif; font-size:48px; text-anchor:end;\" transform=\"rotate(0, 213.767, 1128.39)\" x=\"213.767\" y=\"1128.39\">600</text>\n",
       "</g>\n",
       "<g clip-path=\"url(#clip5901)\">\n",
       "<text style=\"fill:#000000; fill-opacity:1; font-family:Arial,Helvetica Neue,Helvetica,sans-serif; font-size:48px; text-anchor:end;\" transform=\"rotate(0, 213.767, 879.771)\" x=\"213.767\" y=\"879.771\">700</text>\n",
       "</g>\n",
       "<g clip-path=\"url(#clip5901)\">\n",
       "<text style=\"fill:#000000; fill-opacity:1; font-family:Arial,Helvetica Neue,Helvetica,sans-serif; font-size:48px; text-anchor:end;\" transform=\"rotate(0, 213.767, 631.148)\" x=\"213.767\" y=\"631.148\">800</text>\n",
       "</g>\n",
       "<g clip-path=\"url(#clip5901)\">\n",
       "<text style=\"fill:#000000; fill-opacity:1; font-family:Arial,Helvetica Neue,Helvetica,sans-serif; font-size:48px; text-anchor:end;\" transform=\"rotate(0, 213.767, 382.524)\" x=\"213.767\" y=\"382.524\">900</text>\n",
       "</g>\n",
       "<g clip-path=\"url(#clip5901)\">\n",
       "<text style=\"fill:#000000; fill-opacity:1; font-family:Arial,Helvetica Neue,Helvetica,sans-serif; font-size:84px; text-anchor:middle;\" transform=\"rotate(0, 1279.51, 73.2)\" x=\"1279.51\" y=\"73.2\">Sales Trend</text>\n",
       "</g>\n",
       "<g clip-path=\"url(#clip5901)\">\n",
       "<text style=\"fill:#000000; fill-opacity:1; font-family:Arial,Helvetica Neue,Helvetica,sans-serif; font-size:66px; text-anchor:middle;\" transform=\"rotate(0, 1279.51, 1590.4)\" x=\"1279.51\" y=\"1590.4\">Months from July-1996 to Feb-1997</text>\n",
       "</g>\n",
       "<g clip-path=\"url(#clip5901)\">\n",
       "<text style=\"fill:#000000; fill-opacity:1; font-family:Arial,Helvetica Neue,Helvetica,sans-serif; font-size:66px; text-anchor:middle;\" transform=\"rotate(-90, 57.6, 783.233)\" x=\"57.6\" y=\"783.233\">Average Sales</text>\n",
       "</g>\n",
       "<polyline clip-path=\"url(#clip5903)\" style=\"stroke:#009af9; stroke-width:4; stroke-opacity:1; fill:none\" points=\"\n",
       "  296.734,1010.61 577.528,1403.28 858.322,1094.95 1139.12,847.671 1419.91,260.904 1700.7,646.76 1981.5,163.187 2262.29,828.626 \n",
       "  \"/>\n",
       "<circle clip-path=\"url(#clip5903)\" style=\"fill:#000000; stroke:none; fill-opacity:1\" cx=\"296.734\" cy=\"1010.61\" r=\"18\"/>\n",
       "<circle clip-path=\"url(#clip5903)\" style=\"fill:#e26f46; stroke:none; fill-opacity:1\" cx=\"296.734\" cy=\"1010.61\" r=\"14\"/>\n",
       "<circle clip-path=\"url(#clip5903)\" style=\"fill:#000000; stroke:none; fill-opacity:1\" cx=\"577.528\" cy=\"1403.28\" r=\"18\"/>\n",
       "<circle clip-path=\"url(#clip5903)\" style=\"fill:#e26f46; stroke:none; fill-opacity:1\" cx=\"577.528\" cy=\"1403.28\" r=\"14\"/>\n",
       "<circle clip-path=\"url(#clip5903)\" style=\"fill:#000000; stroke:none; fill-opacity:1\" cx=\"858.322\" cy=\"1094.95\" r=\"18\"/>\n",
       "<circle clip-path=\"url(#clip5903)\" style=\"fill:#e26f46; stroke:none; fill-opacity:1\" cx=\"858.322\" cy=\"1094.95\" r=\"14\"/>\n",
       "<circle clip-path=\"url(#clip5903)\" style=\"fill:#000000; stroke:none; fill-opacity:1\" cx=\"1139.12\" cy=\"847.671\" r=\"18\"/>\n",
       "<circle clip-path=\"url(#clip5903)\" style=\"fill:#e26f46; stroke:none; fill-opacity:1\" cx=\"1139.12\" cy=\"847.671\" r=\"14\"/>\n",
       "<circle clip-path=\"url(#clip5903)\" style=\"fill:#000000; stroke:none; fill-opacity:1\" cx=\"1419.91\" cy=\"260.904\" r=\"18\"/>\n",
       "<circle clip-path=\"url(#clip5903)\" style=\"fill:#e26f46; stroke:none; fill-opacity:1\" cx=\"1419.91\" cy=\"260.904\" r=\"14\"/>\n",
       "<circle clip-path=\"url(#clip5903)\" style=\"fill:#000000; stroke:none; fill-opacity:1\" cx=\"1700.7\" cy=\"646.76\" r=\"18\"/>\n",
       "<circle clip-path=\"url(#clip5903)\" style=\"fill:#e26f46; stroke:none; fill-opacity:1\" cx=\"1700.7\" cy=\"646.76\" r=\"14\"/>\n",
       "<circle clip-path=\"url(#clip5903)\" style=\"fill:#000000; stroke:none; fill-opacity:1\" cx=\"1981.5\" cy=\"163.187\" r=\"18\"/>\n",
       "<circle clip-path=\"url(#clip5903)\" style=\"fill:#e26f46; stroke:none; fill-opacity:1\" cx=\"1981.5\" cy=\"163.187\" r=\"14\"/>\n",
       "<circle clip-path=\"url(#clip5903)\" style=\"fill:#000000; stroke:none; fill-opacity:1\" cx=\"2262.29\" cy=\"828.626\" r=\"18\"/>\n",
       "<circle clip-path=\"url(#clip5903)\" style=\"fill:#e26f46; stroke:none; fill-opacity:1\" cx=\"2262.29\" cy=\"828.626\" r=\"14\"/>\n",
       "<polygon clip-path=\"url(#clip5901)\" points=\"\n",
       "1880.84,390.944 2249.26,390.944 2249.26,209.504 1880.84,209.504 \n",
       "  \" fill=\"#ffffff\" fill-rule=\"evenodd\" fill-opacity=\"1\"/>\n",
       "<polyline clip-path=\"url(#clip5901)\" style=\"stroke:#000000; stroke-width:4; stroke-opacity:1; fill:none\" points=\"\n",
       "  1880.84,390.944 2249.26,390.944 2249.26,209.504 1880.84,209.504 1880.84,390.944 \n",
       "  \"/>\n",
       "<polyline clip-path=\"url(#clip5901)\" style=\"stroke:#009af9; stroke-width:4; stroke-opacity:1; fill:none\" points=\"\n",
       "  1904.84,269.984 2048.84,269.984 \n",
       "  \"/>\n",
       "<g clip-path=\"url(#clip5901)\">\n",
       "<text style=\"fill:#000000; fill-opacity:1; font-family:Arial,Helvetica Neue,Helvetica,sans-serif; font-size:48px; text-anchor:start;\" transform=\"rotate(0, 2072.84, 287.484)\" x=\"2072.84\" y=\"287.484\">line</text>\n",
       "</g>\n",
       "<circle clip-path=\"url(#clip5901)\" style=\"fill:#000000; stroke:none; fill-opacity:1\" cx=\"1988.84\" cy=\"330.464\" r=\"25\"/>\n",
       "<circle clip-path=\"url(#clip5901)\" style=\"fill:#e26f46; stroke:none; fill-opacity:1\" cx=\"1988.84\" cy=\"330.464\" r=\"21\"/>\n",
       "<g clip-path=\"url(#clip5901)\">\n",
       "<text style=\"fill:#000000; fill-opacity:1; font-family:Arial,Helvetica Neue,Helvetica,sans-serif; font-size:48px; text-anchor:start;\" transform=\"rotate(0, 2072.84, 347.964)\" x=\"2072.84\" y=\"347.964\">points</text>\n",
       "</g>\n",
       "</svg>\n"
      ]
     },
     "execution_count": 242,
     "metadata": {},
     "output_type": "execute_result"
    }
   ],
   "source": [
    "plot(SalesTrend[:,1], SalesTrend[:,2], label = \"line\")\n",
    "scatter!(SalesTrend[:,1], SalesTrend[:,2], label = \"points\")\n",
    "xlabel!(\"Months from July-1996 to Feb-1997\")\n",
    "ylabel!(\"Average Sales\")\n",
    "title!(\"Sales Trend\")"
   ]
  },
  {
   "cell_type": "markdown",
   "metadata": {},
   "source": [
    "## 2.\tProduct Analysis\n",
    "#### Product popularity by quantity sold since inception "
   ]
  },
  {
   "cell_type": "code",
   "execution_count": 248,
   "metadata": {},
   "outputs": [
    {
     "data": {
      "text/html": [
       "<table class=\"data-frame\"><thead><tr><th></th><th>ProductName</th><th>Total_Qty</th></tr><tr><th></th><th>String⍰</th><th>Int64⍰</th></tr></thead><tbody><p>77 rows × 2 columns</p><tr><th>1</th><td>Gorgonzola Telino</td><td>458</td></tr><tr><th>2</th><td>Camembert Pierrot</td><td>430</td></tr><tr><th>3</th><td>Steeleye Stout</td><td>369</td></tr><tr><th>4</th><td>Raclette Courdavault</td><td>346</td></tr><tr><th>5</th><td>Chang</td><td>341</td></tr><tr><th>6</th><td>Pavlova</td><td>338</td></tr><tr><th>7</th><td>Fløtemysost</td><td>336</td></tr><tr><th>8</th><td>Alice Mutton</td><td>331</td></tr><tr><th>9</th><td>Tarte au sucre</td><td>325</td></tr><tr><th>10</th><td>Geitost</td><td>316</td></tr><tr><th>11</th><td>Tourtière</td><td>280</td></tr><tr><th>12</th><td>Mozzarella di Giovanni</td><td>270</td></tr><tr><th>13</th><td>Gnocchi di nonna Alice</td><td>269</td></tr><tr><th>14</th><td>Chartreuse verte</td><td>266</td></tr><tr><th>15</th><td>Boston Crab Meat</td><td>256</td></tr><tr><th>16</th><td>Perth Pasties</td><td>251</td></tr><tr><th>17</th><td>Côte de Blaye</td><td>239</td></tr><tr><th>18</th><td>Pâté chinois</td><td>238</td></tr><tr><th>19</th><td>Gumbär Gummibärchen</td><td>232</td></tr><tr><th>20</th><td>Vegie-spread</td><td>209</td></tr><tr><th>21</th><td>Scottish Longbreads</td><td>199</td></tr><tr><th>22</th><td>Inlagd Sill</td><td>198</td></tr><tr><th>23</th><td>Lakkalikööri</td><td>198</td></tr><tr><th>24</th><td>Rössle Sauerkraut</td><td>189</td></tr><tr><th>25</th><td>Longlife Tofu</td><td>186</td></tr><tr><th>26</th><td>Gudbrandsdalsost</td><td>184</td></tr><tr><th>27</th><td>Queso Cabrales</td><td>182</td></tr><tr><th>28</th><td>Teatime Chocolate Biscuits</td><td>181</td></tr><tr><th>29</th><td>Maxilaku</td><td>180</td></tr><tr><th>30</th><td>Gula Malacca</td><td>178</td></tr><tr><th>&vellip;</th><td>&vellip;</td><td>&vellip;</td></tr></tbody></table>"
      ],
      "text/latex": [
       "\\begin{tabular}{r|cc}\n",
       "\t& ProductName & Total\\_Qty\\\\\n",
       "\t\\hline\n",
       "\t& String⍰ & Int64⍰\\\\\n",
       "\t\\hline\n",
       "\t1 & Gorgonzola Telino & 458 \\\\\n",
       "\t2 & Camembert Pierrot & 430 \\\\\n",
       "\t3 & Steeleye Stout & 369 \\\\\n",
       "\t4 & Raclette Courdavault & 346 \\\\\n",
       "\t5 & Chang & 341 \\\\\n",
       "\t6 & Pavlova & 338 \\\\\n",
       "\t7 & Fløtemysost & 336 \\\\\n",
       "\t8 & Alice Mutton & 331 \\\\\n",
       "\t9 & Tarte au sucre & 325 \\\\\n",
       "\t10 & Geitost & 316 \\\\\n",
       "\t11 & Tourtière & 280 \\\\\n",
       "\t12 & Mozzarella di Giovanni & 270 \\\\\n",
       "\t13 & Gnocchi di nonna Alice & 269 \\\\\n",
       "\t14 & Chartreuse verte & 266 \\\\\n",
       "\t15 & Boston Crab Meat & 256 \\\\\n",
       "\t16 & Perth Pasties & 251 \\\\\n",
       "\t17 & Côte de Blaye & 239 \\\\\n",
       "\t18 & Pâté chinois & 238 \\\\\n",
       "\t19 & Gumbär Gummibärchen & 232 \\\\\n",
       "\t20 & Vegie-spread & 209 \\\\\n",
       "\t21 & Scottish Longbreads & 199 \\\\\n",
       "\t22 & Inlagd Sill & 198 \\\\\n",
       "\t23 & Lakkalikööri & 198 \\\\\n",
       "\t24 & Rössle Sauerkraut & 189 \\\\\n",
       "\t25 & Longlife Tofu & 186 \\\\\n",
       "\t26 & Gudbrandsdalsost & 184 \\\\\n",
       "\t27 & Queso Cabrales & 182 \\\\\n",
       "\t28 & Teatime Chocolate Biscuits & 181 \\\\\n",
       "\t29 & Maxilaku & 180 \\\\\n",
       "\t30 & Gula Malacca & 178 \\\\\n",
       "\t$\\dots$ & $\\dots$ & $\\dots$ \\\\\n",
       "\\end{tabular}\n"
      ],
      "text/plain": [
       "77×2 DataFrame\n",
       "│ Row │ ProductName                     │ Total_Qty │\n",
       "│     │ \u001b[90mUnion{Missing, String}\u001b[39m          │ \u001b[90mInt64⍰\u001b[39m    │\n",
       "├─────┼─────────────────────────────────┼───────────┤\n",
       "│ 1   │ Gorgonzola Telino               │ 458       │\n",
       "│ 2   │ Camembert Pierrot               │ 430       │\n",
       "│ 3   │ Steeleye Stout                  │ 369       │\n",
       "│ 4   │ Raclette Courdavault            │ 346       │\n",
       "│ 5   │ Chang                           │ 341       │\n",
       "│ 6   │ Pavlova                         │ 338       │\n",
       "│ 7   │ Fløtemysost                     │ 336       │\n",
       "│ 8   │ Alice Mutton                    │ 331       │\n",
       "│ 9   │ Tarte au sucre                  │ 325       │\n",
       "│ 10  │ Geitost                         │ 316       │\n",
       "⋮\n",
       "│ 67  │ Filo Mix                        │ 48        │\n",
       "│ 68  │ Röd Kaviar                      │ 45        │\n",
       "│ 69  │ Gravad lax                      │ 39        │\n",
       "│ 70  │ Grandma's Boysenberry Spread    │ 36        │\n",
       "│ 71  │ Queso Manchego La Pastora       │ 27        │\n",
       "│ 72  │ Genen Shouyu                    │ 25        │\n",
       "│ 73  │ Uncle Bob's Organic Dried Pears │ 25        │\n",
       "│ 74  │ Mishi Kobe Niku                 │ 20        │\n",
       "│ 75  │ Gustaf's Knäckebröd             │ 18        │\n",
       "│ 76  │ Røgede sild                     │ 15        │\n",
       "│ 77  │ Laughing Lumberjack Lager       │ 5         │"
      ]
     },
     "execution_count": 248,
     "metadata": {},
     "output_type": "execute_result"
    }
   ],
   "source": [
    "#answer 2.1\n",
    "Prod = DataFrame(SQLite.Query(acme,\"\"\"select productname, sum(quantity) as Total_Qty\n",
    "        from product join orderitem on product.productid = orderitem.productid\n",
    "        group by productname \n",
    "        order by Total_Qty desc\n",
    "        \"\"\"))"
   ]
  },
  {
   "cell_type": "code",
   "execution_count": 244,
   "metadata": {
    "scrolled": true
   },
   "outputs": [
    {
     "name": "stdout",
     "output_type": "stream",
     "text": [
      "\u001b[32m\u001b[1m  Building\u001b[22m\u001b[39m NodeJS → `~/.julia/packages/NodeJS/rx0mH/deps/build.log`\n"
     ]
    }
   ],
   "source": [
    "Pkg.build(\"NodeJS\")"
   ]
  },
  {
   "cell_type": "code",
   "execution_count": 245,
   "metadata": {},
   "outputs": [
    {
     "name": "stdout",
     "output_type": "stream",
     "text": [
      "\u001b[32m\u001b[1m Resolving\u001b[22m\u001b[39m package versions...\n",
      "\u001b[32m\u001b[1m  Updating\u001b[22m\u001b[39m `~/.julia/environments/v1.0/Project.toml`\n",
      "\u001b[90m [no changes]\u001b[39m\n",
      "\u001b[32m\u001b[1m  Updating\u001b[22m\u001b[39m `~/.julia/environments/v1.0/Manifest.toml`\n",
      "\u001b[90m [no changes]\u001b[39m\n"
     ]
    }
   ],
   "source": [
    "Pkg.add(\"VegaLite\")"
   ]
  },
  {
   "cell_type": "code",
   "execution_count": 246,
   "metadata": {},
   "outputs": [
    {
     "name": "stderr",
     "output_type": "stream",
     "text": [
      "┌ Info: Recompiling stale cache file /Users/adityakamboj/.julia/compiled/v1.0/VegaLite/lrJqi.ji for VegaLite [112f6efa-9a02-5b7d-90c0-432ed331239a]\n",
      "└ @ Base loading.jl:1190\n"
     ]
    }
   ],
   "source": [
    "using VegaLite"
   ]
  },
  {
   "cell_type": "code",
   "execution_count": 249,
   "metadata": {},
   "outputs": [
    {
     "data": {
      "application/vnd.vegalite.v2+json": {
       "data": {
        "values": [
         {
          "ProductName": "Gorgonzola Telino",
          "Total_Qty": 458
         },
         {
          "ProductName": "Camembert Pierrot",
          "Total_Qty": 430
         },
         {
          "ProductName": "Steeleye Stout",
          "Total_Qty": 369
         },
         {
          "ProductName": "Raclette Courdavault",
          "Total_Qty": 346
         },
         {
          "ProductName": "Chang",
          "Total_Qty": 341
         },
         {
          "ProductName": "Pavlova",
          "Total_Qty": 338
         },
         {
          "ProductName": "Fløtemysost",
          "Total_Qty": 336
         },
         {
          "ProductName": "Alice Mutton",
          "Total_Qty": 331
         },
         {
          "ProductName": "Tarte au sucre",
          "Total_Qty": 325
         },
         {
          "ProductName": "Geitost",
          "Total_Qty": 316
         },
         {
          "ProductName": "Tourtière",
          "Total_Qty": 280
         },
         {
          "ProductName": "Mozzarella di Giovanni",
          "Total_Qty": 270
         },
         {
          "ProductName": "Gnocchi di nonna Alice",
          "Total_Qty": 269
         },
         {
          "ProductName": "Chartreuse verte",
          "Total_Qty": 266
         },
         {
          "ProductName": "Boston Crab Meat",
          "Total_Qty": 256
         },
         {
          "ProductName": "Perth Pasties",
          "Total_Qty": 251
         },
         {
          "ProductName": "Côte de Blaye",
          "Total_Qty": 239
         },
         {
          "ProductName": "Pâté chinois",
          "Total_Qty": 238
         },
         {
          "ProductName": "Gumbär Gummibärchen",
          "Total_Qty": 232
         },
         {
          "ProductName": "Vegie-spread",
          "Total_Qty": 209
         },
         {
          "ProductName": "Scottish Longbreads",
          "Total_Qty": 199
         },
         {
          "ProductName": "Inlagd Sill",
          "Total_Qty": 198
         },
         {
          "ProductName": "Lakkalikööri",
          "Total_Qty": 198
         },
         {
          "ProductName": "Rössle Sauerkraut",
          "Total_Qty": 189
         },
         {
          "ProductName": "Longlife Tofu",
          "Total_Qty": 186
         },
         {
          "ProductName": "Gudbrandsdalsost",
          "Total_Qty": 184
         },
         {
          "ProductName": "Queso Cabrales",
          "Total_Qty": 182
         },
         {
          "ProductName": "Teatime Chocolate Biscuits",
          "Total_Qty": 181
         },
         {
          "ProductName": "Maxilaku",
          "Total_Qty": 180
         },
         {
          "ProductName": "Gula Malacca",
          "Total_Qty": 178
         },
         {
          "ProductName": "Louisiana Fiery Hot Pepper Sauce",
          "Total_Qty": 175
         },
         {
          "ProductName": "Nord-Ost Matjeshering",
          "Total_Qty": 170
         },
         {
          "ProductName": "Ravioli Angelo",
          "Total_Qty": 168
         },
         {
          "ProductName": "Thüringer Rostbratwurst",
          "Total_Qty": 168
         },
         {
          "ProductName": "Wimmers gute Semmelknödel",
          "Total_Qty": 167
         },
         {
          "ProductName": "Tunnbröd",
          "Total_Qty": 165
         },
         {
          "ProductName": "Outback Lager",
          "Total_Qty": 164
         },
         {
          "ProductName": "Manjimup Dried Apples",
          "Total_Qty": 163
         },
         {
          "ProductName": "Chais",
          "Total_Qty": 159
         },
         {
          "ProductName": "Guaraná Fantástica",
          "Total_Qty": 158
         },
         {
          "ProductName": "Escargots de Bourgogne",
          "Total_Qty": 155
         },
         {
          "ProductName": "Tofu",
          "Total_Qty": 152
         },
         {
          "ProductName": "Sir Rodney's Scones",
          "Total_Qty": 147
         },
         {
          "ProductName": "Spegesild",
          "Total_Qty": 145
         },
         {
          "ProductName": "Rhönbräu Klosterbier",
          "Total_Qty": 144
         },
         {
          "ProductName": "Northwoods Cranberry Sauce",
          "Total_Qty": 140
         },
         {
          "ProductName": "Jack's New England Clam Chowder",
          "Total_Qty": 139
         },
         {
          "ProductName": "Ipoh Coffee",
          "Total_Qty": 136
         },
         {
          "ProductName": "Chef Anton's Gumbo Mix",
          "Total_Qty": 129
         },
         {
          "ProductName": "Sasquatch Ale",
          "Total_Qty": 110
         },
         {
          "ProductName": "Original Frankfurter grüne Soße",
          "Total_Qty": 108
         },
         {
          "ProductName": "Chef Anton's Cajun Seasoning",
          "Total_Qty": 107
         },
         {
          "ProductName": "Carnarvon Tigers",
          "Total_Qty": 106
         },
         {
          "ProductName": "Sir Rodney's Marmalade",
          "Total_Qty": 106
         },
         {
          "ProductName": "Sirop d'érable",
          "Total_Qty": 106
         },
         {
          "ProductName": "Zaanse koeken",
          "Total_Qty": 101
         },
         {
          "ProductName": "Konbu",
          "Total_Qty": 92
         },
         {
          "ProductName": "Louisiana Hot Spiced Okra",
          "Total_Qty": 90
         },
         {
          "ProductName": "Schoggi Schokolade",
          "Total_Qty": 90
         },
         {
          "ProductName": "Ikura",
          "Total_Qty": 85
         },
         {
          "ProductName": "Aniseed Syrup",
          "Total_Qty": 80
         },
         {
          "ProductName": "Singaporean Hokkien Fried Mee",
          "Total_Qty": 77
         },
         {
          "ProductName": "NuNuCa Nuß-Nougat-Creme",
          "Total_Qty": 71
         },
         {
          "ProductName": "Chocolade",
          "Total_Qty": 70
         },
         {
          "ProductName": "Valkoinen suklaa",
          "Total_Qty": 70
         },
         {
          "ProductName": "Mascarpone Fabioli",
          "Total_Qty": 52
         },
         {
          "ProductName": "Filo Mix",
          "Total_Qty": 48
         },
         {
          "ProductName": "Röd Kaviar",
          "Total_Qty": 45
         },
         {
          "ProductName": "Gravad lax",
          "Total_Qty": 39
         },
         {
          "ProductName": "Grandma's Boysenberry Spread",
          "Total_Qty": 36
         },
         {
          "ProductName": "Queso Manchego La Pastora",
          "Total_Qty": 27
         },
         {
          "ProductName": "Genen Shouyu",
          "Total_Qty": 25
         },
         {
          "ProductName": "Uncle Bob's Organic Dried Pears",
          "Total_Qty": 25
         },
         {
          "ProductName": "Mishi Kobe Niku",
          "Total_Qty": 20
         },
         {
          "ProductName": "Gustaf's Knäckebröd",
          "Total_Qty": 18
         },
         {
          "ProductName": "Røgede sild",
          "Total_Qty": 15
         },
         {
          "ProductName": "Laughing Lumberjack Lager",
          "Total_Qty": 5
         }
        ]
       },
       "encoding": {
        "x": {
         "field": "ProductName",
         "type": "nominal"
        },
        "y": {
         "field": "Total_Qty",
         "type": "quantitative"
        }
       },
       "mark": "bar"
      },
      "image/png": "[encoded data removed]",
      "image/svg+xml": [
       "<?xml version=\"1.0\" encoding=\"utf-8\"?>\n",
       "<!DOCTYPE svg PUBLIC \"-//W3C//DTD SVG 1.1//EN\" \"http://www.w3.org/Graphics/SVG/1.1/DTD/svg11.dtd\">\n",
       "<svg class=\"marks\" width=\"1676\" height=\"417\" viewBox=\"0 0 1676 417\" version=\"1.1\" xmlns=\"http://www.w3.org/2000/svg\" xmlns:xlink=\"http://www.w3.org/1999/xlink\"><g transform=\"translate(54,11)\"><g class=\"mark-group role-frame root\"><g transform=\"translate(0,0)\"><path class=\"background\" d=\"M0.5,0.5h1617v200h-1617Z\" style=\"fill: none; stroke: #ddd;\"></path><g><g class=\"mark-group role-axis\"><g transform=\"translate(0.5,0.5)\"><path class=\"background\" d=\"M0,0h0v0h0Z\" style=\"pointer-events: none; fill: none;\"></path><g><g class=\"mark-rule role-axis-grid\" style=\"pointer-events: none;\"><line transform=\"translate(0,200)\" x2=\"1617\" y2=\"0\" style=\"fill: none; stroke: #ddd; stroke-width: 1; opacity: 1;\"></line><line transform=\"translate(0,160)\" x2=\"1617\" y2=\"0\" style=\"fill: none; stroke: #ddd; stroke-width: 1; opacity: 1;\"></line><line transform=\"translate(0,120)\" x2=\"1617\" y2=\"0\" style=\"fill: none; stroke: #ddd; stroke-width: 1; opacity: 1;\"></line><line transform=\"translate(0,80)\" x2=\"1617\" y2=\"0\" style=\"fill: none; stroke: #ddd; stroke-width: 1; opacity: 1;\"></line><line transform=\"translate(0,40)\" x2=\"1617\" y2=\"0\" style=\"fill: none; stroke: #ddd; stroke-width: 1; opacity: 1;\"></line><line transform=\"translate(0,0)\" x2=\"1617\" y2=\"0\" style=\"fill: none; stroke: #ddd; stroke-width: 1; opacity: 1;\"></line></g></g></g></g><g class=\"mark-rect role-mark marks\"><path d=\"M379.04999999999995,16.799999999999983h18.900000000000002v183.20000000000002h-18.900000000000002Z\" style=\"fill: #4c78a8;\"></path><path d=\"M64.04999999999995,28h18.900000000000002v172h-18.900000000000002Z\" style=\"fill: #4c78a8;\"></path><path d=\"M1366.05,52.400000000000006h18.900000000000002v147.6h-18.900000000000002Z\" style=\"fill: #4c78a8;\"></path><path d=\"M1072.05,61.60000000000002h18.900000000000002v138.39999999999998h-18.900000000000002Z\" style=\"fill: #4c78a8;\"></path><path d=\"M127.04999999999995,63.599999999999994h18.900000000000002v136.4h-18.900000000000002Z\" style=\"fill: #4c78a8;\"></path><path d=\"M967.05,64.79999999999998h18.900000000000002v135.20000000000002h-18.900000000000002Z\" style=\"fill: #4c78a8;\"></path><path d=\"M295.04999999999995,65.6h18.900000000000002v134.4h-18.900000000000002Z\" style=\"fill: #4c78a8;\"></path><path d=\"M1.0499999999999545,67.6h18.900000000000002v132.4h-18.900000000000002Z\" style=\"fill: #4c78a8;\"></path><path d=\"M1387.05,70h18.900000000000002v130h-18.900000000000002Z\" style=\"fill: #4c78a8;\"></path><path d=\"M316.04999999999995,73.6h18.900000000000002v126.4h-18.900000000000002Z\" style=\"fill: #4c78a8;\"></path><path d=\"M1471.05,87.99999999999999h18.900000000000002v112.00000000000001h-18.900000000000002Z\" style=\"fill: #4c78a8;\"></path><path d=\"M841.05,92h18.900000000000002v108h-18.900000000000002Z\" style=\"fill: #4c78a8;\"></path><path d=\"M358.04999999999995,92.39999999999999h18.900000000000002v107.60000000000001h-18.900000000000002Z\" style=\"fill: #4c78a8;\"></path><path d=\"M148.04999999999995,93.6h18.900000000000002v106.4h-18.900000000000002Z\" style=\"fill: #4c78a8;\"></path><path d=\"M43.049999999999955,97.6h18.900000000000002v102.4h-18.900000000000002Z\" style=\"fill: #4c78a8;\"></path><path d=\"M988.05,99.6h18.900000000000002v100.4h-18.900000000000002Z\" style=\"fill: #4c78a8;\"></path><path d=\"M232.04999999999995,104.4h18.900000000000002v95.6h-18.900000000000002Z\" style=\"fill: #4c78a8;\"></path><path d=\"M1009.05,104.80000000000001h18.900000000000002v95.19999999999999h-18.900000000000002Z\" style=\"fill: #4c78a8;\"></path><path d=\"M505.04999999999995,107.19999999999999h18.900000000000002v92.80000000000001h-18.900000000000002Z\" style=\"fill: #4c78a8;\"></path><path d=\"M1555.05,116.4h18.900000000000002v83.6h-18.900000000000002Z\" style=\"fill: #4c78a8;\"></path><path d=\"M1240.05,120.39999999999999h18.900000000000002v79.60000000000001h-18.900000000000002Z\" style=\"fill: #4c78a8;\"></path><path d=\"M568.05,120.8h18.900000000000002v79.2h-18.900000000000002Z\" style=\"fill: #4c78a8;\"></path><path d=\"M652.05,120.8h18.900000000000002v79.2h-18.900000000000002Z\" style=\"fill: #4c78a8;\"></path><path d=\"M1156.05,124.4h18.900000000000002v75.6h-18.900000000000002Z\" style=\"fill: #4c78a8;\"></path><path d=\"M694.05,125.6h18.900000000000002v74.4h-18.900000000000002Z\" style=\"fill: #4c78a8;\"></path><path d=\"M463.04999999999995,126.4h18.900000000000002v73.6h-18.900000000000002Z\" style=\"fill: #4c78a8;\"></path><path d=\"M1030.05,127.2h18.900000000000002v72.8h-18.900000000000002Z\" style=\"fill: #4c78a8;\"></path><path d=\"M1408.05,127.60000000000001h18.900000000000002v72.39999999999999h-18.900000000000002Z\" style=\"fill: #4c78a8;\"></path><path d=\"M799.05,128h18.900000000000002v72h-18.900000000000002Z\" style=\"fill: #4c78a8;\"></path><path d=\"M484.04999999999995,128.8h18.900000000000002v71.19999999999999h-18.900000000000002Z\" style=\"fill: #4c78a8;\"></path><path d=\"M715.05,130h18.900000000000002v70h-18.900000000000002Z\" style=\"fill: #4c78a8;\"></path><path d=\"M862.05,132h18.900000000000002v68h-18.900000000000002Z\" style=\"fill: #4c78a8;\"></path><path d=\"M1093.05,132.8h18.900000000000002v67.19999999999999h-18.900000000000002Z\" style=\"fill: #4c78a8;\"></path><path d=\"M1429.05,132.8h18.900000000000002v67.19999999999999h-18.900000000000002Z\" style=\"fill: #4c78a8;\"></path><path d=\"M1576.05,133.2h18.900000000000002v66.80000000000001h-18.900000000000002Z\" style=\"fill: #4c78a8;\"></path><path d=\"M1492.05,134h18.900000000000002v66h-18.900000000000002Z\" style=\"fill: #4c78a8;\"></path><path d=\"M946.05,134.39999999999998h18.900000000000002v65.60000000000002h-18.900000000000002Z\" style=\"fill: #4c78a8;\"></path><path d=\"M757.05,134.8h18.900000000000002v65.19999999999999h-18.900000000000002Z\" style=\"fill: #4c78a8;\"></path><path d=\"M106.04999999999995,136.4h18.900000000000002v63.599999999999994h-18.900000000000002Z\" style=\"fill: #4c78a8;\"></path><path d=\"M442.04999999999995,136.8h18.900000000000002v63.19999999999999h-18.900000000000002Z\" style=\"fill: #4c78a8;\"></path><path d=\"M253.04999999999995,138h18.900000000000002v62h-18.900000000000002Z\" style=\"fill: #4c78a8;\"></path><path d=\"M1450.05,139.2h18.900000000000002v60.80000000000001h-18.900000000000002Z\" style=\"fill: #4c78a8;\"></path><path d=\"M1303.05,141.2h18.900000000000002v58.80000000000001h-18.900000000000002Z\" style=\"fill: #4c78a8;\"></path><path d=\"M1345.05,142h18.900000000000002v58h-18.900000000000002Z\" style=\"fill: #4c78a8;\"></path><path d=\"M1114.05,142.4h18.900000000000002v57.599999999999994h-18.900000000000002Z\" style=\"fill: #4c78a8;\"></path><path d=\"M883.05,144h18.900000000000002v56h-18.900000000000002Z\" style=\"fill: #4c78a8;\"></path><path d=\"M610.05,144.39999999999998h18.900000000000002v55.60000000000002h-18.900000000000002Z\" style=\"fill: #4c78a8;\"></path><path d=\"M589.05,145.6h18.900000000000002v54.400000000000006h-18.900000000000002Z\" style=\"fill: #4c78a8;\"></path><path d=\"M190.04999999999995,148.4h18.900000000000002v51.599999999999994h-18.900000000000002Z\" style=\"fill: #4c78a8;\"></path><path d=\"M1198.05,156h18.900000000000002v44h-18.900000000000002Z\" style=\"fill: #4c78a8;\"></path><path d=\"M925.05,156.8h18.900000000000002v43.19999999999999h-18.900000000000002Z\" style=\"fill: #4c78a8;\"></path><path d=\"M169.04999999999995,157.2h18.900000000000002v42.80000000000001h-18.900000000000002Z\" style=\"fill: #4c78a8;\"></path><path d=\"M85.04999999999995,157.6h18.900000000000002v42.400000000000006h-18.900000000000002Z\" style=\"fill: #4c78a8;\"></path><path d=\"M1282.05,157.6h18.900000000000002v42.400000000000006h-18.900000000000002Z\" style=\"fill: #4c78a8;\"></path><path d=\"M1324.05,157.6h18.900000000000002v42.400000000000006h-18.900000000000002Z\" style=\"fill: #4c78a8;\"></path><path d=\"M1597.05,159.6h18.900000000000002v40.400000000000006h-18.900000000000002Z\" style=\"fill: #4c78a8;\"></path><path d=\"M631.05,163.2h18.900000000000002v36.80000000000001h-18.900000000000002Z\" style=\"fill: #4c78a8;\"></path><path d=\"M736.05,164h18.900000000000002v36h-18.900000000000002Z\" style=\"fill: #4c78a8;\"></path><path d=\"M1219.05,164h18.900000000000002v36h-18.900000000000002Z\" style=\"fill: #4c78a8;\"></path><path d=\"M547.05,166h18.900000000000002v34h-18.900000000000002Z\" style=\"fill: #4c78a8;\"></path><path d=\"M22.049999999999955,168h18.900000000000002v32h-18.900000000000002Z\" style=\"fill: #4c78a8;\"></path><path d=\"M1261.05,169.2h18.900000000000002v30.80000000000001h-18.900000000000002Z\" style=\"fill: #4c78a8;\"></path><path d=\"M904.05,171.6h18.900000000000002v28.400000000000006h-18.900000000000002Z\" style=\"fill: #4c78a8;\"></path><path d=\"M211.04999999999995,172h18.900000000000002v28h-18.900000000000002Z\" style=\"fill: #4c78a8;\"></path><path d=\"M1534.05,172h18.900000000000002v28h-18.900000000000002Z\" style=\"fill: #4c78a8;\"></path><path d=\"M778.05,179.2h18.900000000000002v20.80000000000001h-18.900000000000002Z\" style=\"fill: #4c78a8;\"></path><path d=\"M274.04999999999995,180.8h18.900000000000002v19.19999999999999h-18.900000000000002Z\" style=\"fill: #4c78a8;\"></path><path d=\"M1135.05,182h18.900000000000002v18h-18.900000000000002Z\" style=\"fill: #4c78a8;\"></path><path d=\"M421.04999999999995,184.4h18.900000000000002v15.599999999999994h-18.900000000000002Z\" style=\"fill: #4c78a8;\"></path><path d=\"M400.04999999999995,185.6h18.900000000000002v14.400000000000006h-18.900000000000002Z\" style=\"fill: #4c78a8;\"></path><path d=\"M1051.05,189.2h18.900000000000002v10.800000000000011h-18.900000000000002Z\" style=\"fill: #4c78a8;\"></path><path d=\"M337.04999999999995,190h18.900000000000002v10h-18.900000000000002Z\" style=\"fill: #4c78a8;\"></path><path d=\"M1513.05,190h18.900000000000002v10h-18.900000000000002Z\" style=\"fill: #4c78a8;\"></path><path d=\"M820.05,192h18.900000000000002v8h-18.900000000000002Z\" style=\"fill: #4c78a8;\"></path><path d=\"M526.05,192.8h18.900000000000002v7.199999999999989h-18.900000000000002Z\" style=\"fill: #4c78a8;\"></path><path d=\"M1177.05,194h18.900000000000002v6h-18.900000000000002Z\" style=\"fill: #4c78a8;\"></path><path d=\"M673.05,198h18.900000000000002v2h-18.900000000000002Z\" style=\"fill: #4c78a8;\"></path></g><g class=\"mark-group role-axis\"><g transform=\"translate(0.5,200.5)\"><path class=\"background\" d=\"M0,0h0v0h0Z\" style=\"pointer-events: none; fill: none;\"></path><g><g class=\"mark-rule role-axis-tick\" style=\"pointer-events: none;\"><line transform=\"translate(9,0)\" x2=\"0\" y2=\"5\" style=\"fill: none; stroke: #888; stroke-width: 1; opacity: 1;\"></line><line transform=\"translate(30,0)\" x2=\"0\" y2=\"5\" style=\"fill: none; stroke: #888; stroke-width: 1; opacity: 1;\"></line><line transform=\"translate(51,0)\" x2=\"0\" y2=\"5\" style=\"fill: none; stroke: #888; stroke-width: 1; opacity: 1;\"></line><line transform=\"translate(72,0)\" x2=\"0\" y2=\"5\" style=\"fill: none; stroke: #888; stroke-width: 1; opacity: 1;\"></line><line transform=\"translate(93,0)\" x2=\"0\" y2=\"5\" style=\"fill: none; stroke: #888; stroke-width: 1; opacity: 1;\"></line><line transform=\"translate(114,0)\" x2=\"0\" y2=\"5\" style=\"fill: none; stroke: #888; stroke-width: 1; opacity: 1;\"></line><line transform=\"translate(135,0)\" x2=\"0\" y2=\"5\" style=\"fill: none; stroke: #888; stroke-width: 1; opacity: 1;\"></line><line transform=\"translate(156,0)\" x2=\"0\" y2=\"5\" style=\"fill: none; stroke: #888; stroke-width: 1; opacity: 1;\"></line><line transform=\"translate(177,0)\" x2=\"0\" y2=\"5\" style=\"fill: none; stroke: #888; stroke-width: 1; opacity: 1;\"></line><line transform=\"translate(198,0)\" x2=\"0\" y2=\"5\" style=\"fill: none; stroke: #888; stroke-width: 1; opacity: 1;\"></line><line transform=\"translate(219,0)\" x2=\"0\" y2=\"5\" style=\"fill: none; stroke: #888; stroke-width: 1; opacity: 1;\"></line><line transform=\"translate(240,0)\" x2=\"0\" y2=\"5\" style=\"fill: none; stroke: #888; stroke-width: 1; opacity: 1;\"></line><line transform=\"translate(261,0)\" x2=\"0\" y2=\"5\" style=\"fill: none; stroke: #888; stroke-width: 1; opacity: 1;\"></line><line transform=\"translate(282,0)\" x2=\"0\" y2=\"5\" style=\"fill: none; stroke: #888; stroke-width: 1; opacity: 1;\"></line><line transform=\"translate(303,0)\" x2=\"0\" y2=\"5\" style=\"fill: none; stroke: #888; stroke-width: 1; opacity: 1;\"></line><line transform=\"translate(324,0)\" x2=\"0\" y2=\"5\" style=\"fill: none; stroke: #888; stroke-width: 1; opacity: 1;\"></line><line transform=\"translate(345,0)\" x2=\"0\" y2=\"5\" style=\"fill: none; stroke: #888; stroke-width: 1; opacity: 1;\"></line><line transform=\"translate(366,0)\" x2=\"0\" y2=\"5\" style=\"fill: none; stroke: #888; stroke-width: 1; opacity: 1;\"></line><line transform=\"translate(387,0)\" x2=\"0\" y2=\"5\" style=\"fill: none; stroke: #888; stroke-width: 1; opacity: 1;\"></line><line transform=\"translate(408,0)\" x2=\"0\" y2=\"5\" style=\"fill: none; stroke: #888; stroke-width: 1; opacity: 1;\"></line><line transform=\"translate(429,0)\" x2=\"0\" y2=\"5\" style=\"fill: none; stroke: #888; stroke-width: 1; opacity: 1;\"></line><line transform=\"translate(450,0)\" x2=\"0\" y2=\"5\" style=\"fill: none; stroke: #888; stroke-width: 1; opacity: 1;\"></line><line transform=\"translate(471,0)\" x2=\"0\" y2=\"5\" style=\"fill: none; stroke: #888; stroke-width: 1; opacity: 1;\"></line><line transform=\"translate(492,0)\" x2=\"0\" y2=\"5\" style=\"fill: none; stroke: #888; stroke-width: 1; opacity: 1;\"></line><line transform=\"translate(514,0)\" x2=\"0\" y2=\"5\" style=\"fill: none; stroke: #888; stroke-width: 1; opacity: 1;\"></line><line transform=\"translate(535,0)\" x2=\"0\" y2=\"5\" style=\"fill: none; stroke: #888; stroke-width: 1; opacity: 1;\"></line><line transform=\"translate(556,0)\" x2=\"0\" y2=\"5\" style=\"fill: none; stroke: #888; stroke-width: 1; opacity: 1;\"></line><line transform=\"translate(577,0)\" x2=\"0\" y2=\"5\" style=\"fill: none; stroke: #888; stroke-width: 1; opacity: 1;\"></line><line transform=\"translate(598,0)\" x2=\"0\" y2=\"5\" style=\"fill: none; stroke: #888; stroke-width: 1; opacity: 1;\"></line><line transform=\"translate(619,0)\" x2=\"0\" y2=\"5\" style=\"fill: none; stroke: #888; stroke-width: 1; opacity: 1;\"></line><line transform=\"translate(640,0)\" x2=\"0\" y2=\"5\" style=\"fill: none; stroke: #888; stroke-width: 1; opacity: 1;\"></line><line transform=\"translate(661,0)\" x2=\"0\" y2=\"5\" style=\"fill: none; stroke: #888; stroke-width: 1; opacity: 1;\"></line><line transform=\"translate(682,0)\" x2=\"0\" y2=\"5\" style=\"fill: none; stroke: #888; stroke-width: 1; opacity: 1;\"></line><line transform=\"translate(703,0)\" x2=\"0\" y2=\"5\" style=\"fill: none; stroke: #888; stroke-width: 1; opacity: 1;\"></line><line transform=\"translate(724,0)\" x2=\"0\" y2=\"5\" style=\"fill: none; stroke: #888; stroke-width: 1; opacity: 1;\"></line><line transform=\"translate(745,0)\" x2=\"0\" y2=\"5\" style=\"fill: none; stroke: #888; stroke-width: 1; opacity: 1;\"></line><line transform=\"translate(766,0)\" x2=\"0\" y2=\"5\" style=\"fill: none; stroke: #888; stroke-width: 1; opacity: 1;\"></line><line transform=\"translate(787,0)\" x2=\"0\" y2=\"5\" style=\"fill: none; stroke: #888; stroke-width: 1; opacity: 1;\"></line><line transform=\"translate(808,0)\" x2=\"0\" y2=\"5\" style=\"fill: none; stroke: #888; stroke-width: 1; opacity: 1;\"></line><line transform=\"translate(829,0)\" x2=\"0\" y2=\"5\" style=\"fill: none; stroke: #888; stroke-width: 1; opacity: 1;\"></line><line transform=\"translate(850,0)\" x2=\"0\" y2=\"5\" style=\"fill: none; stroke: #888; stroke-width: 1; opacity: 1;\"></line><line transform=\"translate(871,0)\" x2=\"0\" y2=\"5\" style=\"fill: none; stroke: #888; stroke-width: 1; opacity: 1;\"></line><line transform=\"translate(892,0)\" x2=\"0\" y2=\"5\" style=\"fill: none; stroke: #888; stroke-width: 1; opacity: 1;\"></line><line transform=\"translate(913,0)\" x2=\"0\" y2=\"5\" style=\"fill: none; stroke: #888; stroke-width: 1; opacity: 1;\"></line><line transform=\"translate(934,0)\" x2=\"0\" y2=\"5\" style=\"fill: none; stroke: #888; stroke-width: 1; opacity: 1;\"></line><line transform=\"translate(955,0)\" x2=\"0\" y2=\"5\" style=\"fill: none; stroke: #888; stroke-width: 1; opacity: 1;\"></line><line transform=\"translate(976,0)\" x2=\"0\" y2=\"5\" style=\"fill: none; stroke: #888; stroke-width: 1; opacity: 1;\"></line><line transform=\"translate(997,0)\" x2=\"0\" y2=\"5\" style=\"fill: none; stroke: #888; stroke-width: 1; opacity: 1;\"></line><line transform=\"translate(1018,0)\" x2=\"0\" y2=\"5\" style=\"fill: none; stroke: #888; stroke-width: 1; opacity: 1;\"></line><line transform=\"translate(1039,0)\" x2=\"0\" y2=\"5\" style=\"fill: none; stroke: #888; stroke-width: 1; opacity: 1;\"></line><line transform=\"translate(1060,0)\" x2=\"0\" y2=\"5\" style=\"fill: none; stroke: #888; stroke-width: 1; opacity: 1;\"></line><line transform=\"translate(1081,0)\" x2=\"0\" y2=\"5\" style=\"fill: none; stroke: #888; stroke-width: 1; opacity: 1;\"></line><line transform=\"translate(1102,0)\" x2=\"0\" y2=\"5\" style=\"fill: none; stroke: #888; stroke-width: 1; opacity: 1;\"></line><line transform=\"translate(1123,0)\" x2=\"0\" y2=\"5\" style=\"fill: none; stroke: #888; stroke-width: 1; opacity: 1;\"></line><line transform=\"translate(1144,0)\" x2=\"0\" y2=\"5\" style=\"fill: none; stroke: #888; stroke-width: 1; opacity: 1;\"></line><line transform=\"translate(1165,0)\" x2=\"0\" y2=\"5\" style=\"fill: none; stroke: #888; stroke-width: 1; opacity: 1;\"></line><line transform=\"translate(1186,0)\" x2=\"0\" y2=\"5\" style=\"fill: none; stroke: #888; stroke-width: 1; opacity: 1;\"></line><line transform=\"translate(1207,0)\" x2=\"0\" y2=\"5\" style=\"fill: none; stroke: #888; stroke-width: 1; opacity: 1;\"></line><line transform=\"translate(1228,0)\" x2=\"0\" y2=\"5\" style=\"fill: none; stroke: #888; stroke-width: 1; opacity: 1;\"></line><line transform=\"translate(1249,0)\" x2=\"0\" y2=\"5\" style=\"fill: none; stroke: #888; stroke-width: 1; opacity: 1;\"></line><line transform=\"translate(1270,0)\" x2=\"0\" y2=\"5\" style=\"fill: none; stroke: #888; stroke-width: 1; opacity: 1;\"></line><line transform=\"translate(1291,0)\" x2=\"0\" y2=\"5\" style=\"fill: none; stroke: #888; stroke-width: 1; opacity: 1;\"></line><line transform=\"translate(1312,0)\" x2=\"0\" y2=\"5\" style=\"fill: none; stroke: #888; stroke-width: 1; opacity: 1;\"></line><line transform=\"translate(1333,0)\" x2=\"0\" y2=\"5\" style=\"fill: none; stroke: #888; stroke-width: 1; opacity: 1;\"></line><line transform=\"translate(1354,0)\" x2=\"0\" y2=\"5\" style=\"fill: none; stroke: #888; stroke-width: 1; opacity: 1;\"></line><line transform=\"translate(1375,0)\" x2=\"0\" y2=\"5\" style=\"fill: none; stroke: #888; stroke-width: 1; opacity: 1;\"></line><line transform=\"translate(1396,0)\" x2=\"0\" y2=\"5\" style=\"fill: none; stroke: #888; stroke-width: 1; opacity: 1;\"></line><line transform=\"translate(1417,0)\" x2=\"0\" y2=\"5\" style=\"fill: none; stroke: #888; stroke-width: 1; opacity: 1;\"></line><line transform=\"translate(1438,0)\" x2=\"0\" y2=\"5\" style=\"fill: none; stroke: #888; stroke-width: 1; opacity: 1;\"></line><line transform=\"translate(1459,0)\" x2=\"0\" y2=\"5\" style=\"fill: none; stroke: #888; stroke-width: 1; opacity: 1;\"></line><line transform=\"translate(1480,0)\" x2=\"0\" y2=\"5\" style=\"fill: none; stroke: #888; stroke-width: 1; opacity: 1;\"></line><line transform=\"translate(1501,0)\" x2=\"0\" y2=\"5\" style=\"fill: none; stroke: #888; stroke-width: 1; opacity: 1;\"></line><line transform=\"translate(1522,0)\" x2=\"0\" y2=\"5\" style=\"fill: none; stroke: #888; stroke-width: 1; opacity: 1;\"></line><line transform=\"translate(1543,0)\" x2=\"0\" y2=\"5\" style=\"fill: none; stroke: #888; stroke-width: 1; opacity: 1;\"></line><line transform=\"translate(1564,0)\" x2=\"0\" y2=\"5\" style=\"fill: none; stroke: #888; stroke-width: 1; opacity: 1;\"></line><line transform=\"translate(1585,0)\" x2=\"0\" y2=\"5\" style=\"fill: none; stroke: #888; stroke-width: 1; opacity: 1;\"></line><line transform=\"translate(1606,0)\" x2=\"0\" y2=\"5\" style=\"fill: none; stroke: #888; stroke-width: 1; opacity: 1;\"></line></g><g class=\"mark-text role-axis-label\" style=\"pointer-events: none;\"><text text-anchor=\"end\" transform=\"translate(9.499999999999956,7) rotate(270) translate(0,3)\" style=\"font-family: sans-serif; font-size: 10px; fill: #000; opacity: 1;\">Alice Mutton</text><text text-anchor=\"end\" transform=\"translate(30.499999999999957,7) rotate(270) translate(0,3)\" style=\"font-family: sans-serif; font-size: 10px; fill: #000; opacity: 1;\">Aniseed Syrup</text><text text-anchor=\"end\" transform=\"translate(51.49999999999996,7) rotate(270) translate(0,3)\" style=\"font-family: sans-serif; font-size: 10px; fill: #000; opacity: 1;\">Boston Crab Meat</text><text text-anchor=\"end\" transform=\"translate(72.49999999999996,7) rotate(270) translate(0,3)\" style=\"font-family: sans-serif; font-size: 10px; fill: #000; opacity: 1;\">Camembert Pierrot</text><text text-anchor=\"end\" transform=\"translate(93.49999999999996,7) rotate(270) translate(0,3)\" style=\"font-family: sans-serif; font-size: 10px; fill: #000; opacity: 1;\">Carnarvon Tigers</text><text text-anchor=\"end\" transform=\"translate(114.49999999999996,7) rotate(270) translate(0,3)\" style=\"font-family: sans-serif; font-size: 10px; fill: #000; opacity: 1;\">Chais</text><text text-anchor=\"end\" transform=\"translate(135.49999999999994,7) rotate(270) translate(0,3)\" style=\"font-family: sans-serif; font-size: 10px; fill: #000; opacity: 1;\">Chang</text><text text-anchor=\"end\" transform=\"translate(156.49999999999994,7) rotate(270) translate(0,3)\" style=\"font-family: sans-serif; font-size: 10px; fill: #000; opacity: 1;\">Chartreuse verte</text><text text-anchor=\"end\" transform=\"translate(177.49999999999994,7) rotate(270) translate(0,3)\" style=\"font-family: sans-serif; font-size: 10px; fill: #000; opacity: 1;\">Chef Anton's Cajun Se…</text><text text-anchor=\"end\" transform=\"translate(198.49999999999994,7) rotate(270) translate(0,3)\" style=\"font-family: sans-serif; font-size: 10px; fill: #000; opacity: 1;\">Chef Anton's Gumbo Mix</text><text text-anchor=\"end\" transform=\"translate(219.49999999999994,7) rotate(270) translate(0,3)\" style=\"font-family: sans-serif; font-size: 10px; fill: #000; opacity: 1;\">Chocolade</text><text text-anchor=\"end\" transform=\"translate(240.49999999999994,7) rotate(270) translate(0,3)\" style=\"font-family: sans-serif; font-size: 10px; fill: #000; opacity: 1;\">Côte de Blaye</text><text text-anchor=\"end\" transform=\"translate(261.49999999999994,7) rotate(270) translate(0,3)\" style=\"font-family: sans-serif; font-size: 10px; fill: #000; opacity: 1;\">Escargots de Bourgogne</text><text text-anchor=\"end\" transform=\"translate(282.49999999999994,7) rotate(270) translate(0,3)\" style=\"font-family: sans-serif; font-size: 10px; fill: #000; opacity: 1;\">Filo Mix</text><text text-anchor=\"end\" transform=\"translate(303.49999999999994,7) rotate(270) translate(0,3)\" style=\"font-family: sans-serif; font-size: 10px; fill: #000; opacity: 1;\">Fløtemysost</text><text text-anchor=\"end\" transform=\"translate(324.49999999999994,7) rotate(270) translate(0,3)\" style=\"font-family: sans-serif; font-size: 10px; fill: #000; opacity: 1;\">Geitost</text><text text-anchor=\"end\" transform=\"translate(345.49999999999994,7) rotate(270) translate(0,3)\" style=\"font-family: sans-serif; font-size: 10px; fill: #000; opacity: 1;\">Genen Shouyu</text><text text-anchor=\"end\" transform=\"translate(366.49999999999994,7) rotate(270) translate(0,3)\" style=\"font-family: sans-serif; font-size: 10px; fill: #000; opacity: 1;\">Gnocchi di nonna Alice</text><text text-anchor=\"end\" transform=\"translate(387.49999999999994,7) rotate(270) translate(0,3)\" style=\"font-family: sans-serif; font-size: 10px; fill: #000; opacity: 1;\">Gorgonzola Telino</text><text text-anchor=\"end\" transform=\"translate(408.49999999999994,7) rotate(270) translate(0,3)\" style=\"font-family: sans-serif; font-size: 10px; fill: #000; opacity: 1;\">Grandma's Boysenberry…</text><text text-anchor=\"end\" transform=\"translate(429.49999999999994,7) rotate(270) translate(0,3)\" style=\"font-family: sans-serif; font-size: 10px; fill: #000; opacity: 1;\">Gravad lax</text><text text-anchor=\"end\" transform=\"translate(450.49999999999994,7) rotate(270) translate(0,3)\" style=\"font-family: sans-serif; font-size: 10px; fill: #000; opacity: 1;\">Guaraná Fantástica</text><text text-anchor=\"end\" transform=\"translate(471.49999999999994,7) rotate(270) translate(0,3)\" style=\"font-family: sans-serif; font-size: 10px; fill: #000; opacity: 1;\">Gudbrandsdalsost</text><text text-anchor=\"end\" transform=\"translate(492.49999999999994,7) rotate(270) translate(0,3)\" style=\"font-family: sans-serif; font-size: 10px; fill: #000; opacity: 1;\">Gula Malacca</text><text text-anchor=\"end\" transform=\"translate(513.5,7) rotate(270) translate(0,3)\" style=\"font-family: sans-serif; font-size: 10px; fill: #000; opacity: 1;\">Gumbär Gummibärchen</text><text text-anchor=\"end\" transform=\"translate(534.5,7) rotate(270) translate(0,3)\" style=\"font-family: sans-serif; font-size: 10px; fill: #000; opacity: 1;\">Gustaf's Knäckebröd</text><text text-anchor=\"end\" transform=\"translate(555.5,7) rotate(270) translate(0,3)\" style=\"font-family: sans-serif; font-size: 10px; fill: #000; opacity: 1;\">Ikura</text><text text-anchor=\"end\" transform=\"translate(576.5,7) rotate(270) translate(0,3)\" style=\"font-family: sans-serif; font-size: 10px; fill: #000; opacity: 1;\">Inlagd Sill</text><text text-anchor=\"end\" transform=\"translate(597.5,7) rotate(270) translate(0,3)\" style=\"font-family: sans-serif; font-size: 10px; fill: #000; opacity: 1;\">Ipoh Coffee</text><text text-anchor=\"end\" transform=\"translate(618.5,7) rotate(270) translate(0,3)\" style=\"font-family: sans-serif; font-size: 10px; fill: #000; opacity: 1;\">Jack's New England Cl…</text><text text-anchor=\"end\" transform=\"translate(639.5,7) rotate(270) translate(0,3)\" style=\"font-family: sans-serif; font-size: 10px; fill: #000; opacity: 1;\">Konbu</text><text text-anchor=\"end\" transform=\"translate(660.5,7) rotate(270) translate(0,3)\" style=\"font-family: sans-serif; font-size: 10px; fill: #000; opacity: 1;\">Lakkalikööri</text><text text-anchor=\"end\" transform=\"translate(681.5,7) rotate(270) translate(0,3)\" style=\"font-family: sans-serif; font-size: 10px; fill: #000; opacity: 1;\">Laughing Lumberjack L…</text><text text-anchor=\"end\" transform=\"translate(702.5,7) rotate(270) translate(0,3)\" style=\"font-family: sans-serif; font-size: 10px; fill: #000; opacity: 1;\">Longlife Tofu</text><text text-anchor=\"end\" transform=\"translate(723.5,7) rotate(270) translate(0,3)\" style=\"font-family: sans-serif; font-size: 10px; fill: #000; opacity: 1;\">Louisiana Fiery Hot P…</text><text text-anchor=\"end\" transform=\"translate(744.5,7) rotate(270) translate(0,3)\" style=\"font-family: sans-serif; font-size: 10px; fill: #000; opacity: 1;\">Louisiana Hot Spiced …</text><text text-anchor=\"end\" transform=\"translate(765.5,7) rotate(270) translate(0,3)\" style=\"font-family: sans-serif; font-size: 10px; fill: #000; opacity: 1;\">Manjimup Dried Apples</text><text text-anchor=\"end\" transform=\"translate(786.5,7) rotate(270) translate(0,3)\" style=\"font-family: sans-serif; font-size: 10px; fill: #000; opacity: 1;\">Mascarpone Fabioli</text><text text-anchor=\"end\" transform=\"translate(807.5,7) rotate(270) translate(0,3)\" style=\"font-family: sans-serif; font-size: 10px; fill: #000; opacity: 1;\">Maxilaku</text><text text-anchor=\"end\" transform=\"translate(828.5,7) rotate(270) translate(0,3)\" style=\"font-family: sans-serif; font-size: 10px; fill: #000; opacity: 1;\">Mishi Kobe Niku</text><text text-anchor=\"end\" transform=\"translate(849.5,7) rotate(270) translate(0,3)\" style=\"font-family: sans-serif; font-size: 10px; fill: #000; opacity: 1;\">Mozzarella di Giovanni</text><text text-anchor=\"end\" transform=\"translate(870.5,7) rotate(270) translate(0,3)\" style=\"font-family: sans-serif; font-size: 10px; fill: #000; opacity: 1;\">Nord-Ost Matjeshering</text><text text-anchor=\"end\" transform=\"translate(891.5,7) rotate(270) translate(0,3)\" style=\"font-family: sans-serif; font-size: 10px; fill: #000; opacity: 1;\">Northwoods Cranberry …</text><text text-anchor=\"end\" transform=\"translate(912.5,7) rotate(270) translate(0,3)\" style=\"font-family: sans-serif; font-size: 10px; fill: #000; opacity: 1;\">NuNuCa Nuß-Nougat-Cre…</text><text text-anchor=\"end\" transform=\"translate(933.5,7) rotate(270) translate(0,3)\" style=\"font-family: sans-serif; font-size: 10px; fill: #000; opacity: 1;\">Original Frankfurter …</text><text text-anchor=\"end\" transform=\"translate(954.5,7) rotate(270) translate(0,3)\" style=\"font-family: sans-serif; font-size: 10px; fill: #000; opacity: 1;\">Outback Lager</text><text text-anchor=\"end\" transform=\"translate(975.5,7) rotate(270) translate(0,3)\" style=\"font-family: sans-serif; font-size: 10px; fill: #000; opacity: 1;\">Pavlova</text><text text-anchor=\"end\" transform=\"translate(996.5,7) rotate(270) translate(0,3)\" style=\"font-family: sans-serif; font-size: 10px; fill: #000; opacity: 1;\">Perth Pasties</text><text text-anchor=\"end\" transform=\"translate(1017.5,7) rotate(270) translate(0,3)\" style=\"font-family: sans-serif; font-size: 10px; fill: #000; opacity: 1;\">Pâté chinois</text><text text-anchor=\"end\" transform=\"translate(1038.5,7) rotate(270) translate(0,3)\" style=\"font-family: sans-serif; font-size: 10px; fill: #000; opacity: 1;\">Queso Cabrales</text><text text-anchor=\"end\" transform=\"translate(1059.5,7) rotate(270) translate(0,3)\" style=\"font-family: sans-serif; font-size: 10px; fill: #000; opacity: 1;\">Queso Manchego La Pas…</text><text text-anchor=\"end\" transform=\"translate(1080.5,7) rotate(270) translate(0,3)\" style=\"font-family: sans-serif; font-size: 10px; fill: #000; opacity: 1;\">Raclette Courdavault</text><text text-anchor=\"end\" transform=\"translate(1101.5,7) rotate(270) translate(0,3)\" style=\"font-family: sans-serif; font-size: 10px; fill: #000; opacity: 1;\">Ravioli Angelo</text><text text-anchor=\"end\" transform=\"translate(1122.5,7) rotate(270) translate(0,3)\" style=\"font-family: sans-serif; font-size: 10px; fill: #000; opacity: 1;\">Rhönbräu Klosterbier</text><text text-anchor=\"end\" transform=\"translate(1143.5,7) rotate(270) translate(0,3)\" style=\"font-family: sans-serif; font-size: 10px; fill: #000; opacity: 1;\">Röd Kaviar</text><text text-anchor=\"end\" transform=\"translate(1164.5,7) rotate(270) translate(0,3)\" style=\"font-family: sans-serif; font-size: 10px; fill: #000; opacity: 1;\">Rössle Sauerkraut</text><text text-anchor=\"end\" transform=\"translate(1185.5,7) rotate(270) translate(0,3)\" style=\"font-family: sans-serif; font-size: 10px; fill: #000; opacity: 1;\">Røgede sild</text><text text-anchor=\"end\" transform=\"translate(1206.5,7) rotate(270) translate(0,3)\" style=\"font-family: sans-serif; font-size: 10px; fill: #000; opacity: 1;\">Sasquatch Ale</text><text text-anchor=\"end\" transform=\"translate(1227.5,7) rotate(270) translate(0,3)\" style=\"font-family: sans-serif; font-size: 10px; fill: #000; opacity: 1;\">Schoggi Schokolade</text><text text-anchor=\"end\" transform=\"translate(1248.5,7) rotate(270) translate(0,3)\" style=\"font-family: sans-serif; font-size: 10px; fill: #000; opacity: 1;\">Scottish Longbreads</text><text text-anchor=\"end\" transform=\"translate(1269.5,7) rotate(270) translate(0,3)\" style=\"font-family: sans-serif; font-size: 10px; fill: #000; opacity: 1;\">Singaporean Hokkien F…</text><text text-anchor=\"end\" transform=\"translate(1290.5,7) rotate(270) translate(0,3)\" style=\"font-family: sans-serif; font-size: 10px; fill: #000; opacity: 1;\">Sir Rodney's Marmalade</text><text text-anchor=\"end\" transform=\"translate(1311.5,7) rotate(270) translate(0,3)\" style=\"font-family: sans-serif; font-size: 10px; fill: #000; opacity: 1;\">Sir Rodney's Scones</text><text text-anchor=\"end\" transform=\"translate(1332.5,7) rotate(270) translate(0,3)\" style=\"font-family: sans-serif; font-size: 10px; fill: #000; opacity: 1;\">Sirop d'érable</text><text text-anchor=\"end\" transform=\"translate(1353.5,7) rotate(270) translate(0,3)\" style=\"font-family: sans-serif; font-size: 10px; fill: #000; opacity: 1;\">Spegesild</text><text text-anchor=\"end\" transform=\"translate(1374.5,7) rotate(270) translate(0,3)\" style=\"font-family: sans-serif; font-size: 10px; fill: #000; opacity: 1;\">Steeleye Stout</text><text text-anchor=\"end\" transform=\"translate(1395.5,7) rotate(270) translate(0,3)\" style=\"font-family: sans-serif; font-size: 10px; fill: #000; opacity: 1;\">Tarte au sucre</text><text text-anchor=\"end\" transform=\"translate(1416.5,7) rotate(270) translate(0,3)\" style=\"font-family: sans-serif; font-size: 10px; fill: #000; opacity: 1;\">Teatime Chocolate Bis…</text><text text-anchor=\"end\" transform=\"translate(1437.5,7) rotate(270) translate(0,3)\" style=\"font-family: sans-serif; font-size: 10px; fill: #000; opacity: 1;\">Thüringer Rostbratwur…</text><text text-anchor=\"end\" transform=\"translate(1458.5,7) rotate(270) translate(0,3)\" style=\"font-family: sans-serif; font-size: 10px; fill: #000; opacity: 1;\">Tofu</text><text text-anchor=\"end\" transform=\"translate(1479.5,7) rotate(270) translate(0,3)\" style=\"font-family: sans-serif; font-size: 10px; fill: #000; opacity: 1;\">Tourtière</text><text text-anchor=\"end\" transform=\"translate(1500.5,7) rotate(270) translate(0,3)\" style=\"font-family: sans-serif; font-size: 10px; fill: #000; opacity: 1;\">Tunnbröd</text><text text-anchor=\"end\" transform=\"translate(1521.5,7) rotate(270) translate(0,3)\" style=\"font-family: sans-serif; font-size: 10px; fill: #000; opacity: 1;\">Uncle Bob's Organic D…</text><text text-anchor=\"end\" transform=\"translate(1542.5,7) rotate(270) translate(0,3)\" style=\"font-family: sans-serif; font-size: 10px; fill: #000; opacity: 1;\">Valkoinen suklaa</text><text text-anchor=\"end\" transform=\"translate(1563.5,7) rotate(270) translate(0,3)\" style=\"font-family: sans-serif; font-size: 10px; fill: #000; opacity: 1;\">Vegie-spread</text><text text-anchor=\"end\" transform=\"translate(1584.5,7) rotate(270) translate(0,3)\" style=\"font-family: sans-serif; font-size: 10px; fill: #000; opacity: 1;\">Wimmers gute Semmelkn…</text><text text-anchor=\"end\" transform=\"translate(1605.5,7) rotate(270) translate(0,3)\" style=\"font-family: sans-serif; font-size: 10px; fill: #000; opacity: 1;\">Zaanse koeken</text></g><g class=\"mark-rule role-axis-domain\" style=\"pointer-events: none;\"><line transform=\"translate(0,0)\" x2=\"1617\" y2=\"0\" style=\"fill: none; stroke: #888; stroke-width: 1; opacity: 1;\"></line></g><g class=\"mark-text role-axis-title\" style=\"pointer-events: none;\"><text text-anchor=\"middle\" transform=\"translate(808.5,197)\" style=\"font-family: sans-serif; font-size: 11px; font-weight: bold; fill: #000; opacity: 1;\">ProductName</text></g></g></g></g><g class=\"mark-group role-axis\"><g transform=\"translate(0.5,0.5)\"><path class=\"background\" d=\"M0,0h0v0h0Z\" style=\"pointer-events: none; fill: none;\"></path><g><g class=\"mark-rule role-axis-tick\" style=\"pointer-events: none;\"><line transform=\"translate(0,200)\" x2=\"-5\" y2=\"0\" style=\"fill: none; stroke: #888; stroke-width: 1; opacity: 1;\"></line><line transform=\"translate(0,160)\" x2=\"-5\" y2=\"0\" style=\"fill: none; stroke: #888; stroke-width: 1; opacity: 1;\"></line><line transform=\"translate(0,120)\" x2=\"-5\" y2=\"0\" style=\"fill: none; stroke: #888; stroke-width: 1; opacity: 1;\"></line><line transform=\"translate(0,80)\" x2=\"-5\" y2=\"0\" style=\"fill: none; stroke: #888; stroke-width: 1; opacity: 1;\"></line><line transform=\"translate(0,40)\" x2=\"-5\" y2=\"0\" style=\"fill: none; stroke: #888; stroke-width: 1; opacity: 1;\"></line><line transform=\"translate(0,0)\" x2=\"-5\" y2=\"0\" style=\"fill: none; stroke: #888; stroke-width: 1; opacity: 1;\"></line></g><g class=\"mark-text role-axis-label\" style=\"pointer-events: none;\"><text text-anchor=\"end\" transform=\"translate(-7,203)\" style=\"font-family: sans-serif; font-size: 10px; fill: #000; opacity: 1;\">0</text><text text-anchor=\"end\" transform=\"translate(-7,163)\" style=\"font-family: sans-serif; font-size: 10px; fill: #000; opacity: 1;\">100</text><text text-anchor=\"end\" transform=\"translate(-7,123)\" style=\"font-family: sans-serif; font-size: 10px; fill: #000; opacity: 1;\">200</text><text text-anchor=\"end\" transform=\"translate(-7,83)\" style=\"font-family: sans-serif; font-size: 10px; fill: #000; opacity: 1;\">300</text><text text-anchor=\"end\" transform=\"translate(-7,43)\" style=\"font-family: sans-serif; font-size: 10px; fill: #000; opacity: 1;\">400</text><text text-anchor=\"end\" transform=\"translate(-7,3)\" style=\"font-family: sans-serif; font-size: 10px; fill: #000; opacity: 1;\">500</text></g><g class=\"mark-rule role-axis-domain\" style=\"pointer-events: none;\"><line transform=\"translate(0,200)\" x2=\"0\" y2=\"-200\" style=\"fill: none; stroke: #888; stroke-width: 1; opacity: 1;\"></line></g><g class=\"mark-text role-axis-title\" style=\"pointer-events: none;\"><text text-anchor=\"middle\" transform=\"translate(-36,100) rotate(-90) translate(0,-2)\" style=\"font-family: sans-serif; font-size: 11px; font-weight: bold; fill: #000; opacity: 1;\">Total_Qty</text></g></g></g></g></g></g></g></g></svg>"
      ],
      "text/plain": [
       "VegaLite.VLSpec{:plot}"
      ]
     },
     "execution_count": 249,
     "metadata": {},
     "output_type": "execute_result"
    }
   ],
   "source": [
    "Prod |> @vlplot(:bar, x=:ProductName, y=:Total_Qty)"
   ]
  },
  {
   "cell_type": "markdown",
   "metadata": {},
   "source": [
    "#### Top 10 revenue generating products in the Fiscal Year"
   ]
  },
  {
   "cell_type": "code",
   "execution_count": 250,
   "metadata": {},
   "outputs": [
    {
     "data": {
      "text/html": [
       "<table class=\"data-frame\"><thead><tr><th></th><th>ProductName</th><th>sales</th></tr><tr><th></th><th>String⍰</th><th>Float64⍰</th></tr></thead><tbody><p>10 rows × 2 columns</p><tr><th>1</th><td>Côte de Blaye</td><td>36890.0</td></tr><tr><th>2</th><td>Thüringer Rostbratwurst</td><td>15226.2</td></tr><tr><th>3</th><td>Raclette Courdavault</td><td>12705.0</td></tr><tr><th>4</th><td>Camembert Pierrot</td><td>12580.0</td></tr><tr><th>5</th><td>Tarte au sucre</td><td>12325.0</td></tr><tr><th>6</th><td>Alice Mutton</td><td>9126.0</td></tr><tr><th>7</th><td>Mozzarella di Giovanni</td><td>9048.0</td></tr><tr><th>8</th><td>Manjimup Dried Apples</td><td>8639.0</td></tr><tr><th>9</th><td>Sir Rodney's Marmalade</td><td>8586.0</td></tr><tr><th>10</th><td>Perth Pasties</td><td>6920.8</td></tr></tbody></table>"
      ],
      "text/latex": [
       "\\begin{tabular}{r|cc}\n",
       "\t& ProductName & sales\\\\\n",
       "\t\\hline\n",
       "\t& String⍰ & Float64⍰\\\\\n",
       "\t\\hline\n",
       "\t1 & Côte de Blaye & 36890.0 \\\\\n",
       "\t2 & Thüringer Rostbratwurst & 15226.2 \\\\\n",
       "\t3 & Raclette Courdavault & 12705.0 \\\\\n",
       "\t4 & Camembert Pierrot & 12580.0 \\\\\n",
       "\t5 & Tarte au sucre & 12325.0 \\\\\n",
       "\t6 & Alice Mutton & 9126.0 \\\\\n",
       "\t7 & Mozzarella di Giovanni & 9048.0 \\\\\n",
       "\t8 & Manjimup Dried Apples & 8639.0 \\\\\n",
       "\t9 & Sir Rodney's Marmalade & 8586.0 \\\\\n",
       "\t10 & Perth Pasties & 6920.8 \\\\\n",
       "\\end{tabular}\n"
      ],
      "text/plain": [
       "10×2 DataFrame\n",
       "│ Row │ ProductName             │ sales    │\n",
       "│     │ \u001b[90mUnion{Missing, String}\u001b[39m  │ \u001b[90mFloat64⍰\u001b[39m │\n",
       "├─────┼─────────────────────────┼──────────┤\n",
       "│ 1   │ Côte de Blaye           │ 36890.0  │\n",
       "│ 2   │ Thüringer Rostbratwurst │ 15226.2  │\n",
       "│ 3   │ Raclette Courdavault    │ 12705.0  │\n",
       "│ 4   │ Camembert Pierrot       │ 12580.0  │\n",
       "│ 5   │ Tarte au sucre          │ 12325.0  │\n",
       "│ 6   │ Alice Mutton            │ 9126.0   │\n",
       "│ 7   │ Mozzarella di Giovanni  │ 9048.0   │\n",
       "│ 8   │ Manjimup Dried Apples   │ 8639.0   │\n",
       "│ 9   │ Sir Rodney's Marmalade  │ 8586.0   │\n",
       "│ 10  │ Perth Pasties           │ 6920.8   │"
      ]
     },
     "execution_count": 250,
     "metadata": {},
     "output_type": "execute_result"
    }
   ],
   "source": [
    "TopTenProd = DataFrame(SQLite.Query(acme,\"\"\"select productname, sum(price*quantity) as sales\n",
    "from product join orderitem on product.productid = orderitem.productid\n",
    "        join orders on orderitem.orderid = orders.orderid\n",
    "        where orderdate between '1996-07-04' and '1996-12-31'\n",
    "        group by productname\n",
    "        order by sales desc\n",
    "        limit 10\"\"\"\n",
    "))    "
   ]
  },
  {
   "cell_type": "code",
   "execution_count": 251,
   "metadata": {},
   "outputs": [
    {
     "data": {
      "application/vnd.vegalite.v2+json": {
       "data": {
        "values": [
         {
          "ProductName": "Côte de Blaye",
          "sales": 36890
         },
         {
          "ProductName": "Thüringer Rostbratwurst",
          "sales": 15226.17
         },
         {
          "ProductName": "Raclette Courdavault",
          "sales": 12705
         },
         {
          "ProductName": "Camembert Pierrot",
          "sales": 12580
         },
         {
          "ProductName": "Tarte au sucre",
          "sales": 12325
         },
         {
          "ProductName": "Alice Mutton",
          "sales": 9126
         },
         {
          "ProductName": "Mozzarella di Giovanni",
          "sales": 9048
         },
         {
          "ProductName": "Manjimup Dried Apples",
          "sales": 8639
         },
         {
          "ProductName": "Sir Rodney's Marmalade",
          "sales": 8586
         },
         {
          "ProductName": "Perth Pasties",
          "sales": 6920.8
         }
        ]
       },
       "encoding": {
        "x": {
         "field": "ProductName",
         "type": "nominal"
        },
        "y": {
         "field": "sales",
         "type": "quantitative"
        }
       },
       "mark": "bar"
      },
      "image/png": "[encoded data removed]",
      "image/svg+xml": [
       "<?xml version=\"1.0\" encoding=\"utf-8\"?>\n",
       "<!DOCTYPE svg PUBLIC \"-//W3C//DTD SVG 1.1//EN\" \"http://www.w3.org/Graphics/SVG/1.1/DTD/svg11.dtd\">\n",
       "<svg class=\"marks\" width=\"293\" height=\"417\" viewBox=\"0 0 293 417\" version=\"1.1\" xmlns=\"http://www.w3.org/2000/svg\" xmlns:xlink=\"http://www.w3.org/1999/xlink\"><g transform=\"translate(78,11)\"><g class=\"mark-group role-frame root\"><g transform=\"translate(0,0)\"><path class=\"background\" d=\"M0.5,0.5h210v200h-210Z\" style=\"fill: none; stroke: #ddd;\"></path><g><g class=\"mark-group role-axis\"><g transform=\"translate(0.5,0.5)\"><path class=\"background\" d=\"M0,0h0v0h0Z\" style=\"pointer-events: none; fill: none;\"></path><g><g class=\"mark-rule role-axis-grid\" style=\"pointer-events: none;\"><line transform=\"translate(0,200)\" x2=\"210\" y2=\"0\" style=\"fill: none; stroke: #ddd; stroke-width: 1; opacity: 1;\"></line><line transform=\"translate(0,150)\" x2=\"210\" y2=\"0\" style=\"fill: none; stroke: #ddd; stroke-width: 1; opacity: 1;\"></line><line transform=\"translate(0,100)\" x2=\"210\" y2=\"0\" style=\"fill: none; stroke: #ddd; stroke-width: 1; opacity: 1;\"></line><line transform=\"translate(0,50)\" x2=\"210\" y2=\"0\" style=\"fill: none; stroke: #ddd; stroke-width: 1; opacity: 1;\"></line><line transform=\"translate(0,0)\" x2=\"210\" y2=\"0\" style=\"fill: none; stroke: #ddd; stroke-width: 1; opacity: 1;\"></line></g></g></g></g><g class=\"mark-rect role-mark marks\"><path d=\"M43.05,15.550000000000011h18.900000000000002v184.45h-18.900000000000002Z\" style=\"fill: #4c78a8;\"></path><path d=\"M190.05,123.86914999999999h18.900000000000002v76.13085000000001h-18.900000000000002Z\" style=\"fill: #4c78a8;\"></path><path d=\"M127.05,136.475h18.900000000000002v63.525000000000006h-18.900000000000002Z\" style=\"fill: #4c78a8;\"></path><path d=\"M22.049999999999997,137.1h18.900000000000002v62.900000000000006h-18.900000000000002Z\" style=\"fill: #4c78a8;\"></path><path d=\"M169.05,138.375h18.900000000000002v61.625h-18.900000000000002Z\" style=\"fill: #4c78a8;\"></path><path d=\"M1.0499999999999972,154.37h18.900000000000002v45.629999999999995h-18.900000000000002Z\" style=\"fill: #4c78a8;\"></path><path d=\"M85.05,154.76h18.900000000000002v45.24000000000001h-18.900000000000002Z\" style=\"fill: #4c78a8;\"></path><path d=\"M64.05,156.805h18.900000000000002v43.19499999999999h-18.900000000000002Z\" style=\"fill: #4c78a8;\"></path><path d=\"M148.05,157.07h18.900000000000002v42.93000000000001h-18.900000000000002Z\" style=\"fill: #4c78a8;\"></path><path d=\"M106.05,165.39600000000002h18.900000000000002v34.603999999999985h-18.900000000000002Z\" style=\"fill: #4c78a8;\"></path></g><g class=\"mark-group role-axis\"><g transform=\"translate(0.5,200.5)\"><path class=\"background\" d=\"M0,0h0v0h0Z\" style=\"pointer-events: none; fill: none;\"></path><g><g class=\"mark-rule role-axis-tick\" style=\"pointer-events: none;\"><line transform=\"translate(9,0)\" x2=\"0\" y2=\"5\" style=\"fill: none; stroke: #888; stroke-width: 1; opacity: 1;\"></line><line transform=\"translate(31,0)\" x2=\"0\" y2=\"5\" style=\"fill: none; stroke: #888; stroke-width: 1; opacity: 1;\"></line><line transform=\"translate(52,0)\" x2=\"0\" y2=\"5\" style=\"fill: none; stroke: #888; stroke-width: 1; opacity: 1;\"></line><line transform=\"translate(73,0)\" x2=\"0\" y2=\"5\" style=\"fill: none; stroke: #888; stroke-width: 1; opacity: 1;\"></line><line transform=\"translate(94,0)\" x2=\"0\" y2=\"5\" style=\"fill: none; stroke: #888; stroke-width: 1; opacity: 1;\"></line><line transform=\"translate(115,0)\" x2=\"0\" y2=\"5\" style=\"fill: none; stroke: #888; stroke-width: 1; opacity: 1;\"></line><line transform=\"translate(136,0)\" x2=\"0\" y2=\"5\" style=\"fill: none; stroke: #888; stroke-width: 1; opacity: 1;\"></line><line transform=\"translate(157,0)\" x2=\"0\" y2=\"5\" style=\"fill: none; stroke: #888; stroke-width: 1; opacity: 1;\"></line><line transform=\"translate(178,0)\" x2=\"0\" y2=\"5\" style=\"fill: none; stroke: #888; stroke-width: 1; opacity: 1;\"></line><line transform=\"translate(199,0)\" x2=\"0\" y2=\"5\" style=\"fill: none; stroke: #888; stroke-width: 1; opacity: 1;\"></line></g><g class=\"mark-text role-axis-label\" style=\"pointer-events: none;\"><text text-anchor=\"end\" transform=\"translate(9.499999999999998,7) rotate(270) translate(0,3)\" style=\"font-family: sans-serif; font-size: 10px; fill: #000; opacity: 1;\">Alice Mutton</text><text text-anchor=\"end\" transform=\"translate(30.5,7) rotate(270) translate(0,3)\" style=\"font-family: sans-serif; font-size: 10px; fill: #000; opacity: 1;\">Camembert Pierrot</text><text text-anchor=\"end\" transform=\"translate(51.5,7) rotate(270) translate(0,3)\" style=\"font-family: sans-serif; font-size: 10px; fill: #000; opacity: 1;\">Côte de Blaye</text><text text-anchor=\"end\" transform=\"translate(72.5,7) rotate(270) translate(0,3)\" style=\"font-family: sans-serif; font-size: 10px; fill: #000; opacity: 1;\">Manjimup Dried Apples</text><text text-anchor=\"end\" transform=\"translate(93.5,7) rotate(270) translate(0,3)\" style=\"font-family: sans-serif; font-size: 10px; fill: #000; opacity: 1;\">Mozzarella di Giovanni</text><text text-anchor=\"end\" transform=\"translate(114.5,7) rotate(270) translate(0,3)\" style=\"font-family: sans-serif; font-size: 10px; fill: #000; opacity: 1;\">Perth Pasties</text><text text-anchor=\"end\" transform=\"translate(135.5,7) rotate(270) translate(0,3)\" style=\"font-family: sans-serif; font-size: 10px; fill: #000; opacity: 1;\">Raclette Courdavault</text><text text-anchor=\"end\" transform=\"translate(156.5,7) rotate(270) translate(0,3)\" style=\"font-family: sans-serif; font-size: 10px; fill: #000; opacity: 1;\">Sir Rodney's Marmalade</text><text text-anchor=\"end\" transform=\"translate(177.5,7) rotate(270) translate(0,3)\" style=\"font-family: sans-serif; font-size: 10px; fill: #000; opacity: 1;\">Tarte au sucre</text><text text-anchor=\"end\" transform=\"translate(198.5,7) rotate(270) translate(0,3)\" style=\"font-family: sans-serif; font-size: 10px; fill: #000; opacity: 1;\">Thüringer Rostbratwur…</text></g><g class=\"mark-rule role-axis-domain\" style=\"pointer-events: none;\"><line transform=\"translate(0,0)\" x2=\"210\" y2=\"0\" style=\"fill: none; stroke: #888; stroke-width: 1; opacity: 1;\"></line></g><g class=\"mark-text role-axis-title\" style=\"pointer-events: none;\"><text text-anchor=\"middle\" transform=\"translate(105,197)\" style=\"font-family: sans-serif; font-size: 11px; font-weight: bold; fill: #000; opacity: 1;\">ProductName</text></g></g></g></g><g class=\"mark-group role-axis\"><g transform=\"translate(0.5,0.5)\"><path class=\"background\" d=\"M0,0h0v0h0Z\" style=\"pointer-events: none; fill: none;\"></path><g><g class=\"mark-rule role-axis-tick\" style=\"pointer-events: none;\"><line transform=\"translate(0,200)\" x2=\"-5\" y2=\"0\" style=\"fill: none; stroke: #888; stroke-width: 1; opacity: 1;\"></line><line transform=\"translate(0,150)\" x2=\"-5\" y2=\"0\" style=\"fill: none; stroke: #888; stroke-width: 1; opacity: 1;\"></line><line transform=\"translate(0,100)\" x2=\"-5\" y2=\"0\" style=\"fill: none; stroke: #888; stroke-width: 1; opacity: 1;\"></line><line transform=\"translate(0,50)\" x2=\"-5\" y2=\"0\" style=\"fill: none; stroke: #888; stroke-width: 1; opacity: 1;\"></line><line transform=\"translate(0,0)\" x2=\"-5\" y2=\"0\" style=\"fill: none; stroke: #888; stroke-width: 1; opacity: 1;\"></line></g><g class=\"mark-text role-axis-label\" style=\"pointer-events: none;\"><text text-anchor=\"end\" transform=\"translate(-7,203)\" style=\"font-family: sans-serif; font-size: 10px; fill: #000; opacity: 1;\">0</text><text text-anchor=\"end\" transform=\"translate(-7,153)\" style=\"font-family: sans-serif; font-size: 10px; fill: #000; opacity: 1;\">10,000</text><text text-anchor=\"end\" transform=\"translate(-7,103)\" style=\"font-family: sans-serif; font-size: 10px; fill: #000; opacity: 1;\">20,000</text><text text-anchor=\"end\" transform=\"translate(-7,53)\" style=\"font-family: sans-serif; font-size: 10px; fill: #000; opacity: 1;\">30,000</text><text text-anchor=\"end\" transform=\"translate(-7,3)\" style=\"font-family: sans-serif; font-size: 10px; fill: #000; opacity: 1;\">40,000</text></g><g class=\"mark-rule role-axis-domain\" style=\"pointer-events: none;\"><line transform=\"translate(0,200)\" x2=\"0\" y2=\"-200\" style=\"fill: none; stroke: #888; stroke-width: 1; opacity: 1;\"></line></g><g class=\"mark-text role-axis-title\" style=\"pointer-events: none;\"><text text-anchor=\"middle\" transform=\"translate(-60,100) rotate(-90) translate(0,-2)\" style=\"font-family: sans-serif; font-size: 11px; font-weight: bold; fill: #000; opacity: 1;\">sales</text></g></g></g></g></g></g></g></g></svg>"
      ],
      "text/plain": [
       "VegaLite.VLSpec{:plot}"
      ]
     },
     "execution_count": 251,
     "metadata": {},
     "output_type": "execute_result"
    }
   ],
   "source": [
    "TopTenProd |> @vlplot(:bar, x=:ProductName, y=:sales)"
   ]
  },
  {
   "cell_type": "markdown",
   "metadata": {},
   "source": [
    "#### Products that have not been ordered in the past three months as measured from Fiscal Year End"
   ]
  },
  {
   "cell_type": "code",
   "execution_count": 233,
   "metadata": {},
   "outputs": [
    {
     "data": {
      "text/html": [
       "<table class=\"data-frame\"><thead><tr><th></th><th>ProductID</th><th>ProductName</th></tr><tr><th></th><th>Int64⍰</th><th>String⍰</th></tr></thead><tbody><p>19 rows × 2 columns</p><tr><th>1</th><td>4</td><td>Chef Anton's Cajun Seasoning</td></tr><tr><th>2</th><td>5</td><td>Chef Anton's Gumbo Mix</td></tr><tr><th>3</th><td>6</td><td>Grandma's Boysenberry Spread</td></tr><tr><th>4</th><td>7</td><td>Uncle Bob's Organic Dried Pears</td></tr><tr><th>5</th><td>8</td><td>Northwoods Cranberry Sauce</td></tr><tr><th>6</th><td>10</td><td>Ikura</td></tr><tr><th>7</th><td>15</td><td>Genen Shouyu</td></tr><tr><th>8</th><td>18</td><td>Carnarvon Tigers</td></tr><tr><th>9</th><td>20</td><td>Sir Rodney's Marmalade</td></tr><tr><th>10</th><td>24</td><td>Guaraná Fantástica</td></tr><tr><th>11</th><td>25</td><td>NuNuCa Nuß-Nougat-Creme</td></tr><tr><th>12</th><td>32</td><td>Mascarpone Fabioli</td></tr><tr><th>13</th><td>39</td><td>Chartreuse verte</td></tr><tr><th>14</th><td>43</td><td>Ipoh Coffee</td></tr><tr><th>15</th><td>45</td><td>Røgede sild</td></tr><tr><th>16</th><td>51</td><td>Manjimup Dried Apples</td></tr><tr><th>17</th><td>52</td><td>Filo Mix</td></tr><tr><th>18</th><td>58</td><td>Escargots de Bourgogne</td></tr><tr><th>19</th><td>67</td><td>Laughing Lumberjack Lager</td></tr></tbody></table>"
      ],
      "text/latex": [
       "\\begin{tabular}{r|cc}\n",
       "\t& ProductID & ProductName\\\\\n",
       "\t\\hline\n",
       "\t& Int64⍰ & String⍰\\\\\n",
       "\t\\hline\n",
       "\t1 & 4 & Chef Anton's Cajun Seasoning \\\\\n",
       "\t2 & 5 & Chef Anton's Gumbo Mix \\\\\n",
       "\t3 & 6 & Grandma's Boysenberry Spread \\\\\n",
       "\t4 & 7 & Uncle Bob's Organic Dried Pears \\\\\n",
       "\t5 & 8 & Northwoods Cranberry Sauce \\\\\n",
       "\t6 & 10 & Ikura \\\\\n",
       "\t7 & 15 & Genen Shouyu \\\\\n",
       "\t8 & 18 & Carnarvon Tigers \\\\\n",
       "\t9 & 20 & Sir Rodney's Marmalade \\\\\n",
       "\t10 & 24 & Guaraná Fantástica \\\\\n",
       "\t11 & 25 & NuNuCa Nuß-Nougat-Creme \\\\\n",
       "\t12 & 32 & Mascarpone Fabioli \\\\\n",
       "\t13 & 39 & Chartreuse verte \\\\\n",
       "\t14 & 43 & Ipoh Coffee \\\\\n",
       "\t15 & 45 & Røgede sild \\\\\n",
       "\t16 & 51 & Manjimup Dried Apples \\\\\n",
       "\t17 & 52 & Filo Mix \\\\\n",
       "\t18 & 58 & Escargots de Bourgogne \\\\\n",
       "\t19 & 67 & Laughing Lumberjack Lager \\\\\n",
       "\\end{tabular}\n"
      ],
      "text/plain": [
       "19×2 DataFrame\n",
       "│ Row │ ProductID │ ProductName                     │\n",
       "│     │ \u001b[90mInt64⍰\u001b[39m    │ \u001b[90mUnion{Missing, String}\u001b[39m          │\n",
       "├─────┼───────────┼─────────────────────────────────┤\n",
       "│ 1   │ 4         │ Chef Anton's Cajun Seasoning    │\n",
       "│ 2   │ 5         │ Chef Anton's Gumbo Mix          │\n",
       "│ 3   │ 6         │ Grandma's Boysenberry Spread    │\n",
       "│ 4   │ 7         │ Uncle Bob's Organic Dried Pears │\n",
       "│ 5   │ 8         │ Northwoods Cranberry Sauce      │\n",
       "│ 6   │ 10        │ Ikura                           │\n",
       "│ 7   │ 15        │ Genen Shouyu                    │\n",
       "│ 8   │ 18        │ Carnarvon Tigers                │\n",
       "│ 9   │ 20        │ Sir Rodney's Marmalade          │\n",
       "│ 10  │ 24        │ Guaraná Fantástica              │\n",
       "│ 11  │ 25        │ NuNuCa Nuß-Nougat-Creme         │\n",
       "│ 12  │ 32        │ Mascarpone Fabioli              │\n",
       "│ 13  │ 39        │ Chartreuse verte                │\n",
       "│ 14  │ 43        │ Ipoh Coffee                     │\n",
       "│ 15  │ 45        │ Røgede sild                     │\n",
       "│ 16  │ 51        │ Manjimup Dried Apples           │\n",
       "│ 17  │ 52        │ Filo Mix                        │\n",
       "│ 18  │ 58        │ Escargots de Bourgogne          │\n",
       "│ 19  │ 67        │ Laughing Lumberjack Lager       │"
      ]
     },
     "execution_count": 233,
     "metadata": {},
     "output_type": "execute_result"
    }
   ],
   "source": [
    "DataFrame(SQLite.Query(acme,\"\"\"SELECT ProductID, ProductName\n",
    "FROM Product\n",
    "WHERE ProductID NOT IN (\n",
    "    SELECT DISTINCT Product.ProductID\n",
    "    FROM Product\n",
    "    INNER JOIN Orderitem ON Product.ProductId = Orderitem.ProductId\n",
    "    INNER JOIN Orders ON Orders.OrderId = Orderitem.OrderId\n",
    "    WHERE Orders.OrderDate BETWEEN '1996/09/30' AND '1997/01/01'\n",
    ")\"\"\"))     "
   ]
  },
  {
   "cell_type": "markdown",
   "metadata": {},
   "source": [
    "## 3.\tCustomer Analysis\n",
    "#### Fiscal year Revenue by customer’s Country"
   ]
  },
  {
   "cell_type": "code",
   "execution_count": 255,
   "metadata": {},
   "outputs": [
    {
     "data": {
      "text/html": [
       "<table class=\"data-frame\"><thead><tr><th></th><th>Country</th><th>Revenue</th></tr><tr><th></th><th>String⍰</th><th>Float64⍰</th></tr></thead><tbody><p>20 rows × 2 columns</p><tr><th>1</th><td>USA</td><td>59432.4</td></tr><tr><th>2</th><td>Germany</td><td>42770.3</td></tr><tr><th>3</th><td>Austria</td><td>36714.8</td></tr><tr><th>4</th><td>Brazil</td><td>32154.9</td></tr><tr><th>5</th><td>France</td><td>21499.4</td></tr><tr><th>6</th><td>UK</td><td>15905.8</td></tr><tr><th>7</th><td>Ireland</td><td>13204.5</td></tr><tr><th>8</th><td>Venezuela</td><td>13056.3</td></tr><tr><th>9</th><td>Canada</td><td>9939.4</td></tr><tr><th>10</th><td>Sweden</td><td>9270.8</td></tr><tr><th>11</th><td>Belgium</td><td>8051.3</td></tr><tr><th>12</th><td>Mexico</td><td>5861.56</td></tr><tr><th>13</th><td>Switzerland</td><td>5364.75</td></tr><tr><th>14</th><td>Finland</td><td>4579.5</td></tr><tr><th>15</th><td>Spain</td><td>3879.44</td></tr><tr><th>16</th><td>Denmark</td><td>3766.85</td></tr><tr><th>17</th><td>Portugal</td><td>3106.0</td></tr><tr><th>18</th><td>Norway</td><td>1323.6</td></tr><tr><th>19</th><td>Italy</td><td>1256.0</td></tr><tr><th>20</th><td>Poland</td><td>573.75</td></tr></tbody></table>"
      ],
      "text/latex": [
       "\\begin{tabular}{r|cc}\n",
       "\t& Country & Revenue\\\\\n",
       "\t\\hline\n",
       "\t& String⍰ & Float64⍰\\\\\n",
       "\t\\hline\n",
       "\t1 & USA & 59432.4 \\\\\n",
       "\t2 & Germany & 42770.3 \\\\\n",
       "\t3 & Austria & 36714.8 \\\\\n",
       "\t4 & Brazil & 32154.9 \\\\\n",
       "\t5 & France & 21499.4 \\\\\n",
       "\t6 & UK & 15905.8 \\\\\n",
       "\t7 & Ireland & 13204.5 \\\\\n",
       "\t8 & Venezuela & 13056.3 \\\\\n",
       "\t9 & Canada & 9939.4 \\\\\n",
       "\t10 & Sweden & 9270.8 \\\\\n",
       "\t11 & Belgium & 8051.3 \\\\\n",
       "\t12 & Mexico & 5861.56 \\\\\n",
       "\t13 & Switzerland & 5364.75 \\\\\n",
       "\t14 & Finland & 4579.5 \\\\\n",
       "\t15 & Spain & 3879.44 \\\\\n",
       "\t16 & Denmark & 3766.85 \\\\\n",
       "\t17 & Portugal & 3106.0 \\\\\n",
       "\t18 & Norway & 1323.6 \\\\\n",
       "\t19 & Italy & 1256.0 \\\\\n",
       "\t20 & Poland & 573.75 \\\\\n",
       "\\end{tabular}\n"
      ],
      "text/plain": [
       "20×2 DataFrame\n",
       "│ Row │ Country     │ Revenue  │\n",
       "│     │ \u001b[90mString⍰\u001b[39m     │ \u001b[90mFloat64⍰\u001b[39m │\n",
       "├─────┼─────────────┼──────────┤\n",
       "│ 1   │ USA         │ 59432.4  │\n",
       "│ 2   │ Germany     │ 42770.3  │\n",
       "│ 3   │ Austria     │ 36714.8  │\n",
       "│ 4   │ Brazil      │ 32154.9  │\n",
       "│ 5   │ France      │ 21499.4  │\n",
       "│ 6   │ UK          │ 15905.8  │\n",
       "│ 7   │ Ireland     │ 13204.5  │\n",
       "│ 8   │ Venezuela   │ 13056.3  │\n",
       "│ 9   │ Canada      │ 9939.4   │\n",
       "│ 10  │ Sweden      │ 9270.8   │\n",
       "│ 11  │ Belgium     │ 8051.3   │\n",
       "│ 12  │ Mexico      │ 5861.56  │\n",
       "│ 13  │ Switzerland │ 5364.75  │\n",
       "│ 14  │ Finland     │ 4579.5   │\n",
       "│ 15  │ Spain       │ 3879.44  │\n",
       "│ 16  │ Denmark     │ 3766.85  │\n",
       "│ 17  │ Portugal    │ 3106.0   │\n",
       "│ 18  │ Norway      │ 1323.6   │\n",
       "│ 19  │ Italy       │ 1256.0   │\n",
       "│ 20  │ Poland      │ 573.75   │"
      ]
     },
     "execution_count": 255,
     "metadata": {},
     "output_type": "execute_result"
    }
   ],
   "source": [
    "CustomerCountry = DataFrame(SQLite.Query(acme,\"\"\"select country, sum(price*quantity) as Revenue\n",
    "        from customer inner join orders on customer.customerid = orders.customerid\n",
    "        inner join orderitem on orders.orderid = orderitem.orderid\n",
    "        inner join product on orderitem.productid = product.productid\n",
    "        where orderdate <= '1997-01-01'\n",
    "        group by country\n",
    "        order by Revenue desc\"\"\"))"
   ]
  },
  {
   "cell_type": "code",
   "execution_count": 256,
   "metadata": {},
   "outputs": [
    {
     "data": {
      "application/vnd.vegalite.v2+json": {
       "data": {
        "values": [
         {
          "Country": "USA",
          "Revenue": 59432.44
         },
         {
          "Country": "Germany",
          "Revenue": 42770.32
         },
         {
          "Country": "Austria",
          "Revenue": 36714.759999999995
         },
         {
          "Country": "Brazil",
          "Revenue": 32154.949999999997
         },
         {
          "Country": "France",
          "Revenue": 21499.449999999997
         },
         {
          "Country": "UK",
          "Revenue": 15905.79
         },
         {
          "Country": "Ireland",
          "Revenue": 13204.52
         },
         {
          "Country": "Venezuela",
          "Revenue": 13056.28
         },
         {
          "Country": "Canada",
          "Revenue": 9939.4
         },
         {
          "Country": "Sweden",
          "Revenue": 9270.8
         },
         {
          "Country": "Belgium",
          "Revenue": 8051.3
         },
         {
          "Country": "Mexico",
          "Revenue": 5861.5599999999995
         },
         {
          "Country": "Switzerland",
          "Revenue": 5364.75
         },
         {
          "Country": "Finland",
          "Revenue": 4579.5
         },
         {
          "Country": "Spain",
          "Revenue": 3879.44
         },
         {
          "Country": "Denmark",
          "Revenue": 3766.85
         },
         {
          "Country": "Portugal",
          "Revenue": 3106
         },
         {
          "Country": "Norway",
          "Revenue": 1323.6
         },
         {
          "Country": "Italy",
          "Revenue": 1256
         },
         {
          "Country": "Poland",
          "Revenue": 573.75
         }
        ]
       },
       "encoding": {
        "x": {
         "field": "Country",
         "type": "nominal"
        },
        "y": {
         "field": "Revenue",
         "type": "quantitative"
        }
       },
       "mark": "bar"
      },
      "image/png": "[encoded data removed]",
      "image/svg+xml": [
       "<?xml version=\"1.0\" encoding=\"utf-8\"?>\n",
       "<!DOCTYPE svg PUBLIC \"-//W3C//DTD SVG 1.1//EN\" \"http://www.w3.org/Graphics/SVG/1.1/DTD/svg11.dtd\">\n",
       "<svg class=\"marks\" width=\"503\" height=\"329\" viewBox=\"0 0 503 329\" version=\"1.1\" xmlns=\"http://www.w3.org/2000/svg\" xmlns:xlink=\"http://www.w3.org/1999/xlink\"><g transform=\"translate(78,11)\"><g class=\"mark-group role-frame root\"><g transform=\"translate(0,0)\"><path class=\"background\" d=\"M0.5,0.5h420v200h-420Z\" style=\"fill: none; stroke: #ddd;\"></path><g><g class=\"mark-group role-axis\"><g transform=\"translate(0.5,0.5)\"><path class=\"background\" d=\"M0,0h0v0h0Z\" style=\"pointer-events: none; fill: none;\"></path><g><g class=\"mark-rule role-axis-grid\" style=\"pointer-events: none;\"><line transform=\"translate(0,200)\" x2=\"420\" y2=\"0\" style=\"fill: none; stroke: #ddd; stroke-width: 1; opacity: 1;\"></line><line transform=\"translate(0,167)\" x2=\"420\" y2=\"0\" style=\"fill: none; stroke: #ddd; stroke-width: 1; opacity: 1;\"></line><line transform=\"translate(0,133)\" x2=\"420\" y2=\"0\" style=\"fill: none; stroke: #ddd; stroke-width: 1; opacity: 1;\"></line><line transform=\"translate(0,100)\" x2=\"420\" y2=\"0\" style=\"fill: none; stroke: #ddd; stroke-width: 1; opacity: 1;\"></line><line transform=\"translate(0,67)\" x2=\"420\" y2=\"0\" style=\"fill: none; stroke: #ddd; stroke-width: 1; opacity: 1;\"></line><line transform=\"translate(0,33)\" x2=\"420\" y2=\"0\" style=\"fill: none; stroke: #ddd; stroke-width: 1; opacity: 1;\"></line><line transform=\"translate(0,0)\" x2=\"420\" y2=\"0\" style=\"fill: none; stroke: #ddd; stroke-width: 1; opacity: 1;\"></line></g></g></g></g><g class=\"mark-rect role-mark marks\"><path d=\"M379.05,1.8918666666666581h18.900000000000002v198.10813333333334h-18.900000000000002Z\" style=\"fill: #4c78a8;\"></path><path d=\"M148.05,57.43226666666666h18.900000000000002v142.56773333333334h-18.900000000000002Z\" style=\"fill: #4c78a8;\"></path><path d=\"M1.0500000000000114,77.61746666666669h18.900000000000002v122.38253333333331h-18.900000000000002Z\" style=\"fill: #4c78a8;\"></path><path d=\"M43.05000000000001,92.81683333333335h18.900000000000002v107.18316666666665h-18.900000000000002Z\" style=\"fill: #4c78a8;\"></path><path d=\"M127.05000000000001,128.33516666666668h18.900000000000002v71.66483333333332h-18.900000000000002Z\" style=\"fill: #4c78a8;\"></path><path d=\"M358.05,146.9807h18.900000000000002v53.01929999999999h-18.900000000000002Z\" style=\"fill: #4c78a8;\"></path><path d=\"M169.05,155.98493333333334h18.900000000000002v44.015066666666655h-18.900000000000002Z\" style=\"fill: #4c78a8;\"></path><path d=\"M400.05,156.47906666666665h18.900000000000002v43.520933333333346h-18.900000000000002Z\" style=\"fill: #4c78a8;\"></path><path d=\"M64.05000000000001,166.86866666666666h18.900000000000002v33.131333333333345h-18.900000000000002Z\" style=\"fill: #4c78a8;\"></path><path d=\"M316.05,169.09733333333332h18.900000000000002v30.902666666666676h-18.900000000000002Z\" style=\"fill: #4c78a8;\"></path><path d=\"M22.05000000000001,173.16233333333332h18.900000000000002v26.837666666666678h-18.900000000000002Z\" style=\"fill: #4c78a8;\"></path><path d=\"M211.05,180.46146666666667h18.900000000000002v19.538533333333334h-18.900000000000002Z\" style=\"fill: #4c78a8;\"></path><path d=\"M337.05,182.1175h18.900000000000002v17.882499999999993h-18.900000000000002Z\" style=\"fill: #4c78a8;\"></path><path d=\"M106.05000000000001,184.735h18.900000000000002v15.264999999999986h-18.900000000000002Z\" style=\"fill: #4c78a8;\"></path><path d=\"M295.05,187.06853333333333h18.900000000000002v12.931466666666665h-18.900000000000002Z\" style=\"fill: #4c78a8;\"></path><path d=\"M85.05000000000001,187.44383333333334h18.900000000000002v12.556166666666655h-18.900000000000002Z\" style=\"fill: #4c78a8;\"></path><path d=\"M274.05,189.64666666666668h18.900000000000002v10.353333333333325h-18.900000000000002Z\" style=\"fill: #4c78a8;\"></path><path d=\"M232.05,195.588h18.900000000000002v4.412000000000006h-18.900000000000002Z\" style=\"fill: #4c78a8;\"></path><path d=\"M190.05,195.81333333333333h18.900000000000002v4.186666666666667h-18.900000000000002Z\" style=\"fill: #4c78a8;\"></path><path d=\"M253.05,198.0875h18.900000000000002v1.9124999999999943h-18.900000000000002Z\" style=\"fill: #4c78a8;\"></path></g><g class=\"mark-group role-axis\"><g transform=\"translate(0.5,200.5)\"><path class=\"background\" d=\"M0,0h0v0h0Z\" style=\"pointer-events: none; fill: none;\"></path><g><g class=\"mark-rule role-axis-tick\" style=\"pointer-events: none;\"><line transform=\"translate(10,0)\" x2=\"0\" y2=\"5\" style=\"fill: none; stroke: #888; stroke-width: 1; opacity: 1;\"></line><line transform=\"translate(31,0)\" x2=\"0\" y2=\"5\" style=\"fill: none; stroke: #888; stroke-width: 1; opacity: 1;\"></line><line transform=\"translate(52,0)\" x2=\"0\" y2=\"5\" style=\"fill: none; stroke: #888; stroke-width: 1; opacity: 1;\"></line><line transform=\"translate(73,0)\" x2=\"0\" y2=\"5\" style=\"fill: none; stroke: #888; stroke-width: 1; opacity: 1;\"></line><line transform=\"translate(94,0)\" x2=\"0\" y2=\"5\" style=\"fill: none; stroke: #888; stroke-width: 1; opacity: 1;\"></line><line transform=\"translate(115,0)\" x2=\"0\" y2=\"5\" style=\"fill: none; stroke: #888; stroke-width: 1; opacity: 1;\"></line><line transform=\"translate(136,0)\" x2=\"0\" y2=\"5\" style=\"fill: none; stroke: #888; stroke-width: 1; opacity: 1;\"></line><line transform=\"translate(157,0)\" x2=\"0\" y2=\"5\" style=\"fill: none; stroke: #888; stroke-width: 1; opacity: 1;\"></line><line transform=\"translate(178,0)\" x2=\"0\" y2=\"5\" style=\"fill: none; stroke: #888; stroke-width: 1; opacity: 1;\"></line><line transform=\"translate(199,0)\" x2=\"0\" y2=\"5\" style=\"fill: none; stroke: #888; stroke-width: 1; opacity: 1;\"></line><line transform=\"translate(220,0)\" x2=\"0\" y2=\"5\" style=\"fill: none; stroke: #888; stroke-width: 1; opacity: 1;\"></line><line transform=\"translate(241,0)\" x2=\"0\" y2=\"5\" style=\"fill: none; stroke: #888; stroke-width: 1; opacity: 1;\"></line><line transform=\"translate(262,0)\" x2=\"0\" y2=\"5\" style=\"fill: none; stroke: #888; stroke-width: 1; opacity: 1;\"></line><line transform=\"translate(283,0)\" x2=\"0\" y2=\"5\" style=\"fill: none; stroke: #888; stroke-width: 1; opacity: 1;\"></line><line transform=\"translate(304,0)\" x2=\"0\" y2=\"5\" style=\"fill: none; stroke: #888; stroke-width: 1; opacity: 1;\"></line><line transform=\"translate(325,0)\" x2=\"0\" y2=\"5\" style=\"fill: none; stroke: #888; stroke-width: 1; opacity: 1;\"></line><line transform=\"translate(346,0)\" x2=\"0\" y2=\"5\" style=\"fill: none; stroke: #888; stroke-width: 1; opacity: 1;\"></line><line transform=\"translate(367,0)\" x2=\"0\" y2=\"5\" style=\"fill: none; stroke: #888; stroke-width: 1; opacity: 1;\"></line><line transform=\"translate(388,0)\" x2=\"0\" y2=\"5\" style=\"fill: none; stroke: #888; stroke-width: 1; opacity: 1;\"></line><line transform=\"translate(409,0)\" x2=\"0\" y2=\"5\" style=\"fill: none; stroke: #888; stroke-width: 1; opacity: 1;\"></line></g><g class=\"mark-text role-axis-label\" style=\"pointer-events: none;\"><text text-anchor=\"end\" transform=\"translate(9.500000000000012,7) rotate(270) translate(0,3)\" style=\"font-family: sans-serif; font-size: 10px; fill: #000; opacity: 1;\">Austria</text><text text-anchor=\"end\" transform=\"translate(30.500000000000014,7) rotate(270) translate(0,3)\" style=\"font-family: sans-serif; font-size: 10px; fill: #000; opacity: 1;\">Belgium</text><text text-anchor=\"end\" transform=\"translate(51.500000000000014,7) rotate(270) translate(0,3)\" style=\"font-family: sans-serif; font-size: 10px; fill: #000; opacity: 1;\">Brazil</text><text text-anchor=\"end\" transform=\"translate(72.50000000000001,7) rotate(270) translate(0,3)\" style=\"font-family: sans-serif; font-size: 10px; fill: #000; opacity: 1;\">Canada</text><text text-anchor=\"end\" transform=\"translate(93.50000000000001,7) rotate(270) translate(0,3)\" style=\"font-family: sans-serif; font-size: 10px; fill: #000; opacity: 1;\">Denmark</text><text text-anchor=\"end\" transform=\"translate(114.50000000000001,7) rotate(270) translate(0,3)\" style=\"font-family: sans-serif; font-size: 10px; fill: #000; opacity: 1;\">Finland</text><text text-anchor=\"end\" transform=\"translate(135.5,7) rotate(270) translate(0,3)\" style=\"font-family: sans-serif; font-size: 10px; fill: #000; opacity: 1;\">France</text><text text-anchor=\"end\" transform=\"translate(156.5,7) rotate(270) translate(0,3)\" style=\"font-family: sans-serif; font-size: 10px; fill: #000; opacity: 1;\">Germany</text><text text-anchor=\"end\" transform=\"translate(177.5,7) rotate(270) translate(0,3)\" style=\"font-family: sans-serif; font-size: 10px; fill: #000; opacity: 1;\">Ireland</text><text text-anchor=\"end\" transform=\"translate(198.5,7) rotate(270) translate(0,3)\" style=\"font-family: sans-serif; font-size: 10px; fill: #000; opacity: 1;\">Italy</text><text text-anchor=\"end\" transform=\"translate(219.5,7) rotate(270) translate(0,3)\" style=\"font-family: sans-serif; font-size: 10px; fill: #000; opacity: 1;\">Mexico</text><text text-anchor=\"end\" transform=\"translate(240.5,7) rotate(270) translate(0,3)\" style=\"font-family: sans-serif; font-size: 10px; fill: #000; opacity: 1;\">Norway</text><text text-anchor=\"end\" transform=\"translate(261.5,7) rotate(270) translate(0,3)\" style=\"font-family: sans-serif; font-size: 10px; fill: #000; opacity: 1;\">Poland</text><text text-anchor=\"end\" transform=\"translate(282.5,7) rotate(270) translate(0,3)\" style=\"font-family: sans-serif; font-size: 10px; fill: #000; opacity: 1;\">Portugal</text><text text-anchor=\"end\" transform=\"translate(303.5,7) rotate(270) translate(0,3)\" style=\"font-family: sans-serif; font-size: 10px; fill: #000; opacity: 1;\">Spain</text><text text-anchor=\"end\" transform=\"translate(324.5,7) rotate(270) translate(0,3)\" style=\"font-family: sans-serif; font-size: 10px; fill: #000; opacity: 1;\">Sweden</text><text text-anchor=\"end\" transform=\"translate(345.5,7) rotate(270) translate(0,3)\" style=\"font-family: sans-serif; font-size: 10px; fill: #000; opacity: 1;\">Switzerland</text><text text-anchor=\"end\" transform=\"translate(366.5,7) rotate(270) translate(0,3)\" style=\"font-family: sans-serif; font-size: 10px; fill: #000; opacity: 1;\">UK</text><text text-anchor=\"end\" transform=\"translate(387.5,7) rotate(270) translate(0,3)\" style=\"font-family: sans-serif; font-size: 10px; fill: #000; opacity: 1;\">USA</text><text text-anchor=\"end\" transform=\"translate(408.5,7) rotate(270) translate(0,3)\" style=\"font-family: sans-serif; font-size: 10px; fill: #000; opacity: 1;\">Venezuela</text></g><g class=\"mark-rule role-axis-domain\" style=\"pointer-events: none;\"><line transform=\"translate(0,0)\" x2=\"420\" y2=\"0\" style=\"fill: none; stroke: #888; stroke-width: 1; opacity: 1;\"></line></g><g class=\"mark-text role-axis-title\" style=\"pointer-events: none;\"><text text-anchor=\"middle\" transform=\"translate(210,109)\" style=\"font-family: sans-serif; font-size: 11px; font-weight: bold; fill: #000; opacity: 1;\">Country</text></g></g></g></g><g class=\"mark-group role-axis\"><g transform=\"translate(0.5,0.5)\"><path class=\"background\" d=\"M0,0h0v0h0Z\" style=\"pointer-events: none; fill: none;\"></path><g><g class=\"mark-rule role-axis-tick\" style=\"pointer-events: none;\"><line transform=\"translate(0,200)\" x2=\"-5\" y2=\"0\" style=\"fill: none; stroke: #888; stroke-width: 1; opacity: 1;\"></line><line transform=\"translate(0,167)\" x2=\"-5\" y2=\"0\" style=\"fill: none; stroke: #888; stroke-width: 1; opacity: 1;\"></line><line transform=\"translate(0,133)\" x2=\"-5\" y2=\"0\" style=\"fill: none; stroke: #888; stroke-width: 1; opacity: 1;\"></line><line transform=\"translate(0,100)\" x2=\"-5\" y2=\"0\" style=\"fill: none; stroke: #888; stroke-width: 1; opacity: 1;\"></line><line transform=\"translate(0,67)\" x2=\"-5\" y2=\"0\" style=\"fill: none; stroke: #888; stroke-width: 1; opacity: 1;\"></line><line transform=\"translate(0,33)\" x2=\"-5\" y2=\"0\" style=\"fill: none; stroke: #888; stroke-width: 1; opacity: 1;\"></line><line transform=\"translate(0,0)\" x2=\"-5\" y2=\"0\" style=\"fill: none; stroke: #888; stroke-width: 1; opacity: 1;\"></line></g><g class=\"mark-text role-axis-label\" style=\"pointer-events: none;\"><text text-anchor=\"end\" transform=\"translate(-7,203)\" style=\"font-family: sans-serif; font-size: 10px; fill: #000; opacity: 1;\">0</text><text text-anchor=\"end\" transform=\"translate(-7,169.66666666666669)\" style=\"font-family: sans-serif; font-size: 10px; fill: #000; opacity: 1;\">10,000</text><text text-anchor=\"end\" transform=\"translate(-7,136.33333333333334)\" style=\"font-family: sans-serif; font-size: 10px; fill: #000; opacity: 1;\">20,000</text><text text-anchor=\"end\" transform=\"translate(-7,103)\" style=\"font-family: sans-serif; font-size: 10px; fill: #000; opacity: 1;\">30,000</text><text text-anchor=\"end\" transform=\"translate(-7,69.66666666666669)\" style=\"font-family: sans-serif; font-size: 10px; fill: #000; opacity: 1;\">40,000</text><text text-anchor=\"end\" transform=\"translate(-7,36.333333333333314)\" style=\"font-family: sans-serif; font-size: 10px; fill: #000; opacity: 1;\">50,000</text><text text-anchor=\"end\" transform=\"translate(-7,3)\" style=\"font-family: sans-serif; font-size: 10px; fill: #000; opacity: 1;\">60,000</text></g><g class=\"mark-rule role-axis-domain\" style=\"pointer-events: none;\"><line transform=\"translate(0,200)\" x2=\"0\" y2=\"-200\" style=\"fill: none; stroke: #888; stroke-width: 1; opacity: 1;\"></line></g><g class=\"mark-text role-axis-title\" style=\"pointer-events: none;\"><text text-anchor=\"middle\" transform=\"translate(-60,100) rotate(-90) translate(0,-2)\" style=\"font-family: sans-serif; font-size: 11px; font-weight: bold; fill: #000; opacity: 1;\">Revenue</text></g></g></g></g></g></g></g></g></svg>"
      ],
      "text/plain": [
       "VegaLite.VLSpec{:plot}"
      ]
     },
     "execution_count": 256,
     "metadata": {},
     "output_type": "execute_result"
    }
   ],
   "source": [
    "CustomerCountry |> @vlplot(:bar, x=:Country, y=:Revenue)"
   ]
  },
  {
   "cell_type": "markdown",
   "metadata": {},
   "source": [
    "#### Top 10 customers by revenue during Fiscal year"
   ]
  },
  {
   "cell_type": "code",
   "execution_count": 258,
   "metadata": {},
   "outputs": [
    {
     "data": {
      "text/html": [
       "<table class=\"data-frame\"><thead><tr><th></th><th>CustomerID</th><th>CustomerName</th><th>revenue</th></tr><tr><th></th><th>Int64⍰</th><th>String⍰</th><th>Float64⍰</th></tr></thead><tbody><p>10 rows × 3 columns</p><tr><th>1</th><td>20</td><td>Ernst Handel</td><td>21487.8</td></tr><tr><th>2</th><td>63</td><td>QUICK-Stop</td><td>15910.3</td></tr><tr><th>3</th><td>62</td><td>Queen Cozinha</td><td>15353.6</td></tr><tr><th>4</th><td>71</td><td>Save-a-lot Markets</td><td>15254.0</td></tr><tr><th>5</th><td>59</td><td>Piccolo und mehr</td><td>15227.0</td></tr><tr><th>6</th><td>65</td><td>Rattlesnake Canyon Grocery</td><td>13584.4</td></tr><tr><th>7</th><td>25</td><td>Frankenversand</td><td>13384.3</td></tr><tr><th>8</th><td>37</td><td>Hungry Owl All-Night Grocers</td><td>13204.5</td></tr><tr><th>9</th><td>7</td><td>Blondel père et fils</td><td>12490.3</td></tr><tr><th>10</th><td>75</td><td>Split Rail Beer &amp; Ale</td><td>10503.7</td></tr></tbody></table>"
      ],
      "text/latex": [
       "\\begin{tabular}{r|ccc}\n",
       "\t& CustomerID & CustomerName & revenue\\\\\n",
       "\t\\hline\n",
       "\t& Int64⍰ & String⍰ & Float64⍰\\\\\n",
       "\t\\hline\n",
       "\t1 & 20 & Ernst Handel & 21487.8 \\\\\n",
       "\t2 & 63 & QUICK-Stop & 15910.3 \\\\\n",
       "\t3 & 62 & Queen Cozinha & 15353.6 \\\\\n",
       "\t4 & 71 & Save-a-lot Markets & 15254.0 \\\\\n",
       "\t5 & 59 & Piccolo und mehr & 15227.0 \\\\\n",
       "\t6 & 65 & Rattlesnake Canyon Grocery & 13584.4 \\\\\n",
       "\t7 & 25 & Frankenversand & 13384.3 \\\\\n",
       "\t8 & 37 & Hungry Owl All-Night Grocers & 13204.5 \\\\\n",
       "\t9 & 7 & Blondel père et fils & 12490.3 \\\\\n",
       "\t10 & 75 & Split Rail Beer \\& Ale & 10503.7 \\\\\n",
       "\\end{tabular}\n"
      ],
      "text/plain": [
       "10×3 DataFrame\n",
       "│ Row │ CustomerID │ CustomerName                 │ revenue  │\n",
       "│     │ \u001b[90mInt64⍰\u001b[39m     │ \u001b[90mUnion{Missing, String}\u001b[39m       │ \u001b[90mFloat64⍰\u001b[39m │\n",
       "├─────┼────────────┼──────────────────────────────┼──────────┤\n",
       "│ 1   │ 20         │ Ernst Handel                 │ 21487.8  │\n",
       "│ 2   │ 63         │ QUICK-Stop                   │ 15910.3  │\n",
       "│ 3   │ 62         │ Queen Cozinha                │ 15353.6  │\n",
       "│ 4   │ 71         │ Save-a-lot Markets           │ 15254.0  │\n",
       "│ 5   │ 59         │ Piccolo und mehr             │ 15227.0  │\n",
       "│ 6   │ 65         │ Rattlesnake Canyon Grocery   │ 13584.4  │\n",
       "│ 7   │ 25         │ Frankenversand               │ 13384.3  │\n",
       "│ 8   │ 37         │ Hungry Owl All-Night Grocers │ 13204.5  │\n",
       "│ 9   │ 7          │ Blondel père et fils         │ 12490.3  │\n",
       "│ 10  │ 75         │ Split Rail Beer & Ale        │ 10503.7  │"
      ]
     },
     "execution_count": 258,
     "metadata": {},
     "output_type": "execute_result"
    }
   ],
   "source": [
    "top10Cust = DataFrame(SQLite.Query(acme,\"\"\"select customer.customerid, customername, sum(price*quantity) as revenue\n",
    "from customer inner join orders on orders.customerid = customer.customerid\n",
    "inner join orderitem on orders.orderid = orderitem.orderid\n",
    "inner join product on orderitem.ProductID = product.productid\n",
    "where  orderdate < '1997-01-01'\n",
    "group by customername\n",
    "order by revenue desc\n",
    "limit 10\"\"\"))"
   ]
  },
  {
   "cell_type": "code",
   "execution_count": 260,
   "metadata": {},
   "outputs": [
    {
     "data": {
      "application/vnd.vegalite.v2+json": {
       "data": {
        "values": [
         {
          "CustomerID": 20,
          "CustomerName": "Ernst Handel",
          "revenue": 21487.760000000002
         },
         {
          "CustomerID": 63,
          "CustomerName": "QUICK-Stop",
          "revenue": 15910.3
         },
         {
          "CustomerID": 62,
          "CustomerName": "Queen Cozinha",
          "revenue": 15353.6
         },
         {
          "CustomerID": 71,
          "CustomerName": "Save-a-lot Markets",
          "revenue": 15254.05
         },
         {
          "CustomerID": 59,
          "CustomerName": "Piccolo und mehr",
          "revenue": 15227
         },
         {
          "CustomerID": 65,
          "CustomerName": "Rattlesnake Canyon Grocery",
          "revenue": 13584.400000000001
         },
         {
          "CustomerID": 25,
          "CustomerName": "Frankenversand",
          "revenue": 13384.32
         },
         {
          "CustomerID": 37,
          "CustomerName": "Hungry Owl All-Night Grocers",
          "revenue": 13204.52
         },
         {
          "CustomerID": 7,
          "CustomerName": "Blondel père et fils",
          "revenue": 12490.250000000002
         },
         {
          "CustomerID": 75,
          "CustomerName": "Split Rail Beer & Ale",
          "revenue": 10503.72
         }
        ]
       },
       "encoding": {
        "x": {
         "field": "CustomerName",
         "type": "nominal"
        },
        "y": {
         "field": "revenue",
         "type": "quantitative"
        }
       },
       "mark": "bar"
      },
      "image/png": "[encoded data removed]",
      "image/svg+xml": [
       "<?xml version=\"1.0\" encoding=\"utf-8\"?>\n",
       "<!DOCTYPE svg PUBLIC \"-//W3C//DTD SVG 1.1//EN\" \"http://www.w3.org/Graphics/SVG/1.1/DTD/svg11.dtd\">\n",
       "<svg class=\"marks\" width=\"293\" height=\"411\" viewBox=\"0 0 293 411\" version=\"1.1\" xmlns=\"http://www.w3.org/2000/svg\" xmlns:xlink=\"http://www.w3.org/1999/xlink\"><g transform=\"translate(78,5)\"><g class=\"mark-group role-frame root\"><g transform=\"translate(0,0)\"><path class=\"background\" d=\"M0.5,0.5h210v200h-210Z\" style=\"fill: none; stroke: #ddd;\"></path><g><g class=\"mark-group role-axis\"><g transform=\"translate(0.5,0.5)\"><path class=\"background\" d=\"M0,0h0v0h0Z\" style=\"pointer-events: none; fill: none;\"></path><g><g class=\"mark-rule role-axis-grid\" style=\"pointer-events: none;\"><line transform=\"translate(0,200)\" x2=\"210\" y2=\"0\" style=\"fill: none; stroke: #ddd; stroke-width: 1; opacity: 1;\"></line><line transform=\"translate(0,155)\" x2=\"210\" y2=\"0\" style=\"fill: none; stroke: #ddd; stroke-width: 1; opacity: 1;\"></line><line transform=\"translate(0,109)\" x2=\"210\" y2=\"0\" style=\"fill: none; stroke: #ddd; stroke-width: 1; opacity: 1;\"></line><line transform=\"translate(0,64)\" x2=\"210\" y2=\"0\" style=\"fill: none; stroke: #ddd; stroke-width: 1; opacity: 1;\"></line><line transform=\"translate(0,18)\" x2=\"210\" y2=\"0\" style=\"fill: none; stroke: #ddd; stroke-width: 1; opacity: 1;\"></line></g></g></g></g><g class=\"mark-rect role-mark marks\"><path d=\"M22.049999999999997,4.656727272727267h18.900000000000002v195.34327272727273h-18.900000000000002Z\" style=\"fill: #4c78a8;\"></path><path d=\"M106.05,55.360909090909104h18.900000000000002v144.6390909090909h-18.900000000000002Z\" style=\"fill: #4c78a8;\"></path><path d=\"M127.05,60.42181818181817h18.900000000000002v139.57818181818183h-18.900000000000002Z\" style=\"fill: #4c78a8;\"></path><path d=\"M169.05,61.3268181818182h18.900000000000002v138.6731818181818h-18.900000000000002Z\" style=\"fill: #4c78a8;\"></path><path d=\"M85.05,61.57272727272726h18.900000000000002v138.42727272727274h-18.900000000000002Z\" style=\"fill: #4c78a8;\"></path><path d=\"M148.05,76.50545454545454h18.900000000000002v123.49454545454546h-18.900000000000002Z\" style=\"fill: #4c78a8;\"></path><path d=\"M43.05,78.32436363636364h18.900000000000002v121.67563636363636h-18.900000000000002Z\" style=\"fill: #4c78a8;\"></path><path d=\"M64.05,79.95890909090907h18.900000000000002v120.04109090909093h-18.900000000000002Z\" style=\"fill: #4c78a8;\"></path><path d=\"M1.0499999999999972,86.45227272727271h18.900000000000002v113.54772727272729h-18.900000000000002Z\" style=\"fill: #4c78a8;\"></path><path d=\"M190.05,104.51163636363637h18.900000000000002v95.48836363636363h-18.900000000000002Z\" style=\"fill: #4c78a8;\"></path></g><g class=\"mark-group role-axis\"><g transform=\"translate(0.5,200.5)\"><path class=\"background\" d=\"M0,0h0v0h0Z\" style=\"pointer-events: none; fill: none;\"></path><g><g class=\"mark-rule role-axis-tick\" style=\"pointer-events: none;\"><line transform=\"translate(9,0)\" x2=\"0\" y2=\"5\" style=\"fill: none; stroke: #888; stroke-width: 1; opacity: 1;\"></line><line transform=\"translate(31,0)\" x2=\"0\" y2=\"5\" style=\"fill: none; stroke: #888; stroke-width: 1; opacity: 1;\"></line><line transform=\"translate(52,0)\" x2=\"0\" y2=\"5\" style=\"fill: none; stroke: #888; stroke-width: 1; opacity: 1;\"></line><line transform=\"translate(73,0)\" x2=\"0\" y2=\"5\" style=\"fill: none; stroke: #888; stroke-width: 1; opacity: 1;\"></line><line transform=\"translate(94,0)\" x2=\"0\" y2=\"5\" style=\"fill: none; stroke: #888; stroke-width: 1; opacity: 1;\"></line><line transform=\"translate(115,0)\" x2=\"0\" y2=\"5\" style=\"fill: none; stroke: #888; stroke-width: 1; opacity: 1;\"></line><line transform=\"translate(136,0)\" x2=\"0\" y2=\"5\" style=\"fill: none; stroke: #888; stroke-width: 1; opacity: 1;\"></line><line transform=\"translate(157,0)\" x2=\"0\" y2=\"5\" style=\"fill: none; stroke: #888; stroke-width: 1; opacity: 1;\"></line><line transform=\"translate(178,0)\" x2=\"0\" y2=\"5\" style=\"fill: none; stroke: #888; stroke-width: 1; opacity: 1;\"></line><line transform=\"translate(199,0)\" x2=\"0\" y2=\"5\" style=\"fill: none; stroke: #888; stroke-width: 1; opacity: 1;\"></line></g><g class=\"mark-text role-axis-label\" style=\"pointer-events: none;\"><text text-anchor=\"end\" transform=\"translate(9.499999999999998,7) rotate(270) translate(0,3)\" style=\"font-family: sans-serif; font-size: 10px; fill: #000; opacity: 1;\">Blondel père et fils</text><text text-anchor=\"end\" transform=\"translate(30.5,7) rotate(270) translate(0,3)\" style=\"font-family: sans-serif; font-size: 10px; fill: #000; opacity: 1;\">Ernst Handel</text><text text-anchor=\"end\" transform=\"translate(51.5,7) rotate(270) translate(0,3)\" style=\"font-family: sans-serif; font-size: 10px; fill: #000; opacity: 1;\">Frankenversand</text><text text-anchor=\"end\" transform=\"translate(72.5,7) rotate(270) translate(0,3)\" style=\"font-family: sans-serif; font-size: 10px; fill: #000; opacity: 1;\">Hungry Owl All-Night …</text><text text-anchor=\"end\" transform=\"translate(93.5,7) rotate(270) translate(0,3)\" style=\"font-family: sans-serif; font-size: 10px; fill: #000; opacity: 1;\">Piccolo und mehr</text><text text-anchor=\"end\" transform=\"translate(114.5,7) rotate(270) translate(0,3)\" style=\"font-family: sans-serif; font-size: 10px; fill: #000; opacity: 1;\">QUICK-Stop</text><text text-anchor=\"end\" transform=\"translate(135.5,7) rotate(270) translate(0,3)\" style=\"font-family: sans-serif; font-size: 10px; fill: #000; opacity: 1;\">Queen Cozinha</text><text text-anchor=\"end\" transform=\"translate(156.5,7) rotate(270) translate(0,3)\" style=\"font-family: sans-serif; font-size: 10px; fill: #000; opacity: 1;\">Rattlesnake Canyon Gr…</text><text text-anchor=\"end\" transform=\"translate(177.5,7) rotate(270) translate(0,3)\" style=\"font-family: sans-serif; font-size: 10px; fill: #000; opacity: 1;\">Save-a-lot Markets</text><text text-anchor=\"end\" transform=\"translate(198.5,7) rotate(270) translate(0,3)\" style=\"font-family: sans-serif; font-size: 10px; fill: #000; opacity: 1;\">Split Rail Beer &amp; Ale</text></g><g class=\"mark-rule role-axis-domain\" style=\"pointer-events: none;\"><line transform=\"translate(0,0)\" x2=\"210\" y2=\"0\" style=\"fill: none; stroke: #888; stroke-width: 1; opacity: 1;\"></line></g><g class=\"mark-text role-axis-title\" style=\"pointer-events: none;\"><text text-anchor=\"middle\" transform=\"translate(105,197)\" style=\"font-family: sans-serif; font-size: 11px; font-weight: bold; fill: #000; opacity: 1;\">CustomerName</text></g></g></g></g><g class=\"mark-group role-axis\"><g transform=\"translate(0.5,0.5)\"><path class=\"background\" d=\"M0,0h0v0h0Z\" style=\"pointer-events: none; fill: none;\"></path><g><g class=\"mark-rule role-axis-tick\" style=\"pointer-events: none;\"><line transform=\"translate(0,200)\" x2=\"-5\" y2=\"0\" style=\"fill: none; stroke: #888; stroke-width: 1; opacity: 1;\"></line><line transform=\"translate(0,155)\" x2=\"-5\" y2=\"0\" style=\"fill: none; stroke: #888; stroke-width: 1; opacity: 1;\"></line><line transform=\"translate(0,109)\" x2=\"-5\" y2=\"0\" style=\"fill: none; stroke: #888; stroke-width: 1; opacity: 1;\"></line><line transform=\"translate(0,64)\" x2=\"-5\" y2=\"0\" style=\"fill: none; stroke: #888; stroke-width: 1; opacity: 1;\"></line><line transform=\"translate(0,18)\" x2=\"-5\" y2=\"0\" style=\"fill: none; stroke: #888; stroke-width: 1; opacity: 1;\"></line></g><g class=\"mark-text role-axis-label\" style=\"pointer-events: none;\"><text text-anchor=\"end\" transform=\"translate(-7,203)\" style=\"font-family: sans-serif; font-size: 10px; fill: #000; opacity: 1;\">0</text><text text-anchor=\"end\" transform=\"translate(-7,157.54545454545456)\" style=\"font-family: sans-serif; font-size: 10px; fill: #000; opacity: 1;\">5,000</text><text text-anchor=\"end\" transform=\"translate(-7,112.0909090909091)\" style=\"font-family: sans-serif; font-size: 10px; fill: #000; opacity: 1;\">10,000</text><text text-anchor=\"end\" transform=\"translate(-7,66.63636363636365)\" style=\"font-family: sans-serif; font-size: 10px; fill: #000; opacity: 1;\">15,000</text><text text-anchor=\"end\" transform=\"translate(-7,21.181818181818187)\" style=\"font-family: sans-serif; font-size: 10px; fill: #000; opacity: 1;\">20,000</text></g><g class=\"mark-rule role-axis-domain\" style=\"pointer-events: none;\"><line transform=\"translate(0,200)\" x2=\"0\" y2=\"-200\" style=\"fill: none; stroke: #888; stroke-width: 1; opacity: 1;\"></line></g><g class=\"mark-text role-axis-title\" style=\"pointer-events: none;\"><text text-anchor=\"middle\" transform=\"translate(-60,100) rotate(-90) translate(0,-2)\" style=\"font-family: sans-serif; font-size: 11px; font-weight: bold; fill: #000; opacity: 1;\">revenue</text></g></g></g></g></g></g></g></g></svg>"
      ],
      "text/plain": [
       "VegaLite.VLSpec{:plot}"
      ]
     },
     "execution_count": 260,
     "metadata": {},
     "output_type": "execute_result"
    }
   ],
   "source": [
    "top10Cust |> @vlplot(:bar, x=:CustomerName, y=:revenue)"
   ]
  },
  {
   "cell_type": "markdown",
   "metadata": {},
   "source": [
    "#### Customers are acquired each month"
   ]
  },
  {
   "cell_type": "code",
   "execution_count": 261,
   "metadata": {},
   "outputs": [
    {
     "data": {
      "text/html": [
       "<table class=\"data-frame\"><thead><tr><th></th><th>Customer_Count</th><th>months</th></tr><tr><th></th><th>Int64⍰</th><th>String⍰</th></tr></thead><tbody><p>8 rows × 2 columns</p><tr><th>1</th><td>20</td><td>1996-07</td></tr><tr><th>2</th><td>18</td><td>1996-08</td></tr><tr><th>3</th><td>19</td><td>1996-09</td></tr><tr><th>4</th><td>20</td><td>1996-10</td></tr><tr><th>5</th><td>21</td><td>1996-11</td></tr><tr><th>6</th><td>25</td><td>1996-12</td></tr><tr><th>7</th><td>27</td><td>1997-01</td></tr><tr><th>8</th><td>11</td><td>1997-02</td></tr></tbody></table>"
      ],
      "text/latex": [
       "\\begin{tabular}{r|cc}\n",
       "\t& Customer\\_Count & months\\\\\n",
       "\t\\hline\n",
       "\t& Int64⍰ & String⍰\\\\\n",
       "\t\\hline\n",
       "\t1 & 20 & 1996-07 \\\\\n",
       "\t2 & 18 & 1996-08 \\\\\n",
       "\t3 & 19 & 1996-09 \\\\\n",
       "\t4 & 20 & 1996-10 \\\\\n",
       "\t5 & 21 & 1996-11 \\\\\n",
       "\t6 & 25 & 1996-12 \\\\\n",
       "\t7 & 27 & 1997-01 \\\\\n",
       "\t8 & 11 & 1997-02 \\\\\n",
       "\\end{tabular}\n"
      ],
      "text/plain": [
       "8×2 DataFrame\n",
       "│ Row │ Customer_Count │ months  │\n",
       "│     │ \u001b[90mInt64⍰\u001b[39m         │ \u001b[90mString⍰\u001b[39m │\n",
       "├─────┼────────────────┼─────────┤\n",
       "│ 1   │ 20             │ 1996-07 │\n",
       "│ 2   │ 18             │ 1996-08 │\n",
       "│ 3   │ 19             │ 1996-09 │\n",
       "│ 4   │ 20             │ 1996-10 │\n",
       "│ 5   │ 21             │ 1996-11 │\n",
       "│ 6   │ 25             │ 1996-12 │\n",
       "│ 7   │ 27             │ 1997-01 │\n",
       "│ 8   │ 11             │ 1997-02 │"
      ]
     },
     "execution_count": 261,
     "metadata": {},
     "output_type": "execute_result"
    }
   ],
   "source": [
    "CustomersAcquired = DataFrame(SQLite.Query(acme,\"\"\"Select count(distinct(CustomerName)) as Customer_Count, strftime('%Y-%m', orderdate) as months\n",
    "from Customer\n",
    "join Orders on \n",
    "Orders.CustomerID = Customer.CustomerID\n",
    "join OrderItem on\n",
    "orders.orderID = Orderitem.orderID\n",
    "join product on\n",
    "product.productId = orderitem.productID\n",
    "group by months\n",
    "order by months\n",
    "        \"\"\"))\n"
   ]
  },
  {
   "cell_type": "code",
   "execution_count": 265,
   "metadata": {},
   "outputs": [
    {
     "data": {
      "application/vnd.vegalite.v2+json": {
       "data": {
        "values": [
         {
          "Customer_Count": 20,
          "months": "1996-07"
         },
         {
          "Customer_Count": 18,
          "months": "1996-08"
         },
         {
          "Customer_Count": 19,
          "months": "1996-09"
         },
         {
          "Customer_Count": 20,
          "months": "1996-10"
         },
         {
          "Customer_Count": 21,
          "months": "1996-11"
         },
         {
          "Customer_Count": 25,
          "months": "1996-12"
         },
         {
          "Customer_Count": 27,
          "months": "1997-01"
         },
         {
          "Customer_Count": 11,
          "months": "1997-02"
         }
        ]
       },
       "encoding": {
        "x": {
         "field": "months",
         "type": "nominal"
        },
        "y": {
         "field": "Customer_Count",
         "type": "quantitative"
        }
       },
       "mark": "bar"
      },
      "image/png": "[encoded data removed]",
      "image/svg+xml": [
       "<?xml version=\"1.0\" encoding=\"utf-8\"?>\n",
       "<!DOCTYPE svg PUBLIC \"-//W3C//DTD SVG 1.1//EN\" \"http://www.w3.org/Graphics/SVG/1.1/DTD/svg11.dtd\">\n",
       "<svg class=\"marks\" width=\"225\" height=\"291\" viewBox=\"0 0 225 291\" version=\"1.1\" xmlns=\"http://www.w3.org/2000/svg\" xmlns:xlink=\"http://www.w3.org/1999/xlink\"><g transform=\"translate(52,5)\"><g class=\"mark-group role-frame root\"><g transform=\"translate(0,0)\"><path class=\"background\" d=\"M0.5,0.5h168v200h-168Z\" style=\"fill: none; stroke: #ddd;\"></path><g><g class=\"mark-group role-axis\"><g transform=\"translate(0.5,0.5)\"><path class=\"background\" d=\"M0,0h0v0h0Z\" style=\"pointer-events: none; fill: none;\"></path><g><g class=\"mark-rule role-axis-grid\" style=\"pointer-events: none;\"><line transform=\"translate(0,200)\" x2=\"168\" y2=\"0\" style=\"fill: none; stroke: #ddd; stroke-width: 1; opacity: 1;\"></line><line transform=\"translate(0,164)\" x2=\"168\" y2=\"0\" style=\"fill: none; stroke: #ddd; stroke-width: 1; opacity: 1;\"></line><line transform=\"translate(0,129)\" x2=\"168\" y2=\"0\" style=\"fill: none; stroke: #ddd; stroke-width: 1; opacity: 1;\"></line><line transform=\"translate(0,93)\" x2=\"168\" y2=\"0\" style=\"fill: none; stroke: #ddd; stroke-width: 1; opacity: 1;\"></line><line transform=\"translate(0,57)\" x2=\"168\" y2=\"0\" style=\"fill: none; stroke: #ddd; stroke-width: 1; opacity: 1;\"></line><line transform=\"translate(0,21)\" x2=\"168\" y2=\"0\" style=\"fill: none; stroke: #ddd; stroke-width: 1; opacity: 1;\"></line></g></g></g></g><g class=\"mark-rect role-mark marks\"><path d=\"M1.0499999999999972,57.14285714285714h18.900000000000002v142.85714285714286h-18.900000000000002Z\" style=\"fill: #4c78a8;\"></path><path d=\"M22.049999999999997,71.42857142857142h18.900000000000002v128.57142857142858h-18.900000000000002Z\" style=\"fill: #4c78a8;\"></path><path d=\"M43.05,64.28571428571428h18.900000000000002v135.71428571428572h-18.900000000000002Z\" style=\"fill: #4c78a8;\"></path><path d=\"M64.05,57.14285714285714h18.900000000000002v142.85714285714286h-18.900000000000002Z\" style=\"fill: #4c78a8;\"></path><path d=\"M85.05,50h18.900000000000002v150h-18.900000000000002Z\" style=\"fill: #4c78a8;\"></path><path d=\"M106.05,21.428571428571416h18.900000000000002v178.57142857142858h-18.900000000000002Z\" style=\"fill: #4c78a8;\"></path><path d=\"M127.05,7.142857142857139h18.900000000000002v192.85714285714286h-18.900000000000002Z\" style=\"fill: #4c78a8;\"></path><path d=\"M148.05,121.42857142857143h18.900000000000002v78.57142857142857h-18.900000000000002Z\" style=\"fill: #4c78a8;\"></path></g><g class=\"mark-group role-axis\"><g transform=\"translate(0.5,200.5)\"><path class=\"background\" d=\"M0,0h0v0h0Z\" style=\"pointer-events: none; fill: none;\"></path><g><g class=\"mark-rule role-axis-tick\" style=\"pointer-events: none;\"><line transform=\"translate(9,0)\" x2=\"0\" y2=\"5\" style=\"fill: none; stroke: #888; stroke-width: 1; opacity: 1;\"></line><line transform=\"translate(31,0)\" x2=\"0\" y2=\"5\" style=\"fill: none; stroke: #888; stroke-width: 1; opacity: 1;\"></line><line transform=\"translate(52,0)\" x2=\"0\" y2=\"5\" style=\"fill: none; stroke: #888; stroke-width: 1; opacity: 1;\"></line><line transform=\"translate(73,0)\" x2=\"0\" y2=\"5\" style=\"fill: none; stroke: #888; stroke-width: 1; opacity: 1;\"></line><line transform=\"translate(94,0)\" x2=\"0\" y2=\"5\" style=\"fill: none; stroke: #888; stroke-width: 1; opacity: 1;\"></line><line transform=\"translate(115,0)\" x2=\"0\" y2=\"5\" style=\"fill: none; stroke: #888; stroke-width: 1; opacity: 1;\"></line><line transform=\"translate(136,0)\" x2=\"0\" y2=\"5\" style=\"fill: none; stroke: #888; stroke-width: 1; opacity: 1;\"></line><line transform=\"translate(157,0)\" x2=\"0\" y2=\"5\" style=\"fill: none; stroke: #888; stroke-width: 1; opacity: 1;\"></line></g><g class=\"mark-text role-axis-label\" style=\"pointer-events: none;\"><text text-anchor=\"end\" transform=\"translate(9.499999999999998,7) rotate(270) translate(0,3)\" style=\"font-family: sans-serif; font-size: 10px; fill: #000; opacity: 1;\">1996-07</text><text text-anchor=\"end\" transform=\"translate(30.5,7) rotate(270) translate(0,3)\" style=\"font-family: sans-serif; font-size: 10px; fill: #000; opacity: 1;\">1996-08</text><text text-anchor=\"end\" transform=\"translate(51.5,7) rotate(270) translate(0,3)\" style=\"font-family: sans-serif; font-size: 10px; fill: #000; opacity: 1;\">1996-09</text><text text-anchor=\"end\" transform=\"translate(72.5,7) rotate(270) translate(0,3)\" style=\"font-family: sans-serif; font-size: 10px; fill: #000; opacity: 1;\">1996-10</text><text text-anchor=\"end\" transform=\"translate(93.5,7) rotate(270) translate(0,3)\" style=\"font-family: sans-serif; font-size: 10px; fill: #000; opacity: 1;\">1996-11</text><text text-anchor=\"end\" transform=\"translate(114.5,7) rotate(270) translate(0,3)\" style=\"font-family: sans-serif; font-size: 10px; fill: #000; opacity: 1;\">1996-12</text><text text-anchor=\"end\" transform=\"translate(135.5,7) rotate(270) translate(0,3)\" style=\"font-family: sans-serif; font-size: 10px; fill: #000; opacity: 1;\">1997-01</text><text text-anchor=\"end\" transform=\"translate(156.5,7) rotate(270) translate(0,3)\" style=\"font-family: sans-serif; font-size: 10px; fill: #000; opacity: 1;\">1997-02</text></g><g class=\"mark-rule role-axis-domain\" style=\"pointer-events: none;\"><line transform=\"translate(0,0)\" x2=\"168\" y2=\"0\" style=\"fill: none; stroke: #888; stroke-width: 1; opacity: 1;\"></line></g><g class=\"mark-text role-axis-title\" style=\"pointer-events: none;\"><text text-anchor=\"middle\" transform=\"translate(84,77)\" style=\"font-family: sans-serif; font-size: 11px; font-weight: bold; fill: #000; opacity: 1;\">months</text></g></g></g></g><g class=\"mark-group role-axis\"><g transform=\"translate(0.5,0.5)\"><path class=\"background\" d=\"M0,0h0v0h0Z\" style=\"pointer-events: none; fill: none;\"></path><g><g class=\"mark-rule role-axis-tick\" style=\"pointer-events: none;\"><line transform=\"translate(0,200)\" x2=\"-5\" y2=\"0\" style=\"fill: none; stroke: #888; stroke-width: 1; opacity: 1;\"></line><line transform=\"translate(0,164)\" x2=\"-5\" y2=\"0\" style=\"fill: none; stroke: #888; stroke-width: 1; opacity: 1;\"></line><line transform=\"translate(0,129)\" x2=\"-5\" y2=\"0\" style=\"fill: none; stroke: #888; stroke-width: 1; opacity: 1;\"></line><line transform=\"translate(0,93)\" x2=\"-5\" y2=\"0\" style=\"fill: none; stroke: #888; stroke-width: 1; opacity: 1;\"></line><line transform=\"translate(0,57)\" x2=\"-5\" y2=\"0\" style=\"fill: none; stroke: #888; stroke-width: 1; opacity: 1;\"></line><line transform=\"translate(0,21)\" x2=\"-5\" y2=\"0\" style=\"fill: none; stroke: #888; stroke-width: 1; opacity: 1;\"></line></g><g class=\"mark-text role-axis-label\" style=\"pointer-events: none;\"><text text-anchor=\"end\" transform=\"translate(-7,203)\" style=\"font-family: sans-serif; font-size: 10px; fill: #000; opacity: 1;\">0</text><text text-anchor=\"end\" transform=\"translate(-7,167.28571428571428)\" style=\"font-family: sans-serif; font-size: 10px; fill: #000; opacity: 1;\">5</text><text text-anchor=\"end\" transform=\"translate(-7,131.57142857142856)\" style=\"font-family: sans-serif; font-size: 10px; fill: #000; opacity: 1;\">10</text><text text-anchor=\"end\" transform=\"translate(-7,95.85714285714286)\" style=\"font-family: sans-serif; font-size: 10px; fill: #000; opacity: 1;\">15</text><text text-anchor=\"end\" transform=\"translate(-7,60.14285714285714)\" style=\"font-family: sans-serif; font-size: 10px; fill: #000; opacity: 1;\">20</text><text text-anchor=\"end\" transform=\"translate(-7,24.428571428571416)\" style=\"font-family: sans-serif; font-size: 10px; fill: #000; opacity: 1;\">25</text></g><g class=\"mark-rule role-axis-domain\" style=\"pointer-events: none;\"><line transform=\"translate(0,200)\" x2=\"0\" y2=\"-200\" style=\"fill: none; stroke: #888; stroke-width: 1; opacity: 1;\"></line></g><g class=\"mark-text role-axis-title\" style=\"pointer-events: none;\"><text text-anchor=\"middle\" transform=\"translate(-34,100) rotate(-90) translate(0,-2)\" style=\"font-family: sans-serif; font-size: 11px; font-weight: bold; fill: #000; opacity: 1;\">Customer_Count</text></g></g></g></g></g></g></g></g></svg>"
      ],
      "text/plain": [
       "VegaLite.VLSpec{:plot}"
      ]
     },
     "execution_count": 265,
     "metadata": {},
     "output_type": "execute_result"
    }
   ],
   "source": [
    "CustomersAcquired |> @vlplot(:bar, x=:months, y=:Customer_Count)"
   ]
  },
  {
   "cell_type": "markdown",
   "metadata": {},
   "source": [
    "#### Customers are deemed attrited in the database"
   ]
  },
  {
   "cell_type": "code",
   "execution_count": 237,
   "metadata": {},
   "outputs": [
    {
     "data": {
      "text/html": [
       "<table class=\"data-frame\"><thead><tr><th></th><th>CustomerID</th><th>CustomerName</th><th>ContactName</th><th>Address</th><th>City</th><th>PostalCode</th><th>Country</th></tr><tr><th></th><th>Int64⍰</th><th>String⍰</th><th>String⍰</th><th>String⍰</th><th>String⍰</th><th>String⍰</th><th>String⍰</th></tr></thead><tbody><p>57 rows × 7 columns</p><tr><th>1</th><td>1</td><td>Alfreds Futterkiste</td><td>Maria Anders</td><td>Obere Str. 57</td><td>Berlin</td><td>12209</td><td>Germany</td></tr><tr><th>2</th><td>2</td><td>Ana Trujillo Emparedados y helados</td><td>Ana Trujillo</td><td>Avda. de la Constitución 2222</td><td>México D.F.</td><td>05021</td><td>Mexico</td></tr><tr><th>3</th><td>3</td><td>Antonio Moreno Taquería</td><td>Antonio Moreno</td><td>Mataderos 2312</td><td>México D.F.</td><td>05023</td><td>Mexico</td></tr><tr><th>4</th><td>4</td><td>Around the Horn</td><td>Thomas Hardy</td><td>120 Hanover Sq.</td><td>London</td><td>WA1 1DP</td><td>UK</td></tr><tr><th>5</th><td>5</td><td>Berglunds snabbköp</td><td>Christina Berglund</td><td>Berguvsvägen 8</td><td>Luleå</td><td>S-958 22</td><td>Sweden</td></tr><tr><th>6</th><td>6</td><td>Blauer See Delikatessen</td><td>Hanna Moos</td><td>Forsterstr. 57</td><td>Mannheim</td><td>68306</td><td>Germany</td></tr><tr><th>7</th><td>8</td><td>Bólido Comidas preparadas</td><td>Martín Sommer</td><td>C/ Araquil, 67</td><td>Madrid</td><td>28023</td><td>Spain</td></tr><tr><th>8</th><td>9</td><td>Bon app'</td><td>Laurence Lebihans</td><td>12, rue des Bouchers</td><td>Marseille</td><td>13008</td><td>France</td></tr><tr><th>9</th><td>11</td><td>B's Beverages</td><td>Victoria Ashworth</td><td>Fauntleroy Circus</td><td>London</td><td>EC2 5NT</td><td>UK</td></tr><tr><th>10</th><td>12</td><td>Cactus Comidas para llevar</td><td>Patricio Simpson</td><td>Cerrito 333</td><td>Buenos Aires</td><td>1010</td><td>Argentina</td></tr><tr><th>11</th><td>13</td><td>Centro comercial Moctezuma</td><td>Francisco Chang</td><td>Sierras de Granada 9993</td><td>México D.F.</td><td>05022</td><td>Mexico</td></tr><tr><th>12</th><td>14</td><td>Chop-suey Chinese</td><td>Yang Wang</td><td>Hauptstr. 29</td><td>Bern</td><td>3012</td><td>Switzerland</td></tr><tr><th>13</th><td>15</td><td>Comércio Mineiro</td><td>Pedro Afonso</td><td>Av. dos Lusíadas, 23</td><td>São Paulo</td><td>05432-043</td><td>Brazil</td></tr><tr><th>14</th><td>17</td><td>Drachenblut Delikatessend</td><td>Sven Ottlieb</td><td>Walserweg 21</td><td>Aachen</td><td>52066</td><td>Germany</td></tr><tr><th>15</th><td>18</td><td>Du monde entier</td><td>Janine Labrune</td><td>67, rue des Cinquante Otages</td><td>Nantes</td><td>44000</td><td>France</td></tr><tr><th>16</th><td>22</td><td>FISSA Fabrica Inter. Salchichas S.A.</td><td>Diego Roel</td><td>C/ Moralzarzal, 86</td><td>Madrid</td><td>28034</td><td>Spain</td></tr><tr><th>17</th><td>25</td><td>Frankenversand</td><td>Peter Franken</td><td>Berliner Platz 43</td><td>München</td><td>80805</td><td>Germany</td></tr><tr><th>18</th><td>26</td><td>France restauration</td><td>Carine Schmitt</td><td>54, rue Royale</td><td>Nantes</td><td>44000</td><td>France</td></tr><tr><th>19</th><td>28</td><td>Furia Bacalhau e Frutos do Mar</td><td>Lino Rodriguez</td><td>Jardim das rosas n. 32</td><td>Lisboa</td><td>1675</td><td>Portugal</td></tr><tr><th>20</th><td>30</td><td>Godos Cocina Típica</td><td>José Pedro Freyre</td><td>C/ Romero, 33</td><td>Sevilla</td><td>41101</td><td>Spain</td></tr><tr><th>21</th><td>32</td><td>Great Lakes Food Market</td><td>Howard Snyder</td><td>2732 Baker Blvd.</td><td>Eugene</td><td>97403</td><td>USA</td></tr><tr><th>22</th><td>33</td><td>GROSELLA-Restaurante</td><td>Manuel Pereira</td><td>5ª Ave. Los Palos Grandes</td><td>Caracas</td><td>1081</td><td>Venezuela</td></tr><tr><th>23</th><td>34</td><td>Hanari Carnes</td><td>Mario Pontes</td><td>Rua do Paço, 67</td><td>Rio de Janeiro</td><td>05454-876</td><td>Brazil</td></tr><tr><th>24</th><td>35</td><td>HILARIÓN-Abastos</td><td>Carlos Hernández</td><td>Carrera 22 con Ave. Carlos Soublette #8-35</td><td>San Cristóbal</td><td>5022</td><td>Venezuela</td></tr><tr><th>25</th><td>38</td><td>Island Trading</td><td>Helen Bennett</td><td>Garden House Crowther Way</td><td>Cowes</td><td>PO31 7PJ</td><td>UK</td></tr><tr><th>26</th><td>39</td><td>Königlich Essen</td><td>Philip Cramer</td><td>Maubelstr. 90</td><td>Brandenburg</td><td>14776</td><td>Germany</td></tr><tr><th>27</th><td>40</td><td>La corne d'abondance</td><td>Daniel Tonini</td><td>67, avenue de l'Europe</td><td>Versailles</td><td>78000</td><td>France</td></tr><tr><th>28</th><td>42</td><td>Laughing Bacchus Wine Cellars</td><td>Yoshi Tannamuri</td><td>1900 Oak St.</td><td>Vancouver</td><td>V3F 2K1</td><td>Canada</td></tr><tr><th>29</th><td>43</td><td>Lazy K Kountry Store</td><td>John Steel</td><td>12 Orchestra Terrace</td><td>Walla Walla</td><td>99362</td><td>USA</td></tr><tr><th>30</th><td>44</td><td>Lehmanns Marktstand</td><td>Renate Messner</td><td>Magazinweg 7</td><td>Frankfurt a.M.</td><td>60528</td><td>Germany</td></tr><tr><th>&vellip;</th><td>&vellip;</td><td>&vellip;</td><td>&vellip;</td><td>&vellip;</td><td>&vellip;</td><td>&vellip;</td><td>&vellip;</td></tr></tbody></table>"
      ],
      "text/latex": [
       "\\begin{tabular}{r|ccccccc}\n",
       "\t& CustomerID & CustomerName & ContactName & Address & City & PostalCode & Country\\\\\n",
       "\t\\hline\n",
       "\t& Int64⍰ & String⍰ & String⍰ & String⍰ & String⍰ & String⍰ & String⍰\\\\\n",
       "\t\\hline\n",
       "\t1 & 1 & Alfreds Futterkiste & Maria Anders & Obere Str. 57 & Berlin & 12209 & Germany \\\\\n",
       "\t2 & 2 & Ana Trujillo Emparedados y helados & Ana Trujillo & Avda. de la Constitución 2222 & México D.F. & 05021 & Mexico \\\\\n",
       "\t3 & 3 & Antonio Moreno Taquería & Antonio Moreno & Mataderos 2312 & México D.F. & 05023 & Mexico \\\\\n",
       "\t4 & 4 & Around the Horn & Thomas Hardy & 120 Hanover Sq. & London & WA1 1DP & UK \\\\\n",
       "\t5 & 5 & Berglunds snabbköp & Christina Berglund & Berguvsvägen 8 & Luleå & S-958 22 & Sweden \\\\\n",
       "\t6 & 6 & Blauer See Delikatessen & Hanna Moos & Forsterstr. 57 & Mannheim & 68306 & Germany \\\\\n",
       "\t7 & 8 & Bólido Comidas preparadas & Martín Sommer & C/ Araquil, 67 & Madrid & 28023 & Spain \\\\\n",
       "\t8 & 9 & Bon app' & Laurence Lebihans & 12, rue des Bouchers & Marseille & 13008 & France \\\\\n",
       "\t9 & 11 & B's Beverages & Victoria Ashworth & Fauntleroy Circus & London & EC2 5NT & UK \\\\\n",
       "\t10 & 12 & Cactus Comidas para llevar & Patricio Simpson & Cerrito 333 & Buenos Aires & 1010 & Argentina \\\\\n",
       "\t11 & 13 & Centro comercial Moctezuma & Francisco Chang & Sierras de Granada 9993 & México D.F. & 05022 & Mexico \\\\\n",
       "\t12 & 14 & Chop-suey Chinese & Yang Wang & Hauptstr. 29 & Bern & 3012 & Switzerland \\\\\n",
       "\t13 & 15 & Comércio Mineiro & Pedro Afonso & Av. dos Lusíadas, 23 & São Paulo & 05432-043 & Brazil \\\\\n",
       "\t14 & 17 & Drachenblut Delikatessend & Sven Ottlieb & Walserweg 21 & Aachen & 52066 & Germany \\\\\n",
       "\t15 & 18 & Du monde entier & Janine Labrune & 67, rue des Cinquante Otages & Nantes & 44000 & France \\\\\n",
       "\t16 & 22 & FISSA Fabrica Inter. Salchichas S.A. & Diego Roel & C/ Moralzarzal, 86 & Madrid & 28034 & Spain \\\\\n",
       "\t17 & 25 & Frankenversand & Peter Franken & Berliner Platz 43 & München & 80805 & Germany \\\\\n",
       "\t18 & 26 & France restauration & Carine Schmitt & 54, rue Royale & Nantes & 44000 & France \\\\\n",
       "\t19 & 28 & Furia Bacalhau e Frutos do Mar & Lino Rodriguez & Jardim das rosas n. 32 & Lisboa & 1675 & Portugal \\\\\n",
       "\t20 & 30 & Godos Cocina Típica & José Pedro Freyre & C/ Romero, 33 & Sevilla & 41101 & Spain \\\\\n",
       "\t21 & 32 & Great Lakes Food Market & Howard Snyder & 2732 Baker Blvd. & Eugene & 97403 & USA \\\\\n",
       "\t22 & 33 & GROSELLA-Restaurante & Manuel Pereira & 5ª Ave. Los Palos Grandes & Caracas & 1081 & Venezuela \\\\\n",
       "\t23 & 34 & Hanari Carnes & Mario Pontes & Rua do Paço, 67 & Rio de Janeiro & 05454-876 & Brazil \\\\\n",
       "\t24 & 35 & HILARIÓN-Abastos & Carlos Hernández & Carrera 22 con Ave. Carlos Soublette \\#8-35 & San Cristóbal & 5022 & Venezuela \\\\\n",
       "\t25 & 38 & Island Trading & Helen Bennett & Garden House Crowther Way & Cowes & PO31 7PJ & UK \\\\\n",
       "\t26 & 39 & Königlich Essen & Philip Cramer & Maubelstr. 90 & Brandenburg & 14776 & Germany \\\\\n",
       "\t27 & 40 & La corne d'abondance & Daniel Tonini & 67, avenue de l'Europe & Versailles & 78000 & France \\\\\n",
       "\t28 & 42 & Laughing Bacchus Wine Cellars & Yoshi Tannamuri & 1900 Oak St. & Vancouver & V3F 2K1 & Canada \\\\\n",
       "\t29 & 43 & Lazy K Kountry Store & John Steel & 12 Orchestra Terrace & Walla Walla & 99362 & USA \\\\\n",
       "\t30 & 44 & Lehmanns Marktstand & Renate Messner & Magazinweg 7 & Frankfurt a.M. & 60528 & Germany \\\\\n",
       "\t$\\dots$ & $\\dots$ & $\\dots$ & $\\dots$ & $\\dots$ & $\\dots$ & $\\dots$ & $\\dots$ \\\\\n",
       "\\end{tabular}\n"
      ],
      "text/plain": [
       "57×7 DataFrame. Omitted printing of 4 columns\n",
       "│ Row │ CustomerID │ CustomerName                       │ ContactName          │\n",
       "│     │ \u001b[90mInt64⍰\u001b[39m     │ \u001b[90mUnion{Missing, String}\u001b[39m             │ \u001b[90mString⍰\u001b[39m              │\n",
       "├─────┼────────────┼────────────────────────────────────┼──────────────────────┤\n",
       "│ 1   │ 1          │ Alfreds Futterkiste                │ Maria Anders         │\n",
       "│ 2   │ 2          │ Ana Trujillo Emparedados y helados │ Ana Trujillo         │\n",
       "│ 3   │ 3          │ Antonio Moreno Taquería            │ Antonio Moreno       │\n",
       "│ 4   │ 4          │ Around the Horn                    │ Thomas Hardy         │\n",
       "│ 5   │ 5          │ Berglunds snabbköp                 │ Christina Berglund   │\n",
       "│ 6   │ 6          │ Blauer See Delikatessen            │ Hanna Moos           │\n",
       "│ 7   │ 8          │ Bólido Comidas preparadas          │ Martín Sommer        │\n",
       "│ 8   │ 9          │ Bon app'                           │ Laurence Lebihans    │\n",
       "│ 9   │ 11         │ B's Beverages                      │ Victoria Ashworth    │\n",
       "│ 10  │ 12         │ Cactus Comidas para llevar         │ Patricio Simpson     │\n",
       "⋮\n",
       "│ 47  │ 78         │ The Cracker Box                    │ Liu Wong             │\n",
       "│ 48  │ 80         │ Tortuga Restaurante                │ Miguel Angel Paolino │\n",
       "│ 49  │ 81         │ Tradição Hipermercados             │ Anabela Domingues    │\n",
       "│ 50  │ 82         │ Trail's Head Gourmet Provisioners  │ Helvetius Nagy       │\n",
       "│ 51  │ 83         │ Vaffeljernet                       │ Palle Ibsen          │\n",
       "│ 52  │ 84         │ Victuailles en stock               │ Mary Saveley         │\n",
       "│ 53  │ 85         │ Vins et alcools Chevalier          │ Paul Henriot         │\n",
       "│ 54  │ 86         │ Die Wandernde Kuh                  │ Rita Müller          │\n",
       "│ 55  │ 89         │ White Clover Markets               │ Karl Jablonski       │\n",
       "│ 56  │ 90         │ Wilman Kala                        │ Matti Karttunen      │\n",
       "│ 57  │ 91         │ Wolski                             │ Zbyszek              │"
      ]
     },
     "execution_count": 237,
     "metadata": {},
     "output_type": "execute_result"
    }
   ],
   "source": [
    "DataFrame(SQLite.Query(acme,\"\"\"SELECT customer.*\n",
    "FROM Customer \n",
    "LEFT JOIN Orders \n",
    "    ON orders.CustomerID = Customer.CustomerID \n",
    "    AND orders.OrderDate BETWEEN '1996/09/01' AND '1997/03/01'\n",
    "WHERE orders.OrderID IS NULL\n",
    "\"\"\"))"
   ]
  },
  {
   "cell_type": "markdown",
   "metadata": {},
   "source": [
    "## 4.\tSupplier Analysis\n",
    "#### Fiscal year Revenue by supplier Country"
   ]
  },
  {
   "cell_type": "code",
   "execution_count": 268,
   "metadata": {},
   "outputs": [
    {
     "data": {
      "text/html": [
       "<table class=\"data-frame\"><thead><tr><th></th><th>Country</th><th>Revenue</th></tr><tr><th></th><th>String⍰</th><th>Float64⍰</th></tr></thead><tbody><p>16 rows × 2 columns</p><tr><th>1</th><td>France</td><td>69016.8</td></tr><tr><th>2</th><td>Australia</td><td>43169.3</td></tr><tr><th>3</th><td>Germany</td><td>38936.3</td></tr><tr><th>4</th><td>USA</td><td>27246.6</td></tr><tr><th>5</th><td>Italy</td><td>22503.5</td></tr><tr><th>6</th><td>Canada</td><td>18944.3</td></tr><tr><th>7</th><td>UK</td><td>18783.3</td></tr><tr><th>8</th><td>Norway</td><td>11468.0</td></tr><tr><th>9</th><td>Singapore</td><td>9458.1</td></tr><tr><th>10</th><td>Japan</td><td>6948.75</td></tr><tr><th>11</th><td>Sweden</td><td>5867.0</td></tr><tr><th>12</th><td>Finland</td><td>5515.5</td></tr><tr><th>13</th><td>Spain</td><td>2766.0</td></tr><tr><th>14</th><td>Denmark</td><td>1558.5</td></tr><tr><th>15</th><td>Brazil</td><td>711.0</td></tr><tr><th>16</th><td>Netherlands</td><td>152.0</td></tr></tbody></table>"
      ],
      "text/latex": [
       "\\begin{tabular}{r|cc}\n",
       "\t& Country & Revenue\\\\\n",
       "\t\\hline\n",
       "\t& String⍰ & Float64⍰\\\\\n",
       "\t\\hline\n",
       "\t1 & France & 69016.8 \\\\\n",
       "\t2 & Australia & 43169.3 \\\\\n",
       "\t3 & Germany & 38936.3 \\\\\n",
       "\t4 & USA & 27246.6 \\\\\n",
       "\t5 & Italy & 22503.5 \\\\\n",
       "\t6 & Canada & 18944.3 \\\\\n",
       "\t7 & UK & 18783.3 \\\\\n",
       "\t8 & Norway & 11468.0 \\\\\n",
       "\t9 & Singapore & 9458.1 \\\\\n",
       "\t10 & Japan & 6948.75 \\\\\n",
       "\t11 & Sweden & 5867.0 \\\\\n",
       "\t12 & Finland & 5515.5 \\\\\n",
       "\t13 & Spain & 2766.0 \\\\\n",
       "\t14 & Denmark & 1558.5 \\\\\n",
       "\t15 & Brazil & 711.0 \\\\\n",
       "\t16 & Netherlands & 152.0 \\\\\n",
       "\\end{tabular}\n"
      ],
      "text/plain": [
       "16×2 DataFrame\n",
       "│ Row │ Country     │ Revenue  │\n",
       "│     │ \u001b[90mString⍰\u001b[39m     │ \u001b[90mFloat64⍰\u001b[39m │\n",
       "├─────┼─────────────┼──────────┤\n",
       "│ 1   │ France      │ 69016.8  │\n",
       "│ 2   │ Australia   │ 43169.3  │\n",
       "│ 3   │ Germany     │ 38936.3  │\n",
       "│ 4   │ USA         │ 27246.6  │\n",
       "│ 5   │ Italy       │ 22503.5  │\n",
       "│ 6   │ Canada      │ 18944.3  │\n",
       "│ 7   │ UK          │ 18783.3  │\n",
       "│ 8   │ Norway      │ 11468.0  │\n",
       "│ 9   │ Singapore   │ 9458.1   │\n",
       "│ 10  │ Japan       │ 6948.75  │\n",
       "│ 11  │ Sweden      │ 5867.0   │\n",
       "│ 12  │ Finland     │ 5515.5   │\n",
       "│ 13  │ Spain       │ 2766.0   │\n",
       "│ 14  │ Denmark     │ 1558.5   │\n",
       "│ 15  │ Brazil      │ 711.0    │\n",
       "│ 16  │ Netherlands │ 152.0    │"
      ]
     },
     "execution_count": 268,
     "metadata": {},
     "output_type": "execute_result"
    }
   ],
   "source": [
    "RevenueSupplierCountry = DataFrame(SQLite.Query(acme,\"\"\"select country, sum(price*quantity) as Revenue from Supplier\n",
    "inner join Product on Supplier.SupplierID = Product.SupplierID\n",
    "inner join orderitem on Product.ProductID = OrderItem.ProductID\n",
    "inner join Orders on OrderItem.OrderID = Orders.OrderID\n",
    "where orderdate < '1997-01-01'\n",
    "group by country\n",
    "order by Revenue desc\n",
    "        \"\"\"))"
   ]
  },
  {
   "cell_type": "code",
   "execution_count": 269,
   "metadata": {},
   "outputs": [
    {
     "data": {
      "application/vnd.vegalite.v2+json": {
       "data": {
        "values": [
         {
          "Country": "France",
          "Revenue": 69016.75
         },
         {
          "Country": "Australia",
          "Revenue": 43169.3
         },
         {
          "Country": "Germany",
          "Revenue": 38936.25
         },
         {
          "Country": "USA",
          "Revenue": 27246.600000000002
         },
         {
          "Country": "Italy",
          "Revenue": 22503.5
         },
         {
          "Country": "Canada",
          "Revenue": 18944.3
         },
         {
          "Country": "UK",
          "Revenue": 18783.3
         },
         {
          "Country": "Norway",
          "Revenue": 11468
         },
         {
          "Country": "Singapore",
          "Revenue": 9458.1
         },
         {
          "Country": "Japan",
          "Revenue": 6948.75
         },
         {
          "Country": "Sweden",
          "Revenue": 5867
         },
         {
          "Country": "Finland",
          "Revenue": 5515.5
         },
         {
          "Country": "Spain",
          "Revenue": 2766
         },
         {
          "Country": "Denmark",
          "Revenue": 1558.5
         },
         {
          "Country": "Brazil",
          "Revenue": 711
         },
         {
          "Country": "Netherlands",
          "Revenue": 152
         }
        ]
       },
       "encoding": {
        "x": {
         "field": "Country",
         "type": "nominal"
        },
        "y": {
         "field": "Revenue",
         "type": "quantitative"
        }
       },
       "mark": "bar"
      },
      "image/png": "[encoded data removed]",
      "image/svg+xml": [
       "<?xml version=\"1.0\" encoding=\"utf-8\"?>\n",
       "<!DOCTYPE svg PUBLIC \"-//W3C//DTD SVG 1.1//EN\" \"http://www.w3.org/Graphics/SVG/1.1/DTD/svg11.dtd\">\n",
       "<svg class=\"marks\" width=\"419\" height=\"329\" viewBox=\"0 0 419 329\" version=\"1.1\" xmlns=\"http://www.w3.org/2000/svg\" xmlns:xlink=\"http://www.w3.org/1999/xlink\"><g transform=\"translate(78,11)\"><g class=\"mark-group role-frame root\"><g transform=\"translate(0,0)\"><path class=\"background\" d=\"M0.5,0.5h336v200h-336Z\" style=\"fill: none; stroke: #ddd;\"></path><g><g class=\"mark-group role-axis\"><g transform=\"translate(0.5,0.5)\"><path class=\"background\" d=\"M0,0h0v0h0Z\" style=\"pointer-events: none; fill: none;\"></path><g><g class=\"mark-rule role-axis-grid\" style=\"pointer-events: none;\"><line transform=\"translate(0,200)\" x2=\"336\" y2=\"0\" style=\"fill: none; stroke: #ddd; stroke-width: 1; opacity: 1;\"></line><line transform=\"translate(0,171)\" x2=\"336\" y2=\"0\" style=\"fill: none; stroke: #ddd; stroke-width: 1; opacity: 1;\"></line><line transform=\"translate(0,143)\" x2=\"336\" y2=\"0\" style=\"fill: none; stroke: #ddd; stroke-width: 1; opacity: 1;\"></line><line transform=\"translate(0,114)\" x2=\"336\" y2=\"0\" style=\"fill: none; stroke: #ddd; stroke-width: 1; opacity: 1;\"></line><line transform=\"translate(0,86)\" x2=\"336\" y2=\"0\" style=\"fill: none; stroke: #ddd; stroke-width: 1; opacity: 1;\"></line><line transform=\"translate(0,57)\" x2=\"336\" y2=\"0\" style=\"fill: none; stroke: #ddd; stroke-width: 1; opacity: 1;\"></line><line transform=\"translate(0,29)\" x2=\"336\" y2=\"0\" style=\"fill: none; stroke: #ddd; stroke-width: 1; opacity: 1;\"></line><line transform=\"translate(0,0)\" x2=\"336\" y2=\"0\" style=\"fill: none; stroke: #ddd; stroke-width: 1; opacity: 1;\"></line></g></g></g></g><g class=\"mark-rect role-mark marks\"><path d=\"M106.04999999999998,2.8092857142857213h18.900000000000002v197.19071428571428h-18.900000000000002Z\" style=\"fill: #4c78a8;\"></path><path d=\"M1.049999999999983,76.65914285714285h18.900000000000002v123.34085714285715h-18.900000000000002Z\" style=\"fill: #4c78a8;\"></path><path d=\"M127.04999999999998,88.75357142857143h18.900000000000002v111.24642857142857h-18.900000000000002Z\" style=\"fill: #4c78a8;\"></path><path d=\"M316.04999999999995,122.15257142857142h18.900000000000002v77.84742857142858h-18.900000000000002Z\" style=\"fill: #4c78a8;\"></path><path d=\"M148.04999999999998,135.70428571428573h18.900000000000002v64.29571428571427h-18.900000000000002Z\" style=\"fill: #4c78a8;\"></path><path d=\"M43.04999999999998,145.87342857142858h18.900000000000002v54.126571428571424h-18.900000000000002Z\" style=\"fill: #4c78a8;\"></path><path d=\"M295.04999999999995,146.33342857142856h18.900000000000002v53.666571428571444h-18.900000000000002Z\" style=\"fill: #4c78a8;\"></path><path d=\"M211.04999999999998,167.2342857142857h18.900000000000002v32.765714285714296h-18.900000000000002Z\" style=\"fill: #4c78a8;\"></path><path d=\"M232.04999999999998,172.97685714285714h18.900000000000002v27.023142857142858h-18.900000000000002Z\" style=\"fill: #4c78a8;\"></path><path d=\"M169.04999999999998,180.14642857142857h18.900000000000002v19.853571428571428h-18.900000000000002Z\" style=\"fill: #4c78a8;\"></path><path d=\"M274.04999999999995,183.23714285714286h18.900000000000002v16.762857142857143h-18.900000000000002Z\" style=\"fill: #4c78a8;\"></path><path d=\"M85.04999999999998,184.24142857142857h18.900000000000002v15.758571428571429h-18.900000000000002Z\" style=\"fill: #4c78a8;\"></path><path d=\"M253.04999999999998,192.09714285714287h18.900000000000002v7.90285714285713h-18.900000000000002Z\" style=\"fill: #4c78a8;\"></path><path d=\"M64.04999999999998,195.54714285714286h18.900000000000002v4.452857142857141h-18.900000000000002Z\" style=\"fill: #4c78a8;\"></path><path d=\"M22.049999999999983,197.96857142857144h18.900000000000002v2.031428571428563h-18.900000000000002Z\" style=\"fill: #4c78a8;\"></path><path d=\"M190.04999999999998,199.56571428571428h18.900000000000002v0.43428571428572127h-18.900000000000002Z\" style=\"fill: #4c78a8;\"></path></g><g class=\"mark-group role-axis\"><g transform=\"translate(0.5,200.5)\"><path class=\"background\" d=\"M0,0h0v0h0Z\" style=\"pointer-events: none; fill: none;\"></path><g><g class=\"mark-rule role-axis-tick\" style=\"pointer-events: none;\"><line transform=\"translate(9,0)\" x2=\"0\" y2=\"5\" style=\"fill: none; stroke: #888; stroke-width: 1; opacity: 1;\"></line><line transform=\"translate(30,0)\" x2=\"0\" y2=\"5\" style=\"fill: none; stroke: #888; stroke-width: 1; opacity: 1;\"></line><line transform=\"translate(51,0)\" x2=\"0\" y2=\"5\" style=\"fill: none; stroke: #888; stroke-width: 1; opacity: 1;\"></line><line transform=\"translate(72,0)\" x2=\"0\" y2=\"5\" style=\"fill: none; stroke: #888; stroke-width: 1; opacity: 1;\"></line><line transform=\"translate(93,0)\" x2=\"0\" y2=\"5\" style=\"fill: none; stroke: #888; stroke-width: 1; opacity: 1;\"></line><line transform=\"translate(114,0)\" x2=\"0\" y2=\"5\" style=\"fill: none; stroke: #888; stroke-width: 1; opacity: 1;\"></line><line transform=\"translate(135,0)\" x2=\"0\" y2=\"5\" style=\"fill: none; stroke: #888; stroke-width: 1; opacity: 1;\"></line><line transform=\"translate(156,0)\" x2=\"0\" y2=\"5\" style=\"fill: none; stroke: #888; stroke-width: 1; opacity: 1;\"></line><line transform=\"translate(177,0)\" x2=\"0\" y2=\"5\" style=\"fill: none; stroke: #888; stroke-width: 1; opacity: 1;\"></line><line transform=\"translate(198,0)\" x2=\"0\" y2=\"5\" style=\"fill: none; stroke: #888; stroke-width: 1; opacity: 1;\"></line><line transform=\"translate(219,0)\" x2=\"0\" y2=\"5\" style=\"fill: none; stroke: #888; stroke-width: 1; opacity: 1;\"></line><line transform=\"translate(240,0)\" x2=\"0\" y2=\"5\" style=\"fill: none; stroke: #888; stroke-width: 1; opacity: 1;\"></line><line transform=\"translate(262,0)\" x2=\"0\" y2=\"5\" style=\"fill: none; stroke: #888; stroke-width: 1; opacity: 1;\"></line><line transform=\"translate(282,0)\" x2=\"0\" y2=\"5\" style=\"fill: none; stroke: #888; stroke-width: 1; opacity: 1;\"></line><line transform=\"translate(303,0)\" x2=\"0\" y2=\"5\" style=\"fill: none; stroke: #888; stroke-width: 1; opacity: 1;\"></line><line transform=\"translate(324,0)\" x2=\"0\" y2=\"5\" style=\"fill: none; stroke: #888; stroke-width: 1; opacity: 1;\"></line></g><g class=\"mark-text role-axis-label\" style=\"pointer-events: none;\"><text text-anchor=\"end\" transform=\"translate(9.499999999999984,7) rotate(270) translate(0,3)\" style=\"font-family: sans-serif; font-size: 10px; fill: #000; opacity: 1;\">Australia</text><text text-anchor=\"end\" transform=\"translate(30.499999999999986,7) rotate(270) translate(0,3)\" style=\"font-family: sans-serif; font-size: 10px; fill: #000; opacity: 1;\">Brazil</text><text text-anchor=\"end\" transform=\"translate(51.499999999999986,7) rotate(270) translate(0,3)\" style=\"font-family: sans-serif; font-size: 10px; fill: #000; opacity: 1;\">Canada</text><text text-anchor=\"end\" transform=\"translate(72.49999999999999,7) rotate(270) translate(0,3)\" style=\"font-family: sans-serif; font-size: 10px; fill: #000; opacity: 1;\">Denmark</text><text text-anchor=\"end\" transform=\"translate(93.49999999999999,7) rotate(270) translate(0,3)\" style=\"font-family: sans-serif; font-size: 10px; fill: #000; opacity: 1;\">Finland</text><text text-anchor=\"end\" transform=\"translate(114.49999999999999,7) rotate(270) translate(0,3)\" style=\"font-family: sans-serif; font-size: 10px; fill: #000; opacity: 1;\">France</text><text text-anchor=\"end\" transform=\"translate(135.49999999999997,7) rotate(270) translate(0,3)\" style=\"font-family: sans-serif; font-size: 10px; fill: #000; opacity: 1;\">Germany</text><text text-anchor=\"end\" transform=\"translate(156.49999999999997,7) rotate(270) translate(0,3)\" style=\"font-family: sans-serif; font-size: 10px; fill: #000; opacity: 1;\">Italy</text><text text-anchor=\"end\" transform=\"translate(177.49999999999997,7) rotate(270) translate(0,3)\" style=\"font-family: sans-serif; font-size: 10px; fill: #000; opacity: 1;\">Japan</text><text text-anchor=\"end\" transform=\"translate(198.49999999999997,7) rotate(270) translate(0,3)\" style=\"font-family: sans-serif; font-size: 10px; fill: #000; opacity: 1;\">Netherlands</text><text text-anchor=\"end\" transform=\"translate(219.49999999999997,7) rotate(270) translate(0,3)\" style=\"font-family: sans-serif; font-size: 10px; fill: #000; opacity: 1;\">Norway</text><text text-anchor=\"end\" transform=\"translate(240.49999999999997,7) rotate(270) translate(0,3)\" style=\"font-family: sans-serif; font-size: 10px; fill: #000; opacity: 1;\">Singapore</text><text text-anchor=\"end\" transform=\"translate(261.5,7) rotate(270) translate(0,3)\" style=\"font-family: sans-serif; font-size: 10px; fill: #000; opacity: 1;\">Spain</text><text text-anchor=\"end\" transform=\"translate(282.49999999999994,7) rotate(270) translate(0,3)\" style=\"font-family: sans-serif; font-size: 10px; fill: #000; opacity: 1;\">Sweden</text><text text-anchor=\"end\" transform=\"translate(303.49999999999994,7) rotate(270) translate(0,3)\" style=\"font-family: sans-serif; font-size: 10px; fill: #000; opacity: 1;\">UK</text><text text-anchor=\"end\" transform=\"translate(324.49999999999994,7) rotate(270) translate(0,3)\" style=\"font-family: sans-serif; font-size: 10px; fill: #000; opacity: 1;\">USA</text></g><g class=\"mark-rule role-axis-domain\" style=\"pointer-events: none;\"><line transform=\"translate(0,0)\" x2=\"336\" y2=\"0\" style=\"fill: none; stroke: #888; stroke-width: 1; opacity: 1;\"></line></g><g class=\"mark-text role-axis-title\" style=\"pointer-events: none;\"><text text-anchor=\"middle\" transform=\"translate(168,109)\" style=\"font-family: sans-serif; font-size: 11px; font-weight: bold; fill: #000; opacity: 1;\">Country</text></g></g></g></g><g class=\"mark-group role-axis\"><g transform=\"translate(0.5,0.5)\"><path class=\"background\" d=\"M0,0h0v0h0Z\" style=\"pointer-events: none; fill: none;\"></path><g><g class=\"mark-rule role-axis-tick\" style=\"pointer-events: none;\"><line transform=\"translate(0,200)\" x2=\"-5\" y2=\"0\" style=\"fill: none; stroke: #888; stroke-width: 1; opacity: 1;\"></line><line transform=\"translate(0,171)\" x2=\"-5\" y2=\"0\" style=\"fill: none; stroke: #888; stroke-width: 1; opacity: 1;\"></line><line transform=\"translate(0,143)\" x2=\"-5\" y2=\"0\" style=\"fill: none; stroke: #888; stroke-width: 1; opacity: 1;\"></line><line transform=\"translate(0,114)\" x2=\"-5\" y2=\"0\" style=\"fill: none; stroke: #888; stroke-width: 1; opacity: 1;\"></line><line transform=\"translate(0,86)\" x2=\"-5\" y2=\"0\" style=\"fill: none; stroke: #888; stroke-width: 1; opacity: 1;\"></line><line transform=\"translate(0,57)\" x2=\"-5\" y2=\"0\" style=\"fill: none; stroke: #888; stroke-width: 1; opacity: 1;\"></line><line transform=\"translate(0,29)\" x2=\"-5\" y2=\"0\" style=\"fill: none; stroke: #888; stroke-width: 1; opacity: 1;\"></line><line transform=\"translate(0,0)\" x2=\"-5\" y2=\"0\" style=\"fill: none; stroke: #888; stroke-width: 1; opacity: 1;\"></line></g><g class=\"mark-text role-axis-label\" style=\"pointer-events: none;\"><text text-anchor=\"end\" transform=\"translate(-7,203)\" style=\"font-family: sans-serif; font-size: 10px; fill: #000; opacity: 1;\">0</text><text text-anchor=\"end\" transform=\"translate(-7,174.42857142857144)\" style=\"font-family: sans-serif; font-size: 10px; fill: #000; opacity: 1;\">10,000</text><text text-anchor=\"end\" transform=\"translate(-7,145.85714285714286)\" style=\"font-family: sans-serif; font-size: 10px; fill: #000; opacity: 1;\">20,000</text><text text-anchor=\"end\" transform=\"translate(-7,117.28571428571429)\" style=\"font-family: sans-serif; font-size: 10px; fill: #000; opacity: 1;\">30,000</text><text text-anchor=\"end\" transform=\"translate(-7,88.71428571428572)\" style=\"font-family: sans-serif; font-size: 10px; fill: #000; opacity: 1;\">40,000</text><text text-anchor=\"end\" transform=\"translate(-7,60.14285714285714)\" style=\"font-family: sans-serif; font-size: 10px; fill: #000; opacity: 1;\">50,000</text><text text-anchor=\"end\" transform=\"translate(-7,31.571428571428584)\" style=\"font-family: sans-serif; font-size: 10px; fill: #000; opacity: 1;\">60,000</text><text text-anchor=\"end\" transform=\"translate(-7,3)\" style=\"font-family: sans-serif; font-size: 10px; fill: #000; opacity: 1;\">70,000</text></g><g class=\"mark-rule role-axis-domain\" style=\"pointer-events: none;\"><line transform=\"translate(0,200)\" x2=\"0\" y2=\"-200\" style=\"fill: none; stroke: #888; stroke-width: 1; opacity: 1;\"></line></g><g class=\"mark-text role-axis-title\" style=\"pointer-events: none;\"><text text-anchor=\"middle\" transform=\"translate(-60,100) rotate(-90) translate(0,-2)\" style=\"font-family: sans-serif; font-size: 11px; font-weight: bold; fill: #000; opacity: 1;\">Revenue</text></g></g></g></g></g></g></g></g></svg>"
      ],
      "text/plain": [
       "VegaLite.VLSpec{:plot}"
      ]
     },
     "execution_count": 269,
     "metadata": {},
     "output_type": "execute_result"
    }
   ],
   "source": [
    "RevenueSupplierCountry |> @vlplot(:bar, x=:Country, y=:Revenue)"
   ]
  },
  {
   "cell_type": "markdown",
   "metadata": {},
   "source": [
    "#### Top 3 supplier of Fiscal year and their business volume "
   ]
  },
  {
   "cell_type": "code",
   "execution_count": 270,
   "metadata": {},
   "outputs": [
    {
     "data": {
      "text/html": [
       "<table class=\"data-frame\"><thead><tr><th></th><th>Revenue</th><th>SupplierName</th><th>SupplierID</th></tr><tr><th></th><th>Float64⍰</th><th>String⍰</th><th>Int64⍰</th></tr></thead><tbody><p>3 rows × 3 columns</p><tr><th>1</th><td>41678.0</td><td>Aux joyeux ecclésiastiques</td><td>18</td></tr><tr><th>2</th><td>27273.5</td><td>Pavlova, Ltd.</td><td>7</td></tr><tr><th>3</th><td>27072.2</td><td>Plutzer Lebensmittelgroßmärkte AG</td><td>12</td></tr></tbody></table>"
      ],
      "text/latex": [
       "\\begin{tabular}{r|ccc}\n",
       "\t& Revenue & SupplierName & SupplierID\\\\\n",
       "\t\\hline\n",
       "\t& Float64⍰ & String⍰ & Int64⍰\\\\\n",
       "\t\\hline\n",
       "\t1 & 41678.0 & Aux joyeux ecclésiastiques & 18 \\\\\n",
       "\t2 & 27273.5 & Pavlova, Ltd. & 7 \\\\\n",
       "\t3 & 27072.2 & Plutzer Lebensmittelgroßmärkte AG & 12 \\\\\n",
       "\\end{tabular}\n"
      ],
      "text/plain": [
       "3×3 DataFrame\n",
       "│ Row │ Revenue  │ SupplierName                      │ SupplierID │\n",
       "│     │ \u001b[90mFloat64⍰\u001b[39m │ \u001b[90mUnion{Missing, String}\u001b[39m            │ \u001b[90mInt64⍰\u001b[39m     │\n",
       "├─────┼──────────┼───────────────────────────────────┼────────────┤\n",
       "│ 1   │ 41678.0  │ Aux joyeux ecclésiastiques        │ 18         │\n",
       "│ 2   │ 27273.5  │ Pavlova, Ltd.                     │ 7          │\n",
       "│ 3   │ 27072.2  │ Plutzer Lebensmittelgroßmärkte AG │ 12         │"
      ]
     },
     "execution_count": 270,
     "metadata": {},
     "output_type": "execute_result"
    }
   ],
   "source": [
    "Top3Supplier = DataFrame(SQLite.Query(acme,\"\"\"select sum(price*quantity) Revenue, suppliername, supplier.supplierid from supplier \n",
    "inner join product on supplier.supplierid = product.SupplierID\n",
    "inner join orderitem on product.productid = orderitem.productid\n",
    "inner join orders on orderitem.OrderID = Orders.Orderid\n",
    "where orderdate < '1996-12-31'\n",
    "group by suppliername\n",
    "order by revenue desc\n",
    "limit 3\n",
    "        \"\"\"))"
   ]
  },
  {
   "cell_type": "code",
   "execution_count": 271,
   "metadata": {},
   "outputs": [
    {
     "data": {
      "application/vnd.vegalite.v2+json": {
       "data": {
        "values": [
         {
          "Revenue": 41678,
          "SupplierID": 18,
          "SupplierName": "Aux joyeux ecclésiastiques"
         },
         {
          "Revenue": 27273.500000000004,
          "SupplierID": 7,
          "SupplierName": "Pavlova, Ltd."
         },
         {
          "Revenue": 27072.170000000002,
          "SupplierID": 12,
          "SupplierName": "Plutzer Lebensmittelgroßmärkte AG"
         }
        ]
       },
       "encoding": {
        "x": {
         "field": "SupplierName",
         "type": "nominal"
        },
        "y": {
         "field": "Revenue",
         "type": "quantitative"
        }
       },
       "mark": "bar"
      },
      "image/png": "[encoded data removed]",
      "image/svg+xml": [
       "<?xml version=\"1.0\" encoding=\"utf-8\"?>\n",
       "<!DOCTYPE svg PUBLIC \"-//W3C//DTD SVG 1.1//EN\" \"http://www.w3.org/Graphics/SVG/1.1/DTD/svg11.dtd\">\n",
       "<svg class=\"marks\" width=\"168\" height=\"411\" viewBox=\"0 0 168 411\" version=\"1.1\" xmlns=\"http://www.w3.org/2000/svg\" xmlns:xlink=\"http://www.w3.org/1999/xlink\"><g transform=\"translate(78,5)\"><g class=\"mark-group role-frame root\"><g transform=\"translate(0,0)\"><path class=\"background\" d=\"M0.5,0.5h63v200h-63Z\" style=\"fill: none; stroke: #ddd;\"></path><g><g class=\"mark-group role-axis\"><g transform=\"translate(0.5,0.5)\"><path class=\"background\" d=\"M0,0h0v0h0Z\" style=\"pointer-events: none; fill: none;\"></path><g><g class=\"mark-rule role-axis-grid\" style=\"pointer-events: none;\"><line transform=\"translate(0,200)\" x2=\"63\" y2=\"0\" style=\"fill: none; stroke: #ddd; stroke-width: 1; opacity: 1;\"></line><line transform=\"translate(0,156)\" x2=\"63\" y2=\"0\" style=\"fill: none; stroke: #ddd; stroke-width: 1; opacity: 1;\"></line><line transform=\"translate(0,111)\" x2=\"63\" y2=\"0\" style=\"fill: none; stroke: #ddd; stroke-width: 1; opacity: 1;\"></line><line transform=\"translate(0,67)\" x2=\"63\" y2=\"0\" style=\"fill: none; stroke: #ddd; stroke-width: 1; opacity: 1;\"></line><line transform=\"translate(0,22)\" x2=\"63\" y2=\"0\" style=\"fill: none; stroke: #ddd; stroke-width: 1; opacity: 1;\"></line></g></g></g></g><g class=\"mark-rect role-mark marks\"><path d=\"M1.0500000000000007,14.76444444444445h18.900000000000002v185.23555555555555h-18.900000000000002Z\" style=\"fill: #4c78a8;\"></path><path d=\"M22.05,78.78444444444443h18.900000000000002v121.21555555555557h-18.900000000000002Z\" style=\"fill: #4c78a8;\"></path><path d=\"M43.05,79.67924444444444h18.900000000000002v120.32075555555556h-18.900000000000002Z\" style=\"fill: #4c78a8;\"></path></g><g class=\"mark-group role-axis\"><g transform=\"translate(0.5,200.5)\"><path class=\"background\" d=\"M0,0h0v0h0Z\" style=\"pointer-events: none; fill: none;\"></path><g><g class=\"mark-rule role-axis-tick\" style=\"pointer-events: none;\"><line transform=\"translate(10,0)\" x2=\"0\" y2=\"5\" style=\"fill: none; stroke: #888; stroke-width: 1; opacity: 1;\"></line><line transform=\"translate(31,0)\" x2=\"0\" y2=\"5\" style=\"fill: none; stroke: #888; stroke-width: 1; opacity: 1;\"></line><line transform=\"translate(52,0)\" x2=\"0\" y2=\"5\" style=\"fill: none; stroke: #888; stroke-width: 1; opacity: 1;\"></line></g><g class=\"mark-text role-axis-label\" style=\"pointer-events: none;\"><text text-anchor=\"end\" transform=\"translate(9.500000000000002,7) rotate(270) translate(0,3)\" style=\"font-family: sans-serif; font-size: 10px; fill: #000; opacity: 1;\">Aux joyeux ecclésiast…</text><text text-anchor=\"end\" transform=\"translate(30.5,7) rotate(270) translate(0,3)\" style=\"font-family: sans-serif; font-size: 10px; fill: #000; opacity: 1;\">Pavlova, Ltd.</text><text text-anchor=\"end\" transform=\"translate(51.5,7) rotate(270) translate(0,3)\" style=\"font-family: sans-serif; font-size: 10px; fill: #000; opacity: 1;\">Plutzer Lebensmittelg…</text></g><g class=\"mark-rule role-axis-domain\" style=\"pointer-events: none;\"><line transform=\"translate(0,0)\" x2=\"63\" y2=\"0\" style=\"fill: none; stroke: #888; stroke-width: 1; opacity: 1;\"></line></g><g class=\"mark-text role-axis-title\" style=\"pointer-events: none;\"><text text-anchor=\"middle\" transform=\"translate(31.5,197)\" style=\"font-family: sans-serif; font-size: 11px; font-weight: bold; fill: #000; opacity: 1;\">SupplierName</text></g></g></g></g><g class=\"mark-group role-axis\"><g transform=\"translate(0.5,0.5)\"><path class=\"background\" d=\"M0,0h0v0h0Z\" style=\"pointer-events: none; fill: none;\"></path><g><g class=\"mark-rule role-axis-tick\" style=\"pointer-events: none;\"><line transform=\"translate(0,200)\" x2=\"-5\" y2=\"0\" style=\"fill: none; stroke: #888; stroke-width: 1; opacity: 1;\"></line><line transform=\"translate(0,156)\" x2=\"-5\" y2=\"0\" style=\"fill: none; stroke: #888; stroke-width: 1; opacity: 1;\"></line><line transform=\"translate(0,111)\" x2=\"-5\" y2=\"0\" style=\"fill: none; stroke: #888; stroke-width: 1; opacity: 1;\"></line><line transform=\"translate(0,67)\" x2=\"-5\" y2=\"0\" style=\"fill: none; stroke: #888; stroke-width: 1; opacity: 1;\"></line><line transform=\"translate(0,22)\" x2=\"-5\" y2=\"0\" style=\"fill: none; stroke: #888; stroke-width: 1; opacity: 1;\"></line></g><g class=\"mark-text role-axis-label\" style=\"pointer-events: none;\"><text text-anchor=\"end\" transform=\"translate(-7,203)\" style=\"font-family: sans-serif; font-size: 10px; fill: #000; opacity: 1;\">0</text><text text-anchor=\"end\" transform=\"translate(-7,158.55555555555554)\" style=\"font-family: sans-serif; font-size: 10px; fill: #000; opacity: 1;\">10,000</text><text text-anchor=\"end\" transform=\"translate(-7,114.11111111111111)\" style=\"font-family: sans-serif; font-size: 10px; fill: #000; opacity: 1;\">20,000</text><text text-anchor=\"end\" transform=\"translate(-7,69.66666666666669)\" style=\"font-family: sans-serif; font-size: 10px; fill: #000; opacity: 1;\">30,000</text><text text-anchor=\"end\" transform=\"translate(-7,25.22222222222223)\" style=\"font-family: sans-serif; font-size: 10px; fill: #000; opacity: 1;\">40,000</text></g><g class=\"mark-rule role-axis-domain\" style=\"pointer-events: none;\"><line transform=\"translate(0,200)\" x2=\"0\" y2=\"-200\" style=\"fill: none; stroke: #888; stroke-width: 1; opacity: 1;\"></line></g><g class=\"mark-text role-axis-title\" style=\"pointer-events: none;\"><text text-anchor=\"middle\" transform=\"translate(-60,100) rotate(-90) translate(0,-2)\" style=\"font-family: sans-serif; font-size: 11px; font-weight: bold; fill: #000; opacity: 1;\">Revenue</text></g></g></g></g></g></g></g></g></svg>"
      ],
      "text/plain": [
       "VegaLite.VLSpec{:plot}"
      ]
     },
     "execution_count": 271,
     "metadata": {},
     "output_type": "execute_result"
    }
   ],
   "source": [
    "Top3Supplier |> @vlplot(:bar, x=:SupplierName, y=:Revenue)"
   ]
  },
  {
   "cell_type": "markdown",
   "metadata": {},
   "source": [
    "#### Bottom 3 volume suppliers during Fiscal year"
   ]
  },
  {
   "cell_type": "code",
   "execution_count": 273,
   "metadata": {},
   "outputs": [
    {
     "data": {
      "text/html": [
       "<table class=\"data-frame\"><thead><tr><th></th><th>Revenue</th><th>SupplierName</th><th>SupplierID</th></tr><tr><th></th><th>Float64⍰</th><th>String⍰</th><th>Int64⍰</th></tr></thead><tbody><p>3 rows × 3 columns</p><tr><th>1</th><td>152.0</td><td>Zaanse Snoepfabriek</td><td>22</td></tr><tr><th>2</th><td>711.0</td><td>Refrescos Americanas LTDA</td><td>10</td></tr><tr><th>3</th><td>1071.0</td><td>PB Knäckebröd AB</td><td>9</td></tr></tbody></table>"
      ],
      "text/latex": [
       "\\begin{tabular}{r|ccc}\n",
       "\t& Revenue & SupplierName & SupplierID\\\\\n",
       "\t\\hline\n",
       "\t& Float64⍰ & String⍰ & Int64⍰\\\\\n",
       "\t\\hline\n",
       "\t1 & 152.0 & Zaanse Snoepfabriek & 22 \\\\\n",
       "\t2 & 711.0 & Refrescos Americanas LTDA & 10 \\\\\n",
       "\t3 & 1071.0 & PB Knäckebröd AB & 9 \\\\\n",
       "\\end{tabular}\n"
      ],
      "text/plain": [
       "3×3 DataFrame\n",
       "│ Row │ Revenue  │ SupplierName              │ SupplierID │\n",
       "│     │ \u001b[90mFloat64⍰\u001b[39m │ \u001b[90mUnion{Missing, String}\u001b[39m    │ \u001b[90mInt64⍰\u001b[39m     │\n",
       "├─────┼──────────┼───────────────────────────┼────────────┤\n",
       "│ 1   │ 152.0    │ Zaanse Snoepfabriek       │ 22         │\n",
       "│ 2   │ 711.0    │ Refrescos Americanas LTDA │ 10         │\n",
       "│ 3   │ 1071.0   │ PB Knäckebröd AB          │ 9          │"
      ]
     },
     "execution_count": 273,
     "metadata": {},
     "output_type": "execute_result"
    }
   ],
   "source": [
    "Bottom3Supplier = DataFrame(SQLite.Query(acme,\"\"\"select sum(price*quantity) Revenue, suppliername, supplier.supplierid from supplier \n",
    "inner join product on supplier.supplierid = product.SupplierID\n",
    "inner join orderitem on product.productid = orderitem.productid\n",
    "inner join orders on orderitem.OrderID = Orders.Orderid\n",
    "where orderdate < '1996-12-31'\n",
    "group by suppliername\n",
    "order by revenue \n",
    "limit 3\n",
    "        \"\"\"))"
   ]
  },
  {
   "cell_type": "code",
   "execution_count": 274,
   "metadata": {},
   "outputs": [
    {
     "data": {
      "application/vnd.vegalite.v2+json": {
       "data": {
        "values": [
         {
          "Revenue": 152,
          "SupplierID": 22,
          "SupplierName": "Zaanse Snoepfabriek"
         },
         {
          "Revenue": 711,
          "SupplierID": 10,
          "SupplierName": "Refrescos Americanas LTDA"
         },
         {
          "Revenue": 1071,
          "SupplierID": 9,
          "SupplierName": "PB Knäckebröd AB"
         }
        ]
       },
       "encoding": {
        "x": {
         "field": "SupplierName",
         "type": "nominal"
        },
        "y": {
         "field": "Revenue",
         "type": "quantitative"
        }
       },
       "mark": "bar"
      },
      "image/png": "[encoded data removed]",
      "image/svg+xml": [
       "<?xml version=\"1.0\" encoding=\"utf-8\"?>\n",
       "<!DOCTYPE svg PUBLIC \"-//W3C//DTD SVG 1.1//EN\" \"http://www.w3.org/Graphics/SVG/1.1/DTD/svg11.dtd\">\n",
       "<svg class=\"marks\" width=\"160\" height=\"411\" viewBox=\"0 0 160 411\" version=\"1.1\" xmlns=\"http://www.w3.org/2000/svg\" xmlns:xlink=\"http://www.w3.org/1999/xlink\"><g transform=\"translate(70,5)\"><g class=\"mark-group role-frame root\"><g transform=\"translate(0,0)\"><path class=\"background\" d=\"M0.5,0.5h63v200h-63Z\" style=\"fill: none; stroke: #ddd;\"></path><g><g class=\"mark-group role-axis\"><g transform=\"translate(0.5,0.5)\"><path class=\"background\" d=\"M0,0h0v0h0Z\" style=\"pointer-events: none; fill: none;\"></path><g><g class=\"mark-rule role-axis-grid\" style=\"pointer-events: none;\"><line transform=\"translate(0,200)\" x2=\"63\" y2=\"0\" style=\"fill: none; stroke: #ddd; stroke-width: 1; opacity: 1;\"></line><line transform=\"translate(0,164)\" x2=\"63\" y2=\"0\" style=\"fill: none; stroke: #ddd; stroke-width: 1; opacity: 1;\"></line><line transform=\"translate(0,127)\" x2=\"63\" y2=\"0\" style=\"fill: none; stroke: #ddd; stroke-width: 1; opacity: 1;\"></line><line transform=\"translate(0,91)\" x2=\"63\" y2=\"0\" style=\"fill: none; stroke: #ddd; stroke-width: 1; opacity: 1;\"></line><line transform=\"translate(0,55)\" x2=\"63\" y2=\"0\" style=\"fill: none; stroke: #ddd; stroke-width: 1; opacity: 1;\"></line><line transform=\"translate(0,18)\" x2=\"63\" y2=\"0\" style=\"fill: none; stroke: #ddd; stroke-width: 1; opacity: 1;\"></line></g></g></g></g><g class=\"mark-rect role-mark marks\"><path d=\"M43.05,172.36363636363637h18.900000000000002v27.636363636363626h-18.900000000000002Z\" style=\"fill: #4c78a8;\"></path><path d=\"M22.05,70.72727272727272h18.900000000000002v129.27272727272728h-18.900000000000002Z\" style=\"fill: #4c78a8;\"></path><path d=\"M1.0500000000000007,5.2727272727272805h18.900000000000002v194.72727272727272h-18.900000000000002Z\" style=\"fill: #4c78a8;\"></path></g><g class=\"mark-group role-axis\"><g transform=\"translate(0.5,200.5)\"><path class=\"background\" d=\"M0,0h0v0h0Z\" style=\"pointer-events: none; fill: none;\"></path><g><g class=\"mark-rule role-axis-tick\" style=\"pointer-events: none;\"><line transform=\"translate(10,0)\" x2=\"0\" y2=\"5\" style=\"fill: none; stroke: #888; stroke-width: 1; opacity: 1;\"></line><line transform=\"translate(31,0)\" x2=\"0\" y2=\"5\" style=\"fill: none; stroke: #888; stroke-width: 1; opacity: 1;\"></line><line transform=\"translate(52,0)\" x2=\"0\" y2=\"5\" style=\"fill: none; stroke: #888; stroke-width: 1; opacity: 1;\"></line></g><g class=\"mark-text role-axis-label\" style=\"pointer-events: none;\"><text text-anchor=\"end\" transform=\"translate(9.500000000000002,7) rotate(270) translate(0,3)\" style=\"font-family: sans-serif; font-size: 10px; fill: #000; opacity: 1;\">PB Knäckebröd AB</text><text text-anchor=\"end\" transform=\"translate(30.5,7) rotate(270) translate(0,3)\" style=\"font-family: sans-serif; font-size: 10px; fill: #000; opacity: 1;\">Refrescos Americanas …</text><text text-anchor=\"end\" transform=\"translate(51.5,7) rotate(270) translate(0,3)\" style=\"font-family: sans-serif; font-size: 10px; fill: #000; opacity: 1;\">Zaanse Snoepfabriek</text></g><g class=\"mark-rule role-axis-domain\" style=\"pointer-events: none;\"><line transform=\"translate(0,0)\" x2=\"63\" y2=\"0\" style=\"fill: none; stroke: #888; stroke-width: 1; opacity: 1;\"></line></g><g class=\"mark-text role-axis-title\" style=\"pointer-events: none;\"><text text-anchor=\"middle\" transform=\"translate(31.5,197)\" style=\"font-family: sans-serif; font-size: 11px; font-weight: bold; fill: #000; opacity: 1;\">SupplierName</text></g></g></g></g><g class=\"mark-group role-axis\"><g transform=\"translate(0.5,0.5)\"><path class=\"background\" d=\"M0,0h0v0h0Z\" style=\"pointer-events: none; fill: none;\"></path><g><g class=\"mark-rule role-axis-tick\" style=\"pointer-events: none;\"><line transform=\"translate(0,200)\" x2=\"-5\" y2=\"0\" style=\"fill: none; stroke: #888; stroke-width: 1; opacity: 1;\"></line><line transform=\"translate(0,164)\" x2=\"-5\" y2=\"0\" style=\"fill: none; stroke: #888; stroke-width: 1; opacity: 1;\"></line><line transform=\"translate(0,127)\" x2=\"-5\" y2=\"0\" style=\"fill: none; stroke: #888; stroke-width: 1; opacity: 1;\"></line><line transform=\"translate(0,91)\" x2=\"-5\" y2=\"0\" style=\"fill: none; stroke: #888; stroke-width: 1; opacity: 1;\"></line><line transform=\"translate(0,55)\" x2=\"-5\" y2=\"0\" style=\"fill: none; stroke: #888; stroke-width: 1; opacity: 1;\"></line><line transform=\"translate(0,18)\" x2=\"-5\" y2=\"0\" style=\"fill: none; stroke: #888; stroke-width: 1; opacity: 1;\"></line></g><g class=\"mark-text role-axis-label\" style=\"pointer-events: none;\"><text text-anchor=\"end\" transform=\"translate(-7,203)\" style=\"font-family: sans-serif; font-size: 10px; fill: #000; opacity: 1;\">0</text><text text-anchor=\"end\" transform=\"translate(-7,166.63636363636363)\" style=\"font-family: sans-serif; font-size: 10px; fill: #000; opacity: 1;\">200</text><text text-anchor=\"end\" transform=\"translate(-7,130.27272727272725)\" style=\"font-family: sans-serif; font-size: 10px; fill: #000; opacity: 1;\">400</text><text text-anchor=\"end\" transform=\"translate(-7,93.90909090909092)\" style=\"font-family: sans-serif; font-size: 10px; fill: #000; opacity: 1;\">600</text><text text-anchor=\"end\" transform=\"translate(-7,57.54545454545453)\" style=\"font-family: sans-serif; font-size: 10px; fill: #000; opacity: 1;\">800</text><text text-anchor=\"end\" transform=\"translate(-7,21.181818181818187)\" style=\"font-family: sans-serif; font-size: 10px; fill: #000; opacity: 1;\">1,000</text></g><g class=\"mark-rule role-axis-domain\" style=\"pointer-events: none;\"><line transform=\"translate(0,200)\" x2=\"0\" y2=\"-200\" style=\"fill: none; stroke: #888; stroke-width: 1; opacity: 1;\"></line></g><g class=\"mark-text role-axis-title\" style=\"pointer-events: none;\"><text text-anchor=\"middle\" transform=\"translate(-52,100) rotate(-90) translate(0,-2)\" style=\"font-family: sans-serif; font-size: 11px; font-weight: bold; fill: #000; opacity: 1;\">Revenue</text></g></g></g></g></g></g></g></g></svg>"
      ],
      "text/plain": [
       "VegaLite.VLSpec{:plot}"
      ]
     },
     "execution_count": 274,
     "metadata": {},
     "output_type": "execute_result"
    }
   ],
   "source": [
    "Bottom3Supplier |> @vlplot(:bar, x=:SupplierName, y=:Revenue)"
   ]
  },
  {
   "cell_type": "code",
   "execution_count": null,
   "metadata": {},
   "outputs": [],
   "source": []
  }
 ],
 "metadata": {
  "kernelspec": {
   "display_name": "Julia 1.0.3",
   "language": "julia",
   "name": "julia-1.0"
  },
  "language_info": {
   "file_extension": ".jl",
   "mimetype": "application/julia",
   "name": "julia",
   "version": "1.0.3"
  }
 },
 "nbformat": 4,
 "nbformat_minor": 2
}
